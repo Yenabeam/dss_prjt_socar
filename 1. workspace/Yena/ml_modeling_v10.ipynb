{
 "metadata": {
  "language_info": {
   "codemirror_mode": {
    "name": "ipython",
    "version": 3
   },
   "file_extension": ".py",
   "mimetype": "text/x-python",
   "name": "python",
   "nbconvert_exporter": "python",
   "pygments_lexer": "ipython3",
   "version": "3.8.3-final"
  },
  "orig_nbformat": 2,
  "kernelspec": {
   "name": "python3",
   "display_name": "Python 3",
   "language": "python"
  }
 },
 "nbformat": 4,
 "nbformat_minor": 2,
 "cells": [
  {
   "cell_type": "code",
   "execution_count": 3,
   "metadata": {},
   "outputs": [
    {
     "output_type": "execute_result",
     "data": {
      "text/plain": [
       "       fraud_YN  car_model  sharing_type  age_group  has_previous_accident  \\\n",
       "0             0          2             1          3                      0   \n",
       "1             0          1             0          4                      0   \n",
       "2             0          1             0          4                      1   \n",
       "3             0          3             1          3                      0   \n",
       "4             0          1             0          1                      0   \n",
       "...         ...        ...           ...        ...                    ...   \n",
       "15995         0          2             0          2                      0   \n",
       "15996         0          2             0          2                      1   \n",
       "15997         0          2             1          2                      0   \n",
       "15998         0          2             0          2                      0   \n",
       "15999         0          2             0          2                      0   \n",
       "\n",
       "       cumulative_use_count  b2b  accident_ratio  pf_type  socarpass  ...  \\\n",
       "0                         2    0             100        2          0  ...   \n",
       "1                         4    0               0        3          1  ...   \n",
       "2                         4    0             100        3          1  ...   \n",
       "3                         4    0               0        2          0  ...   \n",
       "4                         1    0             100        1          0  ...   \n",
       "...                     ...  ...             ...      ...        ...  ...   \n",
       "15995                     2    0             100        2          0  ...   \n",
       "15996                     4    0             100        1          1  ...   \n",
       "15997                     4    0             100        1          0  ...   \n",
       "15998                     2    0             100        2          0  ...   \n",
       "15999                     1    0             100        1          0  ...   \n",
       "\n",
       "       insure_cost  accident_location  car_part1  car_part2  repair_cnt  \\\n",
       "0                0                  1          0          0           1   \n",
       "1                0                  1          1          1           2   \n",
       "2         12925040                  3          1          0           2   \n",
       "3                0                  3          1          0           1   \n",
       "4          1209410                  1          0          0           2   \n",
       "...            ...                ...        ...        ...         ...   \n",
       "15995            0                  1          1          0           1   \n",
       "15996            0                  2          1          0           1   \n",
       "15997            0                  0          0          0           1   \n",
       "15998            0                  4          1          0           1   \n",
       "15999      1188750                  2          0          0           1   \n",
       "\n",
       "       acc_type1  insurance_site_aid_YN  police_site_aid_YN  total_prsn_cnt  \\\n",
       "0              0                      0                   0              -1   \n",
       "1              1                      1                   1               0   \n",
       "2              1                      1                   1               0   \n",
       "3              0                      0                   0              -1   \n",
       "4              0                      0                   0              -1   \n",
       "...          ...                    ...                 ...             ...   \n",
       "15995          0                      0                   0              -1   \n",
       "15996          0                      0                   0              -1   \n",
       "15997          0                      0                   0              -1   \n",
       "15998          0                      0                   0              -1   \n",
       "15999          0                      0                   0              -1   \n",
       "\n",
       "       test_set  \n",
       "0             0  \n",
       "1             1  \n",
       "2             1  \n",
       "3             0  \n",
       "4             0  \n",
       "...         ...  \n",
       "15995         0  \n",
       "15996         0  \n",
       "15997         1  \n",
       "15998         0  \n",
       "15999         0  \n",
       "\n",
       "[16000 rows x 25 columns]"
      ],
      "text/html": "<div>\n<style scoped>\n    .dataframe tbody tr th:only-of-type {\n        vertical-align: middle;\n    }\n\n    .dataframe tbody tr th {\n        vertical-align: top;\n    }\n\n    .dataframe thead th {\n        text-align: right;\n    }\n</style>\n<table border=\"1\" class=\"dataframe\">\n  <thead>\n    <tr style=\"text-align: right;\">\n      <th></th>\n      <th>fraud_YN</th>\n      <th>car_model</th>\n      <th>sharing_type</th>\n      <th>age_group</th>\n      <th>has_previous_accident</th>\n      <th>cumulative_use_count</th>\n      <th>b2b</th>\n      <th>accident_ratio</th>\n      <th>pf_type</th>\n      <th>socarpass</th>\n      <th>...</th>\n      <th>insure_cost</th>\n      <th>accident_location</th>\n      <th>car_part1</th>\n      <th>car_part2</th>\n      <th>repair_cnt</th>\n      <th>acc_type1</th>\n      <th>insurance_site_aid_YN</th>\n      <th>police_site_aid_YN</th>\n      <th>total_prsn_cnt</th>\n      <th>test_set</th>\n    </tr>\n  </thead>\n  <tbody>\n    <tr>\n      <th>0</th>\n      <td>0</td>\n      <td>2</td>\n      <td>1</td>\n      <td>3</td>\n      <td>0</td>\n      <td>2</td>\n      <td>0</td>\n      <td>100</td>\n      <td>2</td>\n      <td>0</td>\n      <td>...</td>\n      <td>0</td>\n      <td>1</td>\n      <td>0</td>\n      <td>0</td>\n      <td>1</td>\n      <td>0</td>\n      <td>0</td>\n      <td>0</td>\n      <td>-1</td>\n      <td>0</td>\n    </tr>\n    <tr>\n      <th>1</th>\n      <td>0</td>\n      <td>1</td>\n      <td>0</td>\n      <td>4</td>\n      <td>0</td>\n      <td>4</td>\n      <td>0</td>\n      <td>0</td>\n      <td>3</td>\n      <td>1</td>\n      <td>...</td>\n      <td>0</td>\n      <td>1</td>\n      <td>1</td>\n      <td>1</td>\n      <td>2</td>\n      <td>1</td>\n      <td>1</td>\n      <td>1</td>\n      <td>0</td>\n      <td>1</td>\n    </tr>\n    <tr>\n      <th>2</th>\n      <td>0</td>\n      <td>1</td>\n      <td>0</td>\n      <td>4</td>\n      <td>1</td>\n      <td>4</td>\n      <td>0</td>\n      <td>100</td>\n      <td>3</td>\n      <td>1</td>\n      <td>...</td>\n      <td>12925040</td>\n      <td>3</td>\n      <td>1</td>\n      <td>0</td>\n      <td>2</td>\n      <td>1</td>\n      <td>1</td>\n      <td>1</td>\n      <td>0</td>\n      <td>1</td>\n    </tr>\n    <tr>\n      <th>3</th>\n      <td>0</td>\n      <td>3</td>\n      <td>1</td>\n      <td>3</td>\n      <td>0</td>\n      <td>4</td>\n      <td>0</td>\n      <td>0</td>\n      <td>2</td>\n      <td>0</td>\n      <td>...</td>\n      <td>0</td>\n      <td>3</td>\n      <td>1</td>\n      <td>0</td>\n      <td>1</td>\n      <td>0</td>\n      <td>0</td>\n      <td>0</td>\n      <td>-1</td>\n      <td>0</td>\n    </tr>\n    <tr>\n      <th>4</th>\n      <td>0</td>\n      <td>1</td>\n      <td>0</td>\n      <td>1</td>\n      <td>0</td>\n      <td>1</td>\n      <td>0</td>\n      <td>100</td>\n      <td>1</td>\n      <td>0</td>\n      <td>...</td>\n      <td>1209410</td>\n      <td>1</td>\n      <td>0</td>\n      <td>0</td>\n      <td>2</td>\n      <td>0</td>\n      <td>0</td>\n      <td>0</td>\n      <td>-1</td>\n      <td>0</td>\n    </tr>\n    <tr>\n      <th>...</th>\n      <td>...</td>\n      <td>...</td>\n      <td>...</td>\n      <td>...</td>\n      <td>...</td>\n      <td>...</td>\n      <td>...</td>\n      <td>...</td>\n      <td>...</td>\n      <td>...</td>\n      <td>...</td>\n      <td>...</td>\n      <td>...</td>\n      <td>...</td>\n      <td>...</td>\n      <td>...</td>\n      <td>...</td>\n      <td>...</td>\n      <td>...</td>\n      <td>...</td>\n      <td>...</td>\n    </tr>\n    <tr>\n      <th>15995</th>\n      <td>0</td>\n      <td>2</td>\n      <td>0</td>\n      <td>2</td>\n      <td>0</td>\n      <td>2</td>\n      <td>0</td>\n      <td>100</td>\n      <td>2</td>\n      <td>0</td>\n      <td>...</td>\n      <td>0</td>\n      <td>1</td>\n      <td>1</td>\n      <td>0</td>\n      <td>1</td>\n      <td>0</td>\n      <td>0</td>\n      <td>0</td>\n      <td>-1</td>\n      <td>0</td>\n    </tr>\n    <tr>\n      <th>15996</th>\n      <td>0</td>\n      <td>2</td>\n      <td>0</td>\n      <td>2</td>\n      <td>1</td>\n      <td>4</td>\n      <td>0</td>\n      <td>100</td>\n      <td>1</td>\n      <td>1</td>\n      <td>...</td>\n      <td>0</td>\n      <td>2</td>\n      <td>1</td>\n      <td>0</td>\n      <td>1</td>\n      <td>0</td>\n      <td>0</td>\n      <td>0</td>\n      <td>-1</td>\n      <td>0</td>\n    </tr>\n    <tr>\n      <th>15997</th>\n      <td>0</td>\n      <td>2</td>\n      <td>1</td>\n      <td>2</td>\n      <td>0</td>\n      <td>4</td>\n      <td>0</td>\n      <td>100</td>\n      <td>1</td>\n      <td>0</td>\n      <td>...</td>\n      <td>0</td>\n      <td>0</td>\n      <td>0</td>\n      <td>0</td>\n      <td>1</td>\n      <td>0</td>\n      <td>0</td>\n      <td>0</td>\n      <td>-1</td>\n      <td>1</td>\n    </tr>\n    <tr>\n      <th>15998</th>\n      <td>0</td>\n      <td>2</td>\n      <td>0</td>\n      <td>2</td>\n      <td>0</td>\n      <td>2</td>\n      <td>0</td>\n      <td>100</td>\n      <td>2</td>\n      <td>0</td>\n      <td>...</td>\n      <td>0</td>\n      <td>4</td>\n      <td>1</td>\n      <td>0</td>\n      <td>1</td>\n      <td>0</td>\n      <td>0</td>\n      <td>0</td>\n      <td>-1</td>\n      <td>0</td>\n    </tr>\n    <tr>\n      <th>15999</th>\n      <td>0</td>\n      <td>2</td>\n      <td>0</td>\n      <td>2</td>\n      <td>0</td>\n      <td>1</td>\n      <td>0</td>\n      <td>100</td>\n      <td>1</td>\n      <td>0</td>\n      <td>...</td>\n      <td>1188750</td>\n      <td>2</td>\n      <td>0</td>\n      <td>0</td>\n      <td>1</td>\n      <td>0</td>\n      <td>0</td>\n      <td>0</td>\n      <td>-1</td>\n      <td>0</td>\n    </tr>\n  </tbody>\n</table>\n<p>16000 rows × 25 columns</p>\n</div>"
     },
     "metadata": {},
     "execution_count": 3
    }
   ],
   "source": [
    "# 1-1. 데이터 가져오기 \n",
    "\n",
    "import pandas as pd \n",
    "import matplotlib.pyplot as plt \n",
    "\n",
    "\n",
    "socar = pd.read_csv('../../0. raw_data/insurance_fraud_detect_data.csv')\n",
    "socar "
   ]
  },
  {
   "cell_type": "code",
   "execution_count": 4,
   "metadata": {},
   "outputs": [],
   "source": [
    "# train-test 분리\n",
    "\n",
    "df = socar[socar['test_set']==0]\n",
    "df_test = socar[socar['test_set']==1]"
   ]
  },
  {
   "cell_type": "code",
   "execution_count": 5,
   "metadata": {},
   "outputs": [],
   "source": [
    "# test_set 분리 \n",
    "X_test = df_test.drop('fraud_YN', axis = 1)\n",
    "y_test = df_test['fraud_YN']"
   ]
  },
  {
   "cell_type": "code",
   "execution_count": 6,
   "metadata": {},
   "outputs": [
    {
     "output_type": "stream",
     "name": "stdout",
     "text": [
      "0    99.73794\n1     0.26206\nName: fraud_YN, dtype: float64\n0    99.728261\n1     0.271739\nName: fraud_YN, dtype: float64\n"
     ]
    }
   ],
   "source": [
    "# train-valid 분리 \n",
    "\n",
    "from sklearn.model_selection import train_test_split\n",
    "\n",
    "y_target = df['fraud_YN']\n",
    "X_features = df.drop('fraud_YN', axis = 1)\n",
    "\n",
    "X_train, X_valid, y_train, y_valid = train_test_split(X_features, y_target, test_size = 0.2, random_state = 13, stratify = y_target)\n",
    "\n",
    "# 비율 확인 \n",
    "print(y_train.value_counts()/y_train.shape[0]*100) \n",
    "print(y_valid.value_counts()/y_valid.shape[0]*100)"
   ]
  },
  {
   "source": [
    "# trial 1 "
   ],
   "cell_type": "markdown",
   "metadata": {}
  },
  {
   "cell_type": "code",
   "execution_count": 7,
   "metadata": {},
   "outputs": [],
   "source": [
    "# resampling\n",
    "from imblearn.over_sampling import SMOTE\n",
    "from imblearn.over_sampling import ADASYN\n",
    "from imblearn.over_sampling import RandomOverSampler \n",
    "from imblearn.combine import SMOTEENN\n"
   ]
  },
  {
   "cell_type": "code",
   "execution_count": 8,
   "metadata": {},
   "outputs": [
    {
     "output_type": "stream",
     "name": "stdout",
     "text": [
      "fraud_YN\n0           99.73794\n1            0.26206\ndtype: float64\nfraud_YN\n0           99.728261\n1            0.271739\ndtype: float64\n"
     ]
    }
   ],
   "source": [
    "df_1 = df.copy()\n",
    "\n",
    "y_target = df_1['fraud_YN']\n",
    "X_features = df_1.drop('fraud_YN', axis=1)\n",
    "\n",
    "y_target = df_1['fraud_YN'].reset_index()\n",
    "y_target = y_target.drop('index', axis=1)\n",
    "\n",
    "X_train, X_valid, y_train, y_valid = train_test_split(X_features, y_target, test_size = 0.2, random_state = 13, stratify = y_target)\n",
    "\n",
    "# train 데이터 샘플링 - 오버샘플링 \n",
    "over_sampling = RandomOverSampler(random_state=13)\n",
    "X_train_over, y_train_over = over_sampling.fit_sample(X_train, y_train)\n",
    "\n",
    "# 비율 확인 \n",
    "print(y_train.value_counts()/y_train.shape[0]*100) \n",
    "print(y_valid.value_counts()/y_valid.shape[0]*100)"
   ]
  },
  {
   "cell_type": "code",
   "execution_count": 13,
   "metadata": {},
   "outputs": [],
   "source": [
    "# 파이프라인 \n",
    "from sklearn.linear_model import LogisticRegression\n",
    "from sklearn.tree import DecisionTreeClassifier\n",
    "from sklearn.ensemble import RandomForestClassifier\n",
    "from lightgbm import LGBMClassifier\n",
    "from sklearn.svm import LinearSVC\n",
    "\n",
    "from sklearn.model_selection import GridSearchCV\n",
    "from sklearn.metrics import accuracy_score, confusion_matrix, precision_score, recall_score, f1_score, roc_auc_score\n",
    "\n",
    "from sklearn.pipeline import Pipeline\n",
    "from sklearn.preprocessing import RobustScaler\n",
    "\n",
    "\n",
    "# 파이프라인 생성 \n",
    "lr_pipe = Pipeline([\n",
    "    (\"scaler\", RobustScaler()),\n",
    "    (\"clf\", LogisticRegression(random_state=13))])\n",
    "df_pipe =  Pipeline([\n",
    "    (\"scaler\", RobustScaler()),\n",
    "    (\"clf\", DecisionTreeClassifier(random_state=13))])\n",
    "rf_pipe = Pipeline([\n",
    "    (\"scaler\", RobustScaler()),\n",
    "    (\"clf\", RandomForestClassifier(random_state=13))])\n",
    "lgbm_pipe = Pipeline([\n",
    "    (\"scaler\", RobustScaler()),\n",
    "    (\"clf\", LGBMClassifier(random_state=13))])\n",
    "svm_pipe = Pipeline([\n",
    "    (\"scaler\", RobustScaler()),\n",
    "    (\"clf\", LinearSVC(random_state=13))])\n",
    "\n",
    "\n",
    "# 각 모델 파라미터 정해주기 \n",
    "lr_param_grid = [{'clf__penalty': ['l1', 'l2', 'elasticnet', 'none']}]\n",
    "\n",
    "dt_param_grid = [{'clf__criterion':['gini', 'entropy'], 'clf__max_depth':[None,2,3,4,5,6]}]\n",
    "\n",
    "rf_param_grid = [{'clf__n_estimators': [1, 5, 10, 20],\n",
    "                  'clf__max_depth' : [2, 3, 4, 5, 10, 50, 100]}]\n",
    "\n",
    "lgbm_param_grid = [{'clf__n_estimators': [200,500,800,1000], 'clf__num_leaves': [32, 64],\\\n",
    "                   'clf__max_depth': [80,128, 160], 'clf__min_child_samples': [60, 100]}]\n",
    "\n",
    "svm_param_grid = [{\"clf__penalty\": [\"l1\", \"l2\"],\n",
    "                    \"clf__loss\": [\"hinge\", \"squared_hinge\"]}]\n",
    "\n",
    "# grid search \n",
    "lr_clf = GridSearchCV(lr_pipe, lr_param_grid, cv=5, refit=True, scoring='recall')\n",
    "dt_clf = GridSearchCV(df_pipe, dt_param_grid, cv=5, refit=True, scoring='recall')\n",
    "rf_clf = GridSearchCV(rf_pipe, rf_param_grid, cv=5, refit=True, scoring='recall')\n",
    "lgbm_clf = GridSearchCV(lgbm_pipe, lgbm_param_grid, cv=5, refit=True, scoring='recall')\n",
    "svm_clf = GridSearchCV(svm_pipe, svm_param_grid, cv=5, refit=True,scoring='recall')\n"
   ]
  },
  {
   "cell_type": "code",
   "execution_count": 10,
   "metadata": {},
   "outputs": [
    {
     "output_type": "execute_result",
     "data": {
      "text/plain": [
       "              Accuracy  precision    recall        f1       roc\n",
       "LogiReg       0.693323   0.001274  0.142857  0.002525  0.418840\n",
       "DecisionTree  0.993401   0.000000  0.000000  0.000000  0.498054\n",
       "RandomFore    0.967780   0.012821  0.142857  0.023529  0.556442\n",
       "LGBM          0.996894   0.000000  0.000000  0.000000  0.499805\n",
       "SVC           0.695264   0.001282  0.142857  0.002541  0.419813"
      ],
      "text/html": "<div>\n<style scoped>\n    .dataframe tbody tr th:only-of-type {\n        vertical-align: middle;\n    }\n\n    .dataframe tbody tr th {\n        vertical-align: top;\n    }\n\n    .dataframe thead th {\n        text-align: right;\n    }\n</style>\n<table border=\"1\" class=\"dataframe\">\n  <thead>\n    <tr style=\"text-align: right;\">\n      <th></th>\n      <th>Accuracy</th>\n      <th>precision</th>\n      <th>recall</th>\n      <th>f1</th>\n      <th>roc</th>\n    </tr>\n  </thead>\n  <tbody>\n    <tr>\n      <th>LogiReg</th>\n      <td>0.693323</td>\n      <td>0.001274</td>\n      <td>0.142857</td>\n      <td>0.002525</td>\n      <td>0.418840</td>\n    </tr>\n    <tr>\n      <th>DecisionTree</th>\n      <td>0.993401</td>\n      <td>0.000000</td>\n      <td>0.000000</td>\n      <td>0.000000</td>\n      <td>0.498054</td>\n    </tr>\n    <tr>\n      <th>RandomFore</th>\n      <td>0.967780</td>\n      <td>0.012821</td>\n      <td>0.142857</td>\n      <td>0.023529</td>\n      <td>0.556442</td>\n    </tr>\n    <tr>\n      <th>LGBM</th>\n      <td>0.996894</td>\n      <td>0.000000</td>\n      <td>0.000000</td>\n      <td>0.000000</td>\n      <td>0.499805</td>\n    </tr>\n    <tr>\n      <th>SVC</th>\n      <td>0.695264</td>\n      <td>0.001282</td>\n      <td>0.142857</td>\n      <td>0.002541</td>\n      <td>0.419813</td>\n    </tr>\n  </tbody>\n</table>\n</div>"
     },
     "metadata": {},
     "execution_count": 10
    }
   ],
   "source": [
    "# 학습 / 예측 / 평가 함수 \n",
    "\n",
    "# 평가 함수 \n",
    "\n",
    "from sklearn.metrics import accuracy_score, confusion_matrix, precision_score, recall_score, f1_score, roc_auc_score\n",
    "\n",
    "def get_clf_eval(y_test, pred):\n",
    "    # confusion = confusion_matrix(y_test, pred) #오차행렬\n",
    "    accuracy = accuracy_score(y_test,pred) # 정확도 \n",
    "    precision = precision_score(y_test,pred) # 정밀도\n",
    "    recall = recall_score(y_test,pred) # 재현율 \n",
    "    f1 = f1_score(y_test,pred)\n",
    "    roc_auc = roc_auc_score(y_test,pred)\n",
    "    return accuracy, precision, recall, f1, roc_auc\n",
    "\n",
    "# 성능 DF 반환 \n",
    "\n",
    "def get_result(model, X_train, y_train, X_test, y_test):\n",
    "    model.fit(X_train, y_train)\n",
    "    pred = model.predict(X_test)\n",
    "\n",
    "    return get_clf_eval(y_test, pred)\n",
    "\n",
    "# 다수의 모델 성능 비교 \n",
    "\n",
    "def get_result_df(models, model_names, X_train, y_train, X_test, y_test):\n",
    "    col_names = ['Accuracy', 'precision', 'recall', 'f1', 'roc']\n",
    "    tmp = []\n",
    "    for model in models:\n",
    "        tmp.append(get_result(model, X_train, y_train, X_test, y_test))\n",
    "\n",
    "    return pd.DataFrame(tmp, columns=col_names, index=model_names)\n",
    "\n",
    "\n",
    "# 학습 진행 \n",
    "models=[lr_clf,dt_clf,rf_clf,lgbm_clf,svm_clf] \n",
    "model_names = ['LogiReg', 'DecisionTree', 'RandomFore','LGBM','SVC']\n",
    "results = get_result_df(models, model_names, X_train_over, y_train_over, X_valid, y_valid)\n",
    "results \n"
   ]
  },
  {
   "cell_type": "code",
   "execution_count": 11,
   "metadata": {},
   "outputs": [
    {
     "output_type": "execute_result",
     "data": {
      "text/plain": [
       "              Accuracy_test  precision_test  recall_test   f1_Test  roc_test\n",
       "LogiReg            0.643384        0.001802     0.285714  0.003581  0.464951\n",
       "DecisionTree       0.993271        0.000000     0.000000  0.000000  0.497752\n",
       "RandomFore         0.957065        0.015267     0.285714  0.028986  0.622144\n",
       "LGBM               0.997437        0.000000     0.000000  0.000000  0.499839\n",
       "SVC                0.658122        0.002814     0.428571  0.005592  0.543605"
      ],
      "text/html": "<div>\n<style scoped>\n    .dataframe tbody tr th:only-of-type {\n        vertical-align: middle;\n    }\n\n    .dataframe tbody tr th {\n        vertical-align: top;\n    }\n\n    .dataframe thead th {\n        text-align: right;\n    }\n</style>\n<table border=\"1\" class=\"dataframe\">\n  <thead>\n    <tr style=\"text-align: right;\">\n      <th></th>\n      <th>Accuracy_test</th>\n      <th>precision_test</th>\n      <th>recall_test</th>\n      <th>f1_Test</th>\n      <th>roc_test</th>\n    </tr>\n  </thead>\n  <tbody>\n    <tr>\n      <th>LogiReg</th>\n      <td>0.643384</td>\n      <td>0.001802</td>\n      <td>0.285714</td>\n      <td>0.003581</td>\n      <td>0.464951</td>\n    </tr>\n    <tr>\n      <th>DecisionTree</th>\n      <td>0.993271</td>\n      <td>0.000000</td>\n      <td>0.000000</td>\n      <td>0.000000</td>\n      <td>0.497752</td>\n    </tr>\n    <tr>\n      <th>RandomFore</th>\n      <td>0.957065</td>\n      <td>0.015267</td>\n      <td>0.285714</td>\n      <td>0.028986</td>\n      <td>0.622144</td>\n    </tr>\n    <tr>\n      <th>LGBM</th>\n      <td>0.997437</td>\n      <td>0.000000</td>\n      <td>0.000000</td>\n      <td>0.000000</td>\n      <td>0.499839</td>\n    </tr>\n    <tr>\n      <th>SVC</th>\n      <td>0.658122</td>\n      <td>0.002814</td>\n      <td>0.428571</td>\n      <td>0.005592</td>\n      <td>0.543605</td>\n    </tr>\n  </tbody>\n</table>\n</div>"
     },
     "metadata": {},
     "execution_count": 11
    }
   ],
   "source": [
    "# 함수 - 테스트 예측값 \n",
    "def get_result_test(model, X_test, y_test):\n",
    "    pred = model.predict(X_test)\n",
    "\n",
    "    return get_clf_eval(y_test, pred)\n",
    "\n",
    "# 함수 - 테스트 예측값 DF \n",
    "def get_result_df_test(models, model_names, X_test, y_test):\n",
    "    col_names = ['Accuracy_test', 'precision_test', 'recall_test', 'f1_Test', 'roc_test']\n",
    "    tmp = []\n",
    "    for model in models:\n",
    "        tmp.append(get_result_test(model, X_test, y_test))\n",
    "\n",
    "    return pd.DataFrame(tmp, columns=col_names, index=model_names)\n",
    "\n",
    "models=[lr_clf,dt_clf,rf_clf,lgbm_clf,svm_clf] \n",
    "model_names = ['LogiReg', 'DecisionTree', 'RandomFore','LGBM','SVC']\n",
    "results_test = get_result_df_test(models, model_names, X_test, y_test)\n",
    "results_test"
   ]
  },
  {
   "cell_type": "code",
   "execution_count": 12,
   "metadata": {},
   "outputs": [
    {
     "output_type": "execute_result",
     "data": {
      "text/plain": [
       "              Accuracy  precision    recall        f1       roc  \\\n",
       "LogiReg       0.693323   0.001274  0.142857  0.002525  0.418840   \n",
       "DecisionTree  0.993401   0.000000  0.000000  0.000000  0.498054   \n",
       "RandomFore    0.967780   0.012821  0.142857  0.023529  0.556442   \n",
       "LGBM          0.996894   0.000000  0.000000  0.000000  0.499805   \n",
       "SVC           0.695264   0.001282  0.142857  0.002541  0.419813   \n",
       "\n",
       "              Accuracy_test  precision_test  recall_test   f1_Test  roc_test  \n",
       "LogiReg            0.643384        0.001802     0.285714  0.003581  0.464951  \n",
       "DecisionTree       0.993271        0.000000     0.000000  0.000000  0.497752  \n",
       "RandomFore         0.957065        0.015267     0.285714  0.028986  0.622144  \n",
       "LGBM               0.997437        0.000000     0.000000  0.000000  0.499839  \n",
       "SVC                0.658122        0.002814     0.428571  0.005592  0.543605  "
      ],
      "text/html": "<div>\n<style scoped>\n    .dataframe tbody tr th:only-of-type {\n        vertical-align: middle;\n    }\n\n    .dataframe tbody tr th {\n        vertical-align: top;\n    }\n\n    .dataframe thead th {\n        text-align: right;\n    }\n</style>\n<table border=\"1\" class=\"dataframe\">\n  <thead>\n    <tr style=\"text-align: right;\">\n      <th></th>\n      <th>Accuracy</th>\n      <th>precision</th>\n      <th>recall</th>\n      <th>f1</th>\n      <th>roc</th>\n      <th>Accuracy_test</th>\n      <th>precision_test</th>\n      <th>recall_test</th>\n      <th>f1_Test</th>\n      <th>roc_test</th>\n    </tr>\n  </thead>\n  <tbody>\n    <tr>\n      <th>LogiReg</th>\n      <td>0.693323</td>\n      <td>0.001274</td>\n      <td>0.142857</td>\n      <td>0.002525</td>\n      <td>0.418840</td>\n      <td>0.643384</td>\n      <td>0.001802</td>\n      <td>0.285714</td>\n      <td>0.003581</td>\n      <td>0.464951</td>\n    </tr>\n    <tr>\n      <th>DecisionTree</th>\n      <td>0.993401</td>\n      <td>0.000000</td>\n      <td>0.000000</td>\n      <td>0.000000</td>\n      <td>0.498054</td>\n      <td>0.993271</td>\n      <td>0.000000</td>\n      <td>0.000000</td>\n      <td>0.000000</td>\n      <td>0.497752</td>\n    </tr>\n    <tr>\n      <th>RandomFore</th>\n      <td>0.967780</td>\n      <td>0.012821</td>\n      <td>0.142857</td>\n      <td>0.023529</td>\n      <td>0.556442</td>\n      <td>0.957065</td>\n      <td>0.015267</td>\n      <td>0.285714</td>\n      <td>0.028986</td>\n      <td>0.622144</td>\n    </tr>\n    <tr>\n      <th>LGBM</th>\n      <td>0.996894</td>\n      <td>0.000000</td>\n      <td>0.000000</td>\n      <td>0.000000</td>\n      <td>0.499805</td>\n      <td>0.997437</td>\n      <td>0.000000</td>\n      <td>0.000000</td>\n      <td>0.000000</td>\n      <td>0.499839</td>\n    </tr>\n    <tr>\n      <th>SVC</th>\n      <td>0.695264</td>\n      <td>0.001282</td>\n      <td>0.142857</td>\n      <td>0.002541</td>\n      <td>0.419813</td>\n      <td>0.658122</td>\n      <td>0.002814</td>\n      <td>0.428571</td>\n      <td>0.005592</td>\n      <td>0.543605</td>\n    </tr>\n  </tbody>\n</table>\n</div>"
     },
     "metadata": {},
     "execution_count": 12
    }
   ],
   "source": [
    "total_results = results.join(results_test)\n",
    "total_results"
   ]
  },
  {
   "cell_type": "code",
   "execution_count": null,
   "metadata": {},
   "outputs": [],
   "source": []
  }
 ]
}