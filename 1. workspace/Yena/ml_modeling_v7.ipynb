{
 "metadata": {
  "language_info": {
   "codemirror_mode": {
    "name": "ipython",
    "version": 3
   },
   "file_extension": ".py",
   "mimetype": "text/x-python",
   "name": "python",
   "nbconvert_exporter": "python",
   "pygments_lexer": "ipython3",
   "version": "3.8.3-final"
  },
  "orig_nbformat": 2,
  "kernelspec": {
   "name": "python3",
   "display_name": "Python 3",
   "language": "python"
  }
 },
 "nbformat": 4,
 "nbformat_minor": 2,
 "cells": [
  {
   "cell_type": "code",
   "execution_count": 37,
   "metadata": {},
   "outputs": [
    {
     "output_type": "execute_result",
     "data": {
      "text/plain": [
       "       fraud_YN  car_model  sharing_type  age_group  has_previous_accident  \\\n",
       "0             0          2             1          3                      0   \n",
       "1             0          1             0          4                      0   \n",
       "2             0          1             0          4                      1   \n",
       "3             0          3             1          3                      0   \n",
       "4             0          1             0          1                      0   \n",
       "...         ...        ...           ...        ...                    ...   \n",
       "15995         0          2             0          2                      0   \n",
       "15996         0          2             0          2                      1   \n",
       "15997         0          2             1          2                      0   \n",
       "15998         0          2             0          2                      0   \n",
       "15999         0          2             0          2                      0   \n",
       "\n",
       "       cumulative_use_count  b2b  accident_ratio  pf_type  socarpass  ...  \\\n",
       "0                         2    0             100        2          0  ...   \n",
       "1                         4    0               0        3          1  ...   \n",
       "2                         4    0             100        3          1  ...   \n",
       "3                         4    0               0        2          0  ...   \n",
       "4                         1    0             100        1          0  ...   \n",
       "...                     ...  ...             ...      ...        ...  ...   \n",
       "15995                     2    0             100        2          0  ...   \n",
       "15996                     4    0             100        1          1  ...   \n",
       "15997                     4    0             100        1          0  ...   \n",
       "15998                     2    0             100        2          0  ...   \n",
       "15999                     1    0             100        1          0  ...   \n",
       "\n",
       "       insure_cost  accident_location  car_part1  car_part2  repair_cnt  \\\n",
       "0                0                  1          0          0           1   \n",
       "1                0                  1          1          1           2   \n",
       "2         12925040                  3          1          0           2   \n",
       "3                0                  3          1          0           1   \n",
       "4          1209410                  1          0          0           2   \n",
       "...            ...                ...        ...        ...         ...   \n",
       "15995            0                  1          1          0           1   \n",
       "15996            0                  2          1          0           1   \n",
       "15997            0                  0          0          0           1   \n",
       "15998            0                  4          1          0           1   \n",
       "15999      1188750                  2          0          0           1   \n",
       "\n",
       "       acc_type1  insurance_site_aid_YN  police_site_aid_YN  total_prsn_cnt  \\\n",
       "0              0                      0                   0              -1   \n",
       "1              1                      1                   1               0   \n",
       "2              1                      1                   1               0   \n",
       "3              0                      0                   0              -1   \n",
       "4              0                      0                   0              -1   \n",
       "...          ...                    ...                 ...             ...   \n",
       "15995          0                      0                   0              -1   \n",
       "15996          0                      0                   0              -1   \n",
       "15997          0                      0                   0              -1   \n",
       "15998          0                      0                   0              -1   \n",
       "15999          0                      0                   0              -1   \n",
       "\n",
       "       test_set  \n",
       "0             0  \n",
       "1             1  \n",
       "2             1  \n",
       "3             0  \n",
       "4             0  \n",
       "...         ...  \n",
       "15995         0  \n",
       "15996         0  \n",
       "15997         1  \n",
       "15998         0  \n",
       "15999         0  \n",
       "\n",
       "[16000 rows x 25 columns]"
      ],
      "text/html": "<div>\n<style scoped>\n    .dataframe tbody tr th:only-of-type {\n        vertical-align: middle;\n    }\n\n    .dataframe tbody tr th {\n        vertical-align: top;\n    }\n\n    .dataframe thead th {\n        text-align: right;\n    }\n</style>\n<table border=\"1\" class=\"dataframe\">\n  <thead>\n    <tr style=\"text-align: right;\">\n      <th></th>\n      <th>fraud_YN</th>\n      <th>car_model</th>\n      <th>sharing_type</th>\n      <th>age_group</th>\n      <th>has_previous_accident</th>\n      <th>cumulative_use_count</th>\n      <th>b2b</th>\n      <th>accident_ratio</th>\n      <th>pf_type</th>\n      <th>socarpass</th>\n      <th>...</th>\n      <th>insure_cost</th>\n      <th>accident_location</th>\n      <th>car_part1</th>\n      <th>car_part2</th>\n      <th>repair_cnt</th>\n      <th>acc_type1</th>\n      <th>insurance_site_aid_YN</th>\n      <th>police_site_aid_YN</th>\n      <th>total_prsn_cnt</th>\n      <th>test_set</th>\n    </tr>\n  </thead>\n  <tbody>\n    <tr>\n      <th>0</th>\n      <td>0</td>\n      <td>2</td>\n      <td>1</td>\n      <td>3</td>\n      <td>0</td>\n      <td>2</td>\n      <td>0</td>\n      <td>100</td>\n      <td>2</td>\n      <td>0</td>\n      <td>...</td>\n      <td>0</td>\n      <td>1</td>\n      <td>0</td>\n      <td>0</td>\n      <td>1</td>\n      <td>0</td>\n      <td>0</td>\n      <td>0</td>\n      <td>-1</td>\n      <td>0</td>\n    </tr>\n    <tr>\n      <th>1</th>\n      <td>0</td>\n      <td>1</td>\n      <td>0</td>\n      <td>4</td>\n      <td>0</td>\n      <td>4</td>\n      <td>0</td>\n      <td>0</td>\n      <td>3</td>\n      <td>1</td>\n      <td>...</td>\n      <td>0</td>\n      <td>1</td>\n      <td>1</td>\n      <td>1</td>\n      <td>2</td>\n      <td>1</td>\n      <td>1</td>\n      <td>1</td>\n      <td>0</td>\n      <td>1</td>\n    </tr>\n    <tr>\n      <th>2</th>\n      <td>0</td>\n      <td>1</td>\n      <td>0</td>\n      <td>4</td>\n      <td>1</td>\n      <td>4</td>\n      <td>0</td>\n      <td>100</td>\n      <td>3</td>\n      <td>1</td>\n      <td>...</td>\n      <td>12925040</td>\n      <td>3</td>\n      <td>1</td>\n      <td>0</td>\n      <td>2</td>\n      <td>1</td>\n      <td>1</td>\n      <td>1</td>\n      <td>0</td>\n      <td>1</td>\n    </tr>\n    <tr>\n      <th>3</th>\n      <td>0</td>\n      <td>3</td>\n      <td>1</td>\n      <td>3</td>\n      <td>0</td>\n      <td>4</td>\n      <td>0</td>\n      <td>0</td>\n      <td>2</td>\n      <td>0</td>\n      <td>...</td>\n      <td>0</td>\n      <td>3</td>\n      <td>1</td>\n      <td>0</td>\n      <td>1</td>\n      <td>0</td>\n      <td>0</td>\n      <td>0</td>\n      <td>-1</td>\n      <td>0</td>\n    </tr>\n    <tr>\n      <th>4</th>\n      <td>0</td>\n      <td>1</td>\n      <td>0</td>\n      <td>1</td>\n      <td>0</td>\n      <td>1</td>\n      <td>0</td>\n      <td>100</td>\n      <td>1</td>\n      <td>0</td>\n      <td>...</td>\n      <td>1209410</td>\n      <td>1</td>\n      <td>0</td>\n      <td>0</td>\n      <td>2</td>\n      <td>0</td>\n      <td>0</td>\n      <td>0</td>\n      <td>-1</td>\n      <td>0</td>\n    </tr>\n    <tr>\n      <th>...</th>\n      <td>...</td>\n      <td>...</td>\n      <td>...</td>\n      <td>...</td>\n      <td>...</td>\n      <td>...</td>\n      <td>...</td>\n      <td>...</td>\n      <td>...</td>\n      <td>...</td>\n      <td>...</td>\n      <td>...</td>\n      <td>...</td>\n      <td>...</td>\n      <td>...</td>\n      <td>...</td>\n      <td>...</td>\n      <td>...</td>\n      <td>...</td>\n      <td>...</td>\n      <td>...</td>\n    </tr>\n    <tr>\n      <th>15995</th>\n      <td>0</td>\n      <td>2</td>\n      <td>0</td>\n      <td>2</td>\n      <td>0</td>\n      <td>2</td>\n      <td>0</td>\n      <td>100</td>\n      <td>2</td>\n      <td>0</td>\n      <td>...</td>\n      <td>0</td>\n      <td>1</td>\n      <td>1</td>\n      <td>0</td>\n      <td>1</td>\n      <td>0</td>\n      <td>0</td>\n      <td>0</td>\n      <td>-1</td>\n      <td>0</td>\n    </tr>\n    <tr>\n      <th>15996</th>\n      <td>0</td>\n      <td>2</td>\n      <td>0</td>\n      <td>2</td>\n      <td>1</td>\n      <td>4</td>\n      <td>0</td>\n      <td>100</td>\n      <td>1</td>\n      <td>1</td>\n      <td>...</td>\n      <td>0</td>\n      <td>2</td>\n      <td>1</td>\n      <td>0</td>\n      <td>1</td>\n      <td>0</td>\n      <td>0</td>\n      <td>0</td>\n      <td>-1</td>\n      <td>0</td>\n    </tr>\n    <tr>\n      <th>15997</th>\n      <td>0</td>\n      <td>2</td>\n      <td>1</td>\n      <td>2</td>\n      <td>0</td>\n      <td>4</td>\n      <td>0</td>\n      <td>100</td>\n      <td>1</td>\n      <td>0</td>\n      <td>...</td>\n      <td>0</td>\n      <td>0</td>\n      <td>0</td>\n      <td>0</td>\n      <td>1</td>\n      <td>0</td>\n      <td>0</td>\n      <td>0</td>\n      <td>-1</td>\n      <td>1</td>\n    </tr>\n    <tr>\n      <th>15998</th>\n      <td>0</td>\n      <td>2</td>\n      <td>0</td>\n      <td>2</td>\n      <td>0</td>\n      <td>2</td>\n      <td>0</td>\n      <td>100</td>\n      <td>2</td>\n      <td>0</td>\n      <td>...</td>\n      <td>0</td>\n      <td>4</td>\n      <td>1</td>\n      <td>0</td>\n      <td>1</td>\n      <td>0</td>\n      <td>0</td>\n      <td>0</td>\n      <td>-1</td>\n      <td>0</td>\n    </tr>\n    <tr>\n      <th>15999</th>\n      <td>0</td>\n      <td>2</td>\n      <td>0</td>\n      <td>2</td>\n      <td>0</td>\n      <td>1</td>\n      <td>0</td>\n      <td>100</td>\n      <td>1</td>\n      <td>0</td>\n      <td>...</td>\n      <td>1188750</td>\n      <td>2</td>\n      <td>0</td>\n      <td>0</td>\n      <td>1</td>\n      <td>0</td>\n      <td>0</td>\n      <td>0</td>\n      <td>-1</td>\n      <td>0</td>\n    </tr>\n  </tbody>\n</table>\n<p>16000 rows × 25 columns</p>\n</div>"
     },
     "metadata": {},
     "execution_count": 37
    }
   ],
   "source": [
    "# 1-1. 데이터 가져오기 \n",
    "\n",
    "import pandas as pd \n",
    "import matplotlib.pyplot as plt \n",
    "\n",
    "\n",
    "socar = pd.read_csv('../../0. raw_data/insurance_fraud_detect_data.csv')\n",
    "socar "
   ]
  },
  {
   "cell_type": "code",
   "execution_count": 38,
   "metadata": {},
   "outputs": [],
   "source": [
    "# 테스트 셋 분리\n",
    "\n",
    "df = socar[socar['test_set']==0]\n",
    "df_test = socar[socar['test_set']==1]"
   ]
  },
  {
   "cell_type": "code",
   "execution_count": 39,
   "metadata": {},
   "outputs": [],
   "source": [
    "# test_set 분리 \n",
    "X_test = df_test.drop('fraud_YN', axis = 1)\n",
    "y_test = df_test['fraud_YN']"
   ]
  },
  {
   "cell_type": "code",
   "execution_count": 40,
   "metadata": {},
   "outputs": [
    {
     "output_type": "stream",
     "name": "stdout",
     "text": [
      "0    99.73794\n1     0.26206\nName: fraud_YN, dtype: float64\n0    99.728261\n1     0.271739\nName: fraud_YN, dtype: float64\n"
     ]
    }
   ],
   "source": [
    "# train-valid 분리 \n",
    "\n",
    "from sklearn.model_selection import train_test_split\n",
    "\n",
    "y_target = df['fraud_YN']\n",
    "X_features = df.drop('fraud_YN', axis = 1)\n",
    "\n",
    "X_train, X_valid, y_train, y_valid = train_test_split(X_features, y_target, test_size = 0.2, random_state = 13, stratify = y_target)\n",
    "\n",
    "# 비율 확인 \n",
    "print(y_train.value_counts()/y_train.shape[0]*100) \n",
    "print(y_valid.value_counts()/y_valid.shape[0]*100)"
   ]
  },
  {
   "cell_type": "code",
   "execution_count": 41,
   "metadata": {},
   "outputs": [
    {
     "output_type": "execute_result",
     "data": {
      "text/plain": [
       "              Accuracy  precision  recall   f1       roc\n",
       "LogiReg       0.997283        0.0     0.0  0.0  0.500000\n",
       "DecisionTree  0.997283        0.0     0.0  0.0  0.500000\n",
       "RandomFore    0.997283        0.0     0.0  0.0  0.500000\n",
       "LGBM          0.997283        0.0     0.0  0.0  0.500000\n",
       "SVC           0.990295        0.0     0.0  0.0  0.496497"
      ],
      "text/html": "<div>\n<style scoped>\n    .dataframe tbody tr th:only-of-type {\n        vertical-align: middle;\n    }\n\n    .dataframe tbody tr th {\n        vertical-align: top;\n    }\n\n    .dataframe thead th {\n        text-align: right;\n    }\n</style>\n<table border=\"1\" class=\"dataframe\">\n  <thead>\n    <tr style=\"text-align: right;\">\n      <th></th>\n      <th>Accuracy</th>\n      <th>precision</th>\n      <th>recall</th>\n      <th>f1</th>\n      <th>roc</th>\n    </tr>\n  </thead>\n  <tbody>\n    <tr>\n      <th>LogiReg</th>\n      <td>0.997283</td>\n      <td>0.0</td>\n      <td>0.0</td>\n      <td>0.0</td>\n      <td>0.500000</td>\n    </tr>\n    <tr>\n      <th>DecisionTree</th>\n      <td>0.997283</td>\n      <td>0.0</td>\n      <td>0.0</td>\n      <td>0.0</td>\n      <td>0.500000</td>\n    </tr>\n    <tr>\n      <th>RandomFore</th>\n      <td>0.997283</td>\n      <td>0.0</td>\n      <td>0.0</td>\n      <td>0.0</td>\n      <td>0.500000</td>\n    </tr>\n    <tr>\n      <th>LGBM</th>\n      <td>0.997283</td>\n      <td>0.0</td>\n      <td>0.0</td>\n      <td>0.0</td>\n      <td>0.500000</td>\n    </tr>\n    <tr>\n      <th>SVC</th>\n      <td>0.990295</td>\n      <td>0.0</td>\n      <td>0.0</td>\n      <td>0.0</td>\n      <td>0.496497</td>\n    </tr>\n  </tbody>\n</table>\n</div>"
     },
     "metadata": {},
     "execution_count": 41
    }
   ],
   "source": [
    "# 학습 / 예측 / 평가 함수 \n",
    "\n",
    "# 평가 함수 \n",
    "\n",
    "from sklearn.metrics import accuracy_score, confusion_matrix, precision_score, recall_score, f1_score, roc_auc_score\n",
    "\n",
    "def get_clf_eval(y_test, pred):\n",
    "    # confusion = confusion_matrix(y_test, pred) #오차행렬\n",
    "    accuracy = accuracy_score(y_test,pred) # 정확도 \n",
    "    precision = precision_score(y_test,pred) # 정밀도\n",
    "    recall = recall_score(y_test,pred) # 재현율 \n",
    "    f1 = f1_score(y_test,pred)\n",
    "    roc_auc = roc_auc_score(y_test,pred)\n",
    "    return accuracy, precision, recall, f1, roc_auc\n",
    "\n",
    "# 성능 DF 반환 \n",
    "\n",
    "def get_result(model, X_train, y_train, X_test, y_test):\n",
    "    model.fit(X_train, y_train)\n",
    "    pred = model.predict(X_test)\n",
    "\n",
    "    return get_clf_eval(y_test, pred)\n",
    "\n",
    "# 다수의 모델 성능 비교 \n",
    "\n",
    "def get_result_df(models, model_names, X_train, y_train, X_test, y_test):\n",
    "    col_names = ['Accuracy', 'precision', 'recall', 'f1', 'roc']\n",
    "    tmp = []\n",
    "    for model in models:\n",
    "        tmp.append(get_result(model, X_train, y_train, X_test, y_test))\n",
    "\n",
    "    return pd.DataFrame(tmp, columns=col_names, index=model_names)\n",
    "\n",
    "\n",
    "# 성능 확인 \n",
    "from sklearn.linear_model import LogisticRegression\n",
    "from sklearn.tree import DecisionTreeClassifier\n",
    "from sklearn.ensemble import RandomForestClassifier\n",
    "from lightgbm import LGBMClassifier\n",
    "from sklearn.svm import LinearSVC\n",
    "\n",
    "\n",
    "# 모델 객체 생성 \n",
    "lr_clf = LogisticRegression(random_state=13)\n",
    "dt_clf = DecisionTreeClassifier(random_state=13, max_depth=4)\n",
    "rf_clf = RandomForestClassifier(random_state=13, n_jobs = -1, n_estimators= 100 )\n",
    "lgbm_clf = LGBMClassifier(n_estimators=1000, num_leaves=64, n_jobs=-1, boost_from_average = False)\n",
    "svm_clf = LinearSVC()\n",
    "\n",
    "\n",
    "# 학습 진행 \n",
    "models=[lr_clf,dt_clf,rf_clf,lgbm_clf,svm_clf] \n",
    "model_names = ['LogiReg', 'DecisionTree', 'RandomFore','LGBM','SVC']\n",
    "results = get_result_df(models, model_names, X_train, y_train, X_valid, y_valid)\n",
    "results \n"
   ]
  },
  {
   "source": [
    "## Trial #1\n",
    "- ssscale / pca(n=2) / smote-teen"
   ],
   "cell_type": "markdown",
   "metadata": {}
  },
  {
   "cell_type": "code",
   "execution_count": 42,
   "metadata": {},
   "outputs": [],
   "source": [
    "# 모델 객체를 predict(X_test) 시켜줄 것 \n",
    "df_1 = df.copy()"
   ]
  },
  {
   "cell_type": "code",
   "execution_count": 43,
   "metadata": {},
   "outputs": [],
   "source": [
    "y_target = df_1['fraud_YN']\n",
    "X_features = df_1.drop('fraud_YN', axis=1)"
   ]
  },
  {
   "cell_type": "code",
   "execution_count": 44,
   "metadata": {},
   "outputs": [],
   "source": [
    "y_target = df_1['fraud_YN'].reset_index()\n",
    "y_target = y_target.drop('index', axis=1)"
   ]
  },
  {
   "cell_type": "code",
   "execution_count": 45,
   "metadata": {},
   "outputs": [
    {
     "output_type": "execute_result",
     "data": {
      "text/plain": [
       "       component_1  component_2  target\n",
       "12874    -0.900373    -0.056158       0\n",
       "12875    -1.223349     1.349421       0\n",
       "12876    -0.676312     0.382668       0\n",
       "12877    -1.383718     0.656705       0\n",
       "12878    -1.286982    -1.024179       0"
      ],
      "text/html": "<div>\n<style scoped>\n    .dataframe tbody tr th:only-of-type {\n        vertical-align: middle;\n    }\n\n    .dataframe tbody tr th {\n        vertical-align: top;\n    }\n\n    .dataframe thead th {\n        text-align: right;\n    }\n</style>\n<table border=\"1\" class=\"dataframe\">\n  <thead>\n    <tr style=\"text-align: right;\">\n      <th></th>\n      <th>component_1</th>\n      <th>component_2</th>\n      <th>target</th>\n    </tr>\n  </thead>\n  <tbody>\n    <tr>\n      <th>12874</th>\n      <td>-0.900373</td>\n      <td>-0.056158</td>\n      <td>0</td>\n    </tr>\n    <tr>\n      <th>12875</th>\n      <td>-1.223349</td>\n      <td>1.349421</td>\n      <td>0</td>\n    </tr>\n    <tr>\n      <th>12876</th>\n      <td>-0.676312</td>\n      <td>0.382668</td>\n      <td>0</td>\n    </tr>\n    <tr>\n      <th>12877</th>\n      <td>-1.383718</td>\n      <td>0.656705</td>\n      <td>0</td>\n    </tr>\n    <tr>\n      <th>12878</th>\n      <td>-1.286982</td>\n      <td>-1.024179</td>\n      <td>0</td>\n    </tr>\n  </tbody>\n</table>\n</div>"
     },
     "metadata": {},
     "execution_count": 45
    }
   ],
   "source": [
    "from sklearn.decomposition import PCA\n",
    "from sklearn.preprocessing import StandardScaler\n",
    "\n",
    "scaler = StandardScaler()\n",
    "df_scaled = scaler.fit_transform(X_features)\n",
    "\n",
    "pca = PCA(n_components=2)\n",
    "pca.fit(df_scaled)\n",
    "df_pca = pca.transform(df_scaled)\n",
    "\n",
    "pca_columns = ['component_1','component_2']\n",
    "\n",
    "DF_pca = pd.DataFrame(df_pca, columns=pca_columns)\n",
    "DF_pca['target'] = y_target \n",
    "DF_pca.tail()\n"
   ]
  },
  {
   "cell_type": "code",
   "execution_count": 46,
   "metadata": {},
   "outputs": [
    {
     "output_type": "execute_result",
     "data": {
      "text/plain": [
       "              Accuracy  precision  recall   f1       roc\n",
       "LogiReg       0.997283        0.0     0.0  0.0  0.500000\n",
       "DecisionTree  0.996894        0.0     0.0  0.0  0.499805\n",
       "RandomFore    0.997283        0.0     0.0  0.0  0.500000\n",
       "LGBM          0.995730        0.0     0.0  0.0  0.499221\n",
       "SVC           0.997283        0.0     0.0  0.0  0.500000"
      ],
      "text/html": "<div>\n<style scoped>\n    .dataframe tbody tr th:only-of-type {\n        vertical-align: middle;\n    }\n\n    .dataframe tbody tr th {\n        vertical-align: top;\n    }\n\n    .dataframe thead th {\n        text-align: right;\n    }\n</style>\n<table border=\"1\" class=\"dataframe\">\n  <thead>\n    <tr style=\"text-align: right;\">\n      <th></th>\n      <th>Accuracy</th>\n      <th>precision</th>\n      <th>recall</th>\n      <th>f1</th>\n      <th>roc</th>\n    </tr>\n  </thead>\n  <tbody>\n    <tr>\n      <th>LogiReg</th>\n      <td>0.997283</td>\n      <td>0.0</td>\n      <td>0.0</td>\n      <td>0.0</td>\n      <td>0.500000</td>\n    </tr>\n    <tr>\n      <th>DecisionTree</th>\n      <td>0.996894</td>\n      <td>0.0</td>\n      <td>0.0</td>\n      <td>0.0</td>\n      <td>0.499805</td>\n    </tr>\n    <tr>\n      <th>RandomFore</th>\n      <td>0.997283</td>\n      <td>0.0</td>\n      <td>0.0</td>\n      <td>0.0</td>\n      <td>0.500000</td>\n    </tr>\n    <tr>\n      <th>LGBM</th>\n      <td>0.995730</td>\n      <td>0.0</td>\n      <td>0.0</td>\n      <td>0.0</td>\n      <td>0.499221</td>\n    </tr>\n    <tr>\n      <th>SVC</th>\n      <td>0.997283</td>\n      <td>0.0</td>\n      <td>0.0</td>\n      <td>0.0</td>\n      <td>0.500000</td>\n    </tr>\n  </tbody>\n</table>\n</div>"
     },
     "metadata": {},
     "execution_count": 46
    }
   ],
   "source": [
    "y_target = DF_pca['target']\n",
    "X_features = DF_pca.drop('target', axis= 1)\n",
    "\n",
    "\n",
    "X_train, X_valid, y_train, y_valid = train_test_split(X_features, y_target, test_size =0.2, random_state=13, stratify= y_target)\n",
    "\n",
    "# 모델 객체 생성 \n",
    "lr_clf = LogisticRegression(random_state=13)\n",
    "dt_clf = DecisionTreeClassifier(random_state=13, max_depth=4)\n",
    "rf_clf = RandomForestClassifier(random_state=13, n_jobs = -1, n_estimators= 100 )\n",
    "lgbm_clf = LGBMClassifier(n_estimators=1000, num_leaves=64, n_jobs=-1, boost_from_average = False)\n",
    "svm_clf = LinearSVC()\n",
    "\n",
    "# 학습 진행 \n",
    "models=[lr_clf,dt_clf,rf_clf,lgbm_clf,svm_clf] \n",
    "model_names = ['LogiReg', 'DecisionTree', 'RandomFore','LGBM','SVC']\n",
    "results = get_result_df(models, model_names, X_train, y_train, X_valid, y_valid)\n",
    "results \n"
   ]
  },
  {
   "cell_type": "code",
   "execution_count": 47,
   "metadata": {},
   "outputs": [
    {
     "output_type": "execute_result",
     "data": {
      "text/plain": [
       "              Accuracy  precision    recall        f1       roc\n",
       "LogiReg       0.650621   0.005537  0.714286  0.010989  0.682367\n",
       "DecisionTree  0.490683   0.001528  0.285714  0.003040  0.388478\n",
       "RandomFore    0.779891   0.001779  0.142857  0.003515  0.462242\n",
       "LGBM          0.789596   0.003711  0.285714  0.007326  0.538342\n",
       "SVC           0.664984   0.005774  0.714286  0.011455  0.689568"
      ],
      "text/html": "<div>\n<style scoped>\n    .dataframe tbody tr th:only-of-type {\n        vertical-align: middle;\n    }\n\n    .dataframe tbody tr th {\n        vertical-align: top;\n    }\n\n    .dataframe thead th {\n        text-align: right;\n    }\n</style>\n<table border=\"1\" class=\"dataframe\">\n  <thead>\n    <tr style=\"text-align: right;\">\n      <th></th>\n      <th>Accuracy</th>\n      <th>precision</th>\n      <th>recall</th>\n      <th>f1</th>\n      <th>roc</th>\n    </tr>\n  </thead>\n  <tbody>\n    <tr>\n      <th>LogiReg</th>\n      <td>0.650621</td>\n      <td>0.005537</td>\n      <td>0.714286</td>\n      <td>0.010989</td>\n      <td>0.682367</td>\n    </tr>\n    <tr>\n      <th>DecisionTree</th>\n      <td>0.490683</td>\n      <td>0.001528</td>\n      <td>0.285714</td>\n      <td>0.003040</td>\n      <td>0.388478</td>\n    </tr>\n    <tr>\n      <th>RandomFore</th>\n      <td>0.779891</td>\n      <td>0.001779</td>\n      <td>0.142857</td>\n      <td>0.003515</td>\n      <td>0.462242</td>\n    </tr>\n    <tr>\n      <th>LGBM</th>\n      <td>0.789596</td>\n      <td>0.003711</td>\n      <td>0.285714</td>\n      <td>0.007326</td>\n      <td>0.538342</td>\n    </tr>\n    <tr>\n      <th>SVC</th>\n      <td>0.664984</td>\n      <td>0.005774</td>\n      <td>0.714286</td>\n      <td>0.011455</td>\n      <td>0.689568</td>\n    </tr>\n  </tbody>\n</table>\n</div>"
     },
     "metadata": {},
     "execution_count": 47
    }
   ],
   "source": [
    "# 복합 샘플링 적용 \n",
    "\n",
    "from imblearn.combine import SMOTEENN\n",
    "sme = SMOTEENN(random_state=13)\n",
    "X_train_sme, y_train_sme = sme.fit_sample(X_train, y_train)\n",
    "\n",
    "\n",
    "model_names = ['LogiReg', 'DecisionTree', 'RandomFore','LGBM','SVC']\n",
    "results = get_result_df(models, model_names, X_train_sme, y_train_sme, X_valid, y_valid)\n",
    "\n",
    "results"
   ]
  },
  {
   "cell_type": "code",
   "execution_count": 48,
   "metadata": {},
   "outputs": [],
   "source": [
    "# 테스트셋 적용 \n",
    "# PCA / ss \n",
    "\n",
    "df_test_scaled = scaler.transform(X_test)\n",
    "df_test_pca = pca.transform(df_test_scaled)\n",
    "\n",
    "pca_columns = ['component_1','component_2']\n",
    "\n",
    "DF_test_pca = pd.DataFrame(df_pca, columns=pca_columns)\n",
    "DF_test_pca['target'] = y_target \n",
    "DF_test_pca.tail()\n",
    "\n",
    "X_test_scaled = DF_test_pca.drop('target', axis=1)\n",
    "y_test_scaled = DF_test_pca['target']"
   ]
  },
  {
   "cell_type": "code",
   "execution_count": 49,
   "metadata": {},
   "outputs": [],
   "source": [
    "# 다수의 모델 테스트 성능 비교 함수 \n",
    "\n",
    "def get_test_result(model, X_test_scaled, y_test_scaled):\n",
    "    pred = model.predict(X_test_scaled)\n",
    "    return get_clf_eval(y_test_scaled, pred)\n",
    "\n",
    "def get_test_df(models, model_names, X_test_scaled, y_test_scaled):\n",
    "    col_names = ['Accuracy', 'precision', 'recall', 'f1', 'roc']\n",
    "    tmp = []\n",
    "    for model in models:\n",
    "        tmp.append(get_test_result(model, X_test_scaled,y_test_scaled))\n",
    "    return pd.DataFrame(tmp, columns=col_names, index=model_names)\n"
   ]
  },
  {
   "cell_type": "code",
   "execution_count": 50,
   "metadata": {},
   "outputs": [
    {
     "output_type": "execute_result",
     "data": {
      "text/plain": [
       "              Accuracy  precision    recall        f1       roc\n",
       "LogiReg       0.642208   0.004335  0.588235  0.008606  0.615293\n",
       "DecisionTree  0.491731   0.003810  0.735294  0.007580  0.613190\n",
       "RandomFore    0.812874   0.011513  0.823529  0.022709  0.818187\n",
       "LGBM          0.821104   0.012457  0.852941  0.024555  0.836981\n",
       "SVC           0.656573   0.004516  0.588235  0.008963  0.622494"
      ],
      "text/html": "<div>\n<style scoped>\n    .dataframe tbody tr th:only-of-type {\n        vertical-align: middle;\n    }\n\n    .dataframe tbody tr th {\n        vertical-align: top;\n    }\n\n    .dataframe thead th {\n        text-align: right;\n    }\n</style>\n<table border=\"1\" class=\"dataframe\">\n  <thead>\n    <tr style=\"text-align: right;\">\n      <th></th>\n      <th>Accuracy</th>\n      <th>precision</th>\n      <th>recall</th>\n      <th>f1</th>\n      <th>roc</th>\n    </tr>\n  </thead>\n  <tbody>\n    <tr>\n      <th>LogiReg</th>\n      <td>0.642208</td>\n      <td>0.004335</td>\n      <td>0.588235</td>\n      <td>0.008606</td>\n      <td>0.615293</td>\n    </tr>\n    <tr>\n      <th>DecisionTree</th>\n      <td>0.491731</td>\n      <td>0.003810</td>\n      <td>0.735294</td>\n      <td>0.007580</td>\n      <td>0.613190</td>\n    </tr>\n    <tr>\n      <th>RandomFore</th>\n      <td>0.812874</td>\n      <td>0.011513</td>\n      <td>0.823529</td>\n      <td>0.022709</td>\n      <td>0.818187</td>\n    </tr>\n    <tr>\n      <th>LGBM</th>\n      <td>0.821104</td>\n      <td>0.012457</td>\n      <td>0.852941</td>\n      <td>0.024555</td>\n      <td>0.836981</td>\n    </tr>\n    <tr>\n      <th>SVC</th>\n      <td>0.656573</td>\n      <td>0.004516</td>\n      <td>0.588235</td>\n      <td>0.008963</td>\n      <td>0.622494</td>\n    </tr>\n  </tbody>\n</table>\n</div>"
     },
     "metadata": {},
     "execution_count": 50
    }
   ],
   "source": [
    "# 테스트 셋 모델 적용 \n",
    "\n",
    "models=[lr_clf,dt_clf,rf_clf,lgbm_clf,svm_clf] \n",
    "model_names = ['LogiReg', 'DecisionTree', 'RandomFore','LGBM','SVC']\n",
    "results = get_test_df(models,model_names, X_test_scaled, y_test_scaled)\n",
    "results "
   ]
  },
  {
   "source": [
    "## Trial #2\n",
    "## ssscale / pca(n=2) / smote-tomek"
   ],
   "cell_type": "markdown",
   "metadata": {}
  },
  {
   "cell_type": "code",
   "execution_count": 51,
   "metadata": {},
   "outputs": [],
   "source": [
    "df_2 = df.copy()\n",
    "\n",
    "y_target = df_2['fraud_YN']\n",
    "X_features = df_2.drop('fraud_YN', axis = 1)\n",
    "\n",
    "y_target = df_2['fraud_YN'].reset_index()\n",
    "y_target = y_target.drop('index', axis=1)"
   ]
  },
  {
   "cell_type": "code",
   "execution_count": 52,
   "metadata": {},
   "outputs": [
    {
     "output_type": "execute_result",
     "data": {
      "text/plain": [
       "       component_1  component_2  target\n",
       "12874    -0.900417    -0.064090       0\n",
       "12875    -1.223360     1.345519       0\n",
       "12876    -0.676325     0.379296       0\n",
       "12877    -1.383702     0.657022       0\n",
       "12878    -1.286989    -1.024210       0"
      ],
      "text/html": "<div>\n<style scoped>\n    .dataframe tbody tr th:only-of-type {\n        vertical-align: middle;\n    }\n\n    .dataframe tbody tr th {\n        vertical-align: top;\n    }\n\n    .dataframe thead th {\n        text-align: right;\n    }\n</style>\n<table border=\"1\" class=\"dataframe\">\n  <thead>\n    <tr style=\"text-align: right;\">\n      <th></th>\n      <th>component_1</th>\n      <th>component_2</th>\n      <th>target</th>\n    </tr>\n  </thead>\n  <tbody>\n    <tr>\n      <th>12874</th>\n      <td>-0.900417</td>\n      <td>-0.064090</td>\n      <td>0</td>\n    </tr>\n    <tr>\n      <th>12875</th>\n      <td>-1.223360</td>\n      <td>1.345519</td>\n      <td>0</td>\n    </tr>\n    <tr>\n      <th>12876</th>\n      <td>-0.676325</td>\n      <td>0.379296</td>\n      <td>0</td>\n    </tr>\n    <tr>\n      <th>12877</th>\n      <td>-1.383702</td>\n      <td>0.657022</td>\n      <td>0</td>\n    </tr>\n    <tr>\n      <th>12878</th>\n      <td>-1.286989</td>\n      <td>-1.024210</td>\n      <td>0</td>\n    </tr>\n  </tbody>\n</table>\n</div>"
     },
     "metadata": {},
     "execution_count": 52
    }
   ],
   "source": [
    "from sklearn.decomposition import PCA\n",
    "from sklearn.preprocessing import StandardScaler\n",
    "\n",
    "scaler = StandardScaler()\n",
    "df_scaled = scaler.fit_transform(X_features)\n",
    "\n",
    "pca = PCA(n_components=2)\n",
    "pca.fit(df_scaled)\n",
    "df_pca = pca.transform(df_scaled)\n",
    "\n",
    "pca_columns = ['component_1','component_2']\n",
    "\n",
    "DF_pca = pd.DataFrame(df_pca, columns=pca_columns)\n",
    "DF_pca['target'] = y_target \n",
    "DF_pca.tail()\n"
   ]
  },
  {
   "cell_type": "code",
   "execution_count": 53,
   "metadata": {},
   "outputs": [
    {
     "output_type": "execute_result",
     "data": {
      "text/plain": [
       "              Accuracy  precision  recall   f1       roc\n",
       "LogiReg       0.997283        0.0     0.0  0.0  0.500000\n",
       "DecisionTree  0.996894        0.0     0.0  0.0  0.499805\n",
       "RandomFore    0.996894        0.0     0.0  0.0  0.499805\n",
       "LGBM          0.996118        0.0     0.0  0.0  0.499416\n",
       "SVC           0.997283        0.0     0.0  0.0  0.500000"
      ],
      "text/html": "<div>\n<style scoped>\n    .dataframe tbody tr th:only-of-type {\n        vertical-align: middle;\n    }\n\n    .dataframe tbody tr th {\n        vertical-align: top;\n    }\n\n    .dataframe thead th {\n        text-align: right;\n    }\n</style>\n<table border=\"1\" class=\"dataframe\">\n  <thead>\n    <tr style=\"text-align: right;\">\n      <th></th>\n      <th>Accuracy</th>\n      <th>precision</th>\n      <th>recall</th>\n      <th>f1</th>\n      <th>roc</th>\n    </tr>\n  </thead>\n  <tbody>\n    <tr>\n      <th>LogiReg</th>\n      <td>0.997283</td>\n      <td>0.0</td>\n      <td>0.0</td>\n      <td>0.0</td>\n      <td>0.500000</td>\n    </tr>\n    <tr>\n      <th>DecisionTree</th>\n      <td>0.996894</td>\n      <td>0.0</td>\n      <td>0.0</td>\n      <td>0.0</td>\n      <td>0.499805</td>\n    </tr>\n    <tr>\n      <th>RandomFore</th>\n      <td>0.996894</td>\n      <td>0.0</td>\n      <td>0.0</td>\n      <td>0.0</td>\n      <td>0.499805</td>\n    </tr>\n    <tr>\n      <th>LGBM</th>\n      <td>0.996118</td>\n      <td>0.0</td>\n      <td>0.0</td>\n      <td>0.0</td>\n      <td>0.499416</td>\n    </tr>\n    <tr>\n      <th>SVC</th>\n      <td>0.997283</td>\n      <td>0.0</td>\n      <td>0.0</td>\n      <td>0.0</td>\n      <td>0.500000</td>\n    </tr>\n  </tbody>\n</table>\n</div>"
     },
     "metadata": {},
     "execution_count": 53
    }
   ],
   "source": [
    "y_target = DF_pca['target']\n",
    "X_features = DF_pca.drop('target', axis= 1)\n",
    "\n",
    "\n",
    "X_train, X_valid, y_train, y_valid = train_test_split(X_features, y_target, test_size =0.2, random_state=13, stratify= y_target)\n",
    "\n",
    "# 모델 객체 생성 \n",
    "lr_clf = LogisticRegression(random_state=13)\n",
    "dt_clf = DecisionTreeClassifier(random_state=13, max_depth=4)\n",
    "rf_clf = RandomForestClassifier(random_state=13, n_jobs = -1, n_estimators= 100 )\n",
    "lgbm_clf = LGBMClassifier(n_estimators=1000, num_leaves=64, n_jobs=-1, boost_from_average = False)\n",
    "svm_clf = LinearSVC()\n",
    "\n",
    "# 학습 진행 \n",
    "models=[lr_clf,dt_clf,rf_clf,lgbm_clf,svm_clf] \n",
    "model_names = ['LogiReg', 'DecisionTree', 'RandomFore','LGBM','SVC']\n",
    "results = get_result_df(models, model_names, X_train, y_train, X_valid, y_valid)\n",
    "\n",
    "results \n"
   ]
  },
  {
   "cell_type": "code",
   "execution_count": 54,
   "metadata": {},
   "outputs": [
    {
     "output_type": "execute_result",
     "data": {
      "text/plain": [
       "              Accuracy  precision    recall        f1       roc\n",
       "LogiReg       0.684394   0.006127  0.714286  0.012151  0.699299\n",
       "DecisionTree  0.522904   0.000817  0.142857  0.001625  0.333398\n",
       "RandomFore    0.828804   0.004566  0.285714  0.008989  0.557999\n",
       "LGBM          0.839286   0.004866  0.285714  0.009569  0.563254\n",
       "SVC           0.697205   0.006386  0.714286  0.012658  0.705722"
      ],
      "text/html": "<div>\n<style scoped>\n    .dataframe tbody tr th:only-of-type {\n        vertical-align: middle;\n    }\n\n    .dataframe tbody tr th {\n        vertical-align: top;\n    }\n\n    .dataframe thead th {\n        text-align: right;\n    }\n</style>\n<table border=\"1\" class=\"dataframe\">\n  <thead>\n    <tr style=\"text-align: right;\">\n      <th></th>\n      <th>Accuracy</th>\n      <th>precision</th>\n      <th>recall</th>\n      <th>f1</th>\n      <th>roc</th>\n    </tr>\n  </thead>\n  <tbody>\n    <tr>\n      <th>LogiReg</th>\n      <td>0.684394</td>\n      <td>0.006127</td>\n      <td>0.714286</td>\n      <td>0.012151</td>\n      <td>0.699299</td>\n    </tr>\n    <tr>\n      <th>DecisionTree</th>\n      <td>0.522904</td>\n      <td>0.000817</td>\n      <td>0.142857</td>\n      <td>0.001625</td>\n      <td>0.333398</td>\n    </tr>\n    <tr>\n      <th>RandomFore</th>\n      <td>0.828804</td>\n      <td>0.004566</td>\n      <td>0.285714</td>\n      <td>0.008989</td>\n      <td>0.557999</td>\n    </tr>\n    <tr>\n      <th>LGBM</th>\n      <td>0.839286</td>\n      <td>0.004866</td>\n      <td>0.285714</td>\n      <td>0.009569</td>\n      <td>0.563254</td>\n    </tr>\n    <tr>\n      <th>SVC</th>\n      <td>0.697205</td>\n      <td>0.006386</td>\n      <td>0.714286</td>\n      <td>0.012658</td>\n      <td>0.705722</td>\n    </tr>\n  </tbody>\n</table>\n</div>"
     },
     "metadata": {},
     "execution_count": 54
    }
   ],
   "source": [
    "# 복합 샘플링 적용 \n",
    "\n",
    "from imblearn.combine import SMOTETomek\n",
    "tmk = SMOTETomek(random_state=13)\n",
    "X_train_tmk, y_train_tmk = tmk.fit_sample(X_train, y_train)\n",
    "\n",
    "\n",
    "model_names = ['LogiReg', 'DecisionTree', 'RandomFore','LGBM','SVC']\n",
    "results = get_result_df(models, model_names, X_train_tmk, y_train_tmk, X_valid, y_valid)\n",
    "\n",
    "results"
   ]
  },
  {
   "cell_type": "code",
   "execution_count": 55,
   "metadata": {},
   "outputs": [],
   "source": [
    "# 테스트셋 적용 \n",
    "# PCA / ss \n",
    "\n",
    "df_test_scaled = scaler.transform(X_test)\n",
    "df_test_pca = pca.transform(df_test_scaled)\n",
    "\n",
    "pca_columns = ['component_1','component_2']\n",
    "\n",
    "DF_test_pca = pd.DataFrame(df_test_pca, columns=pca_columns)\n",
    "DF_test_pca['target'] = y_target \n",
    "DF_test_pca.tail()\n",
    "\n",
    "X_test_scaled = DF_test_pca.drop('target', axis=1)\n",
    "y_test_scaled = DF_test_pca['target']"
   ]
  },
  {
   "cell_type": "code",
   "execution_count": 56,
   "metadata": {},
   "outputs": [
    {
     "output_type": "execute_result",
     "data": {
      "text/plain": [
       "              Accuracy  precision    recall        f1       roc\n",
       "LogiReg       0.492470   0.010685  0.629630  0.021014  0.560452\n",
       "DecisionTree  0.538289   0.006974  0.370370  0.013689  0.455062\n",
       "RandomFore    0.798782   0.004942  0.111111  0.009464  0.457947\n",
       "LGBM          0.811278   0.008741  0.185185  0.016694  0.500964\n",
       "SVC           0.497597   0.010794  0.629630  0.021223  0.563037"
      ],
      "text/html": "<div>\n<style scoped>\n    .dataframe tbody tr th:only-of-type {\n        vertical-align: middle;\n    }\n\n    .dataframe tbody tr th {\n        vertical-align: top;\n    }\n\n    .dataframe thead th {\n        text-align: right;\n    }\n</style>\n<table border=\"1\" class=\"dataframe\">\n  <thead>\n    <tr style=\"text-align: right;\">\n      <th></th>\n      <th>Accuracy</th>\n      <th>precision</th>\n      <th>recall</th>\n      <th>f1</th>\n      <th>roc</th>\n    </tr>\n  </thead>\n  <tbody>\n    <tr>\n      <th>LogiReg</th>\n      <td>0.492470</td>\n      <td>0.010685</td>\n      <td>0.629630</td>\n      <td>0.021014</td>\n      <td>0.560452</td>\n    </tr>\n    <tr>\n      <th>DecisionTree</th>\n      <td>0.538289</td>\n      <td>0.006974</td>\n      <td>0.370370</td>\n      <td>0.013689</td>\n      <td>0.455062</td>\n    </tr>\n    <tr>\n      <th>RandomFore</th>\n      <td>0.798782</td>\n      <td>0.004942</td>\n      <td>0.111111</td>\n      <td>0.009464</td>\n      <td>0.457947</td>\n    </tr>\n    <tr>\n      <th>LGBM</th>\n      <td>0.811278</td>\n      <td>0.008741</td>\n      <td>0.185185</td>\n      <td>0.016694</td>\n      <td>0.500964</td>\n    </tr>\n    <tr>\n      <th>SVC</th>\n      <td>0.497597</td>\n      <td>0.010794</td>\n      <td>0.629630</td>\n      <td>0.021223</td>\n      <td>0.563037</td>\n    </tr>\n  </tbody>\n</table>\n</div>"
     },
     "metadata": {},
     "execution_count": 56
    }
   ],
   "source": [
    "# 테스트 셋 모델 적용 \n",
    "\n",
    "models=[lr_clf,dt_clf,rf_clf,lgbm_clf,svm_clf] \n",
    "model_names = ['LogiReg', 'DecisionTree', 'RandomFore','LGBM','SVC']\n",
    "results = get_test_df(models,model_names, X_test_scaled, y_test_scaled)\n",
    "results "
   ]
  },
  {
   "source": [
    "## Trial #3\n",
    "## ssscale / pca(n=3) / smoteenn"
   ],
   "cell_type": "markdown",
   "metadata": {}
  },
  {
   "cell_type": "code",
   "execution_count": 57,
   "metadata": {},
   "outputs": [],
   "source": [
    "df_3 = df.copy()\n",
    "\n",
    "y_target = df_3['fraud_YN']\n",
    "X_features = df_3.drop('fraud_YN', axis=1)\n",
    "\n",
    "y_target = df_3['fraud_YN'].reset_index()\n",
    "y_target = y_target.drop('index', axis=1)"
   ]
  },
  {
   "cell_type": "code",
   "execution_count": 58,
   "metadata": {},
   "outputs": [
    {
     "output_type": "execute_result",
     "data": {
      "text/plain": [
       "       component_1  component_2  component_3  target\n",
       "12874    -0.900765    -0.069389     1.019894       0\n",
       "12875    -1.223324     1.353651     0.047742       0\n",
       "12876    -0.676864     0.363593     1.495340       0\n",
       "12877    -1.383857     0.646814    -0.843939       0\n",
       "12878    -1.286942    -1.023315    -1.606073       0"
      ],
      "text/html": "<div>\n<style scoped>\n    .dataframe tbody tr th:only-of-type {\n        vertical-align: middle;\n    }\n\n    .dataframe tbody tr th {\n        vertical-align: top;\n    }\n\n    .dataframe thead th {\n        text-align: right;\n    }\n</style>\n<table border=\"1\" class=\"dataframe\">\n  <thead>\n    <tr style=\"text-align: right;\">\n      <th></th>\n      <th>component_1</th>\n      <th>component_2</th>\n      <th>component_3</th>\n      <th>target</th>\n    </tr>\n  </thead>\n  <tbody>\n    <tr>\n      <th>12874</th>\n      <td>-0.900765</td>\n      <td>-0.069389</td>\n      <td>1.019894</td>\n      <td>0</td>\n    </tr>\n    <tr>\n      <th>12875</th>\n      <td>-1.223324</td>\n      <td>1.353651</td>\n      <td>0.047742</td>\n      <td>0</td>\n    </tr>\n    <tr>\n      <th>12876</th>\n      <td>-0.676864</td>\n      <td>0.363593</td>\n      <td>1.495340</td>\n      <td>0</td>\n    </tr>\n    <tr>\n      <th>12877</th>\n      <td>-1.383857</td>\n      <td>0.646814</td>\n      <td>-0.843939</td>\n      <td>0</td>\n    </tr>\n    <tr>\n      <th>12878</th>\n      <td>-1.286942</td>\n      <td>-1.023315</td>\n      <td>-1.606073</td>\n      <td>0</td>\n    </tr>\n  </tbody>\n</table>\n</div>"
     },
     "metadata": {},
     "execution_count": 58
    }
   ],
   "source": [
    "from sklearn.decomposition import PCA\n",
    "from sklearn.preprocessing import StandardScaler\n",
    "\n",
    "scaler = StandardScaler()\n",
    "df_scaled = scaler.fit_transform(X_features)\n",
    "\n",
    "pca = PCA(n_components=3)\n",
    "pca.fit(df_scaled)\n",
    "df_pca = pca.transform(df_scaled)\n",
    "\n",
    "pca_columns = ['component_1','component_2','component_3']\n",
    "\n",
    "DF_pca = pd.DataFrame(df_pca, columns=pca_columns)\n",
    "DF_pca['target'] = y_target \n",
    "DF_pca.tail()"
   ]
  },
  {
   "cell_type": "code",
   "execution_count": 59,
   "metadata": {},
   "outputs": [
    {
     "output_type": "execute_result",
     "data": {
      "text/plain": [
       "              Accuracy  precision  recall   f1       roc\n",
       "LogiReg       0.997283        0.0     0.0  0.0  0.500000\n",
       "DecisionTree  0.996506        0.0     0.0  0.0  0.499611\n",
       "RandomFore    0.997283        0.0     0.0  0.0  0.500000\n",
       "LGBM          0.997283        0.0     0.0  0.0  0.500000\n",
       "SVC           0.997283        0.0     0.0  0.0  0.500000"
      ],
      "text/html": "<div>\n<style scoped>\n    .dataframe tbody tr th:only-of-type {\n        vertical-align: middle;\n    }\n\n    .dataframe tbody tr th {\n        vertical-align: top;\n    }\n\n    .dataframe thead th {\n        text-align: right;\n    }\n</style>\n<table border=\"1\" class=\"dataframe\">\n  <thead>\n    <tr style=\"text-align: right;\">\n      <th></th>\n      <th>Accuracy</th>\n      <th>precision</th>\n      <th>recall</th>\n      <th>f1</th>\n      <th>roc</th>\n    </tr>\n  </thead>\n  <tbody>\n    <tr>\n      <th>LogiReg</th>\n      <td>0.997283</td>\n      <td>0.0</td>\n      <td>0.0</td>\n      <td>0.0</td>\n      <td>0.500000</td>\n    </tr>\n    <tr>\n      <th>DecisionTree</th>\n      <td>0.996506</td>\n      <td>0.0</td>\n      <td>0.0</td>\n      <td>0.0</td>\n      <td>0.499611</td>\n    </tr>\n    <tr>\n      <th>RandomFore</th>\n      <td>0.997283</td>\n      <td>0.0</td>\n      <td>0.0</td>\n      <td>0.0</td>\n      <td>0.500000</td>\n    </tr>\n    <tr>\n      <th>LGBM</th>\n      <td>0.997283</td>\n      <td>0.0</td>\n      <td>0.0</td>\n      <td>0.0</td>\n      <td>0.500000</td>\n    </tr>\n    <tr>\n      <th>SVC</th>\n      <td>0.997283</td>\n      <td>0.0</td>\n      <td>0.0</td>\n      <td>0.0</td>\n      <td>0.500000</td>\n    </tr>\n  </tbody>\n</table>\n</div>"
     },
     "metadata": {},
     "execution_count": 59
    }
   ],
   "source": [
    "y_target = DF_pca['target']\n",
    "X_features = DF_pca.drop('target', axis= 1)\n",
    "\n",
    "\n",
    "X_train, X_valid, y_train, y_valid = train_test_split(X_features, y_target, test_size =0.2, random_state=13, stratify= y_target)\n",
    "\n",
    "# 모델 객체 생성 \n",
    "lr_clf = LogisticRegression(random_state=13)\n",
    "dt_clf = DecisionTreeClassifier(random_state=13, max_depth=4)\n",
    "rf_clf = RandomForestClassifier(random_state=13, n_jobs = -1, n_estimators= 100 )\n",
    "lgbm_clf = LGBMClassifier(n_estimators=1000, num_leaves=64, n_jobs=-1, boost_from_average = False)\n",
    "svm_clf = LinearSVC()\n",
    "\n",
    "# 학습 진행 \n",
    "models=[lr_clf,dt_clf,rf_clf,lgbm_clf,svm_clf] \n",
    "model_names = ['LogiReg', 'DecisionTree', 'RandomFore','LGBM','SVC']\n",
    "results = get_result_df(models, model_names, X_train, y_train, X_valid, y_valid)\n",
    "results \n"
   ]
  },
  {
   "cell_type": "code",
   "execution_count": 60,
   "metadata": {},
   "outputs": [
    {
     "output_type": "execute_result",
     "data": {
      "text/plain": [
       "              Accuracy  precision    recall        f1       roc\n",
       "LogiReg       0.623059   0.005133  0.714286  0.010194  0.668548\n",
       "DecisionTree  0.442935   0.002786  0.571429  0.005544  0.507007\n",
       "RandomFore    0.914596   0.009217  0.285714  0.017857  0.601012\n",
       "LGBM          0.907220   0.012605  0.428571  0.024490  0.668548\n",
       "SVC           0.630435   0.005236  0.714286  0.010395  0.672246"
      ],
      "text/html": "<div>\n<style scoped>\n    .dataframe tbody tr th:only-of-type {\n        vertical-align: middle;\n    }\n\n    .dataframe tbody tr th {\n        vertical-align: top;\n    }\n\n    .dataframe thead th {\n        text-align: right;\n    }\n</style>\n<table border=\"1\" class=\"dataframe\">\n  <thead>\n    <tr style=\"text-align: right;\">\n      <th></th>\n      <th>Accuracy</th>\n      <th>precision</th>\n      <th>recall</th>\n      <th>f1</th>\n      <th>roc</th>\n    </tr>\n  </thead>\n  <tbody>\n    <tr>\n      <th>LogiReg</th>\n      <td>0.623059</td>\n      <td>0.005133</td>\n      <td>0.714286</td>\n      <td>0.010194</td>\n      <td>0.668548</td>\n    </tr>\n    <tr>\n      <th>DecisionTree</th>\n      <td>0.442935</td>\n      <td>0.002786</td>\n      <td>0.571429</td>\n      <td>0.005544</td>\n      <td>0.507007</td>\n    </tr>\n    <tr>\n      <th>RandomFore</th>\n      <td>0.914596</td>\n      <td>0.009217</td>\n      <td>0.285714</td>\n      <td>0.017857</td>\n      <td>0.601012</td>\n    </tr>\n    <tr>\n      <th>LGBM</th>\n      <td>0.907220</td>\n      <td>0.012605</td>\n      <td>0.428571</td>\n      <td>0.024490</td>\n      <td>0.668548</td>\n    </tr>\n    <tr>\n      <th>SVC</th>\n      <td>0.630435</td>\n      <td>0.005236</td>\n      <td>0.714286</td>\n      <td>0.010395</td>\n      <td>0.672246</td>\n    </tr>\n  </tbody>\n</table>\n</div>"
     },
     "metadata": {},
     "execution_count": 60
    }
   ],
   "source": [
    "# 복합 샘플링 적용 \n",
    "\n",
    "from imblearn.combine import SMOTEENN\n",
    "sme = SMOTEENN(random_state=13)\n",
    "X_train_sme, y_train_sme = sme.fit_sample(X_train, y_train)\n",
    "\n",
    "\n",
    "model_names = ['LogiReg', 'DecisionTree', 'RandomFore','LGBM','SVC']\n",
    "results = get_result_df(models, model_names, X_train_sme, y_train_sme, X_valid, y_valid)\n",
    "\n",
    "results"
   ]
  },
  {
   "cell_type": "code",
   "execution_count": 61,
   "metadata": {},
   "outputs": [],
   "source": [
    "# 테스트셋 적용 \n",
    "# PCA / ss \n",
    "\n",
    "df_test_scaled = scaler.transform(X_test)\n",
    "df_test_pca = pca.transform(df_test_scaled)\n",
    "\n",
    "pca_columns = ['component_1','component_2','component_3']\n",
    "\n",
    "DF_test_pca = pd.DataFrame(df_pca, columns=pca_columns)\n",
    "DF_test_pca['target'] = y_target \n",
    "DF_test_pca.tail()\n",
    "\n",
    "X_test_scaled = DF_test_pca.drop('target', axis=1)\n",
    "y_test_scaled = DF_test_pca['target']"
   ]
  },
  {
   "cell_type": "code",
   "execution_count": 62,
   "metadata": {},
   "outputs": [
    {
     "output_type": "execute_result",
     "data": {
      "text/plain": [
       "              Accuracy  precision    recall        f1       roc\n",
       "LogiReg       0.622486   0.004922  0.705882  0.009776  0.664074\n",
       "DecisionTree  0.460828   0.004162  0.852941  0.008283  0.656365\n",
       "RandomFore    0.930196   0.031419  0.852941  0.060606  0.891671\n",
       "LGBM          0.926780   0.030960  0.882353  0.059821  0.904625\n",
       "SVC           0.630018   0.005022  0.705882  0.009973  0.667850"
      ],
      "text/html": "<div>\n<style scoped>\n    .dataframe tbody tr th:only-of-type {\n        vertical-align: middle;\n    }\n\n    .dataframe tbody tr th {\n        vertical-align: top;\n    }\n\n    .dataframe thead th {\n        text-align: right;\n    }\n</style>\n<table border=\"1\" class=\"dataframe\">\n  <thead>\n    <tr style=\"text-align: right;\">\n      <th></th>\n      <th>Accuracy</th>\n      <th>precision</th>\n      <th>recall</th>\n      <th>f1</th>\n      <th>roc</th>\n    </tr>\n  </thead>\n  <tbody>\n    <tr>\n      <th>LogiReg</th>\n      <td>0.622486</td>\n      <td>0.004922</td>\n      <td>0.705882</td>\n      <td>0.009776</td>\n      <td>0.664074</td>\n    </tr>\n    <tr>\n      <th>DecisionTree</th>\n      <td>0.460828</td>\n      <td>0.004162</td>\n      <td>0.852941</td>\n      <td>0.008283</td>\n      <td>0.656365</td>\n    </tr>\n    <tr>\n      <th>RandomFore</th>\n      <td>0.930196</td>\n      <td>0.031419</td>\n      <td>0.852941</td>\n      <td>0.060606</td>\n      <td>0.891671</td>\n    </tr>\n    <tr>\n      <th>LGBM</th>\n      <td>0.926780</td>\n      <td>0.030960</td>\n      <td>0.882353</td>\n      <td>0.059821</td>\n      <td>0.904625</td>\n    </tr>\n    <tr>\n      <th>SVC</th>\n      <td>0.630018</td>\n      <td>0.005022</td>\n      <td>0.705882</td>\n      <td>0.009973</td>\n      <td>0.667850</td>\n    </tr>\n  </tbody>\n</table>\n</div>"
     },
     "metadata": {},
     "execution_count": 62
    }
   ],
   "source": [
    "# 테스트 셋 모델 적용 \n",
    "\n",
    "models=[lr_clf,dt_clf,rf_clf,lgbm_clf,svm_clf] \n",
    "model_names = ['LogiReg', 'DecisionTree', 'RandomFore','LGBM','SVC']\n",
    "results = get_test_df(models,model_names, X_test_scaled, y_test_scaled)\n",
    "results "
   ]
  },
  {
   "source": [
    "## Trial #4\n",
    "## ssscale / pca(n=3) / smote-tomek"
   ],
   "cell_type": "markdown",
   "metadata": {}
  },
  {
   "cell_type": "code",
   "execution_count": 63,
   "metadata": {},
   "outputs": [],
   "source": [
    "df_4 = df.copy()\n",
    "\n",
    "y_target = df_4['fraud_YN']\n",
    "X_features = df_4.drop('fraud_YN', axis=1)\n",
    "\n",
    "y_target = df_1['fraud_YN'].reset_index()\n",
    "y_target = y_target.drop('index', axis=1)"
   ]
  },
  {
   "cell_type": "code",
   "execution_count": 64,
   "metadata": {},
   "outputs": [
    {
     "output_type": "execute_result",
     "data": {
      "text/plain": [
       "       component_1  component_2  component_3  target\n",
       "12874    -0.900645    -0.052143     1.062274       0\n",
       "12875    -1.223540     1.370077     0.081288       0\n",
       "12876    -0.676121     0.357878     1.487625       0\n",
       "12877    -1.383486     0.650616    -0.855555       0\n",
       "12878    -1.286765    -1.045111    -1.628164       0"
      ],
      "text/html": "<div>\n<style scoped>\n    .dataframe tbody tr th:only-of-type {\n        vertical-align: middle;\n    }\n\n    .dataframe tbody tr th {\n        vertical-align: top;\n    }\n\n    .dataframe thead th {\n        text-align: right;\n    }\n</style>\n<table border=\"1\" class=\"dataframe\">\n  <thead>\n    <tr style=\"text-align: right;\">\n      <th></th>\n      <th>component_1</th>\n      <th>component_2</th>\n      <th>component_3</th>\n      <th>target</th>\n    </tr>\n  </thead>\n  <tbody>\n    <tr>\n      <th>12874</th>\n      <td>-0.900645</td>\n      <td>-0.052143</td>\n      <td>1.062274</td>\n      <td>0</td>\n    </tr>\n    <tr>\n      <th>12875</th>\n      <td>-1.223540</td>\n      <td>1.370077</td>\n      <td>0.081288</td>\n      <td>0</td>\n    </tr>\n    <tr>\n      <th>12876</th>\n      <td>-0.676121</td>\n      <td>0.357878</td>\n      <td>1.487625</td>\n      <td>0</td>\n    </tr>\n    <tr>\n      <th>12877</th>\n      <td>-1.383486</td>\n      <td>0.650616</td>\n      <td>-0.855555</td>\n      <td>0</td>\n    </tr>\n    <tr>\n      <th>12878</th>\n      <td>-1.286765</td>\n      <td>-1.045111</td>\n      <td>-1.628164</td>\n      <td>0</td>\n    </tr>\n  </tbody>\n</table>\n</div>"
     },
     "metadata": {},
     "execution_count": 64
    }
   ],
   "source": [
    "from sklearn.decomposition import PCA\n",
    "from sklearn.preprocessing import StandardScaler\n",
    "\n",
    "scaler = StandardScaler()\n",
    "df_scaled = scaler.fit_transform(X_features)\n",
    "\n",
    "pca = PCA(n_components=3)\n",
    "pca.fit(df_scaled)\n",
    "df_pca = pca.transform(df_scaled)\n",
    "\n",
    "pca_columns = ['component_1','component_2','component_3']\n",
    "\n",
    "DF_pca = pd.DataFrame(df_pca, columns=pca_columns)\n",
    "DF_pca['target'] = y_target \n",
    "DF_pca.tail()"
   ]
  },
  {
   "cell_type": "code",
   "execution_count": 65,
   "metadata": {},
   "outputs": [
    {
     "output_type": "execute_result",
     "data": {
      "text/plain": [
       "              Accuracy  precision  recall   f1       roc\n",
       "LogiReg       0.997283        0.0     0.0  0.0  0.500000\n",
       "DecisionTree  0.996894        0.0     0.0  0.0  0.499805\n",
       "RandomFore    0.997283        0.0     0.0  0.0  0.500000\n",
       "LGBM          0.996894        0.0     0.0  0.0  0.499805\n",
       "SVC           0.997283        0.0     0.0  0.0  0.500000"
      ],
      "text/html": "<div>\n<style scoped>\n    .dataframe tbody tr th:only-of-type {\n        vertical-align: middle;\n    }\n\n    .dataframe tbody tr th {\n        vertical-align: top;\n    }\n\n    .dataframe thead th {\n        text-align: right;\n    }\n</style>\n<table border=\"1\" class=\"dataframe\">\n  <thead>\n    <tr style=\"text-align: right;\">\n      <th></th>\n      <th>Accuracy</th>\n      <th>precision</th>\n      <th>recall</th>\n      <th>f1</th>\n      <th>roc</th>\n    </tr>\n  </thead>\n  <tbody>\n    <tr>\n      <th>LogiReg</th>\n      <td>0.997283</td>\n      <td>0.0</td>\n      <td>0.0</td>\n      <td>0.0</td>\n      <td>0.500000</td>\n    </tr>\n    <tr>\n      <th>DecisionTree</th>\n      <td>0.996894</td>\n      <td>0.0</td>\n      <td>0.0</td>\n      <td>0.0</td>\n      <td>0.499805</td>\n    </tr>\n    <tr>\n      <th>RandomFore</th>\n      <td>0.997283</td>\n      <td>0.0</td>\n      <td>0.0</td>\n      <td>0.0</td>\n      <td>0.500000</td>\n    </tr>\n    <tr>\n      <th>LGBM</th>\n      <td>0.996894</td>\n      <td>0.0</td>\n      <td>0.0</td>\n      <td>0.0</td>\n      <td>0.499805</td>\n    </tr>\n    <tr>\n      <th>SVC</th>\n      <td>0.997283</td>\n      <td>0.0</td>\n      <td>0.0</td>\n      <td>0.0</td>\n      <td>0.500000</td>\n    </tr>\n  </tbody>\n</table>\n</div>"
     },
     "metadata": {},
     "execution_count": 65
    }
   ],
   "source": [
    "y_target = DF_pca['target']\n",
    "X_features = DF_pca.drop('target', axis= 1)\n",
    "\n",
    "\n",
    "X_train, X_valid, y_train, y_valid = train_test_split(X_features, y_target, test_size =0.2, random_state=13, stratify= y_target)\n",
    "\n",
    "# 모델 객체 생성 \n",
    "lr_clf = LogisticRegression(random_state=13)\n",
    "dt_clf = DecisionTreeClassifier(random_state=13, max_depth=4)\n",
    "rf_clf = RandomForestClassifier(random_state=13, n_jobs = -1, n_estimators= 100 )\n",
    "lgbm_clf = LGBMClassifier(n_estimators=1000, num_leaves=64, n_jobs=-1, boost_from_average = False)\n",
    "svm_clf = LinearSVC()\n",
    "\n",
    "# 학습 진행 \n",
    "models=[lr_clf,dt_clf,rf_clf,lgbm_clf,svm_clf] \n",
    "model_names = ['LogiReg', 'DecisionTree', 'RandomFore','LGBM','SVC']\n",
    "results = get_result_df(models, model_names, X_train, y_train, X_valid, y_valid)\n",
    "results \n"
   ]
  },
  {
   "cell_type": "code",
   "execution_count": 66,
   "metadata": {},
   "outputs": [
    {
     "output_type": "execute_result",
     "data": {
      "text/plain": [
       "              Accuracy  precision    recall        f1       roc\n",
       "LogiReg       0.677019   0.005988  0.714286  0.011876  0.695601\n",
       "DecisionTree  0.481366   0.002992  0.571429  0.005952  0.526275\n",
       "RandomFore    0.937112   0.006369  0.142857  0.012195  0.541067\n",
       "LGBM          0.940994   0.006803  0.142857  0.012987  0.543013\n",
       "SVC           0.683618   0.006112  0.714286  0.012121  0.698910"
      ],
      "text/html": "<div>\n<style scoped>\n    .dataframe tbody tr th:only-of-type {\n        vertical-align: middle;\n    }\n\n    .dataframe tbody tr th {\n        vertical-align: top;\n    }\n\n    .dataframe thead th {\n        text-align: right;\n    }\n</style>\n<table border=\"1\" class=\"dataframe\">\n  <thead>\n    <tr style=\"text-align: right;\">\n      <th></th>\n      <th>Accuracy</th>\n      <th>precision</th>\n      <th>recall</th>\n      <th>f1</th>\n      <th>roc</th>\n    </tr>\n  </thead>\n  <tbody>\n    <tr>\n      <th>LogiReg</th>\n      <td>0.677019</td>\n      <td>0.005988</td>\n      <td>0.714286</td>\n      <td>0.011876</td>\n      <td>0.695601</td>\n    </tr>\n    <tr>\n      <th>DecisionTree</th>\n      <td>0.481366</td>\n      <td>0.002992</td>\n      <td>0.571429</td>\n      <td>0.005952</td>\n      <td>0.526275</td>\n    </tr>\n    <tr>\n      <th>RandomFore</th>\n      <td>0.937112</td>\n      <td>0.006369</td>\n      <td>0.142857</td>\n      <td>0.012195</td>\n      <td>0.541067</td>\n    </tr>\n    <tr>\n      <th>LGBM</th>\n      <td>0.940994</td>\n      <td>0.006803</td>\n      <td>0.142857</td>\n      <td>0.012987</td>\n      <td>0.543013</td>\n    </tr>\n    <tr>\n      <th>SVC</th>\n      <td>0.683618</td>\n      <td>0.006112</td>\n      <td>0.714286</td>\n      <td>0.012121</td>\n      <td>0.698910</td>\n    </tr>\n  </tbody>\n</table>\n</div>"
     },
     "metadata": {},
     "execution_count": 66
    }
   ],
   "source": [
    "# 복합 샘플링 적용 \n",
    "\n",
    "from imblearn.combine import SMOTETomek\n",
    "tmk = SMOTETomek(random_state=13)\n",
    "X_train_tmk, y_train_tmk = tmk.fit_sample(X_train, y_train)\n",
    "\n",
    "\n",
    "model_names = ['LogiReg', 'DecisionTree', 'RandomFore','LGBM','SVC']\n",
    "results = get_result_df(models, model_names, X_train_tmk, y_train_tmk, X_valid, y_valid)\n",
    "\n",
    "results"
   ]
  },
  {
   "cell_type": "code",
   "execution_count": 67,
   "metadata": {},
   "outputs": [],
   "source": [
    "# 테스트셋 적용 \n",
    "# PCA / ss \n",
    "\n",
    "df_test_scaled = scaler.transform(X_test)\n",
    "df_test_pca = pca.transform(df_test_scaled)\n",
    "\n",
    "pca_columns = ['component_1','component_2', 'component_3']\n",
    "\n",
    "DF_test_pca = pd.DataFrame(df_test_pca, columns=pca_columns)\n",
    "DF_test_pca['target'] = y_target \n",
    "DF_test_pca.tail()\n",
    "\n",
    "X_test_scaled = DF_test_pca.drop('target', axis=1)\n",
    "y_test_scaled = DF_test_pca['target']"
   ]
  },
  {
   "cell_type": "code",
   "execution_count": 70,
   "metadata": {},
   "outputs": [
    {
     "output_type": "execute_result",
     "data": {
      "text/plain": [
       "              Accuracy  precision    recall        f1       roc\n",
       "LogiReg       0.553989   0.009346  0.481481  0.018336  0.518052\n",
       "DecisionTree  0.506248   0.005875  0.333333  0.011546  0.420545\n",
       "RandomFore    0.935598   0.005682  0.037037  0.009852  0.490238\n",
       "LGBM          0.940083   0.000000  0.000000  0.000000  0.474144\n",
       "SVC           0.557834   0.010138  0.518519  0.019886  0.538348"
      ],
      "text/html": "<div>\n<style scoped>\n    .dataframe tbody tr th:only-of-type {\n        vertical-align: middle;\n    }\n\n    .dataframe tbody tr th {\n        vertical-align: top;\n    }\n\n    .dataframe thead th {\n        text-align: right;\n    }\n</style>\n<table border=\"1\" class=\"dataframe\">\n  <thead>\n    <tr style=\"text-align: right;\">\n      <th></th>\n      <th>Accuracy</th>\n      <th>precision</th>\n      <th>recall</th>\n      <th>f1</th>\n      <th>roc</th>\n    </tr>\n  </thead>\n  <tbody>\n    <tr>\n      <th>LogiReg</th>\n      <td>0.553989</td>\n      <td>0.009346</td>\n      <td>0.481481</td>\n      <td>0.018336</td>\n      <td>0.518052</td>\n    </tr>\n    <tr>\n      <th>DecisionTree</th>\n      <td>0.506248</td>\n      <td>0.005875</td>\n      <td>0.333333</td>\n      <td>0.011546</td>\n      <td>0.420545</td>\n    </tr>\n    <tr>\n      <th>RandomFore</th>\n      <td>0.935598</td>\n      <td>0.005682</td>\n      <td>0.037037</td>\n      <td>0.009852</td>\n      <td>0.490238</td>\n    </tr>\n    <tr>\n      <th>LGBM</th>\n      <td>0.940083</td>\n      <td>0.000000</td>\n      <td>0.000000</td>\n      <td>0.000000</td>\n      <td>0.474144</td>\n    </tr>\n    <tr>\n      <th>SVC</th>\n      <td>0.557834</td>\n      <td>0.010138</td>\n      <td>0.518519</td>\n      <td>0.019886</td>\n      <td>0.538348</td>\n    </tr>\n  </tbody>\n</table>\n</div>"
     },
     "metadata": {},
     "execution_count": 70
    }
   ],
   "source": [
    "# 테스트 셋 모델 적용 \n",
    "\n",
    "models=[lr_clf,dt_clf,rf_clf,lgbm_clf,svm_clf] \n",
    "model_names = ['LogiReg', 'DecisionTree', 'RandomFore','LGBM','SVC']\n",
    "results = get_test_df(models,model_names, X_test_scaled, y_test_scaled)\n",
    "results "
   ]
  },
  {
   "cell_type": "code",
   "execution_count": 68,
   "metadata": {},
   "outputs": [],
   "source": [
    "# ssscale / pca(n=3) / smote-tomek / repair_cost 전처리 "
   ]
  },
  {
   "cell_type": "code",
   "execution_count": 69,
   "metadata": {},
   "outputs": [],
   "source": [
    "# robust / pca(n=3) / smote-tomek"
   ]
  }
 ]
}