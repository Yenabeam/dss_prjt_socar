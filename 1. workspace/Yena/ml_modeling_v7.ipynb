{
 "metadata": {
  "language_info": {
   "codemirror_mode": {
    "name": "ipython",
    "version": 3
   },
   "file_extension": ".py",
   "mimetype": "text/x-python",
   "name": "python",
   "nbconvert_exporter": "python",
   "pygments_lexer": "ipython3",
   "version": "3.8.3-final"
  },
  "orig_nbformat": 2,
  "kernelspec": {
   "name": "python3",
   "display_name": "Python 3",
   "language": "python"
  }
 },
 "nbformat": 4,
 "nbformat_minor": 2,
 "cells": [
  {
   "cell_type": "code",
   "execution_count": 1,
   "metadata": {},
   "outputs": [
    {
     "output_type": "execute_result",
     "data": {
      "text/plain": [
       "       fraud_YN  car_model  sharing_type  age_group  has_previous_accident  \\\n",
       "0             0          2             1          3                      0   \n",
       "1             0          1             0          4                      0   \n",
       "2             0          1             0          4                      1   \n",
       "3             0          3             1          3                      0   \n",
       "4             0          1             0          1                      0   \n",
       "...         ...        ...           ...        ...                    ...   \n",
       "15995         0          2             0          2                      0   \n",
       "15996         0          2             0          2                      1   \n",
       "15997         0          2             1          2                      0   \n",
       "15998         0          2             0          2                      0   \n",
       "15999         0          2             0          2                      0   \n",
       "\n",
       "       cumulative_use_count  b2b  accident_ratio  pf_type  socarpass  ...  \\\n",
       "0                         2    0             100        2          0  ...   \n",
       "1                         4    0               0        3          1  ...   \n",
       "2                         4    0             100        3          1  ...   \n",
       "3                         4    0               0        2          0  ...   \n",
       "4                         1    0             100        1          0  ...   \n",
       "...                     ...  ...             ...      ...        ...  ...   \n",
       "15995                     2    0             100        2          0  ...   \n",
       "15996                     4    0             100        1          1  ...   \n",
       "15997                     4    0             100        1          0  ...   \n",
       "15998                     2    0             100        2          0  ...   \n",
       "15999                     1    0             100        1          0  ...   \n",
       "\n",
       "       insure_cost  accident_location  car_part1  car_part2  repair_cnt  \\\n",
       "0                0                  1          0          0           1   \n",
       "1                0                  1          1          1           2   \n",
       "2         12925040                  3          1          0           2   \n",
       "3                0                  3          1          0           1   \n",
       "4          1209410                  1          0          0           2   \n",
       "...            ...                ...        ...        ...         ...   \n",
       "15995            0                  1          1          0           1   \n",
       "15996            0                  2          1          0           1   \n",
       "15997            0                  0          0          0           1   \n",
       "15998            0                  4          1          0           1   \n",
       "15999      1188750                  2          0          0           1   \n",
       "\n",
       "       acc_type1  insurance_site_aid_YN  police_site_aid_YN  total_prsn_cnt  \\\n",
       "0              0                      0                   0              -1   \n",
       "1              1                      1                   1               0   \n",
       "2              1                      1                   1               0   \n",
       "3              0                      0                   0              -1   \n",
       "4              0                      0                   0              -1   \n",
       "...          ...                    ...                 ...             ...   \n",
       "15995          0                      0                   0              -1   \n",
       "15996          0                      0                   0              -1   \n",
       "15997          0                      0                   0              -1   \n",
       "15998          0                      0                   0              -1   \n",
       "15999          0                      0                   0              -1   \n",
       "\n",
       "       test_set  \n",
       "0             0  \n",
       "1             1  \n",
       "2             1  \n",
       "3             0  \n",
       "4             0  \n",
       "...         ...  \n",
       "15995         0  \n",
       "15996         0  \n",
       "15997         1  \n",
       "15998         0  \n",
       "15999         0  \n",
       "\n",
       "[16000 rows x 25 columns]"
      ],
      "text/html": "<div>\n<style scoped>\n    .dataframe tbody tr th:only-of-type {\n        vertical-align: middle;\n    }\n\n    .dataframe tbody tr th {\n        vertical-align: top;\n    }\n\n    .dataframe thead th {\n        text-align: right;\n    }\n</style>\n<table border=\"1\" class=\"dataframe\">\n  <thead>\n    <tr style=\"text-align: right;\">\n      <th></th>\n      <th>fraud_YN</th>\n      <th>car_model</th>\n      <th>sharing_type</th>\n      <th>age_group</th>\n      <th>has_previous_accident</th>\n      <th>cumulative_use_count</th>\n      <th>b2b</th>\n      <th>accident_ratio</th>\n      <th>pf_type</th>\n      <th>socarpass</th>\n      <th>...</th>\n      <th>insure_cost</th>\n      <th>accident_location</th>\n      <th>car_part1</th>\n      <th>car_part2</th>\n      <th>repair_cnt</th>\n      <th>acc_type1</th>\n      <th>insurance_site_aid_YN</th>\n      <th>police_site_aid_YN</th>\n      <th>total_prsn_cnt</th>\n      <th>test_set</th>\n    </tr>\n  </thead>\n  <tbody>\n    <tr>\n      <th>0</th>\n      <td>0</td>\n      <td>2</td>\n      <td>1</td>\n      <td>3</td>\n      <td>0</td>\n      <td>2</td>\n      <td>0</td>\n      <td>100</td>\n      <td>2</td>\n      <td>0</td>\n      <td>...</td>\n      <td>0</td>\n      <td>1</td>\n      <td>0</td>\n      <td>0</td>\n      <td>1</td>\n      <td>0</td>\n      <td>0</td>\n      <td>0</td>\n      <td>-1</td>\n      <td>0</td>\n    </tr>\n    <tr>\n      <th>1</th>\n      <td>0</td>\n      <td>1</td>\n      <td>0</td>\n      <td>4</td>\n      <td>0</td>\n      <td>4</td>\n      <td>0</td>\n      <td>0</td>\n      <td>3</td>\n      <td>1</td>\n      <td>...</td>\n      <td>0</td>\n      <td>1</td>\n      <td>1</td>\n      <td>1</td>\n      <td>2</td>\n      <td>1</td>\n      <td>1</td>\n      <td>1</td>\n      <td>0</td>\n      <td>1</td>\n    </tr>\n    <tr>\n      <th>2</th>\n      <td>0</td>\n      <td>1</td>\n      <td>0</td>\n      <td>4</td>\n      <td>1</td>\n      <td>4</td>\n      <td>0</td>\n      <td>100</td>\n      <td>3</td>\n      <td>1</td>\n      <td>...</td>\n      <td>12925040</td>\n      <td>3</td>\n      <td>1</td>\n      <td>0</td>\n      <td>2</td>\n      <td>1</td>\n      <td>1</td>\n      <td>1</td>\n      <td>0</td>\n      <td>1</td>\n    </tr>\n    <tr>\n      <th>3</th>\n      <td>0</td>\n      <td>3</td>\n      <td>1</td>\n      <td>3</td>\n      <td>0</td>\n      <td>4</td>\n      <td>0</td>\n      <td>0</td>\n      <td>2</td>\n      <td>0</td>\n      <td>...</td>\n      <td>0</td>\n      <td>3</td>\n      <td>1</td>\n      <td>0</td>\n      <td>1</td>\n      <td>0</td>\n      <td>0</td>\n      <td>0</td>\n      <td>-1</td>\n      <td>0</td>\n    </tr>\n    <tr>\n      <th>4</th>\n      <td>0</td>\n      <td>1</td>\n      <td>0</td>\n      <td>1</td>\n      <td>0</td>\n      <td>1</td>\n      <td>0</td>\n      <td>100</td>\n      <td>1</td>\n      <td>0</td>\n      <td>...</td>\n      <td>1209410</td>\n      <td>1</td>\n      <td>0</td>\n      <td>0</td>\n      <td>2</td>\n      <td>0</td>\n      <td>0</td>\n      <td>0</td>\n      <td>-1</td>\n      <td>0</td>\n    </tr>\n    <tr>\n      <th>...</th>\n      <td>...</td>\n      <td>...</td>\n      <td>...</td>\n      <td>...</td>\n      <td>...</td>\n      <td>...</td>\n      <td>...</td>\n      <td>...</td>\n      <td>...</td>\n      <td>...</td>\n      <td>...</td>\n      <td>...</td>\n      <td>...</td>\n      <td>...</td>\n      <td>...</td>\n      <td>...</td>\n      <td>...</td>\n      <td>...</td>\n      <td>...</td>\n      <td>...</td>\n      <td>...</td>\n    </tr>\n    <tr>\n      <th>15995</th>\n      <td>0</td>\n      <td>2</td>\n      <td>0</td>\n      <td>2</td>\n      <td>0</td>\n      <td>2</td>\n      <td>0</td>\n      <td>100</td>\n      <td>2</td>\n      <td>0</td>\n      <td>...</td>\n      <td>0</td>\n      <td>1</td>\n      <td>1</td>\n      <td>0</td>\n      <td>1</td>\n      <td>0</td>\n      <td>0</td>\n      <td>0</td>\n      <td>-1</td>\n      <td>0</td>\n    </tr>\n    <tr>\n      <th>15996</th>\n      <td>0</td>\n      <td>2</td>\n      <td>0</td>\n      <td>2</td>\n      <td>1</td>\n      <td>4</td>\n      <td>0</td>\n      <td>100</td>\n      <td>1</td>\n      <td>1</td>\n      <td>...</td>\n      <td>0</td>\n      <td>2</td>\n      <td>1</td>\n      <td>0</td>\n      <td>1</td>\n      <td>0</td>\n      <td>0</td>\n      <td>0</td>\n      <td>-1</td>\n      <td>0</td>\n    </tr>\n    <tr>\n      <th>15997</th>\n      <td>0</td>\n      <td>2</td>\n      <td>1</td>\n      <td>2</td>\n      <td>0</td>\n      <td>4</td>\n      <td>0</td>\n      <td>100</td>\n      <td>1</td>\n      <td>0</td>\n      <td>...</td>\n      <td>0</td>\n      <td>0</td>\n      <td>0</td>\n      <td>0</td>\n      <td>1</td>\n      <td>0</td>\n      <td>0</td>\n      <td>0</td>\n      <td>-1</td>\n      <td>1</td>\n    </tr>\n    <tr>\n      <th>15998</th>\n      <td>0</td>\n      <td>2</td>\n      <td>0</td>\n      <td>2</td>\n      <td>0</td>\n      <td>2</td>\n      <td>0</td>\n      <td>100</td>\n      <td>2</td>\n      <td>0</td>\n      <td>...</td>\n      <td>0</td>\n      <td>4</td>\n      <td>1</td>\n      <td>0</td>\n      <td>1</td>\n      <td>0</td>\n      <td>0</td>\n      <td>0</td>\n      <td>-1</td>\n      <td>0</td>\n    </tr>\n    <tr>\n      <th>15999</th>\n      <td>0</td>\n      <td>2</td>\n      <td>0</td>\n      <td>2</td>\n      <td>0</td>\n      <td>1</td>\n      <td>0</td>\n      <td>100</td>\n      <td>1</td>\n      <td>0</td>\n      <td>...</td>\n      <td>1188750</td>\n      <td>2</td>\n      <td>0</td>\n      <td>0</td>\n      <td>1</td>\n      <td>0</td>\n      <td>0</td>\n      <td>0</td>\n      <td>-1</td>\n      <td>0</td>\n    </tr>\n  </tbody>\n</table>\n<p>16000 rows × 25 columns</p>\n</div>"
     },
     "metadata": {},
     "execution_count": 1
    }
   ],
   "source": [
    "# 1-1. 데이터 가져오기 \n",
    "\n",
    "import pandas as pd \n",
    "import matplotlib.pyplot as plt \n",
    "\n",
    "\n",
    "socar = pd.read_csv('../../0. raw_data/insurance_fraud_detect_data.csv')\n",
    "socar "
   ]
  },
  {
   "cell_type": "code",
   "execution_count": 2,
   "metadata": {},
   "outputs": [],
   "source": [
    "# 테스트 셋 분리\n",
    "\n",
    "df = socar[socar['test_set']==0]\n",
    "df_test = socar[socar['test_set']==1]"
   ]
  },
  {
   "cell_type": "code",
   "execution_count": 3,
   "metadata": {},
   "outputs": [],
   "source": [
    "# test_set 분리 \n",
    "X_test = df_test.drop('fraud_YN', axis = 1)\n",
    "y_test = df_test['fraud_YN']"
   ]
  },
  {
   "cell_type": "code",
   "execution_count": 4,
   "metadata": {},
   "outputs": [
    {
     "output_type": "stream",
     "name": "stdout",
     "text": [
      "0    99.73794\n1     0.26206\nName: fraud_YN, dtype: float64\n0    99.728261\n1     0.271739\nName: fraud_YN, dtype: float64\n"
     ]
    }
   ],
   "source": [
    "# train-valid 분리 \n",
    "\n",
    "from sklearn.model_selection import train_test_split\n",
    "\n",
    "y_target = df['fraud_YN']\n",
    "X_features = df.drop('fraud_YN', axis = 1)\n",
    "\n",
    "X_train, X_valid, y_train, y_valid = train_test_split(X_features, y_target, test_size = 0.2, random_state = 13, stratify = y_target)\n",
    "\n",
    "# 비율 확인 \n",
    "print(y_train.value_counts()/y_train.shape[0]*100) \n",
    "print(y_valid.value_counts()/y_valid.shape[0]*100)"
   ]
  },
  {
   "cell_type": "code",
   "execution_count": 5,
   "metadata": {},
   "outputs": [
    {
     "output_type": "execute_result",
     "data": {
      "text/plain": [
       "              Accuracy  precision  recall   f1      roc\n",
       "LogiReg       0.997283        0.0     0.0  0.0  0.50000\n",
       "DecisionTree  0.997283        0.0     0.0  0.0  0.50000\n",
       "RandomFore    0.997283        0.0     0.0  0.0  0.50000\n",
       "LGBM          0.997283        0.0     0.0  0.0  0.50000\n",
       "SVC           0.981366        0.0     0.0  0.0  0.49202"
      ],
      "text/html": "<div>\n<style scoped>\n    .dataframe tbody tr th:only-of-type {\n        vertical-align: middle;\n    }\n\n    .dataframe tbody tr th {\n        vertical-align: top;\n    }\n\n    .dataframe thead th {\n        text-align: right;\n    }\n</style>\n<table border=\"1\" class=\"dataframe\">\n  <thead>\n    <tr style=\"text-align: right;\">\n      <th></th>\n      <th>Accuracy</th>\n      <th>precision</th>\n      <th>recall</th>\n      <th>f1</th>\n      <th>roc</th>\n    </tr>\n  </thead>\n  <tbody>\n    <tr>\n      <th>LogiReg</th>\n      <td>0.997283</td>\n      <td>0.0</td>\n      <td>0.0</td>\n      <td>0.0</td>\n      <td>0.50000</td>\n    </tr>\n    <tr>\n      <th>DecisionTree</th>\n      <td>0.997283</td>\n      <td>0.0</td>\n      <td>0.0</td>\n      <td>0.0</td>\n      <td>0.50000</td>\n    </tr>\n    <tr>\n      <th>RandomFore</th>\n      <td>0.997283</td>\n      <td>0.0</td>\n      <td>0.0</td>\n      <td>0.0</td>\n      <td>0.50000</td>\n    </tr>\n    <tr>\n      <th>LGBM</th>\n      <td>0.997283</td>\n      <td>0.0</td>\n      <td>0.0</td>\n      <td>0.0</td>\n      <td>0.50000</td>\n    </tr>\n    <tr>\n      <th>SVC</th>\n      <td>0.981366</td>\n      <td>0.0</td>\n      <td>0.0</td>\n      <td>0.0</td>\n      <td>0.49202</td>\n    </tr>\n  </tbody>\n</table>\n</div>"
     },
     "metadata": {},
     "execution_count": 5
    }
   ],
   "source": [
    "# 학습 / 예측 / 평가 함수 \n",
    "\n",
    "# 평가 함수 \n",
    "\n",
    "from sklearn.metrics import accuracy_score, confusion_matrix, precision_score, recall_score, f1_score, roc_auc_score\n",
    "\n",
    "def get_clf_eval(y_test, pred):\n",
    "    # confusion = confusion_matrix(y_test, pred) #오차행렬\n",
    "    accuracy = accuracy_score(y_test,pred) # 정확도 \n",
    "    precision = precision_score(y_test,pred) # 정밀도\n",
    "    recall = recall_score(y_test,pred) # 재현율 \n",
    "    f1 = f1_score(y_test,pred)\n",
    "    roc_auc = roc_auc_score(y_test,pred)\n",
    "    return accuracy, precision, recall, f1, roc_auc\n",
    "\n",
    "# 성능 DF 반환 \n",
    "\n",
    "def get_result(model, X_train, y_train, X_test, y_test):\n",
    "    model.fit(X_train, y_train)\n",
    "    pred = model.predict(X_test)\n",
    "\n",
    "    return get_clf_eval(y_test, pred)\n",
    "\n",
    "# 다수의 모델 성능 비교 \n",
    "\n",
    "def get_result_df(models, model_names, X_train, y_train, X_test, y_test):\n",
    "    col_names = ['Accuracy', 'precision', 'recall', 'f1', 'roc']\n",
    "    tmp = []\n",
    "    for model in models:\n",
    "        tmp.append(get_result(model, X_train, y_train, X_test, y_test))\n",
    "\n",
    "    return pd.DataFrame(tmp, columns=col_names, index=model_names)\n",
    "\n",
    "\n",
    "# 성능 확인 \n",
    "from sklearn.linear_model import LogisticRegression\n",
    "from sklearn.tree import DecisionTreeClassifier\n",
    "from sklearn.ensemble import RandomForestClassifier\n",
    "from lightgbm import LGBMClassifier\n",
    "from sklearn.svm import LinearSVC\n",
    "\n",
    "\n",
    "# 모델 객체 생성 \n",
    "lr_clf = LogisticRegression(random_state=13)\n",
    "dt_clf = DecisionTreeClassifier(random_state=13, max_depth=4)\n",
    "rf_clf = RandomForestClassifier(random_state=13, n_jobs = -1, n_estimators= 100 )\n",
    "lgbm_clf = LGBMClassifier(n_estimators=1000, num_leaves=64, n_jobs=-1, boost_from_average = False)\n",
    "svm_clf = LinearSVC()\n",
    "\n",
    "\n",
    "# 학습 진행 \n",
    "models=[lr_clf,dt_clf,rf_clf,lgbm_clf,svm_clf] \n",
    "model_names = ['LogiReg', 'DecisionTree', 'RandomFore','LGBM','SVC']\n",
    "results = get_result_df(models, model_names, X_train, y_train, X_valid, y_valid)\n",
    "results \n"
   ]
  },
  {
   "source": [
    "## Trial #1\n",
    "- ssscale / pca(n=2) / smote-teen"
   ],
   "cell_type": "markdown",
   "metadata": {}
  },
  {
   "cell_type": "code",
   "execution_count": 6,
   "metadata": {},
   "outputs": [],
   "source": [
    "# 모델 객체를 predict(X_test) 시켜줄 것 \n",
    "df_1 = df.copy()"
   ]
  },
  {
   "cell_type": "code",
   "execution_count": 7,
   "metadata": {},
   "outputs": [],
   "source": [
    "y_target = df_1['fraud_YN']\n",
    "X_features = df_1.drop('fraud_YN', axis=1)"
   ]
  },
  {
   "cell_type": "code",
   "execution_count": 8,
   "metadata": {},
   "outputs": [],
   "source": [
    "y_target = df_1['fraud_YN'].reset_index()\n",
    "y_target = y_target.drop('index', axis=1)"
   ]
  },
  {
   "cell_type": "code",
   "execution_count": 9,
   "metadata": {},
   "outputs": [
    {
     "output_type": "execute_result",
     "data": {
      "text/plain": [
       "       component_1  component_2  target\n",
       "12874    -0.900400    -0.052815       0\n",
       "12875    -1.223356     1.352673       0\n",
       "12876    -0.676312     0.381217       0\n",
       "12877    -1.383713     0.656432       0\n",
       "12878    -1.286983    -1.030856       0"
      ],
      "text/html": "<div>\n<style scoped>\n    .dataframe tbody tr th:only-of-type {\n        vertical-align: middle;\n    }\n\n    .dataframe tbody tr th {\n        vertical-align: top;\n    }\n\n    .dataframe thead th {\n        text-align: right;\n    }\n</style>\n<table border=\"1\" class=\"dataframe\">\n  <thead>\n    <tr style=\"text-align: right;\">\n      <th></th>\n      <th>component_1</th>\n      <th>component_2</th>\n      <th>target</th>\n    </tr>\n  </thead>\n  <tbody>\n    <tr>\n      <th>12874</th>\n      <td>-0.900400</td>\n      <td>-0.052815</td>\n      <td>0</td>\n    </tr>\n    <tr>\n      <th>12875</th>\n      <td>-1.223356</td>\n      <td>1.352673</td>\n      <td>0</td>\n    </tr>\n    <tr>\n      <th>12876</th>\n      <td>-0.676312</td>\n      <td>0.381217</td>\n      <td>0</td>\n    </tr>\n    <tr>\n      <th>12877</th>\n      <td>-1.383713</td>\n      <td>0.656432</td>\n      <td>0</td>\n    </tr>\n    <tr>\n      <th>12878</th>\n      <td>-1.286983</td>\n      <td>-1.030856</td>\n      <td>0</td>\n    </tr>\n  </tbody>\n</table>\n</div>"
     },
     "metadata": {},
     "execution_count": 9
    }
   ],
   "source": [
    "from sklearn.decomposition import PCA\n",
    "from sklearn.preprocessing import StandardScaler\n",
    "\n",
    "scaler = StandardScaler()\n",
    "df_scaled = scaler.fit_transform(X_features)\n",
    "\n",
    "pca = PCA(n_components=2)\n",
    "pca.fit(df_scaled)\n",
    "df_pca = pca.transform(df_scaled)\n",
    "\n",
    "pca_columns = ['component_1','component_2']\n",
    "\n",
    "DF_pca = pd.DataFrame(df_pca, columns=pca_columns)\n",
    "DF_pca['target'] = y_target \n",
    "DF_pca.tail()\n"
   ]
  },
  {
   "cell_type": "code",
   "execution_count": 10,
   "metadata": {},
   "outputs": [
    {
     "output_type": "execute_result",
     "data": {
      "text/plain": [
       "              Accuracy  precision  recall   f1       roc\n",
       "LogiReg       0.997283        0.0     0.0  0.0  0.500000\n",
       "DecisionTree  0.996894        0.0     0.0  0.0  0.499805\n",
       "RandomFore    0.997283        0.0     0.0  0.0  0.500000\n",
       "LGBM          0.996118        0.0     0.0  0.0  0.499416\n",
       "SVC           0.997283        0.0     0.0  0.0  0.500000"
      ],
      "text/html": "<div>\n<style scoped>\n    .dataframe tbody tr th:only-of-type {\n        vertical-align: middle;\n    }\n\n    .dataframe tbody tr th {\n        vertical-align: top;\n    }\n\n    .dataframe thead th {\n        text-align: right;\n    }\n</style>\n<table border=\"1\" class=\"dataframe\">\n  <thead>\n    <tr style=\"text-align: right;\">\n      <th></th>\n      <th>Accuracy</th>\n      <th>precision</th>\n      <th>recall</th>\n      <th>f1</th>\n      <th>roc</th>\n    </tr>\n  </thead>\n  <tbody>\n    <tr>\n      <th>LogiReg</th>\n      <td>0.997283</td>\n      <td>0.0</td>\n      <td>0.0</td>\n      <td>0.0</td>\n      <td>0.500000</td>\n    </tr>\n    <tr>\n      <th>DecisionTree</th>\n      <td>0.996894</td>\n      <td>0.0</td>\n      <td>0.0</td>\n      <td>0.0</td>\n      <td>0.499805</td>\n    </tr>\n    <tr>\n      <th>RandomFore</th>\n      <td>0.997283</td>\n      <td>0.0</td>\n      <td>0.0</td>\n      <td>0.0</td>\n      <td>0.500000</td>\n    </tr>\n    <tr>\n      <th>LGBM</th>\n      <td>0.996118</td>\n      <td>0.0</td>\n      <td>0.0</td>\n      <td>0.0</td>\n      <td>0.499416</td>\n    </tr>\n    <tr>\n      <th>SVC</th>\n      <td>0.997283</td>\n      <td>0.0</td>\n      <td>0.0</td>\n      <td>0.0</td>\n      <td>0.500000</td>\n    </tr>\n  </tbody>\n</table>\n</div>"
     },
     "metadata": {},
     "execution_count": 10
    }
   ],
   "source": [
    "y_target = DF_pca['target']\n",
    "X_features = DF_pca.drop('target', axis= 1)\n",
    "\n",
    "\n",
    "X_train, X_valid, y_train, y_valid = train_test_split(X_features, y_target, test_size =0.2, random_state=13, stratify= y_target)\n",
    "\n",
    "# 모델 객체 생성 \n",
    "lr_clf = LogisticRegression(random_state=13)\n",
    "dt_clf = DecisionTreeClassifier(random_state=13, max_depth=4)\n",
    "rf_clf = RandomForestClassifier(random_state=13, n_jobs = -1, n_estimators= 100 )\n",
    "lgbm_clf = LGBMClassifier(n_estimators=1000, num_leaves=64, n_jobs=-1, boost_from_average = False)\n",
    "svm_clf = LinearSVC()\n",
    "\n",
    "# 학습 진행 \n",
    "models=[lr_clf,dt_clf,rf_clf,lgbm_clf,svm_clf] \n",
    "model_names = ['LogiReg', 'DecisionTree', 'RandomFore','LGBM','SVC']\n",
    "results = get_result_df(models, model_names, X_train, y_train, X_valid, y_valid)\n",
    "results \n"
   ]
  },
  {
   "cell_type": "code",
   "execution_count": 11,
   "metadata": {},
   "outputs": [
    {
     "output_type": "execute_result",
     "data": {
      "text/plain": [
       "              Accuracy  precision    recall        f1       roc\n",
       "LogiReg       0.650233   0.005531  0.714286  0.010977  0.682172\n",
       "DecisionTree  0.477873   0.001490  0.285714  0.002965  0.382055\n",
       "RandomFore    0.782997   0.001805  0.142857  0.003565  0.463799\n",
       "LGBM          0.788820   0.003697  0.285714  0.007299  0.537953\n",
       "SVC           0.664596   0.005767  0.714286  0.011442  0.689373"
      ],
      "text/html": "<div>\n<style scoped>\n    .dataframe tbody tr th:only-of-type {\n        vertical-align: middle;\n    }\n\n    .dataframe tbody tr th {\n        vertical-align: top;\n    }\n\n    .dataframe thead th {\n        text-align: right;\n    }\n</style>\n<table border=\"1\" class=\"dataframe\">\n  <thead>\n    <tr style=\"text-align: right;\">\n      <th></th>\n      <th>Accuracy</th>\n      <th>precision</th>\n      <th>recall</th>\n      <th>f1</th>\n      <th>roc</th>\n    </tr>\n  </thead>\n  <tbody>\n    <tr>\n      <th>LogiReg</th>\n      <td>0.650233</td>\n      <td>0.005531</td>\n      <td>0.714286</td>\n      <td>0.010977</td>\n      <td>0.682172</td>\n    </tr>\n    <tr>\n      <th>DecisionTree</th>\n      <td>0.477873</td>\n      <td>0.001490</td>\n      <td>0.285714</td>\n      <td>0.002965</td>\n      <td>0.382055</td>\n    </tr>\n    <tr>\n      <th>RandomFore</th>\n      <td>0.782997</td>\n      <td>0.001805</td>\n      <td>0.142857</td>\n      <td>0.003565</td>\n      <td>0.463799</td>\n    </tr>\n    <tr>\n      <th>LGBM</th>\n      <td>0.788820</td>\n      <td>0.003697</td>\n      <td>0.285714</td>\n      <td>0.007299</td>\n      <td>0.537953</td>\n    </tr>\n    <tr>\n      <th>SVC</th>\n      <td>0.664596</td>\n      <td>0.005767</td>\n      <td>0.714286</td>\n      <td>0.011442</td>\n      <td>0.689373</td>\n    </tr>\n  </tbody>\n</table>\n</div>"
     },
     "metadata": {},
     "execution_count": 11
    }
   ],
   "source": [
    "# 복합 샘플링 적용 \n",
    "\n",
    "from imblearn.combine import SMOTEENN\n",
    "sme = SMOTEENN(random_state=13)\n",
    "X_train_sme, y_train_sme = sme.fit_sample(X_train, y_train)\n",
    "\n",
    "\n",
    "model_names = ['LogiReg', 'DecisionTree', 'RandomFore','LGBM','SVC']\n",
    "results = get_result_df(models, model_names, X_train_sme, y_train_sme, X_valid, y_valid)\n",
    "\n",
    "results"
   ]
  },
  {
   "cell_type": "code",
   "execution_count": 12,
   "metadata": {},
   "outputs": [],
   "source": [
    "# 테스트셋 적용 \n",
    "# PCA / ss \n",
    "\n",
    "df_test_scaled = scaler.transform(X_test)\n",
    "df_test_pca = pca.transform(df_test_scaled)\n",
    "\n",
    "pca_columns = ['component_1','component_2']\n",
    "\n",
    "DF_test_pca = pd.DataFrame(df_test_pca, columns=pca_columns)\n",
    "DF_test_pca['target'] = y_target \n",
    "DF_test_pca.tail()\n",
    "\n",
    "X_test_scaled = DF_test_pca.drop('target', axis=1)\n",
    "y_test_scaled = DF_test_pca['target']"
   ]
  },
  {
   "cell_type": "code",
   "execution_count": 13,
   "metadata": {},
   "outputs": [],
   "source": [
    "# 다수의 모델 테스트 성능 비교 함수 \n",
    "\n",
    "def get_test_result(model, X_test_scaled, y_test_scaled):\n",
    "    pred = model.predict(X_test_scaled)\n",
    "    return get_clf_eval(y_test_scaled, pred)\n",
    "\n",
    "def get_test_df(models, model_names, X_test_scaled, y_test_scaled):\n",
    "    col_names = ['Accuracy', 'precision', 'recall', 'f1', 'roc']\n",
    "    tmp = []\n",
    "    for model in models:\n",
    "        tmp.append(get_test_result(model, X_test_scaled,y_test_scaled))\n",
    "    return pd.DataFrame(tmp, columns=col_names, index=model_names)\n"
   ]
  },
  {
   "cell_type": "code",
   "execution_count": 14,
   "metadata": {},
   "outputs": [
    {
     "output_type": "execute_result",
     "data": {
      "text/plain": [
       "              Accuracy  precision    recall        f1       roc\n",
       "LogiReg       0.453701   0.011641  0.740741  0.022923  0.595968\n",
       "DecisionTree  0.441205   0.006893  0.444444  0.013575  0.442810\n",
       "RandomFore    0.742711   0.006361  0.185185  0.012300  0.466381\n",
       "LGBM          0.755207   0.006693  0.185185  0.012920  0.472683\n",
       "SVC           0.467158   0.011350  0.703704  0.022340  0.584399"
      ],
      "text/html": "<div>\n<style scoped>\n    .dataframe tbody tr th:only-of-type {\n        vertical-align: middle;\n    }\n\n    .dataframe tbody tr th {\n        vertical-align: top;\n    }\n\n    .dataframe thead th {\n        text-align: right;\n    }\n</style>\n<table border=\"1\" class=\"dataframe\">\n  <thead>\n    <tr style=\"text-align: right;\">\n      <th></th>\n      <th>Accuracy</th>\n      <th>precision</th>\n      <th>recall</th>\n      <th>f1</th>\n      <th>roc</th>\n    </tr>\n  </thead>\n  <tbody>\n    <tr>\n      <th>LogiReg</th>\n      <td>0.453701</td>\n      <td>0.011641</td>\n      <td>0.740741</td>\n      <td>0.022923</td>\n      <td>0.595968</td>\n    </tr>\n    <tr>\n      <th>DecisionTree</th>\n      <td>0.441205</td>\n      <td>0.006893</td>\n      <td>0.444444</td>\n      <td>0.013575</td>\n      <td>0.442810</td>\n    </tr>\n    <tr>\n      <th>RandomFore</th>\n      <td>0.742711</td>\n      <td>0.006361</td>\n      <td>0.185185</td>\n      <td>0.012300</td>\n      <td>0.466381</td>\n    </tr>\n    <tr>\n      <th>LGBM</th>\n      <td>0.755207</td>\n      <td>0.006693</td>\n      <td>0.185185</td>\n      <td>0.012920</td>\n      <td>0.472683</td>\n    </tr>\n    <tr>\n      <th>SVC</th>\n      <td>0.467158</td>\n      <td>0.011350</td>\n      <td>0.703704</td>\n      <td>0.022340</td>\n      <td>0.584399</td>\n    </tr>\n  </tbody>\n</table>\n</div>"
     },
     "metadata": {},
     "execution_count": 14
    }
   ],
   "source": [
    "# 테스트 셋 모델 적용 \n",
    "\n",
    "models=[lr_clf,dt_clf,rf_clf,lgbm_clf,svm_clf] \n",
    "model_names = ['LogiReg', 'DecisionTree', 'RandomFore','LGBM','SVC']\n",
    "results = get_test_df(models,model_names, X_test_scaled, y_test_scaled)\n",
    "results "
   ]
  },
  {
   "source": [
    "## Trial #2\n",
    "## ssscale / pca(n=2) / smote-tomek"
   ],
   "cell_type": "markdown",
   "metadata": {}
  },
  {
   "cell_type": "code",
   "execution_count": 15,
   "metadata": {},
   "outputs": [],
   "source": [
    "df_2 = df.copy()\n",
    "\n",
    "y_target = df_2['fraud_YN']\n",
    "X_features = df_2.drop('fraud_YN', axis = 1)\n",
    "\n",
    "y_target = df_2['fraud_YN'].reset_index()\n",
    "y_target = y_target.drop('index', axis=1)"
   ]
  },
  {
   "cell_type": "code",
   "execution_count": 16,
   "metadata": {},
   "outputs": [
    {
     "output_type": "execute_result",
     "data": {
      "text/plain": [
       "       component_1  component_2  target\n",
       "12874    -0.900405    -0.060917       0\n",
       "12875    -1.223357     1.348270       0\n",
       "12876    -0.676330     0.384071       0\n",
       "12877    -1.383707     0.658953       0\n",
       "12878    -1.286992    -1.024010       0"
      ],
      "text/html": "<div>\n<style scoped>\n    .dataframe tbody tr th:only-of-type {\n        vertical-align: middle;\n    }\n\n    .dataframe tbody tr th {\n        vertical-align: top;\n    }\n\n    .dataframe thead th {\n        text-align: right;\n    }\n</style>\n<table border=\"1\" class=\"dataframe\">\n  <thead>\n    <tr style=\"text-align: right;\">\n      <th></th>\n      <th>component_1</th>\n      <th>component_2</th>\n      <th>target</th>\n    </tr>\n  </thead>\n  <tbody>\n    <tr>\n      <th>12874</th>\n      <td>-0.900405</td>\n      <td>-0.060917</td>\n      <td>0</td>\n    </tr>\n    <tr>\n      <th>12875</th>\n      <td>-1.223357</td>\n      <td>1.348270</td>\n      <td>0</td>\n    </tr>\n    <tr>\n      <th>12876</th>\n      <td>-0.676330</td>\n      <td>0.384071</td>\n      <td>0</td>\n    </tr>\n    <tr>\n      <th>12877</th>\n      <td>-1.383707</td>\n      <td>0.658953</td>\n      <td>0</td>\n    </tr>\n    <tr>\n      <th>12878</th>\n      <td>-1.286992</td>\n      <td>-1.024010</td>\n      <td>0</td>\n    </tr>\n  </tbody>\n</table>\n</div>"
     },
     "metadata": {},
     "execution_count": 16
    }
   ],
   "source": [
    "from sklearn.decomposition import PCA\n",
    "from sklearn.preprocessing import StandardScaler\n",
    "\n",
    "scaler = StandardScaler()\n",
    "df_scaled = scaler.fit_transform(X_features)\n",
    "\n",
    "pca = PCA(n_components=2)\n",
    "pca.fit(df_scaled)\n",
    "df_pca = pca.transform(df_scaled)\n",
    "\n",
    "pca_columns = ['component_1','component_2']\n",
    "\n",
    "DF_pca = pd.DataFrame(df_pca, columns=pca_columns)\n",
    "DF_pca['target'] = y_target \n",
    "DF_pca.tail()\n"
   ]
  },
  {
   "cell_type": "code",
   "execution_count": 17,
   "metadata": {},
   "outputs": [
    {
     "output_type": "execute_result",
     "data": {
      "text/plain": [
       "              Accuracy  precision  recall   f1       roc\n",
       "LogiReg       0.997283        0.0     0.0  0.0  0.500000\n",
       "DecisionTree  0.996506        0.0     0.0  0.0  0.499611\n",
       "RandomFore    0.996894        0.0     0.0  0.0  0.499805\n",
       "LGBM          0.994953        0.0     0.0  0.0  0.498832\n",
       "SVC           0.997283        0.0     0.0  0.0  0.500000"
      ],
      "text/html": "<div>\n<style scoped>\n    .dataframe tbody tr th:only-of-type {\n        vertical-align: middle;\n    }\n\n    .dataframe tbody tr th {\n        vertical-align: top;\n    }\n\n    .dataframe thead th {\n        text-align: right;\n    }\n</style>\n<table border=\"1\" class=\"dataframe\">\n  <thead>\n    <tr style=\"text-align: right;\">\n      <th></th>\n      <th>Accuracy</th>\n      <th>precision</th>\n      <th>recall</th>\n      <th>f1</th>\n      <th>roc</th>\n    </tr>\n  </thead>\n  <tbody>\n    <tr>\n      <th>LogiReg</th>\n      <td>0.997283</td>\n      <td>0.0</td>\n      <td>0.0</td>\n      <td>0.0</td>\n      <td>0.500000</td>\n    </tr>\n    <tr>\n      <th>DecisionTree</th>\n      <td>0.996506</td>\n      <td>0.0</td>\n      <td>0.0</td>\n      <td>0.0</td>\n      <td>0.499611</td>\n    </tr>\n    <tr>\n      <th>RandomFore</th>\n      <td>0.996894</td>\n      <td>0.0</td>\n      <td>0.0</td>\n      <td>0.0</td>\n      <td>0.499805</td>\n    </tr>\n    <tr>\n      <th>LGBM</th>\n      <td>0.994953</td>\n      <td>0.0</td>\n      <td>0.0</td>\n      <td>0.0</td>\n      <td>0.498832</td>\n    </tr>\n    <tr>\n      <th>SVC</th>\n      <td>0.997283</td>\n      <td>0.0</td>\n      <td>0.0</td>\n      <td>0.0</td>\n      <td>0.500000</td>\n    </tr>\n  </tbody>\n</table>\n</div>"
     },
     "metadata": {},
     "execution_count": 17
    }
   ],
   "source": [
    "y_target = DF_pca['target']\n",
    "X_features = DF_pca.drop('target', axis= 1)\n",
    "\n",
    "\n",
    "X_train, X_valid, y_train, y_valid = train_test_split(X_features, y_target, test_size =0.2, random_state=13, stratify= y_target)\n",
    "\n",
    "# 모델 객체 생성 \n",
    "lr_clf = LogisticRegression(random_state=13)\n",
    "dt_clf = DecisionTreeClassifier(random_state=13, max_depth=4)\n",
    "rf_clf = RandomForestClassifier(random_state=13, n_jobs = -1, n_estimators= 100 )\n",
    "lgbm_clf = LGBMClassifier(n_estimators=1000, num_leaves=64, n_jobs=-1, boost_from_average = False)\n",
    "svm_clf = LinearSVC()\n",
    "\n",
    "# 학습 진행 \n",
    "models=[lr_clf,dt_clf,rf_clf,lgbm_clf,svm_clf] \n",
    "model_names = ['LogiReg', 'DecisionTree', 'RandomFore','LGBM','SVC']\n",
    "results = get_result_df(models, model_names, X_train, y_train, X_valid, y_valid)\n",
    "\n",
    "results \n"
   ]
  },
  {
   "cell_type": "code",
   "execution_count": 18,
   "metadata": {},
   "outputs": [
    {
     "output_type": "execute_result",
     "data": {
      "text/plain": [
       "              Accuracy  precision    recall        f1       roc\n",
       "LogiReg       0.687500   0.006188  0.714286  0.012270  0.700856\n",
       "DecisionTree  0.478261   0.001491  0.285714  0.002967  0.382250\n",
       "RandomFore    0.825311   0.004474  0.285714  0.008811  0.556248\n",
       "LGBM          0.833851   0.007026  0.428571  0.013825  0.631763\n",
       "SVC           0.698758   0.006418  0.714286  0.012723  0.706501"
      ],
      "text/html": "<div>\n<style scoped>\n    .dataframe tbody tr th:only-of-type {\n        vertical-align: middle;\n    }\n\n    .dataframe tbody tr th {\n        vertical-align: top;\n    }\n\n    .dataframe thead th {\n        text-align: right;\n    }\n</style>\n<table border=\"1\" class=\"dataframe\">\n  <thead>\n    <tr style=\"text-align: right;\">\n      <th></th>\n      <th>Accuracy</th>\n      <th>precision</th>\n      <th>recall</th>\n      <th>f1</th>\n      <th>roc</th>\n    </tr>\n  </thead>\n  <tbody>\n    <tr>\n      <th>LogiReg</th>\n      <td>0.687500</td>\n      <td>0.006188</td>\n      <td>0.714286</td>\n      <td>0.012270</td>\n      <td>0.700856</td>\n    </tr>\n    <tr>\n      <th>DecisionTree</th>\n      <td>0.478261</td>\n      <td>0.001491</td>\n      <td>0.285714</td>\n      <td>0.002967</td>\n      <td>0.382250</td>\n    </tr>\n    <tr>\n      <th>RandomFore</th>\n      <td>0.825311</td>\n      <td>0.004474</td>\n      <td>0.285714</td>\n      <td>0.008811</td>\n      <td>0.556248</td>\n    </tr>\n    <tr>\n      <th>LGBM</th>\n      <td>0.833851</td>\n      <td>0.007026</td>\n      <td>0.428571</td>\n      <td>0.013825</td>\n      <td>0.631763</td>\n    </tr>\n    <tr>\n      <th>SVC</th>\n      <td>0.698758</td>\n      <td>0.006418</td>\n      <td>0.714286</td>\n      <td>0.012723</td>\n      <td>0.706501</td>\n    </tr>\n  </tbody>\n</table>\n</div>"
     },
     "metadata": {},
     "execution_count": 18
    }
   ],
   "source": [
    "# 복합 샘플링 적용 \n",
    "\n",
    "from imblearn.combine import SMOTETomek\n",
    "tmk = SMOTETomek(random_state=13)\n",
    "X_train_tmk, y_train_tmk = tmk.fit_sample(X_train, y_train)\n",
    "\n",
    "\n",
    "model_names = ['LogiReg', 'DecisionTree', 'RandomFore','LGBM','SVC']\n",
    "results = get_result_df(models, model_names, X_train_tmk, y_train_tmk, X_valid, y_valid)\n",
    "\n",
    "results"
   ]
  },
  {
   "cell_type": "code",
   "execution_count": 19,
   "metadata": {},
   "outputs": [],
   "source": [
    "# 테스트셋 적용 \n",
    "# PCA / ss \n",
    "\n",
    "df_test_scaled = scaler.transform(X_test)\n",
    "df_test_pca = pca.transform(df_test_scaled)\n",
    "\n",
    "pca_columns = ['component_1','component_2']\n",
    "\n",
    "DF_test_pca = pd.DataFrame(df_test_pca, columns=pca_columns)\n",
    "DF_test_pca['target'] = y_target \n",
    "DF_test_pca.tail()\n",
    "\n",
    "X_test_scaled = DF_test_pca.drop('target', axis=1)\n",
    "y_test_scaled = DF_test_pca['target']"
   ]
  },
  {
   "cell_type": "code",
   "execution_count": 20,
   "metadata": {},
   "outputs": [
    {
     "output_type": "execute_result",
     "data": {
      "text/plain": [
       "              Accuracy  precision    recall        f1       roc\n",
       "LogiReg       0.493111   0.010699  0.629630  0.021040  0.560775\n",
       "DecisionTree  0.446331   0.006384  0.407407  0.012571  0.427039\n",
       "RandomFore    0.799423   0.006590  0.148148  0.012618  0.476627\n",
       "LGBM          0.807434   0.008562  0.185185  0.016367  0.499024\n",
       "SVC           0.497597   0.011414  0.666667  0.022444  0.581394"
      ],
      "text/html": "<div>\n<style scoped>\n    .dataframe tbody tr th:only-of-type {\n        vertical-align: middle;\n    }\n\n    .dataframe tbody tr th {\n        vertical-align: top;\n    }\n\n    .dataframe thead th {\n        text-align: right;\n    }\n</style>\n<table border=\"1\" class=\"dataframe\">\n  <thead>\n    <tr style=\"text-align: right;\">\n      <th></th>\n      <th>Accuracy</th>\n      <th>precision</th>\n      <th>recall</th>\n      <th>f1</th>\n      <th>roc</th>\n    </tr>\n  </thead>\n  <tbody>\n    <tr>\n      <th>LogiReg</th>\n      <td>0.493111</td>\n      <td>0.010699</td>\n      <td>0.629630</td>\n      <td>0.021040</td>\n      <td>0.560775</td>\n    </tr>\n    <tr>\n      <th>DecisionTree</th>\n      <td>0.446331</td>\n      <td>0.006384</td>\n      <td>0.407407</td>\n      <td>0.012571</td>\n      <td>0.427039</td>\n    </tr>\n    <tr>\n      <th>RandomFore</th>\n      <td>0.799423</td>\n      <td>0.006590</td>\n      <td>0.148148</td>\n      <td>0.012618</td>\n      <td>0.476627</td>\n    </tr>\n    <tr>\n      <th>LGBM</th>\n      <td>0.807434</td>\n      <td>0.008562</td>\n      <td>0.185185</td>\n      <td>0.016367</td>\n      <td>0.499024</td>\n    </tr>\n    <tr>\n      <th>SVC</th>\n      <td>0.497597</td>\n      <td>0.011414</td>\n      <td>0.666667</td>\n      <td>0.022444</td>\n      <td>0.581394</td>\n    </tr>\n  </tbody>\n</table>\n</div>"
     },
     "metadata": {},
     "execution_count": 20
    }
   ],
   "source": [
    "# 테스트 셋 모델 적용 \n",
    "\n",
    "models=[lr_clf,dt_clf,rf_clf,lgbm_clf,svm_clf] \n",
    "model_names = ['LogiReg', 'DecisionTree', 'RandomFore','LGBM','SVC']\n",
    "results = get_test_df(models,model_names, X_test_scaled, y_test_scaled)\n",
    "results "
   ]
  },
  {
   "source": [
    "## Trial #3\n",
    "## ssscale / pca(n=3) / smoteenn"
   ],
   "cell_type": "markdown",
   "metadata": {}
  },
  {
   "cell_type": "code",
   "execution_count": 21,
   "metadata": {},
   "outputs": [],
   "source": [
    "df_3 = df.copy()\n",
    "\n",
    "y_target = df_3['fraud_YN']\n",
    "X_features = df_3.drop('fraud_YN', axis=1)\n",
    "\n",
    "y_target = df_3['fraud_YN'].reset_index()\n",
    "y_target = y_target.drop('index', axis=1)"
   ]
  },
  {
   "cell_type": "code",
   "execution_count": 22,
   "metadata": {},
   "outputs": [
    {
     "output_type": "execute_result",
     "data": {
      "text/plain": [
       "       component_1  component_2  component_3  target\n",
       "12874    -0.900491    -0.045188     1.060802       0\n",
       "12875    -1.223137     1.336833     0.032581       0\n",
       "12876    -0.676498     0.361288     1.549271       0\n",
       "12877    -1.382150     0.629489    -0.848013       0\n",
       "12878    -1.287963    -1.011051    -1.559397       0"
      ],
      "text/html": "<div>\n<style scoped>\n    .dataframe tbody tr th:only-of-type {\n        vertical-align: middle;\n    }\n\n    .dataframe tbody tr th {\n        vertical-align: top;\n    }\n\n    .dataframe thead th {\n        text-align: right;\n    }\n</style>\n<table border=\"1\" class=\"dataframe\">\n  <thead>\n    <tr style=\"text-align: right;\">\n      <th></th>\n      <th>component_1</th>\n      <th>component_2</th>\n      <th>component_3</th>\n      <th>target</th>\n    </tr>\n  </thead>\n  <tbody>\n    <tr>\n      <th>12874</th>\n      <td>-0.900491</td>\n      <td>-0.045188</td>\n      <td>1.060802</td>\n      <td>0</td>\n    </tr>\n    <tr>\n      <th>12875</th>\n      <td>-1.223137</td>\n      <td>1.336833</td>\n      <td>0.032581</td>\n      <td>0</td>\n    </tr>\n    <tr>\n      <th>12876</th>\n      <td>-0.676498</td>\n      <td>0.361288</td>\n      <td>1.549271</td>\n      <td>0</td>\n    </tr>\n    <tr>\n      <th>12877</th>\n      <td>-1.382150</td>\n      <td>0.629489</td>\n      <td>-0.848013</td>\n      <td>0</td>\n    </tr>\n    <tr>\n      <th>12878</th>\n      <td>-1.287963</td>\n      <td>-1.011051</td>\n      <td>-1.559397</td>\n      <td>0</td>\n    </tr>\n  </tbody>\n</table>\n</div>"
     },
     "metadata": {},
     "execution_count": 22
    }
   ],
   "source": [
    "from sklearn.decomposition import PCA\n",
    "from sklearn.preprocessing import StandardScaler\n",
    "\n",
    "scaler = StandardScaler()\n",
    "df_scaled = scaler.fit_transform(X_features)\n",
    "\n",
    "pca = PCA(n_components=3)\n",
    "pca.fit(df_scaled)\n",
    "df_pca = pca.transform(df_scaled)\n",
    "\n",
    "pca_columns = ['component_1','component_2','component_3']\n",
    "\n",
    "DF_pca = pd.DataFrame(df_pca, columns=pca_columns)\n",
    "DF_pca['target'] = y_target \n",
    "DF_pca.tail()"
   ]
  },
  {
   "cell_type": "code",
   "execution_count": 23,
   "metadata": {},
   "outputs": [
    {
     "output_type": "execute_result",
     "data": {
      "text/plain": [
       "              Accuracy  precision  recall   f1       roc\n",
       "LogiReg       0.997283        0.0     0.0  0.0  0.500000\n",
       "DecisionTree  0.995342        0.0     0.0  0.0  0.499027\n",
       "RandomFore    0.997283        0.0     0.0  0.0  0.500000\n",
       "LGBM          0.997283        0.0     0.0  0.0  0.500000\n",
       "SVC           0.997283        0.0     0.0  0.0  0.500000"
      ],
      "text/html": "<div>\n<style scoped>\n    .dataframe tbody tr th:only-of-type {\n        vertical-align: middle;\n    }\n\n    .dataframe tbody tr th {\n        vertical-align: top;\n    }\n\n    .dataframe thead th {\n        text-align: right;\n    }\n</style>\n<table border=\"1\" class=\"dataframe\">\n  <thead>\n    <tr style=\"text-align: right;\">\n      <th></th>\n      <th>Accuracy</th>\n      <th>precision</th>\n      <th>recall</th>\n      <th>f1</th>\n      <th>roc</th>\n    </tr>\n  </thead>\n  <tbody>\n    <tr>\n      <th>LogiReg</th>\n      <td>0.997283</td>\n      <td>0.0</td>\n      <td>0.0</td>\n      <td>0.0</td>\n      <td>0.500000</td>\n    </tr>\n    <tr>\n      <th>DecisionTree</th>\n      <td>0.995342</td>\n      <td>0.0</td>\n      <td>0.0</td>\n      <td>0.0</td>\n      <td>0.499027</td>\n    </tr>\n    <tr>\n      <th>RandomFore</th>\n      <td>0.997283</td>\n      <td>0.0</td>\n      <td>0.0</td>\n      <td>0.0</td>\n      <td>0.500000</td>\n    </tr>\n    <tr>\n      <th>LGBM</th>\n      <td>0.997283</td>\n      <td>0.0</td>\n      <td>0.0</td>\n      <td>0.0</td>\n      <td>0.500000</td>\n    </tr>\n    <tr>\n      <th>SVC</th>\n      <td>0.997283</td>\n      <td>0.0</td>\n      <td>0.0</td>\n      <td>0.0</td>\n      <td>0.500000</td>\n    </tr>\n  </tbody>\n</table>\n</div>"
     },
     "metadata": {},
     "execution_count": 23
    }
   ],
   "source": [
    "y_target = DF_pca['target']\n",
    "X_features = DF_pca.drop('target', axis= 1)\n",
    "\n",
    "\n",
    "X_train, X_valid, y_train, y_valid = train_test_split(X_features, y_target, test_size =0.2, random_state=13, stratify= y_target)\n",
    "\n",
    "# 모델 객체 생성 \n",
    "lr_clf = LogisticRegression(random_state=13)\n",
    "dt_clf = DecisionTreeClassifier(random_state=13, max_depth=4)\n",
    "rf_clf = RandomForestClassifier(random_state=13, n_jobs = -1, n_estimators= 100 )\n",
    "lgbm_clf = LGBMClassifier(n_estimators=1000, num_leaves=64, n_jobs=-1, boost_from_average = False)\n",
    "svm_clf = LinearSVC()\n",
    "\n",
    "# 학습 진행 \n",
    "models=[lr_clf,dt_clf,rf_clf,lgbm_clf,svm_clf] \n",
    "model_names = ['LogiReg', 'DecisionTree', 'RandomFore','LGBM','SVC']\n",
    "results = get_result_df(models, model_names, X_train, y_train, X_valid, y_valid)\n",
    "results \n"
   ]
  },
  {
   "cell_type": "code",
   "execution_count": 24,
   "metadata": {},
   "outputs": [
    {
     "output_type": "execute_result",
     "data": {
      "text/plain": [
       "              Accuracy  precision    recall        f1       roc\n",
       "LogiReg       0.618012   0.005066  0.714286  0.010060  0.666018\n",
       "DecisionTree  0.494953   0.002308  0.428571  0.004591  0.461853\n",
       "RandomFore    0.911491   0.008889  0.285714  0.017241  0.599455\n",
       "LGBM          0.910714   0.008811  0.285714  0.017094  0.599066\n",
       "SVC           0.630823   0.005241  0.714286  0.010406  0.672441"
      ],
      "text/html": "<div>\n<style scoped>\n    .dataframe tbody tr th:only-of-type {\n        vertical-align: middle;\n    }\n\n    .dataframe tbody tr th {\n        vertical-align: top;\n    }\n\n    .dataframe thead th {\n        text-align: right;\n    }\n</style>\n<table border=\"1\" class=\"dataframe\">\n  <thead>\n    <tr style=\"text-align: right;\">\n      <th></th>\n      <th>Accuracy</th>\n      <th>precision</th>\n      <th>recall</th>\n      <th>f1</th>\n      <th>roc</th>\n    </tr>\n  </thead>\n  <tbody>\n    <tr>\n      <th>LogiReg</th>\n      <td>0.618012</td>\n      <td>0.005066</td>\n      <td>0.714286</td>\n      <td>0.010060</td>\n      <td>0.666018</td>\n    </tr>\n    <tr>\n      <th>DecisionTree</th>\n      <td>0.494953</td>\n      <td>0.002308</td>\n      <td>0.428571</td>\n      <td>0.004591</td>\n      <td>0.461853</td>\n    </tr>\n    <tr>\n      <th>RandomFore</th>\n      <td>0.911491</td>\n      <td>0.008889</td>\n      <td>0.285714</td>\n      <td>0.017241</td>\n      <td>0.599455</td>\n    </tr>\n    <tr>\n      <th>LGBM</th>\n      <td>0.910714</td>\n      <td>0.008811</td>\n      <td>0.285714</td>\n      <td>0.017094</td>\n      <td>0.599066</td>\n    </tr>\n    <tr>\n      <th>SVC</th>\n      <td>0.630823</td>\n      <td>0.005241</td>\n      <td>0.714286</td>\n      <td>0.010406</td>\n      <td>0.672441</td>\n    </tr>\n  </tbody>\n</table>\n</div>"
     },
     "metadata": {},
     "execution_count": 24
    }
   ],
   "source": [
    "# 복합 샘플링 적용 \n",
    "\n",
    "from imblearn.combine import SMOTEENN\n",
    "sme = SMOTEENN(random_state=13)\n",
    "X_train_sme, y_train_sme = sme.fit_sample(X_train, y_train)\n",
    "\n",
    "\n",
    "model_names = ['LogiReg', 'DecisionTree', 'RandomFore','LGBM','SVC']\n",
    "results = get_result_df(models, model_names, X_train_sme, y_train_sme, X_valid, y_valid)\n",
    "\n",
    "results"
   ]
  },
  {
   "cell_type": "code",
   "execution_count": 25,
   "metadata": {},
   "outputs": [],
   "source": [
    "# 테스트셋 적용 \n",
    "# PCA / ss \n",
    "\n",
    "df_test_scaled = scaler.transform(X_test)\n",
    "df_test_pca = pca.transform(df_test_scaled)\n",
    "\n",
    "pca_columns = ['component_1','component_2','component_3']\n",
    "\n",
    "DF_test_pca = pd.DataFrame(df_test_pca, columns=pca_columns)\n",
    "DF_test_pca['target'] = y_target \n",
    "DF_test_pca.tail()\n",
    "\n",
    "X_test_scaled = DF_test_pca.drop('target', axis=1)\n",
    "y_test_scaled = DF_test_pca['target']"
   ]
  },
  {
   "cell_type": "code",
   "execution_count": 26,
   "metadata": {},
   "outputs": [
    {
     "output_type": "execute_result",
     "data": {
      "text/plain": [
       "              Accuracy  precision    recall        f1       roc\n",
       "LogiReg       0.495674   0.009512  0.555556  0.018703  0.525354\n",
       "DecisionTree  0.522909   0.005413  0.296296  0.010631  0.410592\n",
       "RandomFore    0.900673   0.006969  0.074074  0.012739  0.490980\n",
       "LGBM          0.899071   0.003448  0.037037  0.006309  0.471815\n",
       "SVC           0.497917   0.008929  0.518519  0.017555  0.508128"
      ],
      "text/html": "<div>\n<style scoped>\n    .dataframe tbody tr th:only-of-type {\n        vertical-align: middle;\n    }\n\n    .dataframe tbody tr th {\n        vertical-align: top;\n    }\n\n    .dataframe thead th {\n        text-align: right;\n    }\n</style>\n<table border=\"1\" class=\"dataframe\">\n  <thead>\n    <tr style=\"text-align: right;\">\n      <th></th>\n      <th>Accuracy</th>\n      <th>precision</th>\n      <th>recall</th>\n      <th>f1</th>\n      <th>roc</th>\n    </tr>\n  </thead>\n  <tbody>\n    <tr>\n      <th>LogiReg</th>\n      <td>0.495674</td>\n      <td>0.009512</td>\n      <td>0.555556</td>\n      <td>0.018703</td>\n      <td>0.525354</td>\n    </tr>\n    <tr>\n      <th>DecisionTree</th>\n      <td>0.522909</td>\n      <td>0.005413</td>\n      <td>0.296296</td>\n      <td>0.010631</td>\n      <td>0.410592</td>\n    </tr>\n    <tr>\n      <th>RandomFore</th>\n      <td>0.900673</td>\n      <td>0.006969</td>\n      <td>0.074074</td>\n      <td>0.012739</td>\n      <td>0.490980</td>\n    </tr>\n    <tr>\n      <th>LGBM</th>\n      <td>0.899071</td>\n      <td>0.003448</td>\n      <td>0.037037</td>\n      <td>0.006309</td>\n      <td>0.471815</td>\n    </tr>\n    <tr>\n      <th>SVC</th>\n      <td>0.497917</td>\n      <td>0.008929</td>\n      <td>0.518519</td>\n      <td>0.017555</td>\n      <td>0.508128</td>\n    </tr>\n  </tbody>\n</table>\n</div>"
     },
     "metadata": {},
     "execution_count": 26
    }
   ],
   "source": [
    "# 테스트 셋 모델 적용 \n",
    "\n",
    "models=[lr_clf,dt_clf,rf_clf,lgbm_clf,svm_clf] \n",
    "model_names = ['LogiReg', 'DecisionTree', 'RandomFore','LGBM','SVC']\n",
    "results = get_test_df(models,model_names, X_test_scaled, y_test_scaled)\n",
    "results "
   ]
  },
  {
   "source": [
    "## Trial #4\n",
    "## ssscale / pca(n=3) / smote-tomek"
   ],
   "cell_type": "markdown",
   "metadata": {}
  },
  {
   "cell_type": "code",
   "execution_count": 27,
   "metadata": {},
   "outputs": [],
   "source": [
    "df_4 = df.copy()\n",
    "\n",
    "y_target = df_4['fraud_YN']\n",
    "X_features = df_4.drop('fraud_YN', axis=1)\n",
    "\n",
    "y_target = df_4['fraud_YN'].reset_index()\n",
    "y_target = y_target.drop('index', axis=1)"
   ]
  },
  {
   "cell_type": "code",
   "execution_count": 28,
   "metadata": {},
   "outputs": [
    {
     "output_type": "execute_result",
     "data": {
      "text/plain": [
       "       component_1  component_2  component_3  target\n",
       "12874    -0.900546    -0.054369     1.033132       0\n",
       "12875    -1.223094     1.348247     0.040208       0\n",
       "12876    -0.676095     0.382813     1.497658       0\n",
       "12877    -1.383486     0.656945    -0.858279       0\n",
       "12878    -1.287146    -1.025008    -1.597878       0"
      ],
      "text/html": "<div>\n<style scoped>\n    .dataframe tbody tr th:only-of-type {\n        vertical-align: middle;\n    }\n\n    .dataframe tbody tr th {\n        vertical-align: top;\n    }\n\n    .dataframe thead th {\n        text-align: right;\n    }\n</style>\n<table border=\"1\" class=\"dataframe\">\n  <thead>\n    <tr style=\"text-align: right;\">\n      <th></th>\n      <th>component_1</th>\n      <th>component_2</th>\n      <th>component_3</th>\n      <th>target</th>\n    </tr>\n  </thead>\n  <tbody>\n    <tr>\n      <th>12874</th>\n      <td>-0.900546</td>\n      <td>-0.054369</td>\n      <td>1.033132</td>\n      <td>0</td>\n    </tr>\n    <tr>\n      <th>12875</th>\n      <td>-1.223094</td>\n      <td>1.348247</td>\n      <td>0.040208</td>\n      <td>0</td>\n    </tr>\n    <tr>\n      <th>12876</th>\n      <td>-0.676095</td>\n      <td>0.382813</td>\n      <td>1.497658</td>\n      <td>0</td>\n    </tr>\n    <tr>\n      <th>12877</th>\n      <td>-1.383486</td>\n      <td>0.656945</td>\n      <td>-0.858279</td>\n      <td>0</td>\n    </tr>\n    <tr>\n      <th>12878</th>\n      <td>-1.287146</td>\n      <td>-1.025008</td>\n      <td>-1.597878</td>\n      <td>0</td>\n    </tr>\n  </tbody>\n</table>\n</div>"
     },
     "metadata": {},
     "execution_count": 28
    }
   ],
   "source": [
    "from sklearn.decomposition import PCA\n",
    "from sklearn.preprocessing import StandardScaler\n",
    "\n",
    "scaler = StandardScaler()\n",
    "df_scaled = scaler.fit_transform(X_features)\n",
    "\n",
    "pca = PCA(n_components=3)\n",
    "pca.fit(df_scaled)\n",
    "df_pca = pca.transform(df_scaled)\n",
    "\n",
    "pca_columns = ['component_1','component_2','component_3']\n",
    "\n",
    "DF_pca = pd.DataFrame(df_pca, columns=pca_columns)\n",
    "DF_pca['target'] = y_target \n",
    "DF_pca.tail()"
   ]
  },
  {
   "cell_type": "code",
   "execution_count": 29,
   "metadata": {},
   "outputs": [
    {
     "output_type": "execute_result",
     "data": {
      "text/plain": [
       "              Accuracy  precision  recall   f1       roc\n",
       "LogiReg       0.997283        0.0     0.0  0.0  0.500000\n",
       "DecisionTree  0.996894        0.0     0.0  0.0  0.499805\n",
       "RandomFore    0.997283        0.0     0.0  0.0  0.500000\n",
       "LGBM          0.997283        0.0     0.0  0.0  0.500000\n",
       "SVC           0.997283        0.0     0.0  0.0  0.500000"
      ],
      "text/html": "<div>\n<style scoped>\n    .dataframe tbody tr th:only-of-type {\n        vertical-align: middle;\n    }\n\n    .dataframe tbody tr th {\n        vertical-align: top;\n    }\n\n    .dataframe thead th {\n        text-align: right;\n    }\n</style>\n<table border=\"1\" class=\"dataframe\">\n  <thead>\n    <tr style=\"text-align: right;\">\n      <th></th>\n      <th>Accuracy</th>\n      <th>precision</th>\n      <th>recall</th>\n      <th>f1</th>\n      <th>roc</th>\n    </tr>\n  </thead>\n  <tbody>\n    <tr>\n      <th>LogiReg</th>\n      <td>0.997283</td>\n      <td>0.0</td>\n      <td>0.0</td>\n      <td>0.0</td>\n      <td>0.500000</td>\n    </tr>\n    <tr>\n      <th>DecisionTree</th>\n      <td>0.996894</td>\n      <td>0.0</td>\n      <td>0.0</td>\n      <td>0.0</td>\n      <td>0.499805</td>\n    </tr>\n    <tr>\n      <th>RandomFore</th>\n      <td>0.997283</td>\n      <td>0.0</td>\n      <td>0.0</td>\n      <td>0.0</td>\n      <td>0.500000</td>\n    </tr>\n    <tr>\n      <th>LGBM</th>\n      <td>0.997283</td>\n      <td>0.0</td>\n      <td>0.0</td>\n      <td>0.0</td>\n      <td>0.500000</td>\n    </tr>\n    <tr>\n      <th>SVC</th>\n      <td>0.997283</td>\n      <td>0.0</td>\n      <td>0.0</td>\n      <td>0.0</td>\n      <td>0.500000</td>\n    </tr>\n  </tbody>\n</table>\n</div>"
     },
     "metadata": {},
     "execution_count": 29
    }
   ],
   "source": [
    "y_target = DF_pca['target']\n",
    "X_features = DF_pca.drop('target', axis= 1)\n",
    "\n",
    "\n",
    "X_train, X_valid, y_train, y_valid = train_test_split(X_features, y_target, test_size =0.2, random_state=13, stratify= y_target)\n",
    "\n",
    "# 모델 객체 생성 \n",
    "lr_clf = LogisticRegression(random_state=13)\n",
    "dt_clf = DecisionTreeClassifier(random_state=13, max_depth=4)\n",
    "rf_clf = RandomForestClassifier(random_state=13, n_jobs = -1, n_estimators= 100 )\n",
    "lgbm_clf = LGBMClassifier(n_estimators=1000, num_leaves=64, n_jobs=-1, boost_from_average = False)\n",
    "svm_clf = LinearSVC()\n",
    "\n",
    "# 학습 진행 \n",
    "models=[lr_clf,dt_clf,rf_clf,lgbm_clf,svm_clf] \n",
    "model_names = ['LogiReg', 'DecisionTree', 'RandomFore','LGBM','SVC']\n",
    "results = get_result_df(models, model_names, X_train, y_train, X_valid, y_valid)\n",
    "results \n"
   ]
  },
  {
   "cell_type": "code",
   "execution_count": 30,
   "metadata": {},
   "outputs": [
    {
     "output_type": "execute_result",
     "data": {
      "text/plain": [
       "              Accuracy  precision    recall        f1       roc\n",
       "LogiReg       0.677407   0.005995  0.714286  0.011891  0.695796\n",
       "DecisionTree  0.484860   0.003012  0.571429  0.005993  0.528026\n",
       "RandomFore    0.938276   0.006494  0.142857  0.012422  0.541650\n",
       "LGBM          0.942158   0.006944  0.142857  0.013245  0.543597\n",
       "SVC           0.683618   0.006112  0.714286  0.012121  0.698910"
      ],
      "text/html": "<div>\n<style scoped>\n    .dataframe tbody tr th:only-of-type {\n        vertical-align: middle;\n    }\n\n    .dataframe tbody tr th {\n        vertical-align: top;\n    }\n\n    .dataframe thead th {\n        text-align: right;\n    }\n</style>\n<table border=\"1\" class=\"dataframe\">\n  <thead>\n    <tr style=\"text-align: right;\">\n      <th></th>\n      <th>Accuracy</th>\n      <th>precision</th>\n      <th>recall</th>\n      <th>f1</th>\n      <th>roc</th>\n    </tr>\n  </thead>\n  <tbody>\n    <tr>\n      <th>LogiReg</th>\n      <td>0.677407</td>\n      <td>0.005995</td>\n      <td>0.714286</td>\n      <td>0.011891</td>\n      <td>0.695796</td>\n    </tr>\n    <tr>\n      <th>DecisionTree</th>\n      <td>0.484860</td>\n      <td>0.003012</td>\n      <td>0.571429</td>\n      <td>0.005993</td>\n      <td>0.528026</td>\n    </tr>\n    <tr>\n      <th>RandomFore</th>\n      <td>0.938276</td>\n      <td>0.006494</td>\n      <td>0.142857</td>\n      <td>0.012422</td>\n      <td>0.541650</td>\n    </tr>\n    <tr>\n      <th>LGBM</th>\n      <td>0.942158</td>\n      <td>0.006944</td>\n      <td>0.142857</td>\n      <td>0.013245</td>\n      <td>0.543597</td>\n    </tr>\n    <tr>\n      <th>SVC</th>\n      <td>0.683618</td>\n      <td>0.006112</td>\n      <td>0.714286</td>\n      <td>0.012121</td>\n      <td>0.698910</td>\n    </tr>\n  </tbody>\n</table>\n</div>"
     },
     "metadata": {},
     "execution_count": 30
    }
   ],
   "source": [
    "# 복합 샘플링 적용 \n",
    "\n",
    "from imblearn.combine import SMOTETomek\n",
    "tmk = SMOTETomek(random_state=13)\n",
    "X_train_tmk, y_train_tmk = tmk.fit_sample(X_train, y_train)\n",
    "\n",
    "\n",
    "model_names = ['LogiReg', 'DecisionTree', 'RandomFore','LGBM','SVC']\n",
    "results = get_result_df(models, model_names, X_train_tmk, y_train_tmk, X_valid, y_valid)\n",
    "\n",
    "results"
   ]
  },
  {
   "cell_type": "code",
   "execution_count": 31,
   "metadata": {},
   "outputs": [],
   "source": [
    "# 테스트셋 적용 \n",
    "# PCA / ss \n",
    "\n",
    "df_test_scaled = scaler.transform(X_test)\n",
    "df_test_pca = pca.transform(df_test_scaled)\n",
    "\n",
    "pca_columns = ['component_1','component_2', 'component_3']\n",
    "\n",
    "DF_test_pca = pd.DataFrame(df_test_pca, columns=pca_columns)\n",
    "DF_test_pca['target'] = y_target \n",
    "DF_test_pca.tail()\n",
    "\n",
    "X_test_scaled = DF_test_pca.drop('target', axis=1)\n",
    "y_test_scaled = DF_test_pca['target']"
   ]
  },
  {
   "cell_type": "code",
   "execution_count": 32,
   "metadata": {},
   "outputs": [
    {
     "output_type": "execute_result",
     "data": {
      "text/plain": [
       "              Accuracy  precision    recall        f1       roc\n",
       "LogiReg       0.553989   0.009346  0.481481  0.018336  0.518052\n",
       "DecisionTree  0.508811   0.005256  0.296296  0.010329  0.403481\n",
       "RandomFore    0.935918   0.005714  0.037037  0.009901  0.490400\n",
       "LGBM          0.935598   0.000000  0.000000  0.000000  0.471881\n",
       "SVC           0.555912   0.010094  0.518519  0.019802  0.537378"
      ],
      "text/html": "<div>\n<style scoped>\n    .dataframe tbody tr th:only-of-type {\n        vertical-align: middle;\n    }\n\n    .dataframe tbody tr th {\n        vertical-align: top;\n    }\n\n    .dataframe thead th {\n        text-align: right;\n    }\n</style>\n<table border=\"1\" class=\"dataframe\">\n  <thead>\n    <tr style=\"text-align: right;\">\n      <th></th>\n      <th>Accuracy</th>\n      <th>precision</th>\n      <th>recall</th>\n      <th>f1</th>\n      <th>roc</th>\n    </tr>\n  </thead>\n  <tbody>\n    <tr>\n      <th>LogiReg</th>\n      <td>0.553989</td>\n      <td>0.009346</td>\n      <td>0.481481</td>\n      <td>0.018336</td>\n      <td>0.518052</td>\n    </tr>\n    <tr>\n      <th>DecisionTree</th>\n      <td>0.508811</td>\n      <td>0.005256</td>\n      <td>0.296296</td>\n      <td>0.010329</td>\n      <td>0.403481</td>\n    </tr>\n    <tr>\n      <th>RandomFore</th>\n      <td>0.935918</td>\n      <td>0.005714</td>\n      <td>0.037037</td>\n      <td>0.009901</td>\n      <td>0.490400</td>\n    </tr>\n    <tr>\n      <th>LGBM</th>\n      <td>0.935598</td>\n      <td>0.000000</td>\n      <td>0.000000</td>\n      <td>0.000000</td>\n      <td>0.471881</td>\n    </tr>\n    <tr>\n      <th>SVC</th>\n      <td>0.555912</td>\n      <td>0.010094</td>\n      <td>0.518519</td>\n      <td>0.019802</td>\n      <td>0.537378</td>\n    </tr>\n  </tbody>\n</table>\n</div>"
     },
     "metadata": {},
     "execution_count": 32
    }
   ],
   "source": [
    "# 테스트 셋 모델 적용 \n",
    "\n",
    "models=[lr_clf,dt_clf,rf_clf,lgbm_clf,svm_clf] \n",
    "model_names = ['LogiReg', 'DecisionTree', 'RandomFore','LGBM','SVC']\n",
    "results = get_test_df(models,model_names, X_test_scaled, y_test_scaled)\n",
    "results "
   ]
  },
  {
   "source": [
    "## Trial #5\n",
    "## robust / pca(n=2) / smoteenn"
   ],
   "cell_type": "markdown",
   "metadata": {}
  },
  {
   "cell_type": "code",
   "execution_count": 33,
   "metadata": {},
   "outputs": [],
   "source": [
    "df_5 = df.copy()\n",
    "\n",
    "y_target = df_5['fraud_YN']\n",
    "X_features = df_5.drop('fraud_YN', axis=1)\n",
    "\n",
    "y_target = df_5['fraud_YN'].reset_index()\n",
    "y_target = y_target.drop('index', axis=1)"
   ]
  },
  {
   "cell_type": "code",
   "execution_count": 34,
   "metadata": {},
   "outputs": [
    {
     "output_type": "execute_result",
     "data": {
      "text/plain": [
       "   component_1  component_2  target\n",
       "0   -10.878061    -1.681139       0\n",
       "1    89.088264    -0.446654       0\n",
       "2   -10.919831     0.595497       0\n",
       "3   -10.861503     0.626787       1\n",
       "4    89.146163    -0.591036       0"
      ],
      "text/html": "<div>\n<style scoped>\n    .dataframe tbody tr th:only-of-type {\n        vertical-align: middle;\n    }\n\n    .dataframe tbody tr th {\n        vertical-align: top;\n    }\n\n    .dataframe thead th {\n        text-align: right;\n    }\n</style>\n<table border=\"1\" class=\"dataframe\">\n  <thead>\n    <tr style=\"text-align: right;\">\n      <th></th>\n      <th>component_1</th>\n      <th>component_2</th>\n      <th>target</th>\n    </tr>\n  </thead>\n  <tbody>\n    <tr>\n      <th>0</th>\n      <td>-10.878061</td>\n      <td>-1.681139</td>\n      <td>0</td>\n    </tr>\n    <tr>\n      <th>1</th>\n      <td>89.088264</td>\n      <td>-0.446654</td>\n      <td>0</td>\n    </tr>\n    <tr>\n      <th>2</th>\n      <td>-10.919831</td>\n      <td>0.595497</td>\n      <td>0</td>\n    </tr>\n    <tr>\n      <th>3</th>\n      <td>-10.861503</td>\n      <td>0.626787</td>\n      <td>1</td>\n    </tr>\n    <tr>\n      <th>4</th>\n      <td>89.146163</td>\n      <td>-0.591036</td>\n      <td>0</td>\n    </tr>\n  </tbody>\n</table>\n</div>"
     },
     "metadata": {},
     "execution_count": 34
    }
   ],
   "source": [
    "from sklearn.decomposition import PCA\n",
    "from sklearn.preprocessing import RobustScaler\n",
    "\n",
    "scaler = RobustScaler()\n",
    "df_scaled = scaler.fit_transform(X_features)\n",
    "\n",
    "pca = PCA(n_components=2)\n",
    "pca.fit(df_scaled)\n",
    "df_pca = pca.transform(df_scaled)\n",
    "\n",
    "pca_columns = ['component_1','component_2']\n",
    "\n",
    "DF_pca = pd.DataFrame(df_pca, columns=pca_columns)\n",
    "DF_pca['target'] = y_target \n",
    "DF_pca.head()\n"
   ]
  },
  {
   "cell_type": "code",
   "execution_count": 35,
   "metadata": {},
   "outputs": [
    {
     "output_type": "execute_result",
     "data": {
      "text/plain": [
       "              Accuracy  precision  recall   f1       roc\n",
       "LogiReg       0.997283        0.0     0.0  0.0  0.500000\n",
       "DecisionTree  0.996894        0.0     0.0  0.0  0.499805\n",
       "RandomFore    0.997283        0.0     0.0  0.0  0.500000\n",
       "LGBM          0.996506        0.0     0.0  0.0  0.499611\n",
       "SVC           0.997283        0.0     0.0  0.0  0.500000"
      ],
      "text/html": "<div>\n<style scoped>\n    .dataframe tbody tr th:only-of-type {\n        vertical-align: middle;\n    }\n\n    .dataframe tbody tr th {\n        vertical-align: top;\n    }\n\n    .dataframe thead th {\n        text-align: right;\n    }\n</style>\n<table border=\"1\" class=\"dataframe\">\n  <thead>\n    <tr style=\"text-align: right;\">\n      <th></th>\n      <th>Accuracy</th>\n      <th>precision</th>\n      <th>recall</th>\n      <th>f1</th>\n      <th>roc</th>\n    </tr>\n  </thead>\n  <tbody>\n    <tr>\n      <th>LogiReg</th>\n      <td>0.997283</td>\n      <td>0.0</td>\n      <td>0.0</td>\n      <td>0.0</td>\n      <td>0.500000</td>\n    </tr>\n    <tr>\n      <th>DecisionTree</th>\n      <td>0.996894</td>\n      <td>0.0</td>\n      <td>0.0</td>\n      <td>0.0</td>\n      <td>0.499805</td>\n    </tr>\n    <tr>\n      <th>RandomFore</th>\n      <td>0.997283</td>\n      <td>0.0</td>\n      <td>0.0</td>\n      <td>0.0</td>\n      <td>0.500000</td>\n    </tr>\n    <tr>\n      <th>LGBM</th>\n      <td>0.996506</td>\n      <td>0.0</td>\n      <td>0.0</td>\n      <td>0.0</td>\n      <td>0.499611</td>\n    </tr>\n    <tr>\n      <th>SVC</th>\n      <td>0.997283</td>\n      <td>0.0</td>\n      <td>0.0</td>\n      <td>0.0</td>\n      <td>0.500000</td>\n    </tr>\n  </tbody>\n</table>\n</div>"
     },
     "metadata": {},
     "execution_count": 35
    }
   ],
   "source": [
    "y_target = DF_pca['target']\n",
    "X_features = DF_pca.drop('target', axis= 1)\n",
    "\n",
    "\n",
    "X_train, X_valid, y_train, y_valid = train_test_split(X_features, y_target, test_size =0.2, random_state=13, stratify= y_target)\n",
    "\n",
    "# 모델 객체 생성 \n",
    "lr_clf = LogisticRegression(random_state=13)\n",
    "dt_clf = DecisionTreeClassifier(random_state=13, max_depth=4)\n",
    "rf_clf = RandomForestClassifier(random_state=13, n_jobs = -1, n_estimators= 100 )\n",
    "lgbm_clf = LGBMClassifier(n_estimators=1000, num_leaves=64, n_jobs=-1, boost_from_average = False)\n",
    "svm_clf = LinearSVC()\n",
    "\n",
    "# 학습 진행 \n",
    "models=[lr_clf,dt_clf,rf_clf,lgbm_clf,svm_clf] \n",
    "model_names = ['LogiReg', 'DecisionTree', 'RandomFore','LGBM','SVC']\n",
    "results = get_result_df(models, model_names, X_train, y_train, X_valid, y_valid)\n",
    "results "
   ]
  },
  {
   "cell_type": "code",
   "execution_count": 36,
   "metadata": {},
   "outputs": [
    {
     "output_type": "execute_result",
     "data": {
      "text/plain": [
       "              Accuracy  precision    recall        f1       roc\n",
       "LogiReg       0.139363   0.002700  0.857143  0.005384  0.497275\n",
       "DecisionTree  0.814053   0.006276  0.428571  0.012371  0.621837\n",
       "RandomFore    0.772516   0.005128  0.428571  0.010135  0.601012\n",
       "LGBM          0.763199   0.003295  0.285714  0.006515  0.525107\n",
       "SVC           0.139363   0.002700  0.857143  0.005384  0.497275"
      ],
      "text/html": "<div>\n<style scoped>\n    .dataframe tbody tr th:only-of-type {\n        vertical-align: middle;\n    }\n\n    .dataframe tbody tr th {\n        vertical-align: top;\n    }\n\n    .dataframe thead th {\n        text-align: right;\n    }\n</style>\n<table border=\"1\" class=\"dataframe\">\n  <thead>\n    <tr style=\"text-align: right;\">\n      <th></th>\n      <th>Accuracy</th>\n      <th>precision</th>\n      <th>recall</th>\n      <th>f1</th>\n      <th>roc</th>\n    </tr>\n  </thead>\n  <tbody>\n    <tr>\n      <th>LogiReg</th>\n      <td>0.139363</td>\n      <td>0.002700</td>\n      <td>0.857143</td>\n      <td>0.005384</td>\n      <td>0.497275</td>\n    </tr>\n    <tr>\n      <th>DecisionTree</th>\n      <td>0.814053</td>\n      <td>0.006276</td>\n      <td>0.428571</td>\n      <td>0.012371</td>\n      <td>0.621837</td>\n    </tr>\n    <tr>\n      <th>RandomFore</th>\n      <td>0.772516</td>\n      <td>0.005128</td>\n      <td>0.428571</td>\n      <td>0.010135</td>\n      <td>0.601012</td>\n    </tr>\n    <tr>\n      <th>LGBM</th>\n      <td>0.763199</td>\n      <td>0.003295</td>\n      <td>0.285714</td>\n      <td>0.006515</td>\n      <td>0.525107</td>\n    </tr>\n    <tr>\n      <th>SVC</th>\n      <td>0.139363</td>\n      <td>0.002700</td>\n      <td>0.857143</td>\n      <td>0.005384</td>\n      <td>0.497275</td>\n    </tr>\n  </tbody>\n</table>\n</div>"
     },
     "metadata": {},
     "execution_count": 36
    }
   ],
   "source": [
    "# 복합 샘플링 적용 \n",
    "\n",
    "from imblearn.combine import SMOTEENN\n",
    "sme = SMOTEENN(random_state=13)\n",
    "X_train_sme, y_train_sme = sme.fit_sample(X_train, y_train)\n",
    "\n",
    "\n",
    "model_names = ['LogiReg', 'DecisionTree', 'RandomFore','LGBM','SVC']\n",
    "results = get_result_df(models, model_names, X_train_sme, y_train_sme, X_valid, y_valid)\n",
    "\n",
    "results"
   ]
  },
  {
   "cell_type": "code",
   "execution_count": 37,
   "metadata": {},
   "outputs": [],
   "source": [
    "# 테스트셋 적용 \n",
    "# PCA / robust \n",
    "\n",
    "df_test_scaled = scaler.transform(X_test)\n",
    "df_test_pca = pca.transform(df_test_scaled)\n",
    "\n",
    "pca_columns = ['component_1','component_2']\n",
    "\n",
    "DF_test_pca = pd.DataFrame(df_test_pca, columns=pca_columns)\n",
    "DF_test_pca['target'] = y_target \n",
    "DF_test_pca.tail()\n",
    "\n",
    "X_test_scaled = DF_test_pca.drop('target', axis=1)\n",
    "y_test_scaled = DF_test_pca['target']"
   ]
  },
  {
   "cell_type": "code",
   "execution_count": 38,
   "metadata": {},
   "outputs": [
    {
     "output_type": "execute_result",
     "data": {
      "text/plain": [
       "              Accuracy  precision    recall        f1       roc\n",
       "LogiReg       0.144185   0.008550  0.851852  0.016930  0.494930\n",
       "DecisionTree  0.796540   0.015924  0.370370  0.030534  0.585314\n",
       "RandomFore    0.753284   0.010540  0.296296  0.020356  0.526784\n",
       "LGBM          0.745594   0.010217  0.296296  0.019753  0.522906\n",
       "SVC           0.144185   0.008550  0.851852  0.016930  0.494930"
      ],
      "text/html": "<div>\n<style scoped>\n    .dataframe tbody tr th:only-of-type {\n        vertical-align: middle;\n    }\n\n    .dataframe tbody tr th {\n        vertical-align: top;\n    }\n\n    .dataframe thead th {\n        text-align: right;\n    }\n</style>\n<table border=\"1\" class=\"dataframe\">\n  <thead>\n    <tr style=\"text-align: right;\">\n      <th></th>\n      <th>Accuracy</th>\n      <th>precision</th>\n      <th>recall</th>\n      <th>f1</th>\n      <th>roc</th>\n    </tr>\n  </thead>\n  <tbody>\n    <tr>\n      <th>LogiReg</th>\n      <td>0.144185</td>\n      <td>0.008550</td>\n      <td>0.851852</td>\n      <td>0.016930</td>\n      <td>0.494930</td>\n    </tr>\n    <tr>\n      <th>DecisionTree</th>\n      <td>0.796540</td>\n      <td>0.015924</td>\n      <td>0.370370</td>\n      <td>0.030534</td>\n      <td>0.585314</td>\n    </tr>\n    <tr>\n      <th>RandomFore</th>\n      <td>0.753284</td>\n      <td>0.010540</td>\n      <td>0.296296</td>\n      <td>0.020356</td>\n      <td>0.526784</td>\n    </tr>\n    <tr>\n      <th>LGBM</th>\n      <td>0.745594</td>\n      <td>0.010217</td>\n      <td>0.296296</td>\n      <td>0.019753</td>\n      <td>0.522906</td>\n    </tr>\n    <tr>\n      <th>SVC</th>\n      <td>0.144185</td>\n      <td>0.008550</td>\n      <td>0.851852</td>\n      <td>0.016930</td>\n      <td>0.494930</td>\n    </tr>\n  </tbody>\n</table>\n</div>"
     },
     "metadata": {},
     "execution_count": 38
    }
   ],
   "source": [
    "# 테스트 셋 모델 적용 \n",
    "\n",
    "models=[lr_clf,dt_clf,rf_clf,lgbm_clf,svm_clf] \n",
    "model_names = ['LogiReg', 'DecisionTree', 'RandomFore','LGBM','SVC']\n",
    "results = get_test_df(models,model_names, X_test_scaled, y_test_scaled)\n",
    "results "
   ]
  },
  {
   "source": [
    "## Trial #6\n",
    "## robust / pca(n=3) / smoteenn"
   ],
   "cell_type": "markdown",
   "metadata": {}
  },
  {
   "cell_type": "code",
   "execution_count": 39,
   "metadata": {},
   "outputs": [],
   "source": [
    "df_6 = df.copy()\n",
    "\n",
    "y_target = df_6['fraud_YN']\n",
    "X_features = df_6.drop('fraud_YN', axis=1)\n",
    "\n",
    "y_target = df_6['fraud_YN'].reset_index()\n",
    "y_target = y_target.drop('index', axis=1)"
   ]
  },
  {
   "cell_type": "code",
   "execution_count": 40,
   "metadata": {},
   "outputs": [
    {
     "output_type": "execute_result",
     "data": {
      "text/plain": [
       "   component_1  component_2  component_3  target\n",
       "0   -10.878061    -1.681139    -0.444496       0\n",
       "1    89.088264    -0.446654     3.490084       0\n",
       "2   -10.919831     0.595497     0.765326       0\n",
       "3   -10.861503     0.626787    -1.255630       1\n",
       "4    89.146163    -0.591036    -0.507473       0"
      ],
      "text/html": "<div>\n<style scoped>\n    .dataframe tbody tr th:only-of-type {\n        vertical-align: middle;\n    }\n\n    .dataframe tbody tr th {\n        vertical-align: top;\n    }\n\n    .dataframe thead th {\n        text-align: right;\n    }\n</style>\n<table border=\"1\" class=\"dataframe\">\n  <thead>\n    <tr style=\"text-align: right;\">\n      <th></th>\n      <th>component_1</th>\n      <th>component_2</th>\n      <th>component_3</th>\n      <th>target</th>\n    </tr>\n  </thead>\n  <tbody>\n    <tr>\n      <th>0</th>\n      <td>-10.878061</td>\n      <td>-1.681139</td>\n      <td>-0.444496</td>\n      <td>0</td>\n    </tr>\n    <tr>\n      <th>1</th>\n      <td>89.088264</td>\n      <td>-0.446654</td>\n      <td>3.490084</td>\n      <td>0</td>\n    </tr>\n    <tr>\n      <th>2</th>\n      <td>-10.919831</td>\n      <td>0.595497</td>\n      <td>0.765326</td>\n      <td>0</td>\n    </tr>\n    <tr>\n      <th>3</th>\n      <td>-10.861503</td>\n      <td>0.626787</td>\n      <td>-1.255630</td>\n      <td>1</td>\n    </tr>\n    <tr>\n      <th>4</th>\n      <td>89.146163</td>\n      <td>-0.591036</td>\n      <td>-0.507473</td>\n      <td>0</td>\n    </tr>\n  </tbody>\n</table>\n</div>"
     },
     "metadata": {},
     "execution_count": 40
    }
   ],
   "source": [
    "from sklearn.decomposition import PCA\n",
    "from sklearn.preprocessing import RobustScaler\n",
    "\n",
    "scaler = RobustScaler()\n",
    "df_scaled = scaler.fit_transform(X_features)\n",
    "\n",
    "pca = PCA(n_components=3)\n",
    "pca.fit(df_scaled)\n",
    "df_pca = pca.transform(df_scaled)\n",
    "\n",
    "pca_columns = ['component_1','component_2','component_3']\n",
    "\n",
    "DF_pca = pd.DataFrame(df_pca, columns=pca_columns)\n",
    "DF_pca['target'] = y_target \n",
    "DF_pca.head()\n"
   ]
  },
  {
   "cell_type": "code",
   "execution_count": 41,
   "metadata": {},
   "outputs": [
    {
     "output_type": "execute_result",
     "data": {
      "text/plain": [
       "              Accuracy  precision  recall   f1       roc\n",
       "LogiReg       0.997283        0.0     0.0  0.0  0.500000\n",
       "DecisionTree  0.996118        0.0     0.0  0.0  0.499416\n",
       "RandomFore    0.997283        0.0     0.0  0.0  0.500000\n",
       "LGBM          0.996894        0.0     0.0  0.0  0.499805\n",
       "SVC           0.997283        0.0     0.0  0.0  0.500000"
      ],
      "text/html": "<div>\n<style scoped>\n    .dataframe tbody tr th:only-of-type {\n        vertical-align: middle;\n    }\n\n    .dataframe tbody tr th {\n        vertical-align: top;\n    }\n\n    .dataframe thead th {\n        text-align: right;\n    }\n</style>\n<table border=\"1\" class=\"dataframe\">\n  <thead>\n    <tr style=\"text-align: right;\">\n      <th></th>\n      <th>Accuracy</th>\n      <th>precision</th>\n      <th>recall</th>\n      <th>f1</th>\n      <th>roc</th>\n    </tr>\n  </thead>\n  <tbody>\n    <tr>\n      <th>LogiReg</th>\n      <td>0.997283</td>\n      <td>0.0</td>\n      <td>0.0</td>\n      <td>0.0</td>\n      <td>0.500000</td>\n    </tr>\n    <tr>\n      <th>DecisionTree</th>\n      <td>0.996118</td>\n      <td>0.0</td>\n      <td>0.0</td>\n      <td>0.0</td>\n      <td>0.499416</td>\n    </tr>\n    <tr>\n      <th>RandomFore</th>\n      <td>0.997283</td>\n      <td>0.0</td>\n      <td>0.0</td>\n      <td>0.0</td>\n      <td>0.500000</td>\n    </tr>\n    <tr>\n      <th>LGBM</th>\n      <td>0.996894</td>\n      <td>0.0</td>\n      <td>0.0</td>\n      <td>0.0</td>\n      <td>0.499805</td>\n    </tr>\n    <tr>\n      <th>SVC</th>\n      <td>0.997283</td>\n      <td>0.0</td>\n      <td>0.0</td>\n      <td>0.0</td>\n      <td>0.500000</td>\n    </tr>\n  </tbody>\n</table>\n</div>"
     },
     "metadata": {},
     "execution_count": 41
    }
   ],
   "source": [
    "y_target = DF_pca['target']\n",
    "X_features = DF_pca.drop('target', axis= 1)\n",
    "\n",
    "\n",
    "X_train, X_valid, y_train, y_valid = train_test_split(X_features, y_target, test_size =0.2, random_state=13, stratify= y_target)\n",
    "\n",
    "# 모델 객체 생성 \n",
    "lr_clf = LogisticRegression(random_state=13)\n",
    "dt_clf = DecisionTreeClassifier(random_state=13, max_depth=4)\n",
    "rf_clf = RandomForestClassifier(random_state=13, n_jobs = -1, n_estimators= 100 )\n",
    "lgbm_clf = LGBMClassifier(n_estimators=1000, num_leaves=64, n_jobs=-1, boost_from_average = False)\n",
    "svm_clf = LinearSVC()\n",
    "\n",
    "# 학습 진행 \n",
    "models=[lr_clf,dt_clf,rf_clf,lgbm_clf,svm_clf] \n",
    "model_names = ['LogiReg', 'DecisionTree', 'RandomFore','LGBM','SVC']\n",
    "results = get_result_df(models, model_names, X_train, y_train, X_valid, y_valid)\n",
    "results "
   ]
  },
  {
   "cell_type": "code",
   "execution_count": 42,
   "metadata": {},
   "outputs": [
    {
     "output_type": "execute_result",
     "data": {
      "text/plain": [
       "              Accuracy  precision    recall        f1       roc\n",
       "LogiReg       0.143634   0.002714  0.857143  0.005410  0.499416\n",
       "DecisionTree  0.736025   0.004418  0.428571  0.008746  0.582717\n",
       "RandomFore    0.891693   0.007246  0.285714  0.014134  0.589529\n",
       "LGBM          0.888199   0.007018  0.285714  0.013699  0.587777\n",
       "SVC           0.145186   0.002719  0.857143  0.005420  0.500195"
      ],
      "text/html": "<div>\n<style scoped>\n    .dataframe tbody tr th:only-of-type {\n        vertical-align: middle;\n    }\n\n    .dataframe tbody tr th {\n        vertical-align: top;\n    }\n\n    .dataframe thead th {\n        text-align: right;\n    }\n</style>\n<table border=\"1\" class=\"dataframe\">\n  <thead>\n    <tr style=\"text-align: right;\">\n      <th></th>\n      <th>Accuracy</th>\n      <th>precision</th>\n      <th>recall</th>\n      <th>f1</th>\n      <th>roc</th>\n    </tr>\n  </thead>\n  <tbody>\n    <tr>\n      <th>LogiReg</th>\n      <td>0.143634</td>\n      <td>0.002714</td>\n      <td>0.857143</td>\n      <td>0.005410</td>\n      <td>0.499416</td>\n    </tr>\n    <tr>\n      <th>DecisionTree</th>\n      <td>0.736025</td>\n      <td>0.004418</td>\n      <td>0.428571</td>\n      <td>0.008746</td>\n      <td>0.582717</td>\n    </tr>\n    <tr>\n      <th>RandomFore</th>\n      <td>0.891693</td>\n      <td>0.007246</td>\n      <td>0.285714</td>\n      <td>0.014134</td>\n      <td>0.589529</td>\n    </tr>\n    <tr>\n      <th>LGBM</th>\n      <td>0.888199</td>\n      <td>0.007018</td>\n      <td>0.285714</td>\n      <td>0.013699</td>\n      <td>0.587777</td>\n    </tr>\n    <tr>\n      <th>SVC</th>\n      <td>0.145186</td>\n      <td>0.002719</td>\n      <td>0.857143</td>\n      <td>0.005420</td>\n      <td>0.500195</td>\n    </tr>\n  </tbody>\n</table>\n</div>"
     },
     "metadata": {},
     "execution_count": 42
    }
   ],
   "source": [
    "# 복합 샘플링 적용 \n",
    "\n",
    "from imblearn.combine import SMOTEENN\n",
    "sme = SMOTEENN(random_state=13)\n",
    "X_train_sme, y_train_sme = sme.fit_sample(X_train, y_train)\n",
    "\n",
    "\n",
    "model_names = ['LogiReg', 'DecisionTree', 'RandomFore','LGBM','SVC']\n",
    "results = get_result_df(models, model_names, X_train_sme, y_train_sme, X_valid, y_valid)\n",
    "\n",
    "results"
   ]
  },
  {
   "cell_type": "code",
   "execution_count": 43,
   "metadata": {},
   "outputs": [],
   "source": [
    "# 테스트셋 적용 \n",
    "# PCA / robust \n",
    "\n",
    "df_test_scaled = scaler.transform(X_test)\n",
    "df_test_pca = pca.transform(df_test_scaled)\n",
    "\n",
    "pca_columns = ['component_1','component_2','component_3']\n",
    "\n",
    "DF_test_pca = pd.DataFrame(df_test_pca, columns=pca_columns)\n",
    "DF_test_pca['target'] = y_target \n",
    "DF_test_pca.tail()\n",
    "\n",
    "X_test_scaled = DF_test_pca.drop('target', axis=1)\n",
    "y_test_scaled = DF_test_pca['target']"
   ]
  },
  {
   "cell_type": "code",
   "execution_count": 44,
   "metadata": {},
   "outputs": [
    {
     "output_type": "execute_result",
     "data": {
      "text/plain": [
       "              Accuracy  precision    recall        f1       roc\n",
       "LogiReg       0.148350   0.008592  0.851852  0.017012  0.497031\n",
       "DecisionTree  0.689202   0.011399  0.407407  0.022177  0.549534\n",
       "RandomFore    0.861583   0.012048  0.185185  0.022624  0.526335\n",
       "LGBM          0.848766   0.015251  0.259259  0.028807  0.556585\n",
       "SVC           0.149311   0.008601  0.851852  0.017031  0.497516"
      ],
      "text/html": "<div>\n<style scoped>\n    .dataframe tbody tr th:only-of-type {\n        vertical-align: middle;\n    }\n\n    .dataframe tbody tr th {\n        vertical-align: top;\n    }\n\n    .dataframe thead th {\n        text-align: right;\n    }\n</style>\n<table border=\"1\" class=\"dataframe\">\n  <thead>\n    <tr style=\"text-align: right;\">\n      <th></th>\n      <th>Accuracy</th>\n      <th>precision</th>\n      <th>recall</th>\n      <th>f1</th>\n      <th>roc</th>\n    </tr>\n  </thead>\n  <tbody>\n    <tr>\n      <th>LogiReg</th>\n      <td>0.148350</td>\n      <td>0.008592</td>\n      <td>0.851852</td>\n      <td>0.017012</td>\n      <td>0.497031</td>\n    </tr>\n    <tr>\n      <th>DecisionTree</th>\n      <td>0.689202</td>\n      <td>0.011399</td>\n      <td>0.407407</td>\n      <td>0.022177</td>\n      <td>0.549534</td>\n    </tr>\n    <tr>\n      <th>RandomFore</th>\n      <td>0.861583</td>\n      <td>0.012048</td>\n      <td>0.185185</td>\n      <td>0.022624</td>\n      <td>0.526335</td>\n    </tr>\n    <tr>\n      <th>LGBM</th>\n      <td>0.848766</td>\n      <td>0.015251</td>\n      <td>0.259259</td>\n      <td>0.028807</td>\n      <td>0.556585</td>\n    </tr>\n    <tr>\n      <th>SVC</th>\n      <td>0.149311</td>\n      <td>0.008601</td>\n      <td>0.851852</td>\n      <td>0.017031</td>\n      <td>0.497516</td>\n    </tr>\n  </tbody>\n</table>\n</div>"
     },
     "metadata": {},
     "execution_count": 44
    }
   ],
   "source": [
    "# 테스트 셋 모델 적용 \n",
    "\n",
    "models=[lr_clf,dt_clf,rf_clf,lgbm_clf,svm_clf] \n",
    "model_names = ['LogiReg', 'DecisionTree', 'RandomFore','LGBM','SVC']\n",
    "results = get_test_df(models,model_names, X_test_scaled, y_test_scaled)\n",
    "results "
   ]
  },
  {
   "source": [
    "## Trial #7\n",
    "## robust / pca(n=5) / smoteenn"
   ],
   "cell_type": "markdown",
   "metadata": {}
  },
  {
   "cell_type": "code",
   "execution_count": 45,
   "metadata": {},
   "outputs": [],
   "source": [
    "df_7 = df.copy()\n",
    "\n",
    "y_target = df_7['fraud_YN']\n",
    "X_features = df_7.drop('fraud_YN', axis=1)\n",
    "\n",
    "y_target = df_7['fraud_YN'].reset_index()\n",
    "y_target = y_target.drop('index', axis=1)"
   ]
  },
  {
   "cell_type": "code",
   "execution_count": 46,
   "metadata": {},
   "outputs": [
    {
     "output_type": "execute_result",
     "data": {
      "text/plain": [
       "   component_1  component_2  component_3  component_4  component_5  target\n",
       "0   -10.878061    -1.681139    -0.444494    -0.810866     0.028940       0\n",
       "1    89.088264    -0.446654     3.490084    -1.120898    -0.444883       0\n",
       "2   -10.919831     0.595497     0.765326     0.844330    -1.570778       0\n",
       "3   -10.861503     0.626787    -1.255626     1.676016     2.764579       1\n",
       "4    89.146163    -0.591036    -0.507475     0.475744     2.254303       0"
      ],
      "text/html": "<div>\n<style scoped>\n    .dataframe tbody tr th:only-of-type {\n        vertical-align: middle;\n    }\n\n    .dataframe tbody tr th {\n        vertical-align: top;\n    }\n\n    .dataframe thead th {\n        text-align: right;\n    }\n</style>\n<table border=\"1\" class=\"dataframe\">\n  <thead>\n    <tr style=\"text-align: right;\">\n      <th></th>\n      <th>component_1</th>\n      <th>component_2</th>\n      <th>component_3</th>\n      <th>component_4</th>\n      <th>component_5</th>\n      <th>target</th>\n    </tr>\n  </thead>\n  <tbody>\n    <tr>\n      <th>0</th>\n      <td>-10.878061</td>\n      <td>-1.681139</td>\n      <td>-0.444494</td>\n      <td>-0.810866</td>\n      <td>0.028940</td>\n      <td>0</td>\n    </tr>\n    <tr>\n      <th>1</th>\n      <td>89.088264</td>\n      <td>-0.446654</td>\n      <td>3.490084</td>\n      <td>-1.120898</td>\n      <td>-0.444883</td>\n      <td>0</td>\n    </tr>\n    <tr>\n      <th>2</th>\n      <td>-10.919831</td>\n      <td>0.595497</td>\n      <td>0.765326</td>\n      <td>0.844330</td>\n      <td>-1.570778</td>\n      <td>0</td>\n    </tr>\n    <tr>\n      <th>3</th>\n      <td>-10.861503</td>\n      <td>0.626787</td>\n      <td>-1.255626</td>\n      <td>1.676016</td>\n      <td>2.764579</td>\n      <td>1</td>\n    </tr>\n    <tr>\n      <th>4</th>\n      <td>89.146163</td>\n      <td>-0.591036</td>\n      <td>-0.507475</td>\n      <td>0.475744</td>\n      <td>2.254303</td>\n      <td>0</td>\n    </tr>\n  </tbody>\n</table>\n</div>"
     },
     "metadata": {},
     "execution_count": 46
    }
   ],
   "source": [
    "from sklearn.decomposition import PCA\n",
    "from sklearn.preprocessing import RobustScaler\n",
    "\n",
    "scaler = RobustScaler()\n",
    "df_scaled = scaler.fit_transform(X_features)\n",
    "\n",
    "pca = PCA(n_components=5)\n",
    "pca.fit(df_scaled)\n",
    "df_pca = pca.transform(df_scaled)\n",
    "\n",
    "pca_columns = ['component_1','component_2','component_3','component_4','component_5']\n",
    "\n",
    "DF_pca = pd.DataFrame(df_pca, columns=pca_columns)\n",
    "DF_pca['target'] = y_target \n",
    "DF_pca.head()\n"
   ]
  },
  {
   "cell_type": "code",
   "execution_count": 47,
   "metadata": {},
   "outputs": [
    {
     "output_type": "execute_result",
     "data": {
      "text/plain": [
       "              Accuracy  precision  recall   f1       roc\n",
       "LogiReg       0.997283        0.0     0.0  0.0  0.500000\n",
       "DecisionTree  0.995730        0.0     0.0  0.0  0.499221\n",
       "RandomFore    0.997283        0.0     0.0  0.0  0.500000\n",
       "LGBM          0.997283        0.0     0.0  0.0  0.500000\n",
       "SVC           0.997283        0.0     0.0  0.0  0.500000"
      ],
      "text/html": "<div>\n<style scoped>\n    .dataframe tbody tr th:only-of-type {\n        vertical-align: middle;\n    }\n\n    .dataframe tbody tr th {\n        vertical-align: top;\n    }\n\n    .dataframe thead th {\n        text-align: right;\n    }\n</style>\n<table border=\"1\" class=\"dataframe\">\n  <thead>\n    <tr style=\"text-align: right;\">\n      <th></th>\n      <th>Accuracy</th>\n      <th>precision</th>\n      <th>recall</th>\n      <th>f1</th>\n      <th>roc</th>\n    </tr>\n  </thead>\n  <tbody>\n    <tr>\n      <th>LogiReg</th>\n      <td>0.997283</td>\n      <td>0.0</td>\n      <td>0.0</td>\n      <td>0.0</td>\n      <td>0.500000</td>\n    </tr>\n    <tr>\n      <th>DecisionTree</th>\n      <td>0.995730</td>\n      <td>0.0</td>\n      <td>0.0</td>\n      <td>0.0</td>\n      <td>0.499221</td>\n    </tr>\n    <tr>\n      <th>RandomFore</th>\n      <td>0.997283</td>\n      <td>0.0</td>\n      <td>0.0</td>\n      <td>0.0</td>\n      <td>0.500000</td>\n    </tr>\n    <tr>\n      <th>LGBM</th>\n      <td>0.997283</td>\n      <td>0.0</td>\n      <td>0.0</td>\n      <td>0.0</td>\n      <td>0.500000</td>\n    </tr>\n    <tr>\n      <th>SVC</th>\n      <td>0.997283</td>\n      <td>0.0</td>\n      <td>0.0</td>\n      <td>0.0</td>\n      <td>0.500000</td>\n    </tr>\n  </tbody>\n</table>\n</div>"
     },
     "metadata": {},
     "execution_count": 47
    }
   ],
   "source": [
    "y_target = DF_pca['target']\n",
    "X_features = DF_pca.drop('target', axis= 1)\n",
    "\n",
    "\n",
    "X_train, X_valid, y_train, y_valid = train_test_split(X_features, y_target, test_size =0.2, random_state=13, stratify= y_target)\n",
    "\n",
    "# 모델 객체 생성 \n",
    "lr_clf = LogisticRegression(random_state=13)\n",
    "dt_clf = DecisionTreeClassifier(random_state=13, max_depth=4)\n",
    "rf_clf = RandomForestClassifier(random_state=13, n_jobs = -1, n_estimators= 100 )\n",
    "lgbm_clf = LGBMClassifier(n_estimators=1000, num_leaves=64, n_jobs=-1, boost_from_average = False)\n",
    "svm_clf = LinearSVC()\n",
    "\n",
    "# 학습 진행 \n",
    "models=[lr_clf,dt_clf,rf_clf,lgbm_clf,svm_clf] \n",
    "model_names = ['LogiReg', 'DecisionTree', 'RandomFore','LGBM','SVC']\n",
    "results = get_result_df(models, model_names, X_train, y_train, X_valid, y_valid)\n",
    "results "
   ]
  },
  {
   "cell_type": "code",
   "execution_count": 48,
   "metadata": {},
   "outputs": [
    {
     "output_type": "execute_result",
     "data": {
      "text/plain": [
       "              Accuracy  precision    recall        f1       roc\n",
       "LogiReg       0.665373   0.004635  0.571429  0.009195  0.618529\n",
       "DecisionTree  0.551242   0.003457  0.571429  0.006873  0.561308\n",
       "RandomFore    0.952252   0.008475  0.142857  0.016000  0.548657\n",
       "LGBM          0.955745   0.000000  0.000000  0.000000  0.479175\n",
       "SVC           0.657997   0.004535  0.571429  0.008999  0.614831"
      ],
      "text/html": "<div>\n<style scoped>\n    .dataframe tbody tr th:only-of-type {\n        vertical-align: middle;\n    }\n\n    .dataframe tbody tr th {\n        vertical-align: top;\n    }\n\n    .dataframe thead th {\n        text-align: right;\n    }\n</style>\n<table border=\"1\" class=\"dataframe\">\n  <thead>\n    <tr style=\"text-align: right;\">\n      <th></th>\n      <th>Accuracy</th>\n      <th>precision</th>\n      <th>recall</th>\n      <th>f1</th>\n      <th>roc</th>\n    </tr>\n  </thead>\n  <tbody>\n    <tr>\n      <th>LogiReg</th>\n      <td>0.665373</td>\n      <td>0.004635</td>\n      <td>0.571429</td>\n      <td>0.009195</td>\n      <td>0.618529</td>\n    </tr>\n    <tr>\n      <th>DecisionTree</th>\n      <td>0.551242</td>\n      <td>0.003457</td>\n      <td>0.571429</td>\n      <td>0.006873</td>\n      <td>0.561308</td>\n    </tr>\n    <tr>\n      <th>RandomFore</th>\n      <td>0.952252</td>\n      <td>0.008475</td>\n      <td>0.142857</td>\n      <td>0.016000</td>\n      <td>0.548657</td>\n    </tr>\n    <tr>\n      <th>LGBM</th>\n      <td>0.955745</td>\n      <td>0.000000</td>\n      <td>0.000000</td>\n      <td>0.000000</td>\n      <td>0.479175</td>\n    </tr>\n    <tr>\n      <th>SVC</th>\n      <td>0.657997</td>\n      <td>0.004535</td>\n      <td>0.571429</td>\n      <td>0.008999</td>\n      <td>0.614831</td>\n    </tr>\n  </tbody>\n</table>\n</div>"
     },
     "metadata": {},
     "execution_count": 48
    }
   ],
   "source": [
    "# 복합 샘플링 적용 \n",
    "\n",
    "from imblearn.combine import SMOTEENN\n",
    "sme = SMOTEENN(random_state=13)\n",
    "X_train_sme, y_train_sme = sme.fit_sample(X_train, y_train)\n",
    "\n",
    "\n",
    "model_names = ['LogiReg', 'DecisionTree', 'RandomFore','LGBM','SVC']\n",
    "results = get_result_df(models, model_names, X_train_sme, y_train_sme, X_valid, y_valid)\n",
    "\n",
    "results"
   ]
  },
  {
   "cell_type": "code",
   "execution_count": 49,
   "metadata": {},
   "outputs": [],
   "source": [
    "# 테스트셋 적용 \n",
    "# PCA / robust \n",
    "\n",
    "df_test_scaled = scaler.transform(X_test)\n",
    "df_test_pca = pca.transform(df_test_scaled)\n",
    "\n",
    "pca_columns = ['component_1','component_2','component_3','component_4','component_5']\n",
    "\n",
    "DF_test_pca = pd.DataFrame(df_test_pca, columns=pca_columns)\n",
    "DF_test_pca['target'] = y_target \n",
    "DF_test_pca.tail()\n",
    "\n",
    "X_test_scaled = DF_test_pca.drop('target', axis=1)\n",
    "y_test_scaled = DF_test_pca['target']"
   ]
  },
  {
   "cell_type": "code",
   "execution_count": 50,
   "metadata": {},
   "outputs": [
    {
     "output_type": "execute_result",
     "data": {
      "text/plain": [
       "              Accuracy  precision    recall        f1       roc\n",
       "LogiReg       0.561679   0.011653  0.592593  0.022857  0.577001\n",
       "DecisionTree  0.449215   0.010417  0.666667  0.020513  0.556992\n",
       "RandomFore    0.931432   0.010471  0.074074  0.018349  0.506494\n",
       "LGBM          0.933355   0.010811  0.074074  0.018868  0.507464\n",
       "SVC           0.559756   0.010893  0.555556  0.021368  0.557674"
      ],
      "text/html": "<div>\n<style scoped>\n    .dataframe tbody tr th:only-of-type {\n        vertical-align: middle;\n    }\n\n    .dataframe tbody tr th {\n        vertical-align: top;\n    }\n\n    .dataframe thead th {\n        text-align: right;\n    }\n</style>\n<table border=\"1\" class=\"dataframe\">\n  <thead>\n    <tr style=\"text-align: right;\">\n      <th></th>\n      <th>Accuracy</th>\n      <th>precision</th>\n      <th>recall</th>\n      <th>f1</th>\n      <th>roc</th>\n    </tr>\n  </thead>\n  <tbody>\n    <tr>\n      <th>LogiReg</th>\n      <td>0.561679</td>\n      <td>0.011653</td>\n      <td>0.592593</td>\n      <td>0.022857</td>\n      <td>0.577001</td>\n    </tr>\n    <tr>\n      <th>DecisionTree</th>\n      <td>0.449215</td>\n      <td>0.010417</td>\n      <td>0.666667</td>\n      <td>0.020513</td>\n      <td>0.556992</td>\n    </tr>\n    <tr>\n      <th>RandomFore</th>\n      <td>0.931432</td>\n      <td>0.010471</td>\n      <td>0.074074</td>\n      <td>0.018349</td>\n      <td>0.506494</td>\n    </tr>\n    <tr>\n      <th>LGBM</th>\n      <td>0.933355</td>\n      <td>0.010811</td>\n      <td>0.074074</td>\n      <td>0.018868</td>\n      <td>0.507464</td>\n    </tr>\n    <tr>\n      <th>SVC</th>\n      <td>0.559756</td>\n      <td>0.010893</td>\n      <td>0.555556</td>\n      <td>0.021368</td>\n      <td>0.557674</td>\n    </tr>\n  </tbody>\n</table>\n</div>"
     },
     "metadata": {},
     "execution_count": 50
    }
   ],
   "source": [
    "# 테스트 셋 모델 적용 \n",
    "\n",
    "models=[lr_clf,dt_clf,rf_clf,lgbm_clf,svm_clf] \n",
    "model_names = ['LogiReg', 'DecisionTree', 'RandomFore','LGBM','SVC']\n",
    "results = get_test_df(models,model_names, X_test_scaled, y_test_scaled)\n",
    "results "
   ]
  },
  {
   "source": [
    "## Trial #8\n",
    "## 불필요 feature 삭제 \n",
    "## ssscale / pca(n=2) / smoteenn"
   ],
   "cell_type": "markdown",
   "metadata": {}
  },
  {
   "cell_type": "code",
   "execution_count": 51,
   "metadata": {},
   "outputs": [],
   "source": [
    "df_8 = df.copy()\n",
    "df_8 = df_8.drop(columns=['sharing_type', 'has_previous_accident','b2b','accident_ratio','socarpass', 'car_part2'])\n",
    "df_8\n",
    "\n",
    "y_target = df_8['fraud_YN']\n",
    "X_features = df_8.drop('fraud_YN', axis=1)\n",
    "\n",
    "y_target = df_8['fraud_YN'].reset_index()\n",
    "y_target = y_target.drop('index', axis=1)"
   ]
  },
  {
   "cell_type": "code",
   "execution_count": 52,
   "metadata": {},
   "outputs": [
    {
     "output_type": "execute_result",
     "data": {
      "text/plain": [
       "       component_1  component_2  target\n",
       "12874    -0.997271    -0.389117       0\n",
       "12875    -1.084393     1.182813       0\n",
       "12876    -1.041032    -0.183276       0\n",
       "12877    -1.248365     0.124023       0\n",
       "12878    -1.167924    -1.638932       0"
      ],
      "text/html": "<div>\n<style scoped>\n    .dataframe tbody tr th:only-of-type {\n        vertical-align: middle;\n    }\n\n    .dataframe tbody tr th {\n        vertical-align: top;\n    }\n\n    .dataframe thead th {\n        text-align: right;\n    }\n</style>\n<table border=\"1\" class=\"dataframe\">\n  <thead>\n    <tr style=\"text-align: right;\">\n      <th></th>\n      <th>component_1</th>\n      <th>component_2</th>\n      <th>target</th>\n    </tr>\n  </thead>\n  <tbody>\n    <tr>\n      <th>12874</th>\n      <td>-0.997271</td>\n      <td>-0.389117</td>\n      <td>0</td>\n    </tr>\n    <tr>\n      <th>12875</th>\n      <td>-1.084393</td>\n      <td>1.182813</td>\n      <td>0</td>\n    </tr>\n    <tr>\n      <th>12876</th>\n      <td>-1.041032</td>\n      <td>-0.183276</td>\n      <td>0</td>\n    </tr>\n    <tr>\n      <th>12877</th>\n      <td>-1.248365</td>\n      <td>0.124023</td>\n      <td>0</td>\n    </tr>\n    <tr>\n      <th>12878</th>\n      <td>-1.167924</td>\n      <td>-1.638932</td>\n      <td>0</td>\n    </tr>\n  </tbody>\n</table>\n</div>"
     },
     "metadata": {},
     "execution_count": 52
    }
   ],
   "source": [
    "from sklearn.decomposition import PCA\n",
    "from sklearn.preprocessing import StandardScaler\n",
    "\n",
    "scaler = StandardScaler()\n",
    "df_scaled = scaler.fit_transform(X_features)\n",
    "\n",
    "pca = PCA(n_components=2)\n",
    "pca.fit(df_scaled)\n",
    "df_pca = pca.transform(df_scaled)\n",
    "\n",
    "pca_columns = ['component_1','component_2']\n",
    "\n",
    "DF_pca = pd.DataFrame(df_pca, columns=pca_columns)\n",
    "DF_pca['target'] = y_target \n",
    "DF_pca.tail()\n"
   ]
  },
  {
   "cell_type": "code",
   "execution_count": 53,
   "metadata": {},
   "outputs": [
    {
     "output_type": "execute_result",
     "data": {
      "text/plain": [
       "              Accuracy  precision  recall   f1       roc\n",
       "LogiReg       0.997283        0.0     0.0  0.0  0.500000\n",
       "DecisionTree  0.996894        0.0     0.0  0.0  0.499805\n",
       "RandomFore    0.997283        0.0     0.0  0.0  0.500000\n",
       "LGBM          0.996506        0.0     0.0  0.0  0.499611\n",
       "SVC           0.997283        0.0     0.0  0.0  0.500000"
      ],
      "text/html": "<div>\n<style scoped>\n    .dataframe tbody tr th:only-of-type {\n        vertical-align: middle;\n    }\n\n    .dataframe tbody tr th {\n        vertical-align: top;\n    }\n\n    .dataframe thead th {\n        text-align: right;\n    }\n</style>\n<table border=\"1\" class=\"dataframe\">\n  <thead>\n    <tr style=\"text-align: right;\">\n      <th></th>\n      <th>Accuracy</th>\n      <th>precision</th>\n      <th>recall</th>\n      <th>f1</th>\n      <th>roc</th>\n    </tr>\n  </thead>\n  <tbody>\n    <tr>\n      <th>LogiReg</th>\n      <td>0.997283</td>\n      <td>0.0</td>\n      <td>0.0</td>\n      <td>0.0</td>\n      <td>0.500000</td>\n    </tr>\n    <tr>\n      <th>DecisionTree</th>\n      <td>0.996894</td>\n      <td>0.0</td>\n      <td>0.0</td>\n      <td>0.0</td>\n      <td>0.499805</td>\n    </tr>\n    <tr>\n      <th>RandomFore</th>\n      <td>0.997283</td>\n      <td>0.0</td>\n      <td>0.0</td>\n      <td>0.0</td>\n      <td>0.500000</td>\n    </tr>\n    <tr>\n      <th>LGBM</th>\n      <td>0.996506</td>\n      <td>0.0</td>\n      <td>0.0</td>\n      <td>0.0</td>\n      <td>0.499611</td>\n    </tr>\n    <tr>\n      <th>SVC</th>\n      <td>0.997283</td>\n      <td>0.0</td>\n      <td>0.0</td>\n      <td>0.0</td>\n      <td>0.500000</td>\n    </tr>\n  </tbody>\n</table>\n</div>"
     },
     "metadata": {},
     "execution_count": 53
    }
   ],
   "source": [
    "y_target = DF_pca['target']\n",
    "X_features = DF_pca.drop('target', axis= 1)\n",
    "\n",
    "\n",
    "X_train, X_valid, y_train, y_valid = train_test_split(X_features, y_target, test_size =0.2, random_state=13, stratify= y_target)\n",
    "\n",
    "# 모델 객체 생성 \n",
    "lr_clf = LogisticRegression(random_state=13)\n",
    "dt_clf = DecisionTreeClassifier(random_state=13, max_depth=4)\n",
    "rf_clf = RandomForestClassifier(random_state=13, n_jobs = -1, n_estimators= 100 )\n",
    "lgbm_clf = LGBMClassifier(n_estimators=1000, num_leaves=64, n_jobs=-1, boost_from_average = False)\n",
    "svm_clf = LinearSVC()\n",
    "\n",
    "# 학습 진행 \n",
    "models=[lr_clf,dt_clf,rf_clf,lgbm_clf,svm_clf] \n",
    "model_names = ['LogiReg', 'DecisionTree', 'RandomFore','LGBM','SVC']\n",
    "results = get_result_df(models, model_names, X_train, y_train, X_valid, y_valid)\n",
    "results \n"
   ]
  },
  {
   "cell_type": "code",
   "execution_count": 54,
   "metadata": {},
   "outputs": [
    {
     "output_type": "execute_result",
     "data": {
      "text/plain": [
       "              Accuracy  precision    recall        f1       roc\n",
       "LogiReg       0.725932   0.005658  0.571429  0.011204  0.648891\n",
       "DecisionTree  0.629270   0.002101  0.285714  0.004171  0.457960\n",
       "RandomFore    0.824146   0.004444  0.285714  0.008753  0.555664\n",
       "LGBM          0.829581   0.004587  0.285714  0.009029  0.558388\n",
       "SVC           0.731366   0.005772  0.571429  0.011429  0.651615"
      ],
      "text/html": "<div>\n<style scoped>\n    .dataframe tbody tr th:only-of-type {\n        vertical-align: middle;\n    }\n\n    .dataframe tbody tr th {\n        vertical-align: top;\n    }\n\n    .dataframe thead th {\n        text-align: right;\n    }\n</style>\n<table border=\"1\" class=\"dataframe\">\n  <thead>\n    <tr style=\"text-align: right;\">\n      <th></th>\n      <th>Accuracy</th>\n      <th>precision</th>\n      <th>recall</th>\n      <th>f1</th>\n      <th>roc</th>\n    </tr>\n  </thead>\n  <tbody>\n    <tr>\n      <th>LogiReg</th>\n      <td>0.725932</td>\n      <td>0.005658</td>\n      <td>0.571429</td>\n      <td>0.011204</td>\n      <td>0.648891</td>\n    </tr>\n    <tr>\n      <th>DecisionTree</th>\n      <td>0.629270</td>\n      <td>0.002101</td>\n      <td>0.285714</td>\n      <td>0.004171</td>\n      <td>0.457960</td>\n    </tr>\n    <tr>\n      <th>RandomFore</th>\n      <td>0.824146</td>\n      <td>0.004444</td>\n      <td>0.285714</td>\n      <td>0.008753</td>\n      <td>0.555664</td>\n    </tr>\n    <tr>\n      <th>LGBM</th>\n      <td>0.829581</td>\n      <td>0.004587</td>\n      <td>0.285714</td>\n      <td>0.009029</td>\n      <td>0.558388</td>\n    </tr>\n    <tr>\n      <th>SVC</th>\n      <td>0.731366</td>\n      <td>0.005772</td>\n      <td>0.571429</td>\n      <td>0.011429</td>\n      <td>0.651615</td>\n    </tr>\n  </tbody>\n</table>\n</div>"
     },
     "metadata": {},
     "execution_count": 54
    }
   ],
   "source": [
    "# 복합 샘플링 적용 \n",
    "\n",
    "from imblearn.combine import SMOTEENN\n",
    "sme = SMOTEENN(random_state=13)\n",
    "X_train_sme, y_train_sme = sme.fit_sample(X_train, y_train)\n",
    "\n",
    "\n",
    "model_names = ['LogiReg', 'DecisionTree', 'RandomFore','LGBM','SVC']\n",
    "results = get_result_df(models, model_names, X_train_sme, y_train_sme, X_valid, y_valid)\n",
    "\n",
    "results"
   ]
  },
  {
   "source": [
    "## Trial #9\n",
    "## 불필요 feature 삭제\n",
    "## ssscale / pca(n=2) / smotetomek"
   ],
   "cell_type": "markdown",
   "metadata": {}
  },
  {
   "cell_type": "code",
   "execution_count": 55,
   "metadata": {},
   "outputs": [],
   "source": [
    "df_9 = df.copy()\n",
    "df_9 = df_9.drop(columns=['sharing_type', 'has_previous_accident','b2b','accident_ratio','socarpass', 'car_part2'])\n",
    "df_9\n",
    "\n",
    "y_target = df_9['fraud_YN']\n",
    "X_features = df_9.drop('fraud_YN', axis=1)\n",
    "\n",
    "y_target = df_9['fraud_YN'].reset_index()\n",
    "y_target = y_target.drop('index', axis=1)"
   ]
  },
  {
   "cell_type": "code",
   "execution_count": 56,
   "metadata": {},
   "outputs": [
    {
     "output_type": "execute_result",
     "data": {
      "text/plain": [
       "       component_1  component_2  target\n",
       "12874    -0.997455    -0.429202       0\n",
       "12875    -1.084396     1.179995       0\n",
       "12876    -1.041136    -0.196668       0\n",
       "12877    -1.248378     0.121996       0\n",
       "12878    -1.167814    -1.607929       0"
      ],
      "text/html": "<div>\n<style scoped>\n    .dataframe tbody tr th:only-of-type {\n        vertical-align: middle;\n    }\n\n    .dataframe tbody tr th {\n        vertical-align: top;\n    }\n\n    .dataframe thead th {\n        text-align: right;\n    }\n</style>\n<table border=\"1\" class=\"dataframe\">\n  <thead>\n    <tr style=\"text-align: right;\">\n      <th></th>\n      <th>component_1</th>\n      <th>component_2</th>\n      <th>target</th>\n    </tr>\n  </thead>\n  <tbody>\n    <tr>\n      <th>12874</th>\n      <td>-0.997455</td>\n      <td>-0.429202</td>\n      <td>0</td>\n    </tr>\n    <tr>\n      <th>12875</th>\n      <td>-1.084396</td>\n      <td>1.179995</td>\n      <td>0</td>\n    </tr>\n    <tr>\n      <th>12876</th>\n      <td>-1.041136</td>\n      <td>-0.196668</td>\n      <td>0</td>\n    </tr>\n    <tr>\n      <th>12877</th>\n      <td>-1.248378</td>\n      <td>0.121996</td>\n      <td>0</td>\n    </tr>\n    <tr>\n      <th>12878</th>\n      <td>-1.167814</td>\n      <td>-1.607929</td>\n      <td>0</td>\n    </tr>\n  </tbody>\n</table>\n</div>"
     },
     "metadata": {},
     "execution_count": 56
    }
   ],
   "source": [
    "from sklearn.decomposition import PCA\n",
    "from sklearn.preprocessing import StandardScaler\n",
    "\n",
    "scaler = StandardScaler()\n",
    "df_scaled = scaler.fit_transform(X_features)\n",
    "\n",
    "pca = PCA(n_components=2)\n",
    "pca.fit(df_scaled)\n",
    "df_pca = pca.transform(df_scaled)\n",
    "\n",
    "pca_columns = ['component_1','component_2']\n",
    "\n",
    "DF_pca = pd.DataFrame(df_pca, columns=pca_columns)\n",
    "DF_pca['target'] = y_target \n",
    "DF_pca.tail()\n"
   ]
  },
  {
   "cell_type": "code",
   "execution_count": 57,
   "metadata": {},
   "outputs": [
    {
     "output_type": "execute_result",
     "data": {
      "text/plain": [
       "              Accuracy  precision  recall   f1       roc\n",
       "LogiReg       0.997283        0.0     0.0  0.0  0.500000\n",
       "DecisionTree  0.996894        0.0     0.0  0.0  0.499805\n",
       "RandomFore    0.997283        0.0     0.0  0.0  0.500000\n",
       "LGBM          0.996894        0.0     0.0  0.0  0.499805\n",
       "SVC           0.997283        0.0     0.0  0.0  0.500000"
      ],
      "text/html": "<div>\n<style scoped>\n    .dataframe tbody tr th:only-of-type {\n        vertical-align: middle;\n    }\n\n    .dataframe tbody tr th {\n        vertical-align: top;\n    }\n\n    .dataframe thead th {\n        text-align: right;\n    }\n</style>\n<table border=\"1\" class=\"dataframe\">\n  <thead>\n    <tr style=\"text-align: right;\">\n      <th></th>\n      <th>Accuracy</th>\n      <th>precision</th>\n      <th>recall</th>\n      <th>f1</th>\n      <th>roc</th>\n    </tr>\n  </thead>\n  <tbody>\n    <tr>\n      <th>LogiReg</th>\n      <td>0.997283</td>\n      <td>0.0</td>\n      <td>0.0</td>\n      <td>0.0</td>\n      <td>0.500000</td>\n    </tr>\n    <tr>\n      <th>DecisionTree</th>\n      <td>0.996894</td>\n      <td>0.0</td>\n      <td>0.0</td>\n      <td>0.0</td>\n      <td>0.499805</td>\n    </tr>\n    <tr>\n      <th>RandomFore</th>\n      <td>0.997283</td>\n      <td>0.0</td>\n      <td>0.0</td>\n      <td>0.0</td>\n      <td>0.500000</td>\n    </tr>\n    <tr>\n      <th>LGBM</th>\n      <td>0.996894</td>\n      <td>0.0</td>\n      <td>0.0</td>\n      <td>0.0</td>\n      <td>0.499805</td>\n    </tr>\n    <tr>\n      <th>SVC</th>\n      <td>0.997283</td>\n      <td>0.0</td>\n      <td>0.0</td>\n      <td>0.0</td>\n      <td>0.500000</td>\n    </tr>\n  </tbody>\n</table>\n</div>"
     },
     "metadata": {},
     "execution_count": 57
    }
   ],
   "source": [
    "y_target = DF_pca['target']\n",
    "X_features = DF_pca.drop('target', axis= 1)\n",
    "\n",
    "\n",
    "X_train, X_valid, y_train, y_valid = train_test_split(X_features, y_target, test_size =0.2, random_state=13, stratify= y_target)\n",
    "\n",
    "# 모델 객체 생성 \n",
    "lr_clf = LogisticRegression(random_state=13)\n",
    "dt_clf = DecisionTreeClassifier(random_state=13, max_depth=4)\n",
    "rf_clf = RandomForestClassifier(random_state=13, n_jobs = -1, n_estimators= 100 )\n",
    "lgbm_clf = LGBMClassifier(n_estimators=1000, num_leaves=64, n_jobs=-1, boost_from_average = False)\n",
    "svm_clf = LinearSVC()\n",
    "\n",
    "# 학습 진행 \n",
    "models=[lr_clf,dt_clf,rf_clf,lgbm_clf,svm_clf] \n",
    "model_names = ['LogiReg', 'DecisionTree', 'RandomFore','LGBM','SVC']\n",
    "results = get_result_df(models, model_names, X_train, y_train, X_valid, y_valid)\n",
    "\n",
    "results \n"
   ]
  },
  {
   "cell_type": "code",
   "execution_count": 58,
   "metadata": {},
   "outputs": [
    {
     "output_type": "execute_result",
     "data": {
      "text/plain": [
       "              Accuracy  precision    recall        f1       roc\n",
       "LogiReg       0.732531   0.005797  0.571429  0.011478  0.652199\n",
       "DecisionTree  0.717003   0.002755  0.285714  0.005457  0.501946\n",
       "RandomFore    0.863354   0.002882  0.142857  0.005650  0.504087\n",
       "LGBM          0.860637   0.002825  0.142857  0.005540  0.502725\n",
       "SVC           0.736413   0.005882  0.571429  0.011645  0.654146"
      ],
      "text/html": "<div>\n<style scoped>\n    .dataframe tbody tr th:only-of-type {\n        vertical-align: middle;\n    }\n\n    .dataframe tbody tr th {\n        vertical-align: top;\n    }\n\n    .dataframe thead th {\n        text-align: right;\n    }\n</style>\n<table border=\"1\" class=\"dataframe\">\n  <thead>\n    <tr style=\"text-align: right;\">\n      <th></th>\n      <th>Accuracy</th>\n      <th>precision</th>\n      <th>recall</th>\n      <th>f1</th>\n      <th>roc</th>\n    </tr>\n  </thead>\n  <tbody>\n    <tr>\n      <th>LogiReg</th>\n      <td>0.732531</td>\n      <td>0.005797</td>\n      <td>0.571429</td>\n      <td>0.011478</td>\n      <td>0.652199</td>\n    </tr>\n    <tr>\n      <th>DecisionTree</th>\n      <td>0.717003</td>\n      <td>0.002755</td>\n      <td>0.285714</td>\n      <td>0.005457</td>\n      <td>0.501946</td>\n    </tr>\n    <tr>\n      <th>RandomFore</th>\n      <td>0.863354</td>\n      <td>0.002882</td>\n      <td>0.142857</td>\n      <td>0.005650</td>\n      <td>0.504087</td>\n    </tr>\n    <tr>\n      <th>LGBM</th>\n      <td>0.860637</td>\n      <td>0.002825</td>\n      <td>0.142857</td>\n      <td>0.005540</td>\n      <td>0.502725</td>\n    </tr>\n    <tr>\n      <th>SVC</th>\n      <td>0.736413</td>\n      <td>0.005882</td>\n      <td>0.571429</td>\n      <td>0.011645</td>\n      <td>0.654146</td>\n    </tr>\n  </tbody>\n</table>\n</div>"
     },
     "metadata": {},
     "execution_count": 58
    }
   ],
   "source": [
    "# 복합 샘플링 적용 \n",
    "\n",
    "from imblearn.combine import SMOTETomek\n",
    "tmk = SMOTETomek(random_state=13)\n",
    "X_train_tmk, y_train_tmk = tmk.fit_sample(X_train, y_train)\n",
    "\n",
    "\n",
    "model_names = ['LogiReg', 'DecisionTree', 'RandomFore','LGBM','SVC']\n",
    "results = get_result_df(models, model_names, X_train_tmk, y_train_tmk, X_valid, y_valid)\n",
    "\n",
    "results"
   ]
  },
  {
   "source": [
    "## Trial #10\n",
    "## 불필요 feature 삭제\n",
    "## ssscale / pca(n=3) / smoteenn"
   ],
   "cell_type": "markdown",
   "metadata": {}
  },
  {
   "cell_type": "code",
   "execution_count": 59,
   "metadata": {},
   "outputs": [],
   "source": [
    "df_10 = df.copy()\n",
    "df_10 = df_10.drop(columns=['sharing_type', 'has_previous_accident','b2b','accident_ratio','socarpass', 'car_part2'])\n",
    "df_10\n",
    "\n",
    "y_target = df_10['fraud_YN']\n",
    "X_features = df_10.drop('fraud_YN', axis=1)\n",
    "\n",
    "y_target = df_10['fraud_YN'].reset_index()\n",
    "y_target = y_target.drop('index', axis=1)"
   ]
  },
  {
   "cell_type": "code",
   "execution_count": 60,
   "metadata": {},
   "outputs": [
    {
     "output_type": "execute_result",
     "data": {
      "text/plain": [
       "       component_1  component_2  component_3  target\n",
       "12874    -0.997338    -0.391127    -0.122761       0\n",
       "12875    -1.084459     1.186246    -1.040574       0\n",
       "12876    -1.041145    -0.188972     1.261117       0\n",
       "12877    -1.248418     0.112574     0.418119       0\n",
       "12878    -1.167909    -1.644492     1.514023       0"
      ],
      "text/html": "<div>\n<style scoped>\n    .dataframe tbody tr th:only-of-type {\n        vertical-align: middle;\n    }\n\n    .dataframe tbody tr th {\n        vertical-align: top;\n    }\n\n    .dataframe thead th {\n        text-align: right;\n    }\n</style>\n<table border=\"1\" class=\"dataframe\">\n  <thead>\n    <tr style=\"text-align: right;\">\n      <th></th>\n      <th>component_1</th>\n      <th>component_2</th>\n      <th>component_3</th>\n      <th>target</th>\n    </tr>\n  </thead>\n  <tbody>\n    <tr>\n      <th>12874</th>\n      <td>-0.997338</td>\n      <td>-0.391127</td>\n      <td>-0.122761</td>\n      <td>0</td>\n    </tr>\n    <tr>\n      <th>12875</th>\n      <td>-1.084459</td>\n      <td>1.186246</td>\n      <td>-1.040574</td>\n      <td>0</td>\n    </tr>\n    <tr>\n      <th>12876</th>\n      <td>-1.041145</td>\n      <td>-0.188972</td>\n      <td>1.261117</td>\n      <td>0</td>\n    </tr>\n    <tr>\n      <th>12877</th>\n      <td>-1.248418</td>\n      <td>0.112574</td>\n      <td>0.418119</td>\n      <td>0</td>\n    </tr>\n    <tr>\n      <th>12878</th>\n      <td>-1.167909</td>\n      <td>-1.644492</td>\n      <td>1.514023</td>\n      <td>0</td>\n    </tr>\n  </tbody>\n</table>\n</div>"
     },
     "metadata": {},
     "execution_count": 60
    }
   ],
   "source": [
    "from sklearn.decomposition import PCA\n",
    "from sklearn.preprocessing import StandardScaler\n",
    "\n",
    "scaler = StandardScaler()\n",
    "df_scaled = scaler.fit_transform(X_features)\n",
    "\n",
    "pca = PCA(n_components=3)\n",
    "pca.fit(df_scaled)\n",
    "df_pca = pca.transform(df_scaled)\n",
    "\n",
    "pca_columns = ['component_1','component_2','component_3']\n",
    "\n",
    "DF_pca = pd.DataFrame(df_pca, columns=pca_columns)\n",
    "DF_pca['target'] = y_target \n",
    "DF_pca.tail()"
   ]
  },
  {
   "cell_type": "code",
   "execution_count": 61,
   "metadata": {},
   "outputs": [
    {
     "output_type": "execute_result",
     "data": {
      "text/plain": [
       "              Accuracy  precision  recall   f1  roc\n",
       "LogiReg       0.997283        0.0     0.0  0.0  0.5\n",
       "DecisionTree  0.997283        0.0     0.0  0.0  0.5\n",
       "RandomFore    0.997283        0.0     0.0  0.0  0.5\n",
       "LGBM          0.997283        0.0     0.0  0.0  0.5\n",
       "SVC           0.997283        0.0     0.0  0.0  0.5"
      ],
      "text/html": "<div>\n<style scoped>\n    .dataframe tbody tr th:only-of-type {\n        vertical-align: middle;\n    }\n\n    .dataframe tbody tr th {\n        vertical-align: top;\n    }\n\n    .dataframe thead th {\n        text-align: right;\n    }\n</style>\n<table border=\"1\" class=\"dataframe\">\n  <thead>\n    <tr style=\"text-align: right;\">\n      <th></th>\n      <th>Accuracy</th>\n      <th>precision</th>\n      <th>recall</th>\n      <th>f1</th>\n      <th>roc</th>\n    </tr>\n  </thead>\n  <tbody>\n    <tr>\n      <th>LogiReg</th>\n      <td>0.997283</td>\n      <td>0.0</td>\n      <td>0.0</td>\n      <td>0.0</td>\n      <td>0.5</td>\n    </tr>\n    <tr>\n      <th>DecisionTree</th>\n      <td>0.997283</td>\n      <td>0.0</td>\n      <td>0.0</td>\n      <td>0.0</td>\n      <td>0.5</td>\n    </tr>\n    <tr>\n      <th>RandomFore</th>\n      <td>0.997283</td>\n      <td>0.0</td>\n      <td>0.0</td>\n      <td>0.0</td>\n      <td>0.5</td>\n    </tr>\n    <tr>\n      <th>LGBM</th>\n      <td>0.997283</td>\n      <td>0.0</td>\n      <td>0.0</td>\n      <td>0.0</td>\n      <td>0.5</td>\n    </tr>\n    <tr>\n      <th>SVC</th>\n      <td>0.997283</td>\n      <td>0.0</td>\n      <td>0.0</td>\n      <td>0.0</td>\n      <td>0.5</td>\n    </tr>\n  </tbody>\n</table>\n</div>"
     },
     "metadata": {},
     "execution_count": 61
    }
   ],
   "source": [
    "y_target = DF_pca['target']\n",
    "X_features = DF_pca.drop('target', axis= 1)\n",
    "\n",
    "\n",
    "X_train, X_valid, y_train, y_valid = train_test_split(X_features, y_target, test_size =0.2, random_state=13, stratify= y_target)\n",
    "\n",
    "# 모델 객체 생성 \n",
    "lr_clf = LogisticRegression(random_state=13)\n",
    "dt_clf = DecisionTreeClassifier(random_state=13, max_depth=4)\n",
    "rf_clf = RandomForestClassifier(random_state=13, n_jobs = -1, n_estimators= 100 )\n",
    "lgbm_clf = LGBMClassifier(n_estimators=1000, num_leaves=64, n_jobs=-1, boost_from_average = False)\n",
    "svm_clf = LinearSVC()\n",
    "\n",
    "# 학습 진행 \n",
    "models=[lr_clf,dt_clf,rf_clf,lgbm_clf,svm_clf] \n",
    "model_names = ['LogiReg', 'DecisionTree', 'RandomFore','LGBM','SVC']\n",
    "results = get_result_df(models, model_names, X_train, y_train, X_valid, y_valid)\n",
    "results \n"
   ]
  },
  {
   "cell_type": "code",
   "execution_count": 62,
   "metadata": {},
   "outputs": [
    {
     "output_type": "execute_result",
     "data": {
      "text/plain": [
       "              Accuracy  precision    recall        f1       roc\n",
       "LogiReg       0.692935   0.006297  0.714286  0.012484  0.703581\n",
       "DecisionTree  0.394798   0.002564  0.571429  0.005105  0.482873\n",
       "RandomFore    0.911879   0.000000  0.000000  0.000000  0.457182\n",
       "LGBM          0.909161   0.000000  0.000000  0.000000  0.455819\n",
       "SVC           0.701475   0.006477  0.714286  0.012837  0.707863"
      ],
      "text/html": "<div>\n<style scoped>\n    .dataframe tbody tr th:only-of-type {\n        vertical-align: middle;\n    }\n\n    .dataframe tbody tr th {\n        vertical-align: top;\n    }\n\n    .dataframe thead th {\n        text-align: right;\n    }\n</style>\n<table border=\"1\" class=\"dataframe\">\n  <thead>\n    <tr style=\"text-align: right;\">\n      <th></th>\n      <th>Accuracy</th>\n      <th>precision</th>\n      <th>recall</th>\n      <th>f1</th>\n      <th>roc</th>\n    </tr>\n  </thead>\n  <tbody>\n    <tr>\n      <th>LogiReg</th>\n      <td>0.692935</td>\n      <td>0.006297</td>\n      <td>0.714286</td>\n      <td>0.012484</td>\n      <td>0.703581</td>\n    </tr>\n    <tr>\n      <th>DecisionTree</th>\n      <td>0.394798</td>\n      <td>0.002564</td>\n      <td>0.571429</td>\n      <td>0.005105</td>\n      <td>0.482873</td>\n    </tr>\n    <tr>\n      <th>RandomFore</th>\n      <td>0.911879</td>\n      <td>0.000000</td>\n      <td>0.000000</td>\n      <td>0.000000</td>\n      <td>0.457182</td>\n    </tr>\n    <tr>\n      <th>LGBM</th>\n      <td>0.909161</td>\n      <td>0.000000</td>\n      <td>0.000000</td>\n      <td>0.000000</td>\n      <td>0.455819</td>\n    </tr>\n    <tr>\n      <th>SVC</th>\n      <td>0.701475</td>\n      <td>0.006477</td>\n      <td>0.714286</td>\n      <td>0.012837</td>\n      <td>0.707863</td>\n    </tr>\n  </tbody>\n</table>\n</div>"
     },
     "metadata": {},
     "execution_count": 62
    }
   ],
   "source": [
    "# 복합 샘플링 적용 \n",
    "\n",
    "from imblearn.combine import SMOTEENN\n",
    "sme = SMOTEENN(random_state=13)\n",
    "X_train_sme, y_train_sme = sme.fit_sample(X_train, y_train)\n",
    "\n",
    "\n",
    "model_names = ['LogiReg', 'DecisionTree', 'RandomFore','LGBM','SVC']\n",
    "results = get_result_df(models, model_names, X_train_sme, y_train_sme, X_valid, y_valid)\n",
    "\n",
    "results"
   ]
  },
  {
   "source": [
    "## Trial #11\n",
    "## 불필요 feature 삭제\n",
    "## ssscale / pca(n=3) / smote-tomek"
   ],
   "cell_type": "markdown",
   "metadata": {}
  },
  {
   "cell_type": "code",
   "execution_count": 63,
   "metadata": {},
   "outputs": [],
   "source": [
    "df_11 = df.copy()\n",
    "df_11 = df_11.drop(columns=['sharing_type', 'has_previous_accident','b2b','accident_ratio','socarpass', 'car_part2'])\n",
    "df_11\n",
    "\n",
    "y_target = df_11['fraud_YN']\n",
    "X_features = df_11.drop('fraud_YN', axis=1)\n",
    "\n",
    "y_target = df_11['fraud_YN'].reset_index()\n",
    "y_target = y_target.drop('index', axis=1)"
   ]
  },
  {
   "cell_type": "code",
   "execution_count": 64,
   "metadata": {},
   "outputs": [
    {
     "output_type": "execute_result",
     "data": {
      "text/plain": [
       "       component_1  component_2  component_3  target\n",
       "12874    -0.997232    -0.396969    -0.106826       0\n",
       "12875    -1.084406     1.196095    -1.035607       0\n",
       "12876    -1.041042    -0.192480     1.274568       0\n",
       "12877    -1.248462     0.114674     0.411528       0\n",
       "12878    -1.167995    -1.643799     1.503551       0"
      ],
      "text/html": "<div>\n<style scoped>\n    .dataframe tbody tr th:only-of-type {\n        vertical-align: middle;\n    }\n\n    .dataframe tbody tr th {\n        vertical-align: top;\n    }\n\n    .dataframe thead th {\n        text-align: right;\n    }\n</style>\n<table border=\"1\" class=\"dataframe\">\n  <thead>\n    <tr style=\"text-align: right;\">\n      <th></th>\n      <th>component_1</th>\n      <th>component_2</th>\n      <th>component_3</th>\n      <th>target</th>\n    </tr>\n  </thead>\n  <tbody>\n    <tr>\n      <th>12874</th>\n      <td>-0.997232</td>\n      <td>-0.396969</td>\n      <td>-0.106826</td>\n      <td>0</td>\n    </tr>\n    <tr>\n      <th>12875</th>\n      <td>-1.084406</td>\n      <td>1.196095</td>\n      <td>-1.035607</td>\n      <td>0</td>\n    </tr>\n    <tr>\n      <th>12876</th>\n      <td>-1.041042</td>\n      <td>-0.192480</td>\n      <td>1.274568</td>\n      <td>0</td>\n    </tr>\n    <tr>\n      <th>12877</th>\n      <td>-1.248462</td>\n      <td>0.114674</td>\n      <td>0.411528</td>\n      <td>0</td>\n    </tr>\n    <tr>\n      <th>12878</th>\n      <td>-1.167995</td>\n      <td>-1.643799</td>\n      <td>1.503551</td>\n      <td>0</td>\n    </tr>\n  </tbody>\n</table>\n</div>"
     },
     "metadata": {},
     "execution_count": 64
    }
   ],
   "source": [
    "from sklearn.decomposition import PCA\n",
    "from sklearn.preprocessing import StandardScaler\n",
    "\n",
    "scaler = StandardScaler()\n",
    "df_scaled = scaler.fit_transform(X_features)\n",
    "\n",
    "pca = PCA(n_components=3)\n",
    "pca.fit(df_scaled)\n",
    "df_pca = pca.transform(df_scaled)\n",
    "\n",
    "pca_columns = ['component_1','component_2','component_3']\n",
    "\n",
    "DF_pca = pd.DataFrame(df_pca, columns=pca_columns)\n",
    "DF_pca['target'] = y_target \n",
    "DF_pca.tail()"
   ]
  },
  {
   "cell_type": "code",
   "execution_count": 65,
   "metadata": {},
   "outputs": [
    {
     "output_type": "execute_result",
     "data": {
      "text/plain": [
       "              Accuracy  precision  recall   f1  roc\n",
       "LogiReg       0.997283        0.0     0.0  0.0  0.5\n",
       "DecisionTree  0.997283        0.0     0.0  0.0  0.5\n",
       "RandomFore    0.997283        0.0     0.0  0.0  0.5\n",
       "LGBM          0.997283        0.0     0.0  0.0  0.5\n",
       "SVC           0.997283        0.0     0.0  0.0  0.5"
      ],
      "text/html": "<div>\n<style scoped>\n    .dataframe tbody tr th:only-of-type {\n        vertical-align: middle;\n    }\n\n    .dataframe tbody tr th {\n        vertical-align: top;\n    }\n\n    .dataframe thead th {\n        text-align: right;\n    }\n</style>\n<table border=\"1\" class=\"dataframe\">\n  <thead>\n    <tr style=\"text-align: right;\">\n      <th></th>\n      <th>Accuracy</th>\n      <th>precision</th>\n      <th>recall</th>\n      <th>f1</th>\n      <th>roc</th>\n    </tr>\n  </thead>\n  <tbody>\n    <tr>\n      <th>LogiReg</th>\n      <td>0.997283</td>\n      <td>0.0</td>\n      <td>0.0</td>\n      <td>0.0</td>\n      <td>0.5</td>\n    </tr>\n    <tr>\n      <th>DecisionTree</th>\n      <td>0.997283</td>\n      <td>0.0</td>\n      <td>0.0</td>\n      <td>0.0</td>\n      <td>0.5</td>\n    </tr>\n    <tr>\n      <th>RandomFore</th>\n      <td>0.997283</td>\n      <td>0.0</td>\n      <td>0.0</td>\n      <td>0.0</td>\n      <td>0.5</td>\n    </tr>\n    <tr>\n      <th>LGBM</th>\n      <td>0.997283</td>\n      <td>0.0</td>\n      <td>0.0</td>\n      <td>0.0</td>\n      <td>0.5</td>\n    </tr>\n    <tr>\n      <th>SVC</th>\n      <td>0.997283</td>\n      <td>0.0</td>\n      <td>0.0</td>\n      <td>0.0</td>\n      <td>0.5</td>\n    </tr>\n  </tbody>\n</table>\n</div>"
     },
     "metadata": {},
     "execution_count": 65
    }
   ],
   "source": [
    "y_target = DF_pca['target']\n",
    "X_features = DF_pca.drop('target', axis= 1)\n",
    "\n",
    "\n",
    "X_train, X_valid, y_train, y_valid = train_test_split(X_features, y_target, test_size =0.2, random_state=13, stratify= y_target)\n",
    "\n",
    "# 모델 객체 생성 \n",
    "lr_clf = LogisticRegression(random_state=13)\n",
    "dt_clf = DecisionTreeClassifier(random_state=13, max_depth=4)\n",
    "rf_clf = RandomForestClassifier(random_state=13, n_jobs = -1, n_estimators= 100 )\n",
    "lgbm_clf = LGBMClassifier(n_estimators=1000, num_leaves=64, n_jobs=-1, boost_from_average = False)\n",
    "svm_clf = LinearSVC()\n",
    "\n",
    "# 학습 진행 \n",
    "models=[lr_clf,dt_clf,rf_clf,lgbm_clf,svm_clf] \n",
    "model_names = ['LogiReg', 'DecisionTree', 'RandomFore','LGBM','SVC']\n",
    "results = get_result_df(models, model_names, X_train, y_train, X_valid, y_valid)\n",
    "results \n"
   ]
  },
  {
   "cell_type": "code",
   "execution_count": 66,
   "metadata": {},
   "outputs": [
    {
     "output_type": "execute_result",
     "data": {
      "text/plain": [
       "              Accuracy  precision    recall        f1       roc\n",
       "LogiReg       0.726708   0.005674  0.571429  0.011236  0.649280\n",
       "DecisionTree  0.399845   0.002586  0.571429  0.005148  0.485403\n",
       "RandomFore    0.947981   0.000000  0.000000  0.000000  0.475282\n",
       "LGBM          0.945652   0.000000  0.000000  0.000000  0.474114\n",
       "SVC           0.728261   0.005706  0.571429  0.011299  0.650058"
      ],
      "text/html": "<div>\n<style scoped>\n    .dataframe tbody tr th:only-of-type {\n        vertical-align: middle;\n    }\n\n    .dataframe tbody tr th {\n        vertical-align: top;\n    }\n\n    .dataframe thead th {\n        text-align: right;\n    }\n</style>\n<table border=\"1\" class=\"dataframe\">\n  <thead>\n    <tr style=\"text-align: right;\">\n      <th></th>\n      <th>Accuracy</th>\n      <th>precision</th>\n      <th>recall</th>\n      <th>f1</th>\n      <th>roc</th>\n    </tr>\n  </thead>\n  <tbody>\n    <tr>\n      <th>LogiReg</th>\n      <td>0.726708</td>\n      <td>0.005674</td>\n      <td>0.571429</td>\n      <td>0.011236</td>\n      <td>0.649280</td>\n    </tr>\n    <tr>\n      <th>DecisionTree</th>\n      <td>0.399845</td>\n      <td>0.002586</td>\n      <td>0.571429</td>\n      <td>0.005148</td>\n      <td>0.485403</td>\n    </tr>\n    <tr>\n      <th>RandomFore</th>\n      <td>0.947981</td>\n      <td>0.000000</td>\n      <td>0.000000</td>\n      <td>0.000000</td>\n      <td>0.475282</td>\n    </tr>\n    <tr>\n      <th>LGBM</th>\n      <td>0.945652</td>\n      <td>0.000000</td>\n      <td>0.000000</td>\n      <td>0.000000</td>\n      <td>0.474114</td>\n    </tr>\n    <tr>\n      <th>SVC</th>\n      <td>0.728261</td>\n      <td>0.005706</td>\n      <td>0.571429</td>\n      <td>0.011299</td>\n      <td>0.650058</td>\n    </tr>\n  </tbody>\n</table>\n</div>"
     },
     "metadata": {},
     "execution_count": 66
    }
   ],
   "source": [
    "# 복합 샘플링 적용 \n",
    "\n",
    "from imblearn.combine import SMOTETomek\n",
    "tmk = SMOTETomek(random_state=13)\n",
    "X_train_tmk, y_train_tmk = tmk.fit_sample(X_train, y_train)\n",
    "\n",
    "\n",
    "model_names = ['LogiReg', 'DecisionTree', 'RandomFore','LGBM','SVC']\n",
    "results = get_result_df(models, model_names, X_train_tmk, y_train_tmk, X_valid, y_valid)\n",
    "\n",
    "results"
   ]
  },
  {
   "source": [
    "## Trial #12\n",
    "## 불필요 feature 삭제\n",
    "## ssscale / pca(n=4) / smoteen\n"
   ],
   "cell_type": "markdown",
   "metadata": {}
  },
  {
   "cell_type": "code",
   "execution_count": 76,
   "metadata": {},
   "outputs": [],
   "source": [
    "df_12 = df.copy()\n",
    "df_12 = df_12.drop(columns=['sharing_type', 'has_previous_accident','b2b','accident_ratio','socarpass', 'car_part2'])\n",
    "df_12\n",
    "\n",
    "y_target = df_12['fraud_YN']\n",
    "X_features = df_12.drop('fraud_YN', axis=1)\n",
    "\n",
    "y_target = df_12['fraud_YN'].reset_index()\n",
    "y_target = y_target.drop('index', axis=1)"
   ]
  },
  {
   "cell_type": "code",
   "execution_count": 77,
   "metadata": {},
   "outputs": [
    {
     "output_type": "execute_result",
     "data": {
      "text/plain": [
       "       component_1  component_2  component_3  component_4  target\n",
       "12874    -0.997281    -0.389817    -0.116317     0.552664       0\n",
       "12875    -1.084352     1.188931    -1.023974    -1.200307       0\n",
       "12876    -1.041084    -0.187462     1.266980     0.511580       0\n",
       "12877    -1.248455     0.111979     0.416285    -0.701233       0\n",
       "12878    -1.167983    -1.646121     1.503822     0.213860       0"
      ],
      "text/html": "<div>\n<style scoped>\n    .dataframe tbody tr th:only-of-type {\n        vertical-align: middle;\n    }\n\n    .dataframe tbody tr th {\n        vertical-align: top;\n    }\n\n    .dataframe thead th {\n        text-align: right;\n    }\n</style>\n<table border=\"1\" class=\"dataframe\">\n  <thead>\n    <tr style=\"text-align: right;\">\n      <th></th>\n      <th>component_1</th>\n      <th>component_2</th>\n      <th>component_3</th>\n      <th>component_4</th>\n      <th>target</th>\n    </tr>\n  </thead>\n  <tbody>\n    <tr>\n      <th>12874</th>\n      <td>-0.997281</td>\n      <td>-0.389817</td>\n      <td>-0.116317</td>\n      <td>0.552664</td>\n      <td>0</td>\n    </tr>\n    <tr>\n      <th>12875</th>\n      <td>-1.084352</td>\n      <td>1.188931</td>\n      <td>-1.023974</td>\n      <td>-1.200307</td>\n      <td>0</td>\n    </tr>\n    <tr>\n      <th>12876</th>\n      <td>-1.041084</td>\n      <td>-0.187462</td>\n      <td>1.266980</td>\n      <td>0.511580</td>\n      <td>0</td>\n    </tr>\n    <tr>\n      <th>12877</th>\n      <td>-1.248455</td>\n      <td>0.111979</td>\n      <td>0.416285</td>\n      <td>-0.701233</td>\n      <td>0</td>\n    </tr>\n    <tr>\n      <th>12878</th>\n      <td>-1.167983</td>\n      <td>-1.646121</td>\n      <td>1.503822</td>\n      <td>0.213860</td>\n      <td>0</td>\n    </tr>\n  </tbody>\n</table>\n</div>"
     },
     "metadata": {},
     "execution_count": 77
    }
   ],
   "source": [
    "from sklearn.decomposition import PCA\n",
    "from sklearn.preprocessing import StandardScaler\n",
    "\n",
    "scaler = StandardScaler()\n",
    "df_scaled = scaler.fit_transform(X_features)\n",
    "\n",
    "pca = PCA(n_components=4)\n",
    "pca.fit(df_scaled)\n",
    "df_pca = pca.transform(df_scaled)\n",
    "\n",
    "pca_columns = ['component_1','component_2','component_3','component_4']\n",
    "\n",
    "DF_pca = pd.DataFrame(df_pca, columns=pca_columns)\n",
    "DF_pca['target'] = y_target \n",
    "DF_pca.tail()"
   ]
  },
  {
   "cell_type": "code",
   "execution_count": 78,
   "metadata": {},
   "outputs": [
    {
     "output_type": "execute_result",
     "data": {
      "text/plain": [
       "              Accuracy  precision  recall   f1       roc\n",
       "LogiReg       0.997283        0.0     0.0  0.0  0.500000\n",
       "DecisionTree  0.995730        0.0     0.0  0.0  0.499221\n",
       "RandomFore    0.997283        0.0     0.0  0.0  0.500000\n",
       "LGBM          0.996894        0.0     0.0  0.0  0.499805\n",
       "SVC           0.997283        0.0     0.0  0.0  0.500000"
      ],
      "text/html": "<div>\n<style scoped>\n    .dataframe tbody tr th:only-of-type {\n        vertical-align: middle;\n    }\n\n    .dataframe tbody tr th {\n        vertical-align: top;\n    }\n\n    .dataframe thead th {\n        text-align: right;\n    }\n</style>\n<table border=\"1\" class=\"dataframe\">\n  <thead>\n    <tr style=\"text-align: right;\">\n      <th></th>\n      <th>Accuracy</th>\n      <th>precision</th>\n      <th>recall</th>\n      <th>f1</th>\n      <th>roc</th>\n    </tr>\n  </thead>\n  <tbody>\n    <tr>\n      <th>LogiReg</th>\n      <td>0.997283</td>\n      <td>0.0</td>\n      <td>0.0</td>\n      <td>0.0</td>\n      <td>0.500000</td>\n    </tr>\n    <tr>\n      <th>DecisionTree</th>\n      <td>0.995730</td>\n      <td>0.0</td>\n      <td>0.0</td>\n      <td>0.0</td>\n      <td>0.499221</td>\n    </tr>\n    <tr>\n      <th>RandomFore</th>\n      <td>0.997283</td>\n      <td>0.0</td>\n      <td>0.0</td>\n      <td>0.0</td>\n      <td>0.500000</td>\n    </tr>\n    <tr>\n      <th>LGBM</th>\n      <td>0.996894</td>\n      <td>0.0</td>\n      <td>0.0</td>\n      <td>0.0</td>\n      <td>0.499805</td>\n    </tr>\n    <tr>\n      <th>SVC</th>\n      <td>0.997283</td>\n      <td>0.0</td>\n      <td>0.0</td>\n      <td>0.0</td>\n      <td>0.500000</td>\n    </tr>\n  </tbody>\n</table>\n</div>"
     },
     "metadata": {},
     "execution_count": 78
    }
   ],
   "source": [
    "y_target = DF_pca['target']\n",
    "X_features = DF_pca.drop('target', axis= 1)\n",
    "\n",
    "\n",
    "X_train, X_valid, y_train, y_valid = train_test_split(X_features, y_target, test_size =0.2, random_state=13, stratify= y_target)\n",
    "\n",
    "# 모델 객체 생성 \n",
    "lr_clf = LogisticRegression(random_state=13)\n",
    "dt_clf = DecisionTreeClassifier(random_state=13, max_depth=4)\n",
    "rf_clf = RandomForestClassifier(random_state=13, n_jobs = -1, n_estimators= 100 )\n",
    "lgbm_clf = LGBMClassifier(n_estimators=1000, num_leaves=64, n_jobs=-1, boost_from_average = False)\n",
    "svm_clf = LinearSVC()\n",
    "\n",
    "# 학습 진행 \n",
    "models=[lr_clf,dt_clf,rf_clf,lgbm_clf,svm_clf] \n",
    "model_names = ['LogiReg', 'DecisionTree', 'RandomFore','LGBM','SVC']\n",
    "results = get_result_df(models, model_names, X_train, y_train, X_valid, y_valid)\n",
    "results \n"
   ]
  },
  {
   "cell_type": "code",
   "execution_count": 79,
   "metadata": {},
   "outputs": [
    {
     "output_type": "execute_result",
     "data": {
      "text/plain": [
       "              Accuracy  precision    recall        f1       roc\n",
       "LogiReg       0.642469   0.005411  0.714286  0.010741  0.678279\n",
       "DecisionTree  0.409161   0.002626  0.571429  0.005229  0.490074\n",
       "RandomFore    0.940994   0.000000  0.000000  0.000000  0.471779\n",
       "LGBM          0.936335   0.000000  0.000000  0.000000  0.469443\n",
       "SVC           0.651786   0.005556  0.714286  0.011025  0.682951"
      ],
      "text/html": "<div>\n<style scoped>\n    .dataframe tbody tr th:only-of-type {\n        vertical-align: middle;\n    }\n\n    .dataframe tbody tr th {\n        vertical-align: top;\n    }\n\n    .dataframe thead th {\n        text-align: right;\n    }\n</style>\n<table border=\"1\" class=\"dataframe\">\n  <thead>\n    <tr style=\"text-align: right;\">\n      <th></th>\n      <th>Accuracy</th>\n      <th>precision</th>\n      <th>recall</th>\n      <th>f1</th>\n      <th>roc</th>\n    </tr>\n  </thead>\n  <tbody>\n    <tr>\n      <th>LogiReg</th>\n      <td>0.642469</td>\n      <td>0.005411</td>\n      <td>0.714286</td>\n      <td>0.010741</td>\n      <td>0.678279</td>\n    </tr>\n    <tr>\n      <th>DecisionTree</th>\n      <td>0.409161</td>\n      <td>0.002626</td>\n      <td>0.571429</td>\n      <td>0.005229</td>\n      <td>0.490074</td>\n    </tr>\n    <tr>\n      <th>RandomFore</th>\n      <td>0.940994</td>\n      <td>0.000000</td>\n      <td>0.000000</td>\n      <td>0.000000</td>\n      <td>0.471779</td>\n    </tr>\n    <tr>\n      <th>LGBM</th>\n      <td>0.936335</td>\n      <td>0.000000</td>\n      <td>0.000000</td>\n      <td>0.000000</td>\n      <td>0.469443</td>\n    </tr>\n    <tr>\n      <th>SVC</th>\n      <td>0.651786</td>\n      <td>0.005556</td>\n      <td>0.714286</td>\n      <td>0.011025</td>\n      <td>0.682951</td>\n    </tr>\n  </tbody>\n</table>\n</div>"
     },
     "metadata": {},
     "execution_count": 79
    }
   ],
   "source": [
    "# 복합 샘플링 적용 \n",
    "\n",
    "from imblearn.combine import SMOTEENN\n",
    "sme = SMOTEENN(random_state=13)\n",
    "X_train_sme, y_train_sme = sme.fit_sample(X_train, y_train)\n",
    "\n",
    "\n",
    "model_names = ['LogiReg', 'DecisionTree', 'RandomFore','LGBM','SVC']\n",
    "results = get_result_df(models, model_names, X_train_sme, y_train_sme, X_valid, y_valid)\n",
    "\n",
    "results"
   ]
  },
  {
   "source": [
    "## Trial #13\n",
    "## 불필요 feature 삭제\n",
    "## ssscale / pca(n=5) / smoteen"
   ],
   "cell_type": "markdown",
   "metadata": {}
  },
  {
   "cell_type": "code",
   "execution_count": 80,
   "metadata": {},
   "outputs": [],
   "source": [
    "df_13 = df.copy()\n",
    "df_13 = df_13.drop(columns=['sharing_type', 'has_previous_accident','b2b','accident_ratio','socarpass', 'car_part2'])\n",
    "df_13\n",
    "\n",
    "y_target = df_13['fraud_YN']\n",
    "X_features = df_13.drop('fraud_YN', axis=1)\n",
    "\n",
    "y_target = df_13['fraud_YN'].reset_index()\n",
    "y_target = y_target.drop('index', axis=1)"
   ]
  },
  {
   "cell_type": "code",
   "execution_count": 81,
   "metadata": {},
   "outputs": [
    {
     "output_type": "execute_result",
     "data": {
      "text/plain": [
       "       component_1  component_2  component_3  component_4  component_5  target\n",
       "12874    -0.997281    -0.389814    -0.116329     0.552666     0.174954       0\n",
       "12875    -1.084352     1.188922    -1.023928    -1.200317    -0.223161       0\n",
       "12876    -1.041084    -0.187458     1.266952     0.511587     0.279710       0\n",
       "12877    -1.248457     0.112034     0.416062    -0.701189     1.388940       0\n",
       "12878    -1.167983    -1.646129     1.503840     0.213857    -1.619871       0"
      ],
      "text/html": "<div>\n<style scoped>\n    .dataframe tbody tr th:only-of-type {\n        vertical-align: middle;\n    }\n\n    .dataframe tbody tr th {\n        vertical-align: top;\n    }\n\n    .dataframe thead th {\n        text-align: right;\n    }\n</style>\n<table border=\"1\" class=\"dataframe\">\n  <thead>\n    <tr style=\"text-align: right;\">\n      <th></th>\n      <th>component_1</th>\n      <th>component_2</th>\n      <th>component_3</th>\n      <th>component_4</th>\n      <th>component_5</th>\n      <th>target</th>\n    </tr>\n  </thead>\n  <tbody>\n    <tr>\n      <th>12874</th>\n      <td>-0.997281</td>\n      <td>-0.389814</td>\n      <td>-0.116329</td>\n      <td>0.552666</td>\n      <td>0.174954</td>\n      <td>0</td>\n    </tr>\n    <tr>\n      <th>12875</th>\n      <td>-1.084352</td>\n      <td>1.188922</td>\n      <td>-1.023928</td>\n      <td>-1.200317</td>\n      <td>-0.223161</td>\n      <td>0</td>\n    </tr>\n    <tr>\n      <th>12876</th>\n      <td>-1.041084</td>\n      <td>-0.187458</td>\n      <td>1.266952</td>\n      <td>0.511587</td>\n      <td>0.279710</td>\n      <td>0</td>\n    </tr>\n    <tr>\n      <th>12877</th>\n      <td>-1.248457</td>\n      <td>0.112034</td>\n      <td>0.416062</td>\n      <td>-0.701189</td>\n      <td>1.388940</td>\n      <td>0</td>\n    </tr>\n    <tr>\n      <th>12878</th>\n      <td>-1.167983</td>\n      <td>-1.646129</td>\n      <td>1.503840</td>\n      <td>0.213857</td>\n      <td>-1.619871</td>\n      <td>0</td>\n    </tr>\n  </tbody>\n</table>\n</div>"
     },
     "metadata": {},
     "execution_count": 81
    }
   ],
   "source": [
    "from sklearn.decomposition import PCA\n",
    "from sklearn.preprocessing import StandardScaler\n",
    "\n",
    "scaler = StandardScaler()\n",
    "df_scaled = scaler.fit_transform(X_features)\n",
    "\n",
    "pca = PCA(n_components=5)\n",
    "pca.fit(df_scaled)\n",
    "df_pca = pca.transform(df_scaled)\n",
    "\n",
    "pca_columns = ['component_1','component_2','component_3','component_4','component_5']\n",
    "\n",
    "DF_pca = pd.DataFrame(df_pca, columns=pca_columns)\n",
    "DF_pca['target'] = y_target \n",
    "DF_pca.tail()"
   ]
  },
  {
   "cell_type": "code",
   "execution_count": 82,
   "metadata": {},
   "outputs": [
    {
     "output_type": "execute_result",
     "data": {
      "text/plain": [
       "              Accuracy  precision  recall   f1       roc\n",
       "LogiReg       0.997283        0.0     0.0  0.0  0.500000\n",
       "DecisionTree  0.995730        0.0     0.0  0.0  0.499221\n",
       "RandomFore    0.997283        0.0     0.0  0.0  0.500000\n",
       "LGBM          0.997283        0.0     0.0  0.0  0.500000\n",
       "SVC           0.997283        0.0     0.0  0.0  0.500000"
      ],
      "text/html": "<div>\n<style scoped>\n    .dataframe tbody tr th:only-of-type {\n        vertical-align: middle;\n    }\n\n    .dataframe tbody tr th {\n        vertical-align: top;\n    }\n\n    .dataframe thead th {\n        text-align: right;\n    }\n</style>\n<table border=\"1\" class=\"dataframe\">\n  <thead>\n    <tr style=\"text-align: right;\">\n      <th></th>\n      <th>Accuracy</th>\n      <th>precision</th>\n      <th>recall</th>\n      <th>f1</th>\n      <th>roc</th>\n    </tr>\n  </thead>\n  <tbody>\n    <tr>\n      <th>LogiReg</th>\n      <td>0.997283</td>\n      <td>0.0</td>\n      <td>0.0</td>\n      <td>0.0</td>\n      <td>0.500000</td>\n    </tr>\n    <tr>\n      <th>DecisionTree</th>\n      <td>0.995730</td>\n      <td>0.0</td>\n      <td>0.0</td>\n      <td>0.0</td>\n      <td>0.499221</td>\n    </tr>\n    <tr>\n      <th>RandomFore</th>\n      <td>0.997283</td>\n      <td>0.0</td>\n      <td>0.0</td>\n      <td>0.0</td>\n      <td>0.500000</td>\n    </tr>\n    <tr>\n      <th>LGBM</th>\n      <td>0.997283</td>\n      <td>0.0</td>\n      <td>0.0</td>\n      <td>0.0</td>\n      <td>0.500000</td>\n    </tr>\n    <tr>\n      <th>SVC</th>\n      <td>0.997283</td>\n      <td>0.0</td>\n      <td>0.0</td>\n      <td>0.0</td>\n      <td>0.500000</td>\n    </tr>\n  </tbody>\n</table>\n</div>"
     },
     "metadata": {},
     "execution_count": 82
    }
   ],
   "source": [
    "y_target = DF_pca['target']\n",
    "X_features = DF_pca.drop('target', axis= 1)\n",
    "\n",
    "\n",
    "X_train, X_valid, y_train, y_valid = train_test_split(X_features, y_target, test_size =0.2, random_state=13, stratify= y_target)\n",
    "\n",
    "# 모델 객체 생성 \n",
    "lr_clf = LogisticRegression(random_state=13)\n",
    "dt_clf = DecisionTreeClassifier(random_state=13, max_depth=4)\n",
    "rf_clf = RandomForestClassifier(random_state=13, n_jobs = -1, n_estimators= 100 )\n",
    "lgbm_clf = LGBMClassifier(n_estimators=1000, num_leaves=64, n_jobs=-1, boost_from_average = False)\n",
    "svm_clf = LinearSVC()\n",
    "\n",
    "# 학습 진행 \n",
    "models=[lr_clf,dt_clf,rf_clf,lgbm_clf,svm_clf] \n",
    "model_names = ['LogiReg', 'DecisionTree', 'RandomFore','LGBM','SVC']\n",
    "results = get_result_df(models, model_names, X_train, y_train, X_valid, y_valid)\n",
    "results \n"
   ]
  },
  {
   "cell_type": "code",
   "execution_count": 84,
   "metadata": {},
   "outputs": [
    {
     "output_type": "execute_result",
     "data": {
      "text/plain": [
       "              Accuracy  precision    recall        f1       roc\n",
       "LogiReg       0.611025   0.004975  0.714286  0.009881  0.662515\n",
       "DecisionTree  0.679348   0.002430  0.285714  0.004819  0.483067\n",
       "RandomFore    0.967780   0.012821  0.142857  0.023529  0.556442\n",
       "LGBM          0.958075   0.000000  0.000000  0.000000  0.480343\n",
       "SVC           0.614907   0.005025  0.714286  0.009980  0.664461"
      ],
      "text/html": "<div>\n<style scoped>\n    .dataframe tbody tr th:only-of-type {\n        vertical-align: middle;\n    }\n\n    .dataframe tbody tr th {\n        vertical-align: top;\n    }\n\n    .dataframe thead th {\n        text-align: right;\n    }\n</style>\n<table border=\"1\" class=\"dataframe\">\n  <thead>\n    <tr style=\"text-align: right;\">\n      <th></th>\n      <th>Accuracy</th>\n      <th>precision</th>\n      <th>recall</th>\n      <th>f1</th>\n      <th>roc</th>\n    </tr>\n  </thead>\n  <tbody>\n    <tr>\n      <th>LogiReg</th>\n      <td>0.611025</td>\n      <td>0.004975</td>\n      <td>0.714286</td>\n      <td>0.009881</td>\n      <td>0.662515</td>\n    </tr>\n    <tr>\n      <th>DecisionTree</th>\n      <td>0.679348</td>\n      <td>0.002430</td>\n      <td>0.285714</td>\n      <td>0.004819</td>\n      <td>0.483067</td>\n    </tr>\n    <tr>\n      <th>RandomFore</th>\n      <td>0.967780</td>\n      <td>0.012821</td>\n      <td>0.142857</td>\n      <td>0.023529</td>\n      <td>0.556442</td>\n    </tr>\n    <tr>\n      <th>LGBM</th>\n      <td>0.958075</td>\n      <td>0.000000</td>\n      <td>0.000000</td>\n      <td>0.000000</td>\n      <td>0.480343</td>\n    </tr>\n    <tr>\n      <th>SVC</th>\n      <td>0.614907</td>\n      <td>0.005025</td>\n      <td>0.714286</td>\n      <td>0.009980</td>\n      <td>0.664461</td>\n    </tr>\n  </tbody>\n</table>\n</div>"
     },
     "metadata": {},
     "execution_count": 84
    }
   ],
   "source": [
    "# 복합 샘플링 적용 \n",
    "\n",
    "from imblearn.combine import SMOTEENN\n",
    "sme = SMOTEENN(random_state=13)\n",
    "X_train_sme, y_train_sme = sme.fit_sample(X_train, y_train)\n",
    "\n",
    "\n",
    "model_names = ['LogiReg', 'DecisionTree', 'RandomFore','LGBM','SVC']\n",
    "results = get_result_df(models, model_names, X_train_sme, y_train_sme, X_valid, y_valid)\n",
    "\n",
    "results"
   ]
  },
  {
   "source": [
    "## Trial #14\n",
    "## 불필요 feature 삭제\n",
    "## robustscale / pca(n=2) / smoteen"
   ],
   "cell_type": "markdown",
   "metadata": {}
  },
  {
   "cell_type": "code",
   "execution_count": 85,
   "metadata": {},
   "outputs": [],
   "source": [
    "df_14 = df.copy()\n",
    "df_14 = df_14.drop(columns=['sharing_type', 'has_previous_accident','b2b','accident_ratio','socarpass', 'car_part2'])\n",
    "df_14\n",
    "\n",
    "y_target = df_14['fraud_YN']\n",
    "X_features = df_14.drop('fraud_YN', axis=1)\n",
    "\n",
    "y_target = df_14['fraud_YN'].reset_index()\n",
    "y_target = y_target.drop('index', axis=1)"
   ]
  },
  {
   "cell_type": "code",
   "execution_count": 86,
   "metadata": {},
   "outputs": [
    {
     "output_type": "execute_result",
     "data": {
      "text/plain": [
       "   component_1  component_2  target\n",
       "0    -1.572293    -0.336286       0\n",
       "1    -1.330600     2.911762       0\n",
       "2     0.710055     0.955343       0\n",
       "3     0.723886    -1.467563       1\n",
       "4    -1.492137    -1.360312       0"
      ],
      "text/html": "<div>\n<style scoped>\n    .dataframe tbody tr th:only-of-type {\n        vertical-align: middle;\n    }\n\n    .dataframe tbody tr th {\n        vertical-align: top;\n    }\n\n    .dataframe thead th {\n        text-align: right;\n    }\n</style>\n<table border=\"1\" class=\"dataframe\">\n  <thead>\n    <tr style=\"text-align: right;\">\n      <th></th>\n      <th>component_1</th>\n      <th>component_2</th>\n      <th>target</th>\n    </tr>\n  </thead>\n  <tbody>\n    <tr>\n      <th>0</th>\n      <td>-1.572293</td>\n      <td>-0.336286</td>\n      <td>0</td>\n    </tr>\n    <tr>\n      <th>1</th>\n      <td>-1.330600</td>\n      <td>2.911762</td>\n      <td>0</td>\n    </tr>\n    <tr>\n      <th>2</th>\n      <td>0.710055</td>\n      <td>0.955343</td>\n      <td>0</td>\n    </tr>\n    <tr>\n      <th>3</th>\n      <td>0.723886</td>\n      <td>-1.467563</td>\n      <td>1</td>\n    </tr>\n    <tr>\n      <th>4</th>\n      <td>-1.492137</td>\n      <td>-1.360312</td>\n      <td>0</td>\n    </tr>\n  </tbody>\n</table>\n</div>"
     },
     "metadata": {},
     "execution_count": 86
    }
   ],
   "source": [
    "from sklearn.decomposition import PCA\n",
    "from sklearn.preprocessing import RobustScaler\n",
    "\n",
    "scaler = RobustScaler()\n",
    "df_scaled = scaler.fit_transform(X_features)\n",
    "\n",
    "pca = PCA(n_components=2)\n",
    "pca.fit(df_scaled)\n",
    "df_pca = pca.transform(df_scaled)\n",
    "\n",
    "pca_columns = ['component_1','component_2']\n",
    "\n",
    "DF_pca = pd.DataFrame(df_pca, columns=pca_columns)\n",
    "DF_pca['target'] = y_target \n",
    "DF_pca.head()\n"
   ]
  },
  {
   "cell_type": "code",
   "execution_count": 87,
   "metadata": {},
   "outputs": [
    {
     "output_type": "execute_result",
     "data": {
      "text/plain": [
       "              Accuracy  precision  recall   f1       roc\n",
       "LogiReg       0.997283        0.0     0.0  0.0  0.500000\n",
       "DecisionTree  0.996506        0.0     0.0  0.0  0.499611\n",
       "RandomFore    0.996894        0.0     0.0  0.0  0.499805\n",
       "LGBM          0.996118        0.0     0.0  0.0  0.499416\n",
       "SVC           0.997283        0.0     0.0  0.0  0.500000"
      ],
      "text/html": "<div>\n<style scoped>\n    .dataframe tbody tr th:only-of-type {\n        vertical-align: middle;\n    }\n\n    .dataframe tbody tr th {\n        vertical-align: top;\n    }\n\n    .dataframe thead th {\n        text-align: right;\n    }\n</style>\n<table border=\"1\" class=\"dataframe\">\n  <thead>\n    <tr style=\"text-align: right;\">\n      <th></th>\n      <th>Accuracy</th>\n      <th>precision</th>\n      <th>recall</th>\n      <th>f1</th>\n      <th>roc</th>\n    </tr>\n  </thead>\n  <tbody>\n    <tr>\n      <th>LogiReg</th>\n      <td>0.997283</td>\n      <td>0.0</td>\n      <td>0.0</td>\n      <td>0.0</td>\n      <td>0.500000</td>\n    </tr>\n    <tr>\n      <th>DecisionTree</th>\n      <td>0.996506</td>\n      <td>0.0</td>\n      <td>0.0</td>\n      <td>0.0</td>\n      <td>0.499611</td>\n    </tr>\n    <tr>\n      <th>RandomFore</th>\n      <td>0.996894</td>\n      <td>0.0</td>\n      <td>0.0</td>\n      <td>0.0</td>\n      <td>0.499805</td>\n    </tr>\n    <tr>\n      <th>LGBM</th>\n      <td>0.996118</td>\n      <td>0.0</td>\n      <td>0.0</td>\n      <td>0.0</td>\n      <td>0.499416</td>\n    </tr>\n    <tr>\n      <th>SVC</th>\n      <td>0.997283</td>\n      <td>0.0</td>\n      <td>0.0</td>\n      <td>0.0</td>\n      <td>0.500000</td>\n    </tr>\n  </tbody>\n</table>\n</div>"
     },
     "metadata": {},
     "execution_count": 87
    }
   ],
   "source": [
    "y_target = DF_pca['target']\n",
    "X_features = DF_pca.drop('target', axis= 1)\n",
    "\n",
    "\n",
    "X_train, X_valid, y_train, y_valid = train_test_split(X_features, y_target, test_size =0.2, random_state=13, stratify= y_target)\n",
    "\n",
    "# 모델 객체 생성 \n",
    "lr_clf = LogisticRegression(random_state=13)\n",
    "dt_clf = DecisionTreeClassifier(random_state=13, max_depth=4)\n",
    "rf_clf = RandomForestClassifier(random_state=13, n_jobs = -1, n_estimators= 100 )\n",
    "lgbm_clf = LGBMClassifier(n_estimators=1000, num_leaves=64, n_jobs=-1, boost_from_average = False)\n",
    "svm_clf = LinearSVC()\n",
    "\n",
    "# 학습 진행 \n",
    "models=[lr_clf,dt_clf,rf_clf,lgbm_clf,svm_clf] \n",
    "model_names = ['LogiReg', 'DecisionTree', 'RandomFore','LGBM','SVC']\n",
    "results = get_result_df(models, model_names, X_train, y_train, X_valid, y_valid)\n",
    "results "
   ]
  },
  {
   "cell_type": "code",
   "execution_count": 88,
   "metadata": {},
   "outputs": [
    {
     "output_type": "execute_result",
     "data": {
      "text/plain": [
       "              Accuracy  precision    recall        f1       roc\n",
       "LogiReg       0.009317   0.002735  1.000000  0.005456  0.503309\n",
       "DecisionTree  0.658773   0.003417  0.428571  0.006780  0.543986\n",
       "RandomFore    0.809006   0.002053  0.142857  0.004049  0.476839\n",
       "LGBM          0.798913   0.005803  0.428571  0.011450  0.614247\n",
       "SVC           0.030280   0.002794  1.000000  0.005573  0.513819"
      ],
      "text/html": "<div>\n<style scoped>\n    .dataframe tbody tr th:only-of-type {\n        vertical-align: middle;\n    }\n\n    .dataframe tbody tr th {\n        vertical-align: top;\n    }\n\n    .dataframe thead th {\n        text-align: right;\n    }\n</style>\n<table border=\"1\" class=\"dataframe\">\n  <thead>\n    <tr style=\"text-align: right;\">\n      <th></th>\n      <th>Accuracy</th>\n      <th>precision</th>\n      <th>recall</th>\n      <th>f1</th>\n      <th>roc</th>\n    </tr>\n  </thead>\n  <tbody>\n    <tr>\n      <th>LogiReg</th>\n      <td>0.009317</td>\n      <td>0.002735</td>\n      <td>1.000000</td>\n      <td>0.005456</td>\n      <td>0.503309</td>\n    </tr>\n    <tr>\n      <th>DecisionTree</th>\n      <td>0.658773</td>\n      <td>0.003417</td>\n      <td>0.428571</td>\n      <td>0.006780</td>\n      <td>0.543986</td>\n    </tr>\n    <tr>\n      <th>RandomFore</th>\n      <td>0.809006</td>\n      <td>0.002053</td>\n      <td>0.142857</td>\n      <td>0.004049</td>\n      <td>0.476839</td>\n    </tr>\n    <tr>\n      <th>LGBM</th>\n      <td>0.798913</td>\n      <td>0.005803</td>\n      <td>0.428571</td>\n      <td>0.011450</td>\n      <td>0.614247</td>\n    </tr>\n    <tr>\n      <th>SVC</th>\n      <td>0.030280</td>\n      <td>0.002794</td>\n      <td>1.000000</td>\n      <td>0.005573</td>\n      <td>0.513819</td>\n    </tr>\n  </tbody>\n</table>\n</div>"
     },
     "metadata": {},
     "execution_count": 88
    }
   ],
   "source": [
    "# 복합 샘플링 적용 \n",
    "\n",
    "from imblearn.combine import SMOTEENN\n",
    "sme = SMOTEENN(random_state=13)\n",
    "X_train_sme, y_train_sme = sme.fit_sample(X_train, y_train)\n",
    "\n",
    "\n",
    "model_names = ['LogiReg', 'DecisionTree', 'RandomFore','LGBM','SVC']\n",
    "results = get_result_df(models, model_names, X_train_sme, y_train_sme, X_valid, y_valid)\n",
    "\n",
    "results"
   ]
  },
  {
   "source": [
    "## Trial #15\n",
    "## 불필요 feature 삭제\n",
    "## robustscale / pca(n=3) / smoteen"
   ],
   "cell_type": "markdown",
   "metadata": {}
  },
  {
   "cell_type": "code",
   "execution_count": 92,
   "metadata": {},
   "outputs": [],
   "source": [
    "df_15 = df.copy()\n",
    "df_15 = df_15.drop(columns=['sharing_type', 'has_previous_accident','b2b','accident_ratio','socarpass', 'car_part2'])\n",
    "df_15\n",
    "\n",
    "y_target = df_15['fraud_YN']\n",
    "X_features = df_15.drop('fraud_YN', axis=1)\n",
    "\n",
    "y_target = df_15['fraud_YN'].reset_index()\n",
    "y_target = y_target.drop('index', axis=1)"
   ]
  },
  {
   "cell_type": "code",
   "execution_count": 94,
   "metadata": {},
   "outputs": [
    {
     "output_type": "execute_result",
     "data": {
      "text/plain": [
       "   component_1  component_2  component_3  target\n",
       "0    -1.572293    -0.336294     0.612036       0\n",
       "1    -1.330600     2.911791     0.048666       0\n",
       "2     0.710055     0.955337     0.728995       0\n",
       "3     0.723886    -1.467586    -3.026099       1\n",
       "4    -1.492137    -1.360284    -2.742969       0"
      ],
      "text/html": "<div>\n<style scoped>\n    .dataframe tbody tr th:only-of-type {\n        vertical-align: middle;\n    }\n\n    .dataframe tbody tr th {\n        vertical-align: top;\n    }\n\n    .dataframe thead th {\n        text-align: right;\n    }\n</style>\n<table border=\"1\" class=\"dataframe\">\n  <thead>\n    <tr style=\"text-align: right;\">\n      <th></th>\n      <th>component_1</th>\n      <th>component_2</th>\n      <th>component_3</th>\n      <th>target</th>\n    </tr>\n  </thead>\n  <tbody>\n    <tr>\n      <th>0</th>\n      <td>-1.572293</td>\n      <td>-0.336294</td>\n      <td>0.612036</td>\n      <td>0</td>\n    </tr>\n    <tr>\n      <th>1</th>\n      <td>-1.330600</td>\n      <td>2.911791</td>\n      <td>0.048666</td>\n      <td>0</td>\n    </tr>\n    <tr>\n      <th>2</th>\n      <td>0.710055</td>\n      <td>0.955337</td>\n      <td>0.728995</td>\n      <td>0</td>\n    </tr>\n    <tr>\n      <th>3</th>\n      <td>0.723886</td>\n      <td>-1.467586</td>\n      <td>-3.026099</td>\n      <td>1</td>\n    </tr>\n    <tr>\n      <th>4</th>\n      <td>-1.492137</td>\n      <td>-1.360284</td>\n      <td>-2.742969</td>\n      <td>0</td>\n    </tr>\n  </tbody>\n</table>\n</div>"
     },
     "metadata": {},
     "execution_count": 94
    }
   ],
   "source": [
    "from sklearn.decomposition import PCA\n",
    "from sklearn.preprocessing import RobustScaler\n",
    "\n",
    "scaler = RobustScaler()\n",
    "df_scaled = scaler.fit_transform(X_features)\n",
    "\n",
    "pca = PCA(n_components=3)\n",
    "pca.fit(df_scaled)\n",
    "df_pca = pca.transform(df_scaled)\n",
    "\n",
    "pca_columns = ['component_1','component_2','component_3']\n",
    "\n",
    "DF_pca = pd.DataFrame(df_pca, columns=pca_columns)\n",
    "DF_pca['target'] = y_target \n",
    "DF_pca.head()\n"
   ]
  },
  {
   "cell_type": "code",
   "execution_count": 95,
   "metadata": {},
   "outputs": [
    {
     "output_type": "execute_result",
     "data": {
      "text/plain": [
       "              Accuracy  precision  recall   f1       roc\n",
       "LogiReg       0.997283        0.0     0.0  0.0  0.500000\n",
       "DecisionTree  0.996506        0.0     0.0  0.0  0.499611\n",
       "RandomFore    0.997283        0.0     0.0  0.0  0.500000\n",
       "LGBM          0.996894        0.0     0.0  0.0  0.499805\n",
       "SVC           0.997283        0.0     0.0  0.0  0.500000"
      ],
      "text/html": "<div>\n<style scoped>\n    .dataframe tbody tr th:only-of-type {\n        vertical-align: middle;\n    }\n\n    .dataframe tbody tr th {\n        vertical-align: top;\n    }\n\n    .dataframe thead th {\n        text-align: right;\n    }\n</style>\n<table border=\"1\" class=\"dataframe\">\n  <thead>\n    <tr style=\"text-align: right;\">\n      <th></th>\n      <th>Accuracy</th>\n      <th>precision</th>\n      <th>recall</th>\n      <th>f1</th>\n      <th>roc</th>\n    </tr>\n  </thead>\n  <tbody>\n    <tr>\n      <th>LogiReg</th>\n      <td>0.997283</td>\n      <td>0.0</td>\n      <td>0.0</td>\n      <td>0.0</td>\n      <td>0.500000</td>\n    </tr>\n    <tr>\n      <th>DecisionTree</th>\n      <td>0.996506</td>\n      <td>0.0</td>\n      <td>0.0</td>\n      <td>0.0</td>\n      <td>0.499611</td>\n    </tr>\n    <tr>\n      <th>RandomFore</th>\n      <td>0.997283</td>\n      <td>0.0</td>\n      <td>0.0</td>\n      <td>0.0</td>\n      <td>0.500000</td>\n    </tr>\n    <tr>\n      <th>LGBM</th>\n      <td>0.996894</td>\n      <td>0.0</td>\n      <td>0.0</td>\n      <td>0.0</td>\n      <td>0.499805</td>\n    </tr>\n    <tr>\n      <th>SVC</th>\n      <td>0.997283</td>\n      <td>0.0</td>\n      <td>0.0</td>\n      <td>0.0</td>\n      <td>0.500000</td>\n    </tr>\n  </tbody>\n</table>\n</div>"
     },
     "metadata": {},
     "execution_count": 95
    }
   ],
   "source": [
    "y_target = DF_pca['target']\n",
    "X_features = DF_pca.drop('target', axis= 1)\n",
    "\n",
    "\n",
    "X_train, X_valid, y_train, y_valid = train_test_split(X_features, y_target, test_size =0.2, random_state=13, stratify= y_target)\n",
    "\n",
    "# 모델 객체 생성 \n",
    "lr_clf = LogisticRegression(random_state=13)\n",
    "dt_clf = DecisionTreeClassifier(random_state=13, max_depth=4)\n",
    "rf_clf = RandomForestClassifier(random_state=13, n_jobs = -1, n_estimators= 100 )\n",
    "lgbm_clf = LGBMClassifier(n_estimators=1000, num_leaves=64, n_jobs=-1, boost_from_average = False)\n",
    "svm_clf = LinearSVC()\n",
    "\n",
    "# 학습 진행 \n",
    "models=[lr_clf,dt_clf,rf_clf,lgbm_clf,svm_clf] \n",
    "model_names = ['LogiReg', 'DecisionTree', 'RandomFore','LGBM','SVC']\n",
    "results = get_result_df(models, model_names, X_train, y_train, X_valid, y_valid)\n",
    "results "
   ]
  },
  {
   "cell_type": "code",
   "execution_count": 96,
   "metadata": {},
   "outputs": [
    {
     "output_type": "execute_result",
     "data": {
      "text/plain": [
       "              Accuracy  precision    recall        f1       roc\n",
       "LogiReg       0.756599   0.006369  0.571429  0.012598  0.664266\n",
       "DecisionTree  0.714286   0.004082  0.428571  0.008086  0.571818\n",
       "RandomFore    0.896739   0.003831  0.142857  0.007463  0.520825\n",
       "LGBM          0.888199   0.003534  0.142857  0.006897  0.516543\n",
       "SVC           0.753494   0.006289  0.571429  0.012442  0.662709"
      ],
      "text/html": "<div>\n<style scoped>\n    .dataframe tbody tr th:only-of-type {\n        vertical-align: middle;\n    }\n\n    .dataframe tbody tr th {\n        vertical-align: top;\n    }\n\n    .dataframe thead th {\n        text-align: right;\n    }\n</style>\n<table border=\"1\" class=\"dataframe\">\n  <thead>\n    <tr style=\"text-align: right;\">\n      <th></th>\n      <th>Accuracy</th>\n      <th>precision</th>\n      <th>recall</th>\n      <th>f1</th>\n      <th>roc</th>\n    </tr>\n  </thead>\n  <tbody>\n    <tr>\n      <th>LogiReg</th>\n      <td>0.756599</td>\n      <td>0.006369</td>\n      <td>0.571429</td>\n      <td>0.012598</td>\n      <td>0.664266</td>\n    </tr>\n    <tr>\n      <th>DecisionTree</th>\n      <td>0.714286</td>\n      <td>0.004082</td>\n      <td>0.428571</td>\n      <td>0.008086</td>\n      <td>0.571818</td>\n    </tr>\n    <tr>\n      <th>RandomFore</th>\n      <td>0.896739</td>\n      <td>0.003831</td>\n      <td>0.142857</td>\n      <td>0.007463</td>\n      <td>0.520825</td>\n    </tr>\n    <tr>\n      <th>LGBM</th>\n      <td>0.888199</td>\n      <td>0.003534</td>\n      <td>0.142857</td>\n      <td>0.006897</td>\n      <td>0.516543</td>\n    </tr>\n    <tr>\n      <th>SVC</th>\n      <td>0.753494</td>\n      <td>0.006289</td>\n      <td>0.571429</td>\n      <td>0.012442</td>\n      <td>0.662709</td>\n    </tr>\n  </tbody>\n</table>\n</div>"
     },
     "metadata": {},
     "execution_count": 96
    }
   ],
   "source": [
    "# 복합 샘플링 적용 \n",
    "\n",
    "from imblearn.combine import SMOTEENN\n",
    "sme = SMOTEENN(random_state=13)\n",
    "X_train_sme, y_train_sme = sme.fit_sample(X_train, y_train)\n",
    "\n",
    "\n",
    "model_names = ['LogiReg', 'DecisionTree', 'RandomFore','LGBM','SVC']\n",
    "results = get_result_df(models, model_names, X_train_sme, y_train_sme, X_valid, y_valid)\n",
    "\n",
    "results"
   ]
  },
  {
   "source": [
    "## Trial #16\n",
    "## 불필요 feature 삭제\n",
    "## robustscale / pca(n=4) / smoteen"
   ],
   "cell_type": "markdown",
   "metadata": {}
  },
  {
   "cell_type": "code",
   "execution_count": 97,
   "metadata": {},
   "outputs": [],
   "source": [
    "df_16 = df.copy()\n",
    "df_16 = df_16.drop(columns=['sharing_type', 'has_previous_accident','b2b','accident_ratio','socarpass', 'car_part2'])\n",
    "df_16\n",
    "\n",
    "y_target = df_16['fraud_YN']\n",
    "X_features = df_16.drop('fraud_YN', axis=1)\n",
    "\n",
    "y_target = df_16['fraud_YN'].reset_index()\n",
    "y_target = y_target.drop('index', axis=1)"
   ]
  },
  {
   "cell_type": "code",
   "execution_count": 98,
   "metadata": {},
   "outputs": [
    {
     "output_type": "execute_result",
     "data": {
      "text/plain": [
       "   component_1  component_2  component_3  component_4  target\n",
       "0    -1.572293    -0.336297     0.612052     0.574432       0\n",
       "1    -1.330600     2.911795     0.048638     0.958089       0\n",
       "2     0.710055     0.955331     0.729032    -1.638588       0\n",
       "3     0.723886    -1.467583    -3.026115     0.302512       1\n",
       "4    -1.492137    -1.360288    -2.742943     1.302907       0"
      ],
      "text/html": "<div>\n<style scoped>\n    .dataframe tbody tr th:only-of-type {\n        vertical-align: middle;\n    }\n\n    .dataframe tbody tr th {\n        vertical-align: top;\n    }\n\n    .dataframe thead th {\n        text-align: right;\n    }\n</style>\n<table border=\"1\" class=\"dataframe\">\n  <thead>\n    <tr style=\"text-align: right;\">\n      <th></th>\n      <th>component_1</th>\n      <th>component_2</th>\n      <th>component_3</th>\n      <th>component_4</th>\n      <th>target</th>\n    </tr>\n  </thead>\n  <tbody>\n    <tr>\n      <th>0</th>\n      <td>-1.572293</td>\n      <td>-0.336297</td>\n      <td>0.612052</td>\n      <td>0.574432</td>\n      <td>0</td>\n    </tr>\n    <tr>\n      <th>1</th>\n      <td>-1.330600</td>\n      <td>2.911795</td>\n      <td>0.048638</td>\n      <td>0.958089</td>\n      <td>0</td>\n    </tr>\n    <tr>\n      <th>2</th>\n      <td>0.710055</td>\n      <td>0.955331</td>\n      <td>0.729032</td>\n      <td>-1.638588</td>\n      <td>0</td>\n    </tr>\n    <tr>\n      <th>3</th>\n      <td>0.723886</td>\n      <td>-1.467583</td>\n      <td>-3.026115</td>\n      <td>0.302512</td>\n      <td>1</td>\n    </tr>\n    <tr>\n      <th>4</th>\n      <td>-1.492137</td>\n      <td>-1.360288</td>\n      <td>-2.742943</td>\n      <td>1.302907</td>\n      <td>0</td>\n    </tr>\n  </tbody>\n</table>\n</div>"
     },
     "metadata": {},
     "execution_count": 98
    }
   ],
   "source": [
    "from sklearn.decomposition import PCA\n",
    "from sklearn.preprocessing import RobustScaler\n",
    "\n",
    "scaler = RobustScaler()\n",
    "df_scaled = scaler.fit_transform(X_features)\n",
    "\n",
    "pca = PCA(n_components=4)\n",
    "pca.fit(df_scaled)\n",
    "df_pca = pca.transform(df_scaled)\n",
    "\n",
    "pca_columns = ['component_1','component_2','component_3','component_4']\n",
    "\n",
    "DF_pca = pd.DataFrame(df_pca, columns=pca_columns)\n",
    "DF_pca['target'] = y_target \n",
    "DF_pca.head()\n"
   ]
  },
  {
   "cell_type": "code",
   "execution_count": 99,
   "metadata": {},
   "outputs": [
    {
     "output_type": "execute_result",
     "data": {
      "text/plain": [
       "              Accuracy  precision  recall   f1       roc\n",
       "LogiReg       0.997283        0.0     0.0  0.0  0.500000\n",
       "DecisionTree  0.996894        0.0     0.0  0.0  0.499805\n",
       "RandomFore    0.997283        0.0     0.0  0.0  0.500000\n",
       "LGBM          0.996894        0.0     0.0  0.0  0.499805\n",
       "SVC           0.997283        0.0     0.0  0.0  0.500000"
      ],
      "text/html": "<div>\n<style scoped>\n    .dataframe tbody tr th:only-of-type {\n        vertical-align: middle;\n    }\n\n    .dataframe tbody tr th {\n        vertical-align: top;\n    }\n\n    .dataframe thead th {\n        text-align: right;\n    }\n</style>\n<table border=\"1\" class=\"dataframe\">\n  <thead>\n    <tr style=\"text-align: right;\">\n      <th></th>\n      <th>Accuracy</th>\n      <th>precision</th>\n      <th>recall</th>\n      <th>f1</th>\n      <th>roc</th>\n    </tr>\n  </thead>\n  <tbody>\n    <tr>\n      <th>LogiReg</th>\n      <td>0.997283</td>\n      <td>0.0</td>\n      <td>0.0</td>\n      <td>0.0</td>\n      <td>0.500000</td>\n    </tr>\n    <tr>\n      <th>DecisionTree</th>\n      <td>0.996894</td>\n      <td>0.0</td>\n      <td>0.0</td>\n      <td>0.0</td>\n      <td>0.499805</td>\n    </tr>\n    <tr>\n      <th>RandomFore</th>\n      <td>0.997283</td>\n      <td>0.0</td>\n      <td>0.0</td>\n      <td>0.0</td>\n      <td>0.500000</td>\n    </tr>\n    <tr>\n      <th>LGBM</th>\n      <td>0.996894</td>\n      <td>0.0</td>\n      <td>0.0</td>\n      <td>0.0</td>\n      <td>0.499805</td>\n    </tr>\n    <tr>\n      <th>SVC</th>\n      <td>0.997283</td>\n      <td>0.0</td>\n      <td>0.0</td>\n      <td>0.0</td>\n      <td>0.500000</td>\n    </tr>\n  </tbody>\n</table>\n</div>"
     },
     "metadata": {},
     "execution_count": 99
    }
   ],
   "source": [
    "y_target = DF_pca['target']\n",
    "X_features = DF_pca.drop('target', axis= 1)\n",
    "\n",
    "\n",
    "X_train, X_valid, y_train, y_valid = train_test_split(X_features, y_target, test_size =0.2, random_state=13, stratify= y_target)\n",
    "\n",
    "# 모델 객체 생성 \n",
    "lr_clf = LogisticRegression(random_state=13)\n",
    "dt_clf = DecisionTreeClassifier(random_state=13, max_depth=4)\n",
    "rf_clf = RandomForestClassifier(random_state=13, n_jobs = -1, n_estimators= 100 )\n",
    "lgbm_clf = LGBMClassifier(n_estimators=1000, num_leaves=64, n_jobs=-1, boost_from_average = False)\n",
    "svm_clf = LinearSVC()\n",
    "\n",
    "# 학습 진행 \n",
    "models=[lr_clf,dt_clf,rf_clf,lgbm_clf,svm_clf] \n",
    "model_names = ['LogiReg', 'DecisionTree', 'RandomFore','LGBM','SVC']\n",
    "results = get_result_df(models, model_names, X_train, y_train, X_valid, y_valid)\n",
    "results "
   ]
  },
  {
   "cell_type": "code",
   "execution_count": 100,
   "metadata": {},
   "outputs": [
    {
     "output_type": "execute_result",
     "data": {
      "text/plain": [
       "              Accuracy  precision    recall        f1       roc\n",
       "LogiReg       0.607143   0.004926  0.714286  0.009785  0.660568\n",
       "DecisionTree  0.751941   0.006250  0.571429  0.012365  0.661931\n",
       "RandomFore    0.948758   0.007874  0.142857  0.014925  0.546905\n",
       "LGBM          0.943711   0.007143  0.142857  0.013605  0.544375\n",
       "SVC           0.602873   0.004873  0.714286  0.009681  0.658427"
      ],
      "text/html": "<div>\n<style scoped>\n    .dataframe tbody tr th:only-of-type {\n        vertical-align: middle;\n    }\n\n    .dataframe tbody tr th {\n        vertical-align: top;\n    }\n\n    .dataframe thead th {\n        text-align: right;\n    }\n</style>\n<table border=\"1\" class=\"dataframe\">\n  <thead>\n    <tr style=\"text-align: right;\">\n      <th></th>\n      <th>Accuracy</th>\n      <th>precision</th>\n      <th>recall</th>\n      <th>f1</th>\n      <th>roc</th>\n    </tr>\n  </thead>\n  <tbody>\n    <tr>\n      <th>LogiReg</th>\n      <td>0.607143</td>\n      <td>0.004926</td>\n      <td>0.714286</td>\n      <td>0.009785</td>\n      <td>0.660568</td>\n    </tr>\n    <tr>\n      <th>DecisionTree</th>\n      <td>0.751941</td>\n      <td>0.006250</td>\n      <td>0.571429</td>\n      <td>0.012365</td>\n      <td>0.661931</td>\n    </tr>\n    <tr>\n      <th>RandomFore</th>\n      <td>0.948758</td>\n      <td>0.007874</td>\n      <td>0.142857</td>\n      <td>0.014925</td>\n      <td>0.546905</td>\n    </tr>\n    <tr>\n      <th>LGBM</th>\n      <td>0.943711</td>\n      <td>0.007143</td>\n      <td>0.142857</td>\n      <td>0.013605</td>\n      <td>0.544375</td>\n    </tr>\n    <tr>\n      <th>SVC</th>\n      <td>0.602873</td>\n      <td>0.004873</td>\n      <td>0.714286</td>\n      <td>0.009681</td>\n      <td>0.658427</td>\n    </tr>\n  </tbody>\n</table>\n</div>"
     },
     "metadata": {},
     "execution_count": 100
    }
   ],
   "source": [
    "# 복합 샘플링 적용 \n",
    "\n",
    "from imblearn.combine import SMOTEENN\n",
    "sme = SMOTEENN(random_state=13)\n",
    "X_train_sme, y_train_sme = sme.fit_sample(X_train, y_train)\n",
    "\n",
    "\n",
    "model_names = ['LogiReg', 'DecisionTree', 'RandomFore','LGBM','SVC']\n",
    "results = get_result_df(models, model_names, X_train_sme, y_train_sme, X_valid, y_valid)\n",
    "\n",
    "results"
   ]
  },
  {
   "source": [
    "## Trial #17\n",
    "## 불필요 feature 삭제\n",
    "## robustscale / pca(n=5) / smoteen"
   ],
   "cell_type": "markdown",
   "metadata": {}
  },
  {
   "cell_type": "code",
   "execution_count": 101,
   "metadata": {},
   "outputs": [],
   "source": [
    "df_17 = df.copy()\n",
    "df_17 = df_17.drop(columns=['sharing_type', 'has_previous_accident','b2b','accident_ratio','socarpass', 'car_part2'])\n",
    "df_17\n",
    "\n",
    "y_target = df_17['fraud_YN']\n",
    "X_features = df_17.drop('fraud_YN', axis=1)\n",
    "\n",
    "y_target = df_17['fraud_YN'].reset_index()\n",
    "y_target = y_target.drop('index', axis=1)"
   ]
  },
  {
   "cell_type": "code",
   "execution_count": 103,
   "metadata": {},
   "outputs": [
    {
     "output_type": "execute_result",
     "data": {
      "text/plain": [
       "   component_1  component_2  component_3  component_4  component_5  target\n",
       "0    -1.572293    -0.336297     0.612052     0.574432    -0.255082       0\n",
       "1    -1.330600     2.911795     0.048638     0.958089    -1.164894       0\n",
       "2     0.710055     0.955331     0.729032    -1.638588     0.411414       0\n",
       "3     0.723886    -1.467583    -3.026115     0.302512    -0.146063       1\n",
       "4    -1.492137    -1.360288    -2.742943     1.302907    -0.107516       0"
      ],
      "text/html": "<div>\n<style scoped>\n    .dataframe tbody tr th:only-of-type {\n        vertical-align: middle;\n    }\n\n    .dataframe tbody tr th {\n        vertical-align: top;\n    }\n\n    .dataframe thead th {\n        text-align: right;\n    }\n</style>\n<table border=\"1\" class=\"dataframe\">\n  <thead>\n    <tr style=\"text-align: right;\">\n      <th></th>\n      <th>component_1</th>\n      <th>component_2</th>\n      <th>component_3</th>\n      <th>component_4</th>\n      <th>component_5</th>\n      <th>target</th>\n    </tr>\n  </thead>\n  <tbody>\n    <tr>\n      <th>0</th>\n      <td>-1.572293</td>\n      <td>-0.336297</td>\n      <td>0.612052</td>\n      <td>0.574432</td>\n      <td>-0.255082</td>\n      <td>0</td>\n    </tr>\n    <tr>\n      <th>1</th>\n      <td>-1.330600</td>\n      <td>2.911795</td>\n      <td>0.048638</td>\n      <td>0.958089</td>\n      <td>-1.164894</td>\n      <td>0</td>\n    </tr>\n    <tr>\n      <th>2</th>\n      <td>0.710055</td>\n      <td>0.955331</td>\n      <td>0.729032</td>\n      <td>-1.638588</td>\n      <td>0.411414</td>\n      <td>0</td>\n    </tr>\n    <tr>\n      <th>3</th>\n      <td>0.723886</td>\n      <td>-1.467583</td>\n      <td>-3.026115</td>\n      <td>0.302512</td>\n      <td>-0.146063</td>\n      <td>1</td>\n    </tr>\n    <tr>\n      <th>4</th>\n      <td>-1.492137</td>\n      <td>-1.360288</td>\n      <td>-2.742943</td>\n      <td>1.302907</td>\n      <td>-0.107516</td>\n      <td>0</td>\n    </tr>\n  </tbody>\n</table>\n</div>"
     },
     "metadata": {},
     "execution_count": 103
    }
   ],
   "source": [
    "from sklearn.decomposition import PCA\n",
    "from sklearn.preprocessing import RobustScaler\n",
    "\n",
    "scaler = RobustScaler()\n",
    "df_scaled = scaler.fit_transform(X_features)\n",
    "\n",
    "pca = PCA(n_components=5)\n",
    "pca.fit(df_scaled)\n",
    "df_pca = pca.transform(df_scaled)\n",
    "\n",
    "pca_columns = ['component_1','component_2','component_3','component_4','component_5']\n",
    "\n",
    "DF_pca = pd.DataFrame(df_pca, columns=pca_columns)\n",
    "DF_pca['target'] = y_target \n",
    "DF_pca.head()\n"
   ]
  },
  {
   "cell_type": "code",
   "execution_count": 104,
   "metadata": {},
   "outputs": [
    {
     "output_type": "execute_result",
     "data": {
      "text/plain": [
       "              Accuracy  precision  recall   f1       roc\n",
       "LogiReg       0.997283        0.0     0.0  0.0  0.500000\n",
       "DecisionTree  0.996894        0.0     0.0  0.0  0.499805\n",
       "RandomFore    0.997283        0.0     0.0  0.0  0.500000\n",
       "LGBM          0.996894        0.0     0.0  0.0  0.499805\n",
       "SVC           0.997283        0.0     0.0  0.0  0.500000"
      ],
      "text/html": "<div>\n<style scoped>\n    .dataframe tbody tr th:only-of-type {\n        vertical-align: middle;\n    }\n\n    .dataframe tbody tr th {\n        vertical-align: top;\n    }\n\n    .dataframe thead th {\n        text-align: right;\n    }\n</style>\n<table border=\"1\" class=\"dataframe\">\n  <thead>\n    <tr style=\"text-align: right;\">\n      <th></th>\n      <th>Accuracy</th>\n      <th>precision</th>\n      <th>recall</th>\n      <th>f1</th>\n      <th>roc</th>\n    </tr>\n  </thead>\n  <tbody>\n    <tr>\n      <th>LogiReg</th>\n      <td>0.997283</td>\n      <td>0.0</td>\n      <td>0.0</td>\n      <td>0.0</td>\n      <td>0.500000</td>\n    </tr>\n    <tr>\n      <th>DecisionTree</th>\n      <td>0.996894</td>\n      <td>0.0</td>\n      <td>0.0</td>\n      <td>0.0</td>\n      <td>0.499805</td>\n    </tr>\n    <tr>\n      <th>RandomFore</th>\n      <td>0.997283</td>\n      <td>0.0</td>\n      <td>0.0</td>\n      <td>0.0</td>\n      <td>0.500000</td>\n    </tr>\n    <tr>\n      <th>LGBM</th>\n      <td>0.996894</td>\n      <td>0.0</td>\n      <td>0.0</td>\n      <td>0.0</td>\n      <td>0.499805</td>\n    </tr>\n    <tr>\n      <th>SVC</th>\n      <td>0.997283</td>\n      <td>0.0</td>\n      <td>0.0</td>\n      <td>0.0</td>\n      <td>0.500000</td>\n    </tr>\n  </tbody>\n</table>\n</div>"
     },
     "metadata": {},
     "execution_count": 104
    }
   ],
   "source": [
    "y_target = DF_pca['target']\n",
    "X_features = DF_pca.drop('target', axis= 1)\n",
    "\n",
    "\n",
    "X_train, X_valid, y_train, y_valid = train_test_split(X_features, y_target, test_size =0.2, random_state=13, stratify= y_target)\n",
    "\n",
    "# 모델 객체 생성 \n",
    "lr_clf = LogisticRegression(random_state=13)\n",
    "dt_clf = DecisionTreeClassifier(random_state=13, max_depth=4)\n",
    "rf_clf = RandomForestClassifier(random_state=13, n_jobs = -1, n_estimators= 100 )\n",
    "lgbm_clf = LGBMClassifier(n_estimators=1000, num_leaves=64, n_jobs=-1, boost_from_average = False)\n",
    "svm_clf = LinearSVC()\n",
    "\n",
    "# 학습 진행 \n",
    "models=[lr_clf,dt_clf,rf_clf,lgbm_clf,svm_clf] \n",
    "model_names = ['LogiReg', 'DecisionTree', 'RandomFore','LGBM','SVC']\n",
    "results = get_result_df(models, model_names, X_train, y_train, X_valid, y_valid)\n",
    "results "
   ]
  },
  {
   "cell_type": "code",
   "execution_count": 105,
   "metadata": {},
   "outputs": [
    {
     "output_type": "execute_result",
     "data": {
      "text/plain": [
       "              Accuracy  precision    recall        f1       roc\n",
       "LogiReg       0.635093   0.004251  0.571429  0.008439  0.603348\n",
       "DecisionTree  0.551630   0.004318  0.714286  0.008584  0.632736\n",
       "RandomFore    0.970885   0.014286  0.142857  0.025974  0.557999\n",
       "LGBM          0.966615   0.012346  0.142857  0.022727  0.555858\n",
       "SVC           0.627329   0.004162  0.571429  0.008264  0.599455"
      ],
      "text/html": "<div>\n<style scoped>\n    .dataframe tbody tr th:only-of-type {\n        vertical-align: middle;\n    }\n\n    .dataframe tbody tr th {\n        vertical-align: top;\n    }\n\n    .dataframe thead th {\n        text-align: right;\n    }\n</style>\n<table border=\"1\" class=\"dataframe\">\n  <thead>\n    <tr style=\"text-align: right;\">\n      <th></th>\n      <th>Accuracy</th>\n      <th>precision</th>\n      <th>recall</th>\n      <th>f1</th>\n      <th>roc</th>\n    </tr>\n  </thead>\n  <tbody>\n    <tr>\n      <th>LogiReg</th>\n      <td>0.635093</td>\n      <td>0.004251</td>\n      <td>0.571429</td>\n      <td>0.008439</td>\n      <td>0.603348</td>\n    </tr>\n    <tr>\n      <th>DecisionTree</th>\n      <td>0.551630</td>\n      <td>0.004318</td>\n      <td>0.714286</td>\n      <td>0.008584</td>\n      <td>0.632736</td>\n    </tr>\n    <tr>\n      <th>RandomFore</th>\n      <td>0.970885</td>\n      <td>0.014286</td>\n      <td>0.142857</td>\n      <td>0.025974</td>\n      <td>0.557999</td>\n    </tr>\n    <tr>\n      <th>LGBM</th>\n      <td>0.966615</td>\n      <td>0.012346</td>\n      <td>0.142857</td>\n      <td>0.022727</td>\n      <td>0.555858</td>\n    </tr>\n    <tr>\n      <th>SVC</th>\n      <td>0.627329</td>\n      <td>0.004162</td>\n      <td>0.571429</td>\n      <td>0.008264</td>\n      <td>0.599455</td>\n    </tr>\n  </tbody>\n</table>\n</div>"
     },
     "metadata": {},
     "execution_count": 105
    }
   ],
   "source": [
    "# 복합 샘플링 적용 \n",
    "\n",
    "from imblearn.combine import SMOTEENN\n",
    "sme = SMOTEENN(random_state=13)\n",
    "X_train_sme, y_train_sme = sme.fit_sample(X_train, y_train)\n",
    "\n",
    "\n",
    "model_names = ['LogiReg', 'DecisionTree', 'RandomFore','LGBM','SVC']\n",
    "results = get_result_df(models, model_names, X_train_sme, y_train_sme, X_valid, y_valid)\n",
    "\n",
    "results"
   ]
  },
  {
   "source": [
    "## Trial #18\n",
    "## 불필요 feature 삭제\n",
    "## ssscale / pca(n=2) / adasyn"
   ],
   "cell_type": "markdown",
   "metadata": {}
  },
  {
   "cell_type": "code",
   "execution_count": 106,
   "metadata": {},
   "outputs": [],
   "source": [
    "df_18 = df.copy()\n",
    "df_18 = df_18.drop(columns=['sharing_type', 'has_previous_accident','b2b','accident_ratio','socarpass', 'car_part2'])\n",
    "df_18\n",
    "\n",
    "y_target = df_18['fraud_YN']\n",
    "X_features = df_18.drop('fraud_YN', axis=1)\n",
    "\n",
    "y_target = df_18['fraud_YN'].reset_index()\n",
    "y_target = y_target.drop('index', axis=1)"
   ]
  },
  {
   "cell_type": "code",
   "execution_count": 107,
   "metadata": {},
   "outputs": [
    {
     "output_type": "execute_result",
     "data": {
      "text/plain": [
       "       component_1  component_2  target\n",
       "12874    -0.997303    -0.390287       0\n",
       "12875    -1.084291     1.190410       0\n",
       "12876    -1.041052    -0.188696       0\n",
       "12877    -1.248556     0.110672       0\n",
       "12878    -1.167965    -1.647353       0"
      ],
      "text/html": "<div>\n<style scoped>\n    .dataframe tbody tr th:only-of-type {\n        vertical-align: middle;\n    }\n\n    .dataframe tbody tr th {\n        vertical-align: top;\n    }\n\n    .dataframe thead th {\n        text-align: right;\n    }\n</style>\n<table border=\"1\" class=\"dataframe\">\n  <thead>\n    <tr style=\"text-align: right;\">\n      <th></th>\n      <th>component_1</th>\n      <th>component_2</th>\n      <th>target</th>\n    </tr>\n  </thead>\n  <tbody>\n    <tr>\n      <th>12874</th>\n      <td>-0.997303</td>\n      <td>-0.390287</td>\n      <td>0</td>\n    </tr>\n    <tr>\n      <th>12875</th>\n      <td>-1.084291</td>\n      <td>1.190410</td>\n      <td>0</td>\n    </tr>\n    <tr>\n      <th>12876</th>\n      <td>-1.041052</td>\n      <td>-0.188696</td>\n      <td>0</td>\n    </tr>\n    <tr>\n      <th>12877</th>\n      <td>-1.248556</td>\n      <td>0.110672</td>\n      <td>0</td>\n    </tr>\n    <tr>\n      <th>12878</th>\n      <td>-1.167965</td>\n      <td>-1.647353</td>\n      <td>0</td>\n    </tr>\n  </tbody>\n</table>\n</div>"
     },
     "metadata": {},
     "execution_count": 107
    }
   ],
   "source": [
    "from sklearn.decomposition import PCA\n",
    "from sklearn.preprocessing import StandardScaler\n",
    "\n",
    "scaler = StandardScaler()\n",
    "df_scaled = scaler.fit_transform(X_features)\n",
    "\n",
    "pca = PCA(n_components=2)\n",
    "pca.fit(df_scaled)\n",
    "df_pca = pca.transform(df_scaled)\n",
    "\n",
    "pca_columns = ['component_1','component_2']\n",
    "\n",
    "DF_pca = pd.DataFrame(df_pca, columns=pca_columns)\n",
    "DF_pca['target'] = y_target \n",
    "DF_pca.tail()\n"
   ]
  },
  {
   "cell_type": "code",
   "execution_count": 108,
   "metadata": {},
   "outputs": [
    {
     "output_type": "execute_result",
     "data": {
      "text/plain": [
       "              Accuracy  precision  recall   f1       roc\n",
       "LogiReg       0.997283        0.0     0.0  0.0  0.500000\n",
       "DecisionTree  0.997283        0.0     0.0  0.0  0.500000\n",
       "RandomFore    0.997283        0.0     0.0  0.0  0.500000\n",
       "LGBM          0.996506        0.0     0.0  0.0  0.499611\n",
       "SVC           0.997283        0.0     0.0  0.0  0.500000"
      ],
      "text/html": "<div>\n<style scoped>\n    .dataframe tbody tr th:only-of-type {\n        vertical-align: middle;\n    }\n\n    .dataframe tbody tr th {\n        vertical-align: top;\n    }\n\n    .dataframe thead th {\n        text-align: right;\n    }\n</style>\n<table border=\"1\" class=\"dataframe\">\n  <thead>\n    <tr style=\"text-align: right;\">\n      <th></th>\n      <th>Accuracy</th>\n      <th>precision</th>\n      <th>recall</th>\n      <th>f1</th>\n      <th>roc</th>\n    </tr>\n  </thead>\n  <tbody>\n    <tr>\n      <th>LogiReg</th>\n      <td>0.997283</td>\n      <td>0.0</td>\n      <td>0.0</td>\n      <td>0.0</td>\n      <td>0.500000</td>\n    </tr>\n    <tr>\n      <th>DecisionTree</th>\n      <td>0.997283</td>\n      <td>0.0</td>\n      <td>0.0</td>\n      <td>0.0</td>\n      <td>0.500000</td>\n    </tr>\n    <tr>\n      <th>RandomFore</th>\n      <td>0.997283</td>\n      <td>0.0</td>\n      <td>0.0</td>\n      <td>0.0</td>\n      <td>0.500000</td>\n    </tr>\n    <tr>\n      <th>LGBM</th>\n      <td>0.996506</td>\n      <td>0.0</td>\n      <td>0.0</td>\n      <td>0.0</td>\n      <td>0.499611</td>\n    </tr>\n    <tr>\n      <th>SVC</th>\n      <td>0.997283</td>\n      <td>0.0</td>\n      <td>0.0</td>\n      <td>0.0</td>\n      <td>0.500000</td>\n    </tr>\n  </tbody>\n</table>\n</div>"
     },
     "metadata": {},
     "execution_count": 108
    }
   ],
   "source": [
    "y_target = DF_pca['target']\n",
    "X_features = DF_pca.drop('target', axis= 1)\n",
    "\n",
    "\n",
    "X_train, X_valid, y_train, y_valid = train_test_split(X_features, y_target, test_size =0.2, random_state=13, stratify= y_target)\n",
    "\n",
    "# 모델 객체 생성 \n",
    "lr_clf = LogisticRegression(random_state=13)\n",
    "dt_clf = DecisionTreeClassifier(random_state=13, max_depth=4)\n",
    "rf_clf = RandomForestClassifier(random_state=13, n_jobs = -1, n_estimators= 100 )\n",
    "lgbm_clf = LGBMClassifier(n_estimators=1000, num_leaves=64, n_jobs=-1, boost_from_average = False)\n",
    "svm_clf = LinearSVC()\n",
    "\n",
    "# 학습 진행 \n",
    "models=[lr_clf,dt_clf,rf_clf,lgbm_clf,svm_clf] \n",
    "model_names = ['LogiReg', 'DecisionTree', 'RandomFore','LGBM','SVC']\n",
    "results = get_result_df(models, model_names, X_train, y_train, X_valid, y_valid)\n",
    "results "
   ]
  },
  {
   "cell_type": "code",
   "execution_count": 109,
   "metadata": {},
   "outputs": [
    {
     "output_type": "execute_result",
     "data": {
      "text/plain": [
       "              Accuracy  precision    recall        f1       roc\n",
       "LogiReg       0.739907   0.005961  0.571429  0.011799  0.655897\n",
       "DecisionTree  0.705357   0.002646  0.285714  0.005242  0.496107\n",
       "RandomFore    0.862966   0.002874  0.142857  0.005634  0.503893\n",
       "LGBM          0.866460   0.002950  0.142857  0.005780  0.505644\n",
       "SVC           0.741071   0.005988  0.571429  0.011852  0.656481"
      ],
      "text/html": "<div>\n<style scoped>\n    .dataframe tbody tr th:only-of-type {\n        vertical-align: middle;\n    }\n\n    .dataframe tbody tr th {\n        vertical-align: top;\n    }\n\n    .dataframe thead th {\n        text-align: right;\n    }\n</style>\n<table border=\"1\" class=\"dataframe\">\n  <thead>\n    <tr style=\"text-align: right;\">\n      <th></th>\n      <th>Accuracy</th>\n      <th>precision</th>\n      <th>recall</th>\n      <th>f1</th>\n      <th>roc</th>\n    </tr>\n  </thead>\n  <tbody>\n    <tr>\n      <th>LogiReg</th>\n      <td>0.739907</td>\n      <td>0.005961</td>\n      <td>0.571429</td>\n      <td>0.011799</td>\n      <td>0.655897</td>\n    </tr>\n    <tr>\n      <th>DecisionTree</th>\n      <td>0.705357</td>\n      <td>0.002646</td>\n      <td>0.285714</td>\n      <td>0.005242</td>\n      <td>0.496107</td>\n    </tr>\n    <tr>\n      <th>RandomFore</th>\n      <td>0.862966</td>\n      <td>0.002874</td>\n      <td>0.142857</td>\n      <td>0.005634</td>\n      <td>0.503893</td>\n    </tr>\n    <tr>\n      <th>LGBM</th>\n      <td>0.866460</td>\n      <td>0.002950</td>\n      <td>0.142857</td>\n      <td>0.005780</td>\n      <td>0.505644</td>\n    </tr>\n    <tr>\n      <th>SVC</th>\n      <td>0.741071</td>\n      <td>0.005988</td>\n      <td>0.571429</td>\n      <td>0.011852</td>\n      <td>0.656481</td>\n    </tr>\n  </tbody>\n</table>\n</div>"
     },
     "metadata": {},
     "execution_count": 109
    }
   ],
   "source": [
    "# 복합 샘플링 적용 \n",
    "\n",
    "from imblearn.over_sampling import ADASYN\n",
    "\n",
    "ads = ADASYN(random_state=13)\n",
    "X_train_ads, y_train_ads = ads.fit_sample(X_train, y_train)\n",
    "\n",
    "\n",
    "model_names = ['LogiReg', 'DecisionTree', 'RandomFore','LGBM','SVC']\n",
    "results = get_result_df(models, model_names, X_train_ads, y_train_ads, X_valid, y_valid)\n",
    "\n",
    "results"
   ]
  },
  {
   "source": [
    "## Trial #19\n",
    "## 불필요 feature 삭제\n",
    "## ssscale / pca(n=3) / adasyn"
   ],
   "cell_type": "markdown",
   "metadata": {}
  },
  {
   "cell_type": "code",
   "execution_count": 110,
   "metadata": {},
   "outputs": [],
   "source": [
    "df_19 = df.copy()\n",
    "df_19 = df_19.drop(columns=['sharing_type', 'has_previous_accident','b2b','accident_ratio','socarpass', 'car_part2'])\n",
    "df_19\n",
    "\n",
    "y_target = df_19['fraud_YN']\n",
    "X_features = df_19.drop('fraud_YN', axis=1)\n",
    "\n",
    "y_target = df_19['fraud_YN'].reset_index()\n",
    "y_target = y_target.drop('index', axis=1)"
   ]
  },
  {
   "cell_type": "code",
   "execution_count": 111,
   "metadata": {},
   "outputs": [
    {
     "output_type": "execute_result",
     "data": {
      "text/plain": [
       "       component_1  component_2  component_3  target\n",
       "12874    -0.997244    -0.390192    -0.121477       0\n",
       "12875    -1.084382     1.189193    -1.022075       0\n",
       "12876    -1.041071    -0.187713     1.265178       0\n",
       "12877    -1.248356     0.111310     0.408654       0\n",
       "12878    -1.168033    -1.645701     1.511277       0"
      ],
      "text/html": "<div>\n<style scoped>\n    .dataframe tbody tr th:only-of-type {\n        vertical-align: middle;\n    }\n\n    .dataframe tbody tr th {\n        vertical-align: top;\n    }\n\n    .dataframe thead th {\n        text-align: right;\n    }\n</style>\n<table border=\"1\" class=\"dataframe\">\n  <thead>\n    <tr style=\"text-align: right;\">\n      <th></th>\n      <th>component_1</th>\n      <th>component_2</th>\n      <th>component_3</th>\n      <th>target</th>\n    </tr>\n  </thead>\n  <tbody>\n    <tr>\n      <th>12874</th>\n      <td>-0.997244</td>\n      <td>-0.390192</td>\n      <td>-0.121477</td>\n      <td>0</td>\n    </tr>\n    <tr>\n      <th>12875</th>\n      <td>-1.084382</td>\n      <td>1.189193</td>\n      <td>-1.022075</td>\n      <td>0</td>\n    </tr>\n    <tr>\n      <th>12876</th>\n      <td>-1.041071</td>\n      <td>-0.187713</td>\n      <td>1.265178</td>\n      <td>0</td>\n    </tr>\n    <tr>\n      <th>12877</th>\n      <td>-1.248356</td>\n      <td>0.111310</td>\n      <td>0.408654</td>\n      <td>0</td>\n    </tr>\n    <tr>\n      <th>12878</th>\n      <td>-1.168033</td>\n      <td>-1.645701</td>\n      <td>1.511277</td>\n      <td>0</td>\n    </tr>\n  </tbody>\n</table>\n</div>"
     },
     "metadata": {},
     "execution_count": 111
    }
   ],
   "source": [
    "from sklearn.decomposition import PCA\n",
    "from sklearn.preprocessing import StandardScaler\n",
    "\n",
    "scaler = StandardScaler()\n",
    "df_scaled = scaler.fit_transform(X_features)\n",
    "\n",
    "pca = PCA(n_components=3)\n",
    "pca.fit(df_scaled)\n",
    "df_pca = pca.transform(df_scaled)\n",
    "\n",
    "pca_columns = ['component_1','component_2','component_3']\n",
    "\n",
    "DF_pca = pd.DataFrame(df_pca, columns=pca_columns)\n",
    "DF_pca['target'] = y_target \n",
    "DF_pca.tail()\n"
   ]
  },
  {
   "cell_type": "code",
   "execution_count": 112,
   "metadata": {},
   "outputs": [
    {
     "output_type": "execute_result",
     "data": {
      "text/plain": [
       "              Accuracy  precision  recall   f1  roc\n",
       "LogiReg       0.997283        0.0     0.0  0.0  0.5\n",
       "DecisionTree  0.997283        0.0     0.0  0.0  0.5\n",
       "RandomFore    0.997283        0.0     0.0  0.0  0.5\n",
       "LGBM          0.997283        0.0     0.0  0.0  0.5\n",
       "SVC           0.997283        0.0     0.0  0.0  0.5"
      ],
      "text/html": "<div>\n<style scoped>\n    .dataframe tbody tr th:only-of-type {\n        vertical-align: middle;\n    }\n\n    .dataframe tbody tr th {\n        vertical-align: top;\n    }\n\n    .dataframe thead th {\n        text-align: right;\n    }\n</style>\n<table border=\"1\" class=\"dataframe\">\n  <thead>\n    <tr style=\"text-align: right;\">\n      <th></th>\n      <th>Accuracy</th>\n      <th>precision</th>\n      <th>recall</th>\n      <th>f1</th>\n      <th>roc</th>\n    </tr>\n  </thead>\n  <tbody>\n    <tr>\n      <th>LogiReg</th>\n      <td>0.997283</td>\n      <td>0.0</td>\n      <td>0.0</td>\n      <td>0.0</td>\n      <td>0.5</td>\n    </tr>\n    <tr>\n      <th>DecisionTree</th>\n      <td>0.997283</td>\n      <td>0.0</td>\n      <td>0.0</td>\n      <td>0.0</td>\n      <td>0.5</td>\n    </tr>\n    <tr>\n      <th>RandomFore</th>\n      <td>0.997283</td>\n      <td>0.0</td>\n      <td>0.0</td>\n      <td>0.0</td>\n      <td>0.5</td>\n    </tr>\n    <tr>\n      <th>LGBM</th>\n      <td>0.997283</td>\n      <td>0.0</td>\n      <td>0.0</td>\n      <td>0.0</td>\n      <td>0.5</td>\n    </tr>\n    <tr>\n      <th>SVC</th>\n      <td>0.997283</td>\n      <td>0.0</td>\n      <td>0.0</td>\n      <td>0.0</td>\n      <td>0.5</td>\n    </tr>\n  </tbody>\n</table>\n</div>"
     },
     "metadata": {},
     "execution_count": 112
    }
   ],
   "source": [
    "y_target = DF_pca['target']\n",
    "X_features = DF_pca.drop('target', axis= 1)\n",
    "\n",
    "\n",
    "X_train, X_valid, y_train, y_valid = train_test_split(X_features, y_target, test_size =0.2, random_state=13, stratify= y_target)\n",
    "\n",
    "# 모델 객체 생성 \n",
    "lr_clf = LogisticRegression(random_state=13)\n",
    "dt_clf = DecisionTreeClassifier(random_state=13, max_depth=4)\n",
    "rf_clf = RandomForestClassifier(random_state=13, n_jobs = -1, n_estimators= 100 )\n",
    "lgbm_clf = LGBMClassifier(n_estimators=1000, num_leaves=64, n_jobs=-1, boost_from_average = False)\n",
    "svm_clf = LinearSVC()\n",
    "\n",
    "# 학습 진행 \n",
    "models=[lr_clf,dt_clf,rf_clf,lgbm_clf,svm_clf] \n",
    "model_names = ['LogiReg', 'DecisionTree', 'RandomFore','LGBM','SVC']\n",
    "results = get_result_df(models, model_names, X_train, y_train, X_valid, y_valid)\n",
    "results "
   ]
  },
  {
   "cell_type": "code",
   "execution_count": 113,
   "metadata": {},
   "outputs": [
    {
     "output_type": "execute_result",
     "data": {
      "text/plain": [
       "              Accuracy  precision    recall        f1       roc\n",
       "LogiReg       0.725543   0.005650  0.571429  0.011189  0.648696\n",
       "DecisionTree  0.395575   0.002567  0.571429  0.005112  0.483262\n",
       "RandomFore    0.943711   0.000000  0.000000  0.000000  0.473141\n",
       "LGBM          0.943711   0.000000  0.000000  0.000000  0.473141\n",
       "SVC           0.727873   0.005698  0.571429  0.011283  0.649864"
      ],
      "text/html": "<div>\n<style scoped>\n    .dataframe tbody tr th:only-of-type {\n        vertical-align: middle;\n    }\n\n    .dataframe tbody tr th {\n        vertical-align: top;\n    }\n\n    .dataframe thead th {\n        text-align: right;\n    }\n</style>\n<table border=\"1\" class=\"dataframe\">\n  <thead>\n    <tr style=\"text-align: right;\">\n      <th></th>\n      <th>Accuracy</th>\n      <th>precision</th>\n      <th>recall</th>\n      <th>f1</th>\n      <th>roc</th>\n    </tr>\n  </thead>\n  <tbody>\n    <tr>\n      <th>LogiReg</th>\n      <td>0.725543</td>\n      <td>0.005650</td>\n      <td>0.571429</td>\n      <td>0.011189</td>\n      <td>0.648696</td>\n    </tr>\n    <tr>\n      <th>DecisionTree</th>\n      <td>0.395575</td>\n      <td>0.002567</td>\n      <td>0.571429</td>\n      <td>0.005112</td>\n      <td>0.483262</td>\n    </tr>\n    <tr>\n      <th>RandomFore</th>\n      <td>0.943711</td>\n      <td>0.000000</td>\n      <td>0.000000</td>\n      <td>0.000000</td>\n      <td>0.473141</td>\n    </tr>\n    <tr>\n      <th>LGBM</th>\n      <td>0.943711</td>\n      <td>0.000000</td>\n      <td>0.000000</td>\n      <td>0.000000</td>\n      <td>0.473141</td>\n    </tr>\n    <tr>\n      <th>SVC</th>\n      <td>0.727873</td>\n      <td>0.005698</td>\n      <td>0.571429</td>\n      <td>0.011283</td>\n      <td>0.649864</td>\n    </tr>\n  </tbody>\n</table>\n</div>"
     },
     "metadata": {},
     "execution_count": 113
    }
   ],
   "source": [
    "# 복합 샘플링 적용 \n",
    "\n",
    "from imblearn.over_sampling import ADASYN\n",
    "\n",
    "ads = ADASYN(random_state=13)\n",
    "X_train_ads, y_train_ads = ads.fit_sample(X_train, y_train)\n",
    "\n",
    "\n",
    "model_names = ['LogiReg', 'DecisionTree', 'RandomFore','LGBM','SVC']\n",
    "results = get_result_df(models, model_names, X_train_ads, y_train_ads, X_valid, y_valid)\n",
    "\n",
    "results"
   ]
  },
  {
   "source": [
    "## Trial #20\n",
    "## 불필요 feature 삭제\n",
    "## ssscale / pca(n=4) / adasyn"
   ],
   "cell_type": "markdown",
   "metadata": {}
  },
  {
   "cell_type": "code",
   "execution_count": 114,
   "metadata": {},
   "outputs": [],
   "source": [
    "df_20 = df.copy()\n",
    "df_20 = df_20.drop(columns=['sharing_type', 'has_previous_accident','b2b','accident_ratio','socarpass', 'car_part2'])\n",
    "df_20\n",
    "\n",
    "y_target = df_20['fraud_YN']\n",
    "X_features = df_20.drop('fraud_YN', axis=1)\n",
    "\n",
    "y_target = df_20['fraud_YN'].reset_index()\n",
    "y_target = y_target.drop('index', axis=1)"
   ]
  },
  {
   "cell_type": "code",
   "execution_count": 116,
   "metadata": {},
   "outputs": [
    {
     "output_type": "execute_result",
     "data": {
      "text/plain": [
       "       component_1  component_2  component_3  component_4  target\n",
       "12874    -0.997216    -0.390764    -0.114709     0.567688       0\n",
       "12875    -1.084382     1.188923    -1.023409    -1.206782       0\n",
       "12876    -1.041182    -0.185988     1.264074     0.498973       0\n",
       "12877    -1.248361     0.111232     0.417679    -0.698917       0\n",
       "12878    -1.167989    -1.645902     1.503735     0.216451       0"
      ],
      "text/html": "<div>\n<style scoped>\n    .dataframe tbody tr th:only-of-type {\n        vertical-align: middle;\n    }\n\n    .dataframe tbody tr th {\n        vertical-align: top;\n    }\n\n    .dataframe thead th {\n        text-align: right;\n    }\n</style>\n<table border=\"1\" class=\"dataframe\">\n  <thead>\n    <tr style=\"text-align: right;\">\n      <th></th>\n      <th>component_1</th>\n      <th>component_2</th>\n      <th>component_3</th>\n      <th>component_4</th>\n      <th>target</th>\n    </tr>\n  </thead>\n  <tbody>\n    <tr>\n      <th>12874</th>\n      <td>-0.997216</td>\n      <td>-0.390764</td>\n      <td>-0.114709</td>\n      <td>0.567688</td>\n      <td>0</td>\n    </tr>\n    <tr>\n      <th>12875</th>\n      <td>-1.084382</td>\n      <td>1.188923</td>\n      <td>-1.023409</td>\n      <td>-1.206782</td>\n      <td>0</td>\n    </tr>\n    <tr>\n      <th>12876</th>\n      <td>-1.041182</td>\n      <td>-0.185988</td>\n      <td>1.264074</td>\n      <td>0.498973</td>\n      <td>0</td>\n    </tr>\n    <tr>\n      <th>12877</th>\n      <td>-1.248361</td>\n      <td>0.111232</td>\n      <td>0.417679</td>\n      <td>-0.698917</td>\n      <td>0</td>\n    </tr>\n    <tr>\n      <th>12878</th>\n      <td>-1.167989</td>\n      <td>-1.645902</td>\n      <td>1.503735</td>\n      <td>0.216451</td>\n      <td>0</td>\n    </tr>\n  </tbody>\n</table>\n</div>"
     },
     "metadata": {},
     "execution_count": 116
    }
   ],
   "source": [
    "from sklearn.decomposition import PCA\n",
    "from sklearn.preprocessing import StandardScaler\n",
    "\n",
    "scaler = StandardScaler()\n",
    "df_scaled = scaler.fit_transform(X_features)\n",
    "\n",
    "pca = PCA(n_components=4)\n",
    "pca.fit(df_scaled)\n",
    "df_pca = pca.transform(df_scaled)\n",
    "\n",
    "pca_columns = ['component_1','component_2','component_3',\n",
    "'component_4']\n",
    "\n",
    "DF_pca = pd.DataFrame(df_pca, columns=pca_columns)\n",
    "DF_pca['target'] = y_target \n",
    "DF_pca.tail()\n"
   ]
  },
  {
   "cell_type": "code",
   "execution_count": 117,
   "metadata": {},
   "outputs": [
    {
     "output_type": "execute_result",
     "data": {
      "text/plain": [
       "              Accuracy  precision  recall   f1  roc\n",
       "LogiReg       0.997283        0.0     0.0  0.0  0.5\n",
       "DecisionTree  0.997283        0.0     0.0  0.0  0.5\n",
       "RandomFore    0.997283        0.0     0.0  0.0  0.5\n",
       "LGBM          0.997283        0.0     0.0  0.0  0.5\n",
       "SVC           0.997283        0.0     0.0  0.0  0.5"
      ],
      "text/html": "<div>\n<style scoped>\n    .dataframe tbody tr th:only-of-type {\n        vertical-align: middle;\n    }\n\n    .dataframe tbody tr th {\n        vertical-align: top;\n    }\n\n    .dataframe thead th {\n        text-align: right;\n    }\n</style>\n<table border=\"1\" class=\"dataframe\">\n  <thead>\n    <tr style=\"text-align: right;\">\n      <th></th>\n      <th>Accuracy</th>\n      <th>precision</th>\n      <th>recall</th>\n      <th>f1</th>\n      <th>roc</th>\n    </tr>\n  </thead>\n  <tbody>\n    <tr>\n      <th>LogiReg</th>\n      <td>0.997283</td>\n      <td>0.0</td>\n      <td>0.0</td>\n      <td>0.0</td>\n      <td>0.5</td>\n    </tr>\n    <tr>\n      <th>DecisionTree</th>\n      <td>0.997283</td>\n      <td>0.0</td>\n      <td>0.0</td>\n      <td>0.0</td>\n      <td>0.5</td>\n    </tr>\n    <tr>\n      <th>RandomFore</th>\n      <td>0.997283</td>\n      <td>0.0</td>\n      <td>0.0</td>\n      <td>0.0</td>\n      <td>0.5</td>\n    </tr>\n    <tr>\n      <th>LGBM</th>\n      <td>0.997283</td>\n      <td>0.0</td>\n      <td>0.0</td>\n      <td>0.0</td>\n      <td>0.5</td>\n    </tr>\n    <tr>\n      <th>SVC</th>\n      <td>0.997283</td>\n      <td>0.0</td>\n      <td>0.0</td>\n      <td>0.0</td>\n      <td>0.5</td>\n    </tr>\n  </tbody>\n</table>\n</div>"
     },
     "metadata": {},
     "execution_count": 117
    }
   ],
   "source": [
    "y_target = DF_pca['target']\n",
    "X_features = DF_pca.drop('target', axis= 1)\n",
    "\n",
    "\n",
    "X_train, X_valid, y_train, y_valid = train_test_split(X_features, y_target, test_size =0.2, random_state=13, stratify= y_target)\n",
    "\n",
    "# 모델 객체 생성 \n",
    "lr_clf = LogisticRegression(random_state=13)\n",
    "dt_clf = DecisionTreeClassifier(random_state=13, max_depth=4)\n",
    "rf_clf = RandomForestClassifier(random_state=13, n_jobs = -1, n_estimators= 100 )\n",
    "lgbm_clf = LGBMClassifier(n_estimators=1000, num_leaves=64, n_jobs=-1, boost_from_average = False)\n",
    "svm_clf = LinearSVC()\n",
    "\n",
    "# 학습 진행 \n",
    "models=[lr_clf,dt_clf,rf_clf,lgbm_clf,svm_clf] \n",
    "model_names = ['LogiReg', 'DecisionTree', 'RandomFore','LGBM','SVC']\n",
    "results = get_result_df(models, model_names, X_train, y_train, X_valid, y_valid)\n",
    "results "
   ]
  },
  {
   "cell_type": "code",
   "execution_count": 118,
   "metadata": {},
   "outputs": [
    {
     "output_type": "execute_result",
     "data": {
      "text/plain": [
       "              Accuracy  precision    recall        f1       roc\n",
       "LogiReg       0.716227   0.006812  0.714286  0.013495  0.715259\n",
       "DecisionTree  0.701087   0.001307  0.142857  0.002591  0.422733\n",
       "RandomFore    0.970109   0.000000  0.000000  0.000000  0.486376\n",
       "LGBM          0.968556   0.000000  0.000000  0.000000  0.485598\n",
       "SVC           0.719332   0.006887  0.714286  0.013643  0.716816"
      ],
      "text/html": "<div>\n<style scoped>\n    .dataframe tbody tr th:only-of-type {\n        vertical-align: middle;\n    }\n\n    .dataframe tbody tr th {\n        vertical-align: top;\n    }\n\n    .dataframe thead th {\n        text-align: right;\n    }\n</style>\n<table border=\"1\" class=\"dataframe\">\n  <thead>\n    <tr style=\"text-align: right;\">\n      <th></th>\n      <th>Accuracy</th>\n      <th>precision</th>\n      <th>recall</th>\n      <th>f1</th>\n      <th>roc</th>\n    </tr>\n  </thead>\n  <tbody>\n    <tr>\n      <th>LogiReg</th>\n      <td>0.716227</td>\n      <td>0.006812</td>\n      <td>0.714286</td>\n      <td>0.013495</td>\n      <td>0.715259</td>\n    </tr>\n    <tr>\n      <th>DecisionTree</th>\n      <td>0.701087</td>\n      <td>0.001307</td>\n      <td>0.142857</td>\n      <td>0.002591</td>\n      <td>0.422733</td>\n    </tr>\n    <tr>\n      <th>RandomFore</th>\n      <td>0.970109</td>\n      <td>0.000000</td>\n      <td>0.000000</td>\n      <td>0.000000</td>\n      <td>0.486376</td>\n    </tr>\n    <tr>\n      <th>LGBM</th>\n      <td>0.968556</td>\n      <td>0.000000</td>\n      <td>0.000000</td>\n      <td>0.000000</td>\n      <td>0.485598</td>\n    </tr>\n    <tr>\n      <th>SVC</th>\n      <td>0.719332</td>\n      <td>0.006887</td>\n      <td>0.714286</td>\n      <td>0.013643</td>\n      <td>0.716816</td>\n    </tr>\n  </tbody>\n</table>\n</div>"
     },
     "metadata": {},
     "execution_count": 118
    }
   ],
   "source": [
    "# 복합 샘플링 적용 \n",
    "\n",
    "from imblearn.over_sampling import ADASYN\n",
    "\n",
    "ads = ADASYN(random_state=13)\n",
    "X_train_ads, y_train_ads = ads.fit_sample(X_train, y_train)\n",
    "\n",
    "\n",
    "model_names = ['LogiReg', 'DecisionTree', 'RandomFore','LGBM','SVC']\n",
    "results = get_result_df(models, model_names, X_train_ads, y_train_ads, X_valid, y_valid)\n",
    "\n",
    "results"
   ]
  },
  {
   "source": [
    "## Trial #21\n",
    "## 불필요 feature 삭제\n",
    "## ssscale / pca(n=5) / adasyn"
   ],
   "cell_type": "markdown",
   "metadata": {}
  },
  {
   "cell_type": "code",
   "execution_count": 120,
   "metadata": {},
   "outputs": [],
   "source": [
    "df_21 = df.copy()\n",
    "df_21 = df_21.drop(columns=['sharing_type', 'has_previous_accident','b2b','accident_ratio','socarpass', 'car_part2'])\n",
    "df_21\n",
    "\n",
    "y_target = df_21['fraud_YN']\n",
    "X_features = df_21.drop('fraud_YN', axis=1)\n",
    "\n",
    "y_target = df_21['fraud_YN'].reset_index()\n",
    "y_target = y_target.drop('index', axis=1)"
   ]
  },
  {
   "cell_type": "code",
   "execution_count": 121,
   "metadata": {},
   "outputs": [
    {
     "output_type": "execute_result",
     "data": {
      "text/plain": [
       "       component_1  component_2  component_3  component_4  component_5  target\n",
       "12874    -0.997281    -0.389816    -0.116335     0.552664     0.174946       0\n",
       "12875    -1.084352     1.188921    -1.023931    -1.200317    -0.223165       0\n",
       "12876    -1.041084    -0.187459     1.266949     0.511587     0.279707       0\n",
       "12877    -1.248457     0.112030     0.416054    -0.701191     1.388933       0\n",
       "12878    -1.167983    -1.646125     1.503848     0.213860    -1.619860       0"
      ],
      "text/html": "<div>\n<style scoped>\n    .dataframe tbody tr th:only-of-type {\n        vertical-align: middle;\n    }\n\n    .dataframe tbody tr th {\n        vertical-align: top;\n    }\n\n    .dataframe thead th {\n        text-align: right;\n    }\n</style>\n<table border=\"1\" class=\"dataframe\">\n  <thead>\n    <tr style=\"text-align: right;\">\n      <th></th>\n      <th>component_1</th>\n      <th>component_2</th>\n      <th>component_3</th>\n      <th>component_4</th>\n      <th>component_5</th>\n      <th>target</th>\n    </tr>\n  </thead>\n  <tbody>\n    <tr>\n      <th>12874</th>\n      <td>-0.997281</td>\n      <td>-0.389816</td>\n      <td>-0.116335</td>\n      <td>0.552664</td>\n      <td>0.174946</td>\n      <td>0</td>\n    </tr>\n    <tr>\n      <th>12875</th>\n      <td>-1.084352</td>\n      <td>1.188921</td>\n      <td>-1.023931</td>\n      <td>-1.200317</td>\n      <td>-0.223165</td>\n      <td>0</td>\n    </tr>\n    <tr>\n      <th>12876</th>\n      <td>-1.041084</td>\n      <td>-0.187459</td>\n      <td>1.266949</td>\n      <td>0.511587</td>\n      <td>0.279707</td>\n      <td>0</td>\n    </tr>\n    <tr>\n      <th>12877</th>\n      <td>-1.248457</td>\n      <td>0.112030</td>\n      <td>0.416054</td>\n      <td>-0.701191</td>\n      <td>1.388933</td>\n      <td>0</td>\n    </tr>\n    <tr>\n      <th>12878</th>\n      <td>-1.167983</td>\n      <td>-1.646125</td>\n      <td>1.503848</td>\n      <td>0.213860</td>\n      <td>-1.619860</td>\n      <td>0</td>\n    </tr>\n  </tbody>\n</table>\n</div>"
     },
     "metadata": {},
     "execution_count": 121
    }
   ],
   "source": [
    "from sklearn.decomposition import PCA\n",
    "from sklearn.preprocessing import StandardScaler\n",
    "\n",
    "scaler = StandardScaler()\n",
    "df_scaled = scaler.fit_transform(X_features)\n",
    "\n",
    "pca = PCA(n_components=5)\n",
    "pca.fit(df_scaled)\n",
    "df_pca = pca.transform(df_scaled)\n",
    "\n",
    "pca_columns = ['component_1','component_2','component_3',\n",
    "'component_4','component_5']\n",
    "\n",
    "DF_pca = pd.DataFrame(df_pca, columns=pca_columns)\n",
    "DF_pca['target'] = y_target \n",
    "DF_pca.tail()\n"
   ]
  },
  {
   "cell_type": "code",
   "execution_count": 122,
   "metadata": {},
   "outputs": [
    {
     "output_type": "execute_result",
     "data": {
      "text/plain": [
       "              Accuracy  precision  recall   f1       roc\n",
       "LogiReg       0.997283        0.0     0.0  0.0  0.500000\n",
       "DecisionTree  0.995730        0.0     0.0  0.0  0.499221\n",
       "RandomFore    0.997283        0.0     0.0  0.0  0.500000\n",
       "LGBM          0.997283        0.0     0.0  0.0  0.500000\n",
       "SVC           0.997283        0.0     0.0  0.0  0.500000"
      ],
      "text/html": "<div>\n<style scoped>\n    .dataframe tbody tr th:only-of-type {\n        vertical-align: middle;\n    }\n\n    .dataframe tbody tr th {\n        vertical-align: top;\n    }\n\n    .dataframe thead th {\n        text-align: right;\n    }\n</style>\n<table border=\"1\" class=\"dataframe\">\n  <thead>\n    <tr style=\"text-align: right;\">\n      <th></th>\n      <th>Accuracy</th>\n      <th>precision</th>\n      <th>recall</th>\n      <th>f1</th>\n      <th>roc</th>\n    </tr>\n  </thead>\n  <tbody>\n    <tr>\n      <th>LogiReg</th>\n      <td>0.997283</td>\n      <td>0.0</td>\n      <td>0.0</td>\n      <td>0.0</td>\n      <td>0.500000</td>\n    </tr>\n    <tr>\n      <th>DecisionTree</th>\n      <td>0.995730</td>\n      <td>0.0</td>\n      <td>0.0</td>\n      <td>0.0</td>\n      <td>0.499221</td>\n    </tr>\n    <tr>\n      <th>RandomFore</th>\n      <td>0.997283</td>\n      <td>0.0</td>\n      <td>0.0</td>\n      <td>0.0</td>\n      <td>0.500000</td>\n    </tr>\n    <tr>\n      <th>LGBM</th>\n      <td>0.997283</td>\n      <td>0.0</td>\n      <td>0.0</td>\n      <td>0.0</td>\n      <td>0.500000</td>\n    </tr>\n    <tr>\n      <th>SVC</th>\n      <td>0.997283</td>\n      <td>0.0</td>\n      <td>0.0</td>\n      <td>0.0</td>\n      <td>0.500000</td>\n    </tr>\n  </tbody>\n</table>\n</div>"
     },
     "metadata": {},
     "execution_count": 122
    }
   ],
   "source": [
    "y_target = DF_pca['target']\n",
    "X_features = DF_pca.drop('target', axis= 1)\n",
    "\n",
    "\n",
    "X_train, X_valid, y_train, y_valid = train_test_split(X_features, y_target, test_size =0.2, random_state=13, stratify= y_target)\n",
    "\n",
    "# 모델 객체 생성 \n",
    "lr_clf = LogisticRegression(random_state=13)\n",
    "dt_clf = DecisionTreeClassifier(random_state=13, max_depth=4)\n",
    "rf_clf = RandomForestClassifier(random_state=13, n_jobs = -1, n_estimators= 100 )\n",
    "lgbm_clf = LGBMClassifier(n_estimators=1000, num_leaves=64, n_jobs=-1, boost_from_average = False)\n",
    "svm_clf = LinearSVC()\n",
    "\n",
    "# 학습 진행 \n",
    "models=[lr_clf,dt_clf,rf_clf,lgbm_clf,svm_clf] \n",
    "model_names = ['LogiReg', 'DecisionTree', 'RandomFore','LGBM','SVC']\n",
    "results = get_result_df(models, model_names, X_train, y_train, X_valid, y_valid)\n",
    "results "
   ]
  },
  {
   "cell_type": "code",
   "execution_count": 123,
   "metadata": {},
   "outputs": [
    {
     "output_type": "execute_result",
     "data": {
      "text/plain": [
       "              Accuracy  precision    recall        f1       roc\n",
       "LogiReg       0.678183   0.006010  0.714286  0.011919  0.696185\n",
       "DecisionTree  0.716227   0.002747  0.285714  0.005442  0.501557\n",
       "RandomFore    0.977484   0.000000  0.000000  0.000000  0.490074\n",
       "LGBM          0.974767   0.000000  0.000000  0.000000  0.488712\n",
       "SVC           0.684394   0.006127  0.714286  0.012151  0.699299"
      ],
      "text/html": "<div>\n<style scoped>\n    .dataframe tbody tr th:only-of-type {\n        vertical-align: middle;\n    }\n\n    .dataframe tbody tr th {\n        vertical-align: top;\n    }\n\n    .dataframe thead th {\n        text-align: right;\n    }\n</style>\n<table border=\"1\" class=\"dataframe\">\n  <thead>\n    <tr style=\"text-align: right;\">\n      <th></th>\n      <th>Accuracy</th>\n      <th>precision</th>\n      <th>recall</th>\n      <th>f1</th>\n      <th>roc</th>\n    </tr>\n  </thead>\n  <tbody>\n    <tr>\n      <th>LogiReg</th>\n      <td>0.678183</td>\n      <td>0.006010</td>\n      <td>0.714286</td>\n      <td>0.011919</td>\n      <td>0.696185</td>\n    </tr>\n    <tr>\n      <th>DecisionTree</th>\n      <td>0.716227</td>\n      <td>0.002747</td>\n      <td>0.285714</td>\n      <td>0.005442</td>\n      <td>0.501557</td>\n    </tr>\n    <tr>\n      <th>RandomFore</th>\n      <td>0.977484</td>\n      <td>0.000000</td>\n      <td>0.000000</td>\n      <td>0.000000</td>\n      <td>0.490074</td>\n    </tr>\n    <tr>\n      <th>LGBM</th>\n      <td>0.974767</td>\n      <td>0.000000</td>\n      <td>0.000000</td>\n      <td>0.000000</td>\n      <td>0.488712</td>\n    </tr>\n    <tr>\n      <th>SVC</th>\n      <td>0.684394</td>\n      <td>0.006127</td>\n      <td>0.714286</td>\n      <td>0.012151</td>\n      <td>0.699299</td>\n    </tr>\n  </tbody>\n</table>\n</div>"
     },
     "metadata": {},
     "execution_count": 123
    }
   ],
   "source": [
    "# 복합 샘플링 적용 \n",
    "\n",
    "from imblearn.over_sampling import ADASYN\n",
    "\n",
    "ads = ADASYN(random_state=13)\n",
    "X_train_ads, y_train_ads = ads.fit_sample(X_train, y_train)\n",
    "\n",
    "\n",
    "model_names = ['LogiReg', 'DecisionTree', 'RandomFore','LGBM','SVC']\n",
    "results = get_result_df(models, model_names, X_train_ads, y_train_ads, X_valid, y_valid)\n",
    "\n",
    "results"
   ]
  },
  {
   "cell_type": "code",
   "execution_count": null,
   "metadata": {},
   "outputs": [],
   "source": []
  }
 ]
}