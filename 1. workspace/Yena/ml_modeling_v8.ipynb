{
 "metadata": {
  "language_info": {
   "codemirror_mode": {
    "name": "ipython",
    "version": 3
   },
   "file_extension": ".py",
   "mimetype": "text/x-python",
   "name": "python",
   "nbconvert_exporter": "python",
   "pygments_lexer": "ipython3",
   "version": "3.8.3-final"
  },
  "orig_nbformat": 2,
  "kernelspec": {
   "name": "python3",
   "display_name": "Python 3",
   "language": "python"
  }
 },
 "nbformat": 4,
 "nbformat_minor": 2,
 "cells": [
  {
   "cell_type": "code",
   "execution_count": 1,
   "metadata": {},
   "outputs": [
    {
     "output_type": "execute_result",
     "data": {
      "text/plain": [
       "       fraud_YN  car_model  sharing_type  age_group  has_previous_accident  \\\n",
       "0             0          2             1          3                      0   \n",
       "1             0          1             0          4                      0   \n",
       "2             0          1             0          4                      1   \n",
       "3             0          3             1          3                      0   \n",
       "4             0          1             0          1                      0   \n",
       "...         ...        ...           ...        ...                    ...   \n",
       "15995         0          2             0          2                      0   \n",
       "15996         0          2             0          2                      1   \n",
       "15997         0          2             1          2                      0   \n",
       "15998         0          2             0          2                      0   \n",
       "15999         0          2             0          2                      0   \n",
       "\n",
       "       cumulative_use_count  b2b  accident_ratio  pf_type  socarpass  ...  \\\n",
       "0                         2    0             100        2          0  ...   \n",
       "1                         4    0               0        3          1  ...   \n",
       "2                         4    0             100        3          1  ...   \n",
       "3                         4    0               0        2          0  ...   \n",
       "4                         1    0             100        1          0  ...   \n",
       "...                     ...  ...             ...      ...        ...  ...   \n",
       "15995                     2    0             100        2          0  ...   \n",
       "15996                     4    0             100        1          1  ...   \n",
       "15997                     4    0             100        1          0  ...   \n",
       "15998                     2    0             100        2          0  ...   \n",
       "15999                     1    0             100        1          0  ...   \n",
       "\n",
       "       insure_cost  accident_location  car_part1  car_part2  repair_cnt  \\\n",
       "0                0                  1          0          0           1   \n",
       "1                0                  1          1          1           2   \n",
       "2         12925040                  3          1          0           2   \n",
       "3                0                  3          1          0           1   \n",
       "4          1209410                  1          0          0           2   \n",
       "...            ...                ...        ...        ...         ...   \n",
       "15995            0                  1          1          0           1   \n",
       "15996            0                  2          1          0           1   \n",
       "15997            0                  0          0          0           1   \n",
       "15998            0                  4          1          0           1   \n",
       "15999      1188750                  2          0          0           1   \n",
       "\n",
       "       acc_type1  insurance_site_aid_YN  police_site_aid_YN  total_prsn_cnt  \\\n",
       "0              0                      0                   0              -1   \n",
       "1              1                      1                   1               0   \n",
       "2              1                      1                   1               0   \n",
       "3              0                      0                   0              -1   \n",
       "4              0                      0                   0              -1   \n",
       "...          ...                    ...                 ...             ...   \n",
       "15995          0                      0                   0              -1   \n",
       "15996          0                      0                   0              -1   \n",
       "15997          0                      0                   0              -1   \n",
       "15998          0                      0                   0              -1   \n",
       "15999          0                      0                   0              -1   \n",
       "\n",
       "       test_set  \n",
       "0             0  \n",
       "1             1  \n",
       "2             1  \n",
       "3             0  \n",
       "4             0  \n",
       "...         ...  \n",
       "15995         0  \n",
       "15996         0  \n",
       "15997         1  \n",
       "15998         0  \n",
       "15999         0  \n",
       "\n",
       "[16000 rows x 25 columns]"
      ],
      "text/html": "<div>\n<style scoped>\n    .dataframe tbody tr th:only-of-type {\n        vertical-align: middle;\n    }\n\n    .dataframe tbody tr th {\n        vertical-align: top;\n    }\n\n    .dataframe thead th {\n        text-align: right;\n    }\n</style>\n<table border=\"1\" class=\"dataframe\">\n  <thead>\n    <tr style=\"text-align: right;\">\n      <th></th>\n      <th>fraud_YN</th>\n      <th>car_model</th>\n      <th>sharing_type</th>\n      <th>age_group</th>\n      <th>has_previous_accident</th>\n      <th>cumulative_use_count</th>\n      <th>b2b</th>\n      <th>accident_ratio</th>\n      <th>pf_type</th>\n      <th>socarpass</th>\n      <th>...</th>\n      <th>insure_cost</th>\n      <th>accident_location</th>\n      <th>car_part1</th>\n      <th>car_part2</th>\n      <th>repair_cnt</th>\n      <th>acc_type1</th>\n      <th>insurance_site_aid_YN</th>\n      <th>police_site_aid_YN</th>\n      <th>total_prsn_cnt</th>\n      <th>test_set</th>\n    </tr>\n  </thead>\n  <tbody>\n    <tr>\n      <th>0</th>\n      <td>0</td>\n      <td>2</td>\n      <td>1</td>\n      <td>3</td>\n      <td>0</td>\n      <td>2</td>\n      <td>0</td>\n      <td>100</td>\n      <td>2</td>\n      <td>0</td>\n      <td>...</td>\n      <td>0</td>\n      <td>1</td>\n      <td>0</td>\n      <td>0</td>\n      <td>1</td>\n      <td>0</td>\n      <td>0</td>\n      <td>0</td>\n      <td>-1</td>\n      <td>0</td>\n    </tr>\n    <tr>\n      <th>1</th>\n      <td>0</td>\n      <td>1</td>\n      <td>0</td>\n      <td>4</td>\n      <td>0</td>\n      <td>4</td>\n      <td>0</td>\n      <td>0</td>\n      <td>3</td>\n      <td>1</td>\n      <td>...</td>\n      <td>0</td>\n      <td>1</td>\n      <td>1</td>\n      <td>1</td>\n      <td>2</td>\n      <td>1</td>\n      <td>1</td>\n      <td>1</td>\n      <td>0</td>\n      <td>1</td>\n    </tr>\n    <tr>\n      <th>2</th>\n      <td>0</td>\n      <td>1</td>\n      <td>0</td>\n      <td>4</td>\n      <td>1</td>\n      <td>4</td>\n      <td>0</td>\n      <td>100</td>\n      <td>3</td>\n      <td>1</td>\n      <td>...</td>\n      <td>12925040</td>\n      <td>3</td>\n      <td>1</td>\n      <td>0</td>\n      <td>2</td>\n      <td>1</td>\n      <td>1</td>\n      <td>1</td>\n      <td>0</td>\n      <td>1</td>\n    </tr>\n    <tr>\n      <th>3</th>\n      <td>0</td>\n      <td>3</td>\n      <td>1</td>\n      <td>3</td>\n      <td>0</td>\n      <td>4</td>\n      <td>0</td>\n      <td>0</td>\n      <td>2</td>\n      <td>0</td>\n      <td>...</td>\n      <td>0</td>\n      <td>3</td>\n      <td>1</td>\n      <td>0</td>\n      <td>1</td>\n      <td>0</td>\n      <td>0</td>\n      <td>0</td>\n      <td>-1</td>\n      <td>0</td>\n    </tr>\n    <tr>\n      <th>4</th>\n      <td>0</td>\n      <td>1</td>\n      <td>0</td>\n      <td>1</td>\n      <td>0</td>\n      <td>1</td>\n      <td>0</td>\n      <td>100</td>\n      <td>1</td>\n      <td>0</td>\n      <td>...</td>\n      <td>1209410</td>\n      <td>1</td>\n      <td>0</td>\n      <td>0</td>\n      <td>2</td>\n      <td>0</td>\n      <td>0</td>\n      <td>0</td>\n      <td>-1</td>\n      <td>0</td>\n    </tr>\n    <tr>\n      <th>...</th>\n      <td>...</td>\n      <td>...</td>\n      <td>...</td>\n      <td>...</td>\n      <td>...</td>\n      <td>...</td>\n      <td>...</td>\n      <td>...</td>\n      <td>...</td>\n      <td>...</td>\n      <td>...</td>\n      <td>...</td>\n      <td>...</td>\n      <td>...</td>\n      <td>...</td>\n      <td>...</td>\n      <td>...</td>\n      <td>...</td>\n      <td>...</td>\n      <td>...</td>\n      <td>...</td>\n    </tr>\n    <tr>\n      <th>15995</th>\n      <td>0</td>\n      <td>2</td>\n      <td>0</td>\n      <td>2</td>\n      <td>0</td>\n      <td>2</td>\n      <td>0</td>\n      <td>100</td>\n      <td>2</td>\n      <td>0</td>\n      <td>...</td>\n      <td>0</td>\n      <td>1</td>\n      <td>1</td>\n      <td>0</td>\n      <td>1</td>\n      <td>0</td>\n      <td>0</td>\n      <td>0</td>\n      <td>-1</td>\n      <td>0</td>\n    </tr>\n    <tr>\n      <th>15996</th>\n      <td>0</td>\n      <td>2</td>\n      <td>0</td>\n      <td>2</td>\n      <td>1</td>\n      <td>4</td>\n      <td>0</td>\n      <td>100</td>\n      <td>1</td>\n      <td>1</td>\n      <td>...</td>\n      <td>0</td>\n      <td>2</td>\n      <td>1</td>\n      <td>0</td>\n      <td>1</td>\n      <td>0</td>\n      <td>0</td>\n      <td>0</td>\n      <td>-1</td>\n      <td>0</td>\n    </tr>\n    <tr>\n      <th>15997</th>\n      <td>0</td>\n      <td>2</td>\n      <td>1</td>\n      <td>2</td>\n      <td>0</td>\n      <td>4</td>\n      <td>0</td>\n      <td>100</td>\n      <td>1</td>\n      <td>0</td>\n      <td>...</td>\n      <td>0</td>\n      <td>0</td>\n      <td>0</td>\n      <td>0</td>\n      <td>1</td>\n      <td>0</td>\n      <td>0</td>\n      <td>0</td>\n      <td>-1</td>\n      <td>1</td>\n    </tr>\n    <tr>\n      <th>15998</th>\n      <td>0</td>\n      <td>2</td>\n      <td>0</td>\n      <td>2</td>\n      <td>0</td>\n      <td>2</td>\n      <td>0</td>\n      <td>100</td>\n      <td>2</td>\n      <td>0</td>\n      <td>...</td>\n      <td>0</td>\n      <td>4</td>\n      <td>1</td>\n      <td>0</td>\n      <td>1</td>\n      <td>0</td>\n      <td>0</td>\n      <td>0</td>\n      <td>-1</td>\n      <td>0</td>\n    </tr>\n    <tr>\n      <th>15999</th>\n      <td>0</td>\n      <td>2</td>\n      <td>0</td>\n      <td>2</td>\n      <td>0</td>\n      <td>1</td>\n      <td>0</td>\n      <td>100</td>\n      <td>1</td>\n      <td>0</td>\n      <td>...</td>\n      <td>1188750</td>\n      <td>2</td>\n      <td>0</td>\n      <td>0</td>\n      <td>1</td>\n      <td>0</td>\n      <td>0</td>\n      <td>0</td>\n      <td>-1</td>\n      <td>0</td>\n    </tr>\n  </tbody>\n</table>\n<p>16000 rows × 25 columns</p>\n</div>"
     },
     "metadata": {},
     "execution_count": 1
    }
   ],
   "source": [
    "# 1-1. 데이터 가져오기 \n",
    "\n",
    "import pandas as pd \n",
    "import matplotlib.pyplot as plt \n",
    "\n",
    "\n",
    "socar = pd.read_csv('../../0. raw_data/insurance_fraud_detect_data.csv')\n",
    "socar "
   ]
  },
  {
   "cell_type": "code",
   "execution_count": 2,
   "metadata": {},
   "outputs": [],
   "source": [
    "# 테스트 셋 분리\n",
    "\n",
    "df = socar[socar['test_set']==0]\n",
    "df_test = socar[socar['test_set']==1]"
   ]
  },
  {
   "cell_type": "code",
   "execution_count": 3,
   "metadata": {},
   "outputs": [],
   "source": [
    "# test_set 분리 \n",
    "X_test = df_test.drop('fraud_YN', axis = 1)\n",
    "y_test = df_test['fraud_YN']"
   ]
  },
  {
   "cell_type": "code",
   "execution_count": 4,
   "metadata": {},
   "outputs": [
    {
     "output_type": "stream",
     "name": "stdout",
     "text": [
      "0    99.73794\n1     0.26206\nName: fraud_YN, dtype: float64\n0    99.728261\n1     0.271739\nName: fraud_YN, dtype: float64\n"
     ]
    }
   ],
   "source": [
    "# train-valid 분리 \n",
    "\n",
    "from sklearn.model_selection import train_test_split\n",
    "\n",
    "y_target = df['fraud_YN']\n",
    "X_features = df.drop('fraud_YN', axis = 1)\n",
    "\n",
    "X_train, X_valid, y_train, y_valid = train_test_split(X_features, y_target, test_size = 0.2, random_state = 13, stratify = y_target)\n",
    "\n",
    "# 비율 확인 \n",
    "print(y_train.value_counts()/y_train.shape[0]*100) \n",
    "print(y_valid.value_counts()/y_valid.shape[0]*100)"
   ]
  },
  {
   "cell_type": "code",
   "execution_count": 5,
   "metadata": {},
   "outputs": [
    {
     "output_type": "execute_result",
     "data": {
      "text/plain": [
       "              Accuracy  precision  recall   f1       roc\n",
       "LogiReg       0.997283        0.0     0.0  0.0  0.500000\n",
       "DecisionTree  0.997283        0.0     0.0  0.0  0.500000\n",
       "RandomFore    0.997283        0.0     0.0  0.0  0.500000\n",
       "LGBM          0.997283        0.0     0.0  0.0  0.500000\n",
       "SVC           0.980978        0.0     0.0  0.0  0.491826"
      ],
      "text/html": "<div>\n<style scoped>\n    .dataframe tbody tr th:only-of-type {\n        vertical-align: middle;\n    }\n\n    .dataframe tbody tr th {\n        vertical-align: top;\n    }\n\n    .dataframe thead th {\n        text-align: right;\n    }\n</style>\n<table border=\"1\" class=\"dataframe\">\n  <thead>\n    <tr style=\"text-align: right;\">\n      <th></th>\n      <th>Accuracy</th>\n      <th>precision</th>\n      <th>recall</th>\n      <th>f1</th>\n      <th>roc</th>\n    </tr>\n  </thead>\n  <tbody>\n    <tr>\n      <th>LogiReg</th>\n      <td>0.997283</td>\n      <td>0.0</td>\n      <td>0.0</td>\n      <td>0.0</td>\n      <td>0.500000</td>\n    </tr>\n    <tr>\n      <th>DecisionTree</th>\n      <td>0.997283</td>\n      <td>0.0</td>\n      <td>0.0</td>\n      <td>0.0</td>\n      <td>0.500000</td>\n    </tr>\n    <tr>\n      <th>RandomFore</th>\n      <td>0.997283</td>\n      <td>0.0</td>\n      <td>0.0</td>\n      <td>0.0</td>\n      <td>0.500000</td>\n    </tr>\n    <tr>\n      <th>LGBM</th>\n      <td>0.997283</td>\n      <td>0.0</td>\n      <td>0.0</td>\n      <td>0.0</td>\n      <td>0.500000</td>\n    </tr>\n    <tr>\n      <th>SVC</th>\n      <td>0.980978</td>\n      <td>0.0</td>\n      <td>0.0</td>\n      <td>0.0</td>\n      <td>0.491826</td>\n    </tr>\n  </tbody>\n</table>\n</div>"
     },
     "metadata": {},
     "execution_count": 5
    }
   ],
   "source": [
    "# 학습 / 예측 / 평가 함수 \n",
    "\n",
    "# 평가 함수 \n",
    "\n",
    "from sklearn.metrics import accuracy_score, confusion_matrix, precision_score, recall_score, f1_score, roc_auc_score\n",
    "\n",
    "def get_clf_eval(y_test, pred):\n",
    "    # confusion = confusion_matrix(y_test, pred) #오차행렬\n",
    "    accuracy = accuracy_score(y_test,pred) # 정확도 \n",
    "    precision = precision_score(y_test,pred) # 정밀도\n",
    "    recall = recall_score(y_test,pred) # 재현율 \n",
    "    f1 = f1_score(y_test,pred)\n",
    "    roc_auc = roc_auc_score(y_test,pred)\n",
    "    return accuracy, precision, recall, f1, roc_auc\n",
    "\n",
    "# 성능 DF 반환 \n",
    "\n",
    "def get_result(model, X_train, y_train, X_test, y_test):\n",
    "    model.fit(X_train, y_train)\n",
    "    pred = model.predict(X_test)\n",
    "\n",
    "    return get_clf_eval(y_test, pred)\n",
    "\n",
    "# 다수의 모델 성능 비교 \n",
    "\n",
    "def get_result_df(models, model_names, X_train, y_train, X_test, y_test):\n",
    "    col_names = ['Accuracy', 'precision', 'recall', 'f1', 'roc']\n",
    "    tmp = []\n",
    "    for model in models:\n",
    "        tmp.append(get_result(model, X_train, y_train, X_test, y_test))\n",
    "\n",
    "    return pd.DataFrame(tmp, columns=col_names, index=model_names)\n",
    "\n",
    "\n",
    "# 성능 확인 \n",
    "from sklearn.linear_model import LogisticRegression\n",
    "from sklearn.tree import DecisionTreeClassifier\n",
    "from sklearn.ensemble import RandomForestClassifier\n",
    "from lightgbm import LGBMClassifier\n",
    "from sklearn.svm import LinearSVC\n",
    "\n",
    "\n",
    "# 모델 객체 생성 \n",
    "lr_clf = LogisticRegression(random_state=13)\n",
    "dt_clf = DecisionTreeClassifier(random_state=13, max_depth=4)\n",
    "rf_clf = RandomForestClassifier(random_state=13, n_jobs = -1, n_estimators= 100 )\n",
    "lgbm_clf = LGBMClassifier(n_estimators=1000, num_leaves=64, n_jobs=-1, boost_from_average = False)\n",
    "svm_clf = LinearSVC()\n",
    "\n",
    "\n",
    "# 학습 진행 \n",
    "models=[lr_clf,dt_clf,rf_clf,lgbm_clf,svm_clf] \n",
    "model_names = ['LogiReg', 'DecisionTree', 'RandomFore','LGBM','SVC']\n",
    "results = get_result_df(models, model_names, X_train, y_train, X_valid, y_valid)\n",
    "results \n"
   ]
  },
  {
   "source": [
    "## Trial#1 \n",
    "### 변수삭제\t원핫인코딩\t결측치처리\t처리방안 \tPCA\t샘플링\n",
    "### 삭제안함\t적용안함\t처리 안함\t없음\t2\tSMOTE"
   ],
   "cell_type": "markdown",
   "metadata": {}
  },
  {
   "cell_type": "code",
   "execution_count": 25,
   "metadata": {},
   "outputs": [],
   "source": [
    "df_1 = df.copy()\n",
    "\n",
    "y_target = df_1['fraud_YN']\n",
    "X_features = df_1.drop('fraud_YN', axis=1)\n",
    "\n",
    "y_target = df_1['fraud_YN'].reset_index()\n",
    "y_target = y_target.drop('index', axis=1)"
   ]
  },
  {
   "cell_type": "code",
   "execution_count": 26,
   "metadata": {},
   "outputs": [
    {
     "output_type": "execute_result",
     "data": {
      "text/plain": [
       "       component_1  component_2  target\n",
       "12874   -10.887075    -1.580856       0\n",
       "12875   -10.882941    -1.683657       0\n",
       "12876   -10.890038    -1.575054       0\n",
       "12877   -10.883275    -1.688706       0\n",
       "12878   -10.909166     0.499242       0"
      ],
      "text/html": "<div>\n<style scoped>\n    .dataframe tbody tr th:only-of-type {\n        vertical-align: middle;\n    }\n\n    .dataframe tbody tr th {\n        vertical-align: top;\n    }\n\n    .dataframe thead th {\n        text-align: right;\n    }\n</style>\n<table border=\"1\" class=\"dataframe\">\n  <thead>\n    <tr style=\"text-align: right;\">\n      <th></th>\n      <th>component_1</th>\n      <th>component_2</th>\n      <th>target</th>\n    </tr>\n  </thead>\n  <tbody>\n    <tr>\n      <th>12874</th>\n      <td>-10.887075</td>\n      <td>-1.580856</td>\n      <td>0</td>\n    </tr>\n    <tr>\n      <th>12875</th>\n      <td>-10.882941</td>\n      <td>-1.683657</td>\n      <td>0</td>\n    </tr>\n    <tr>\n      <th>12876</th>\n      <td>-10.890038</td>\n      <td>-1.575054</td>\n      <td>0</td>\n    </tr>\n    <tr>\n      <th>12877</th>\n      <td>-10.883275</td>\n      <td>-1.688706</td>\n      <td>0</td>\n    </tr>\n    <tr>\n      <th>12878</th>\n      <td>-10.909166</td>\n      <td>0.499242</td>\n      <td>0</td>\n    </tr>\n  </tbody>\n</table>\n</div>"
     },
     "metadata": {},
     "execution_count": 26
    }
   ],
   "source": [
    "from sklearn.decomposition import PCA\n",
    "from sklearn.preprocessing import RobustScaler\n",
    "\n",
    "scaler = RobustScaler()\n",
    "df_scaled = scaler.fit_transform(X_features)\n",
    "\n",
    "pca = PCA(n_components=2)\n",
    "pca.fit(df_scaled)\n",
    "df_pca = pca.transform(df_scaled)\n",
    "\n",
    "pca_columns = ['component_1','component_2']\n",
    "\n",
    "DF_pca = pd.DataFrame(df_pca, columns=pca_columns)\n",
    "DF_pca['target'] = y_target \n",
    "DF_pca.tail()\n"
   ]
  },
  {
   "cell_type": "code",
   "execution_count": 27,
   "metadata": {},
   "outputs": [
    {
     "output_type": "execute_result",
     "data": {
      "text/plain": [
       "              Accuracy  precision  recall   f1       roc\n",
       "LogiReg       0.997283        0.0     0.0  0.0  0.500000\n",
       "DecisionTree  0.996894        0.0     0.0  0.0  0.499805\n",
       "RandomFore    0.997283        0.0     0.0  0.0  0.500000\n",
       "LGBM          0.996506        0.0     0.0  0.0  0.499611\n",
       "SVC           0.996118        0.0     0.0  0.0  0.499416"
      ],
      "text/html": "<div>\n<style scoped>\n    .dataframe tbody tr th:only-of-type {\n        vertical-align: middle;\n    }\n\n    .dataframe tbody tr th {\n        vertical-align: top;\n    }\n\n    .dataframe thead th {\n        text-align: right;\n    }\n</style>\n<table border=\"1\" class=\"dataframe\">\n  <thead>\n    <tr style=\"text-align: right;\">\n      <th></th>\n      <th>Accuracy</th>\n      <th>precision</th>\n      <th>recall</th>\n      <th>f1</th>\n      <th>roc</th>\n    </tr>\n  </thead>\n  <tbody>\n    <tr>\n      <th>LogiReg</th>\n      <td>0.997283</td>\n      <td>0.0</td>\n      <td>0.0</td>\n      <td>0.0</td>\n      <td>0.500000</td>\n    </tr>\n    <tr>\n      <th>DecisionTree</th>\n      <td>0.996894</td>\n      <td>0.0</td>\n      <td>0.0</td>\n      <td>0.0</td>\n      <td>0.499805</td>\n    </tr>\n    <tr>\n      <th>RandomFore</th>\n      <td>0.997283</td>\n      <td>0.0</td>\n      <td>0.0</td>\n      <td>0.0</td>\n      <td>0.500000</td>\n    </tr>\n    <tr>\n      <th>LGBM</th>\n      <td>0.996506</td>\n      <td>0.0</td>\n      <td>0.0</td>\n      <td>0.0</td>\n      <td>0.499611</td>\n    </tr>\n    <tr>\n      <th>SVC</th>\n      <td>0.996118</td>\n      <td>0.0</td>\n      <td>0.0</td>\n      <td>0.0</td>\n      <td>0.499416</td>\n    </tr>\n  </tbody>\n</table>\n</div>"
     },
     "metadata": {},
     "execution_count": 27
    }
   ],
   "source": [
    "y_target = DF_pca['target']\n",
    "X_features = DF_pca.drop('target', axis= 1)\n",
    "\n",
    "\n",
    "X_train, X_valid, y_train, y_valid = train_test_split(X_features, y_target, test_size =0.2, random_state=13, stratify= y_target)\n",
    "\n",
    "# 모델 객체 생성 \n",
    "lr_clf = LogisticRegression(random_state=13)\n",
    "dt_clf = DecisionTreeClassifier(random_state=13, max_depth=4)\n",
    "rf_clf = RandomForestClassifier(random_state=13, n_jobs = -1, n_estimators= 100 )\n",
    "lgbm_clf = LGBMClassifier(n_estimators=1000, num_leaves=64, n_jobs=-1, boost_from_average = False)\n",
    "svm_clf = LinearSVC()\n",
    "\n",
    "# 학습 진행 \n",
    "models=[lr_clf,dt_clf,rf_clf,lgbm_clf,svm_clf] \n",
    "model_names = ['LogiReg', 'DecisionTree', 'RandomFore','LGBM','SVC']\n",
    "results = get_result_df(models, model_names, X_train, y_train, X_valid, y_valid)\n",
    "results \n"
   ]
  },
  {
   "cell_type": "code",
   "execution_count": 28,
   "metadata": {},
   "outputs": [
    {
     "output_type": "stream",
     "name": "stdout",
     "text": [
      "              Accuracy  precision    recall        f1       roc\nLogiReg       0.139363   0.002700  0.857143  0.005384  0.497275\nDecisionTree  0.826863   0.006742  0.428571  0.013274  0.628260\nRandomFore    0.826087   0.004494  0.285714  0.008850  0.556637\nLGBM          0.819488   0.004329  0.285714  0.008529  0.553328\nSVC           0.139363   0.002700  0.857143  0.005384  0.497275\n              Accuracy  precision    recall        f1       roc\nLogiReg       0.139363   0.002700  0.857143  0.005384  0.497275\nDecisionTree  0.815606   0.006329  0.428571  0.012474  0.622616\nRandomFore    0.830357   0.004608  0.285714  0.009070  0.558778\nLGBM          0.826475   0.002262  0.142857  0.004454  0.485598\nSVC           0.139363   0.002700  0.857143  0.005384  0.497275\n              Accuracy  precision    recall        f1       roc\nLogiReg       0.746894   0.001546  0.142857  0.003058  0.445699\nDecisionTree  0.513199   0.003978  0.714286  0.007911  0.613468\nRandomFore    0.544255   0.004248  0.714286  0.008446  0.629039\nLGBM          0.466615   0.003631  0.714286  0.007225  0.590113\nSVC           0.810559   0.002070  0.142857  0.004082  0.477618\n              Accuracy  precision    recall        f1       roc\nLogiReg       0.139363   0.002700  0.857143  0.005384  0.497275\nDecisionTree  0.814053   0.006276  0.428571  0.012371  0.621837\nRandomFore    0.772516   0.005128  0.428571  0.010135  0.601012\nLGBM          0.763199   0.003295  0.285714  0.006515  0.525107\nSVC           0.139363   0.002700  0.857143  0.005384  0.497275\n              Accuracy  precision    recall        f1       roc\nLogiReg       0.139363   0.002700  0.857143  0.005384  0.497275\nDecisionTree  0.888975   0.010526  0.428571  0.020548  0.659401\nRandomFore    0.997283   0.000000  0.000000  0.000000  0.500000\nLGBM          0.995342   0.000000  0.000000  0.000000  0.499027\nSVC           0.139363   0.002700  0.857143  0.005384  0.497275\n"
     ]
    }
   ],
   "source": [
    "#### 샘플링별 확인 \n",
    "from imblearn.over_sampling import SMOTE\n",
    "from imblearn.over_sampling import ADASYN\n",
    "from imblearn.under_sampling import RandomUnderSampler\n",
    "from imblearn.combine import SMOTEENN\n",
    "from imblearn.over_sampling import RandomOverSampler\n",
    "\n",
    "smt = SMOTE(random_state=13)\n",
    "X_train_smt, y_train_smt = smt.fit_sample(X_train, y_train)\n",
    "\n",
    "ads = ADASYN(random_state=13)\n",
    "X_train_ads, y_train_ads = ads.fit_sample(X_train, y_train)\n",
    "\n",
    "rud = RandomUnderSampler(random_state=13)\n",
    "X_train_rud, y_train_rud = rud.fit_sample(X_train, y_train)\n",
    "\n",
    "sme = SMOTEENN(random_state=13)\n",
    "X_train_sme, y_train_sme = sme.fit_sample(X_train, y_train)\n",
    "\n",
    "rov = RandomOverSampler(random_state=13)\n",
    "X_train_rov, y_train_rov = rov.fit_sample(X_train, y_train)\n",
    "\n",
    "model_names = ['LogiReg', 'DecisionTree', 'RandomFore','LGBM','SVC']\n",
    "\n",
    "results_smt = get_result_df(models, model_names, X_train_smt, y_train_smt, X_valid, y_valid)\n",
    "results_ads = get_result_df(models, model_names, X_train_ads, y_train_ads, X_valid, y_valid)\n",
    "results_rud = get_result_df(models, model_names, X_train_rud, y_train_rud, X_valid, y_valid)\n",
    "results_sme = get_result_df(models, model_names, X_train_sme, y_train_sme, X_valid, y_valid)\n",
    "results_rov = get_result_df(models, model_names, X_train_rov, y_train_rov, X_valid, y_valid)\n",
    "\n",
    "\n",
    "print(results_smt)\n",
    "print(results_ads)\n",
    "print(results_rud)\n",
    "print(results_sme)\n",
    "print(results_rov)"
   ]
  },
  {
   "cell_type": "code",
   "execution_count": 35,
   "metadata": {},
   "outputs": [
    {
     "output_type": "execute_result",
     "data": {
      "text/plain": [
       "              Accuracy  precision    recall        f1       roc\n",
       "LogiReg       0.139363   0.002700  0.857143  0.005384  0.497275\n",
       "DecisionTree  0.888975   0.010526  0.428571  0.020548  0.659401\n",
       "RandomFore    0.997283   0.000000  0.000000  0.000000  0.500000\n",
       "LGBM          0.995342   0.000000  0.000000  0.000000  0.499027\n",
       "SVC           0.139363   0.002700  0.857143  0.005384  0.497275"
      ],
      "text/html": "<div>\n<style scoped>\n    .dataframe tbody tr th:only-of-type {\n        vertical-align: middle;\n    }\n\n    .dataframe tbody tr th {\n        vertical-align: top;\n    }\n\n    .dataframe thead th {\n        text-align: right;\n    }\n</style>\n<table border=\"1\" class=\"dataframe\">\n  <thead>\n    <tr style=\"text-align: right;\">\n      <th></th>\n      <th>Accuracy</th>\n      <th>precision</th>\n      <th>recall</th>\n      <th>f1</th>\n      <th>roc</th>\n    </tr>\n  </thead>\n  <tbody>\n    <tr>\n      <th>LogiReg</th>\n      <td>0.139363</td>\n      <td>0.002700</td>\n      <td>0.857143</td>\n      <td>0.005384</td>\n      <td>0.497275</td>\n    </tr>\n    <tr>\n      <th>DecisionTree</th>\n      <td>0.888975</td>\n      <td>0.010526</td>\n      <td>0.428571</td>\n      <td>0.020548</td>\n      <td>0.659401</td>\n    </tr>\n    <tr>\n      <th>RandomFore</th>\n      <td>0.997283</td>\n      <td>0.000000</td>\n      <td>0.000000</td>\n      <td>0.000000</td>\n      <td>0.500000</td>\n    </tr>\n    <tr>\n      <th>LGBM</th>\n      <td>0.995342</td>\n      <td>0.000000</td>\n      <td>0.000000</td>\n      <td>0.000000</td>\n      <td>0.499027</td>\n    </tr>\n    <tr>\n      <th>SVC</th>\n      <td>0.139363</td>\n      <td>0.002700</td>\n      <td>0.857143</td>\n      <td>0.005384</td>\n      <td>0.497275</td>\n    </tr>\n  </tbody>\n</table>\n</div>"
     },
     "metadata": {},
     "execution_count": 35
    }
   ],
   "source": [
    "results_rov"
   ]
  },
  {
   "source": [
    "## Trial#2\n",
    "### 변수삭제\t원핫인코딩\t결측치처리\t처리방안 \tPCA\t샘플링\n",
    "### 삭제안함\t적용안함\t처리 안함\t없음\t3\tSMOTE"
   ],
   "cell_type": "markdown",
   "metadata": {}
  },
  {
   "cell_type": "code",
   "execution_count": 36,
   "metadata": {},
   "outputs": [],
   "source": [
    "df_2 = df.copy()\n",
    "\n",
    "y_target = df_2['fraud_YN']\n",
    "X_features = df_2.drop('fraud_YN', axis=1)\n",
    "\n",
    "y_target = df_2['fraud_YN'].reset_index()\n",
    "y_target = y_target.drop('index', axis=1)"
   ]
  },
  {
   "cell_type": "code",
   "execution_count": 37,
   "metadata": {},
   "outputs": [
    {
     "output_type": "execute_result",
     "data": {
      "text/plain": [
       "       component_1  component_2  component_3  target\n",
       "12874   -10.887075    -1.580856     0.932881       0\n",
       "12875   -10.882941    -1.683657    -0.666691       0\n",
       "12876   -10.890038    -1.575054     0.889379       0\n",
       "12877   -10.883275    -1.688706    -0.661186       0\n",
       "12878   -10.909166     0.499242     0.074253       0"
      ],
      "text/html": "<div>\n<style scoped>\n    .dataframe tbody tr th:only-of-type {\n        vertical-align: middle;\n    }\n\n    .dataframe tbody tr th {\n        vertical-align: top;\n    }\n\n    .dataframe thead th {\n        text-align: right;\n    }\n</style>\n<table border=\"1\" class=\"dataframe\">\n  <thead>\n    <tr style=\"text-align: right;\">\n      <th></th>\n      <th>component_1</th>\n      <th>component_2</th>\n      <th>component_3</th>\n      <th>target</th>\n    </tr>\n  </thead>\n  <tbody>\n    <tr>\n      <th>12874</th>\n      <td>-10.887075</td>\n      <td>-1.580856</td>\n      <td>0.932881</td>\n      <td>0</td>\n    </tr>\n    <tr>\n      <th>12875</th>\n      <td>-10.882941</td>\n      <td>-1.683657</td>\n      <td>-0.666691</td>\n      <td>0</td>\n    </tr>\n    <tr>\n      <th>12876</th>\n      <td>-10.890038</td>\n      <td>-1.575054</td>\n      <td>0.889379</td>\n      <td>0</td>\n    </tr>\n    <tr>\n      <th>12877</th>\n      <td>-10.883275</td>\n      <td>-1.688706</td>\n      <td>-0.661186</td>\n      <td>0</td>\n    </tr>\n    <tr>\n      <th>12878</th>\n      <td>-10.909166</td>\n      <td>0.499242</td>\n      <td>0.074253</td>\n      <td>0</td>\n    </tr>\n  </tbody>\n</table>\n</div>"
     },
     "metadata": {},
     "execution_count": 37
    }
   ],
   "source": [
    "from sklearn.decomposition import PCA\n",
    "from sklearn.preprocessing import RobustScaler\n",
    "\n",
    "scaler = RobustScaler()\n",
    "df_scaled = scaler.fit_transform(X_features)\n",
    "\n",
    "pca = PCA(n_components=3)\n",
    "pca.fit(df_scaled)\n",
    "df_pca = pca.transform(df_scaled)\n",
    "\n",
    "pca_columns = ['component_1','component_2','component_3']\n",
    "\n",
    "DF_pca = pd.DataFrame(df_pca, columns=pca_columns)\n",
    "DF_pca['target'] = y_target \n",
    "DF_pca.tail()\n"
   ]
  },
  {
   "cell_type": "code",
   "execution_count": 38,
   "metadata": {},
   "outputs": [
    {
     "output_type": "execute_result",
     "data": {
      "text/plain": [
       "              Accuracy  precision  recall   f1       roc\n",
       "LogiReg       0.997283        0.0     0.0  0.0  0.500000\n",
       "DecisionTree  0.996118        0.0     0.0  0.0  0.499416\n",
       "RandomFore    0.997283        0.0     0.0  0.0  0.500000\n",
       "LGBM          0.997283        0.0     0.0  0.0  0.500000\n",
       "SVC           0.997283        0.0     0.0  0.0  0.500000"
      ],
      "text/html": "<div>\n<style scoped>\n    .dataframe tbody tr th:only-of-type {\n        vertical-align: middle;\n    }\n\n    .dataframe tbody tr th {\n        vertical-align: top;\n    }\n\n    .dataframe thead th {\n        text-align: right;\n    }\n</style>\n<table border=\"1\" class=\"dataframe\">\n  <thead>\n    <tr style=\"text-align: right;\">\n      <th></th>\n      <th>Accuracy</th>\n      <th>precision</th>\n      <th>recall</th>\n      <th>f1</th>\n      <th>roc</th>\n    </tr>\n  </thead>\n  <tbody>\n    <tr>\n      <th>LogiReg</th>\n      <td>0.997283</td>\n      <td>0.0</td>\n      <td>0.0</td>\n      <td>0.0</td>\n      <td>0.500000</td>\n    </tr>\n    <tr>\n      <th>DecisionTree</th>\n      <td>0.996118</td>\n      <td>0.0</td>\n      <td>0.0</td>\n      <td>0.0</td>\n      <td>0.499416</td>\n    </tr>\n    <tr>\n      <th>RandomFore</th>\n      <td>0.997283</td>\n      <td>0.0</td>\n      <td>0.0</td>\n      <td>0.0</td>\n      <td>0.500000</td>\n    </tr>\n    <tr>\n      <th>LGBM</th>\n      <td>0.997283</td>\n      <td>0.0</td>\n      <td>0.0</td>\n      <td>0.0</td>\n      <td>0.500000</td>\n    </tr>\n    <tr>\n      <th>SVC</th>\n      <td>0.997283</td>\n      <td>0.0</td>\n      <td>0.0</td>\n      <td>0.0</td>\n      <td>0.500000</td>\n    </tr>\n  </tbody>\n</table>\n</div>"
     },
     "metadata": {},
     "execution_count": 38
    }
   ],
   "source": [
    "y_target = DF_pca['target']\n",
    "X_features = DF_pca.drop('target', axis= 1)\n",
    "\n",
    "\n",
    "X_train, X_valid, y_train, y_valid = train_test_split(X_features, y_target, test_size =0.2, random_state=13, stratify= y_target)\n",
    "\n",
    "# 모델 객체 생성 \n",
    "lr_clf = LogisticRegression(random_state=13)\n",
    "dt_clf = DecisionTreeClassifier(random_state=13, max_depth=4)\n",
    "rf_clf = RandomForestClassifier(random_state=13, n_jobs = -1, n_estimators= 100 )\n",
    "lgbm_clf = LGBMClassifier(n_estimators=1000, num_leaves=64, n_jobs=-1, boost_from_average = False)\n",
    "svm_clf = LinearSVC()\n",
    "\n",
    "# 학습 진행 \n",
    "models=[lr_clf,dt_clf,rf_clf,lgbm_clf,svm_clf] \n",
    "model_names = ['LogiReg', 'DecisionTree', 'RandomFore','LGBM','SVC']\n",
    "results = get_result_df(models, model_names, X_train, y_train, X_valid, y_valid)\n",
    "results \n"
   ]
  },
  {
   "cell_type": "code",
   "execution_count": 39,
   "metadata": {},
   "outputs": [
    {
     "output_type": "stream",
     "name": "stdout",
     "text": [
      "              Accuracy  precision    recall        f1       roc\nLogiReg       0.147127   0.002725  0.857143  0.005432  0.501168\nDecisionTree  0.743012   0.004539  0.428571  0.008982  0.586220\nRandomFore    0.931289   0.011494  0.285714  0.022099  0.609381\nLGBM          0.920031   0.009852  0.285714  0.019048  0.603737\nSVC           0.144022   0.002715  0.857143  0.005413  0.499611\n              Accuracy  precision    recall        f1       roc\nLogiReg       0.146351   0.002722  0.857143  0.005427  0.500779\nDecisionTree  0.739130   0.004471  0.428571  0.008850  0.584274\nRandomFore    0.932065   0.011628  0.285714  0.022346  0.609770\nLGBM          0.930512   0.011364  0.285714  0.021858  0.608992\nSVC           0.144022   0.002715  0.857143  0.005413  0.499611\n              Accuracy  precision    recall        f1       roc\nLogiReg       0.404115   0.003251  0.714286  0.006472  0.558778\nDecisionTree  0.558230   0.004382  0.714286  0.008711  0.636045\nRandomFore    0.515140   0.003994  0.714286  0.007943  0.614441\nLGBM          0.411102   0.003289  0.714286  0.006549  0.562281\nSVC           0.228261   0.003011  0.857143  0.006000  0.541845\n              Accuracy  precision    recall        f1       roc\nLogiReg       0.143634   0.002714  0.857143  0.005410  0.499416\nDecisionTree  0.731366   0.004342  0.428571  0.008596  0.580381\nRandomFore    0.894022   0.007407  0.285714  0.014440  0.590697\nLGBM          0.887034   0.006944  0.285714  0.013559  0.587193\nSVC           0.142081   0.002709  0.857143  0.005401  0.498638\n              Accuracy  precision    recall        f1       roc\nLogiReg       0.140916   0.002705  0.857143  0.005393  0.498054\nDecisionTree  0.736025   0.004418  0.428571  0.008746  0.582717\nRandomFore    0.997283   0.000000  0.000000  0.000000  0.500000\nLGBM          0.997283   0.000000  0.000000  0.000000  0.500000\nSVC           0.145186   0.002719  0.857143  0.005420  0.500195\n"
     ]
    }
   ],
   "source": [
    "#### 샘플링별 확인 \n",
    "from imblearn.over_sampling import SMOTE\n",
    "from imblearn.over_sampling import ADASYN\n",
    "from imblearn.under_sampling import RandomUnderSampler\n",
    "from imblearn.combine import SMOTEENN\n",
    "from imblearn.over_sampling import RandomOverSampler\n",
    "\n",
    "smt = SMOTE(random_state=13)\n",
    "X_train_smt, y_train_smt = smt.fit_sample(X_train, y_train)\n",
    "\n",
    "ads = ADASYN(random_state=13)\n",
    "X_train_ads, y_train_ads = ads.fit_sample(X_train, y_train)\n",
    "\n",
    "rud = RandomUnderSampler(random_state=13)\n",
    "X_train_rud, y_train_rud = rud.fit_sample(X_train, y_train)\n",
    "\n",
    "sme = SMOTEENN(random_state=13)\n",
    "X_train_sme, y_train_sme = sme.fit_sample(X_train, y_train)\n",
    "\n",
    "rov = RandomOverSampler(random_state=13)\n",
    "X_train_rov, y_train_rov = rov.fit_sample(X_train, y_train)\n",
    "\n",
    "model_names = ['LogiReg', 'DecisionTree', 'RandomFore','LGBM','SVC']\n",
    "\n",
    "results_smt = get_result_df(models, model_names, X_train_smt, y_train_smt, X_valid, y_valid)\n",
    "results_ads = get_result_df(models, model_names, X_train_ads, y_train_ads, X_valid, y_valid)\n",
    "results_rud = get_result_df(models, model_names, X_train_rud, y_train_rud, X_valid, y_valid)\n",
    "results_sme = get_result_df(models, model_names, X_train_sme, y_train_sme, X_valid, y_valid)\n",
    "results_rov = get_result_df(models, model_names, X_train_rov, y_train_rov, X_valid, y_valid)\n",
    "\n",
    "\n",
    "print(results_smt)\n",
    "print(results_ads)\n",
    "print(results_rud)\n",
    "print(results_sme)\n",
    "print(results_rov)"
   ]
  },
  {
   "cell_type": "code",
   "execution_count": 45,
   "metadata": {},
   "outputs": [
    {
     "output_type": "execute_result",
     "data": {
      "text/plain": [
       "              Accuracy  precision    recall        f1       roc\n",
       "LogiReg       0.140916   0.002705  0.857143  0.005393  0.498054\n",
       "DecisionTree  0.736025   0.004418  0.428571  0.008746  0.582717\n",
       "RandomFore    0.997283   0.000000  0.000000  0.000000  0.500000\n",
       "LGBM          0.997283   0.000000  0.000000  0.000000  0.500000\n",
       "SVC           0.145186   0.002719  0.857143  0.005420  0.500195"
      ],
      "text/html": "<div>\n<style scoped>\n    .dataframe tbody tr th:only-of-type {\n        vertical-align: middle;\n    }\n\n    .dataframe tbody tr th {\n        vertical-align: top;\n    }\n\n    .dataframe thead th {\n        text-align: right;\n    }\n</style>\n<table border=\"1\" class=\"dataframe\">\n  <thead>\n    <tr style=\"text-align: right;\">\n      <th></th>\n      <th>Accuracy</th>\n      <th>precision</th>\n      <th>recall</th>\n      <th>f1</th>\n      <th>roc</th>\n    </tr>\n  </thead>\n  <tbody>\n    <tr>\n      <th>LogiReg</th>\n      <td>0.140916</td>\n      <td>0.002705</td>\n      <td>0.857143</td>\n      <td>0.005393</td>\n      <td>0.498054</td>\n    </tr>\n    <tr>\n      <th>DecisionTree</th>\n      <td>0.736025</td>\n      <td>0.004418</td>\n      <td>0.428571</td>\n      <td>0.008746</td>\n      <td>0.582717</td>\n    </tr>\n    <tr>\n      <th>RandomFore</th>\n      <td>0.997283</td>\n      <td>0.000000</td>\n      <td>0.000000</td>\n      <td>0.000000</td>\n      <td>0.500000</td>\n    </tr>\n    <tr>\n      <th>LGBM</th>\n      <td>0.997283</td>\n      <td>0.000000</td>\n      <td>0.000000</td>\n      <td>0.000000</td>\n      <td>0.500000</td>\n    </tr>\n    <tr>\n      <th>SVC</th>\n      <td>0.145186</td>\n      <td>0.002719</td>\n      <td>0.857143</td>\n      <td>0.005420</td>\n      <td>0.500195</td>\n    </tr>\n  </tbody>\n</table>\n</div>"
     },
     "metadata": {},
     "execution_count": 45
    }
   ],
   "source": [
    "results_rov"
   ]
  },
  {
   "source": [
    "## Trial#3\n",
    "### 변수삭제\t원핫인코딩\t결측치처리\t처리방안 \tPCA\t샘플링\n",
    "### 삭제안함\t적용안함\t처리 안함\t없음\t4\tSMOTE"
   ],
   "cell_type": "markdown",
   "metadata": {}
  },
  {
   "cell_type": "code",
   "execution_count": 46,
   "metadata": {},
   "outputs": [],
   "source": [
    "df_3 = df.copy()\n",
    "\n",
    "y_target = df_3['fraud_YN']\n",
    "X_features = df_3.drop('fraud_YN', axis=1)\n",
    "\n",
    "y_target = df_3['fraud_YN'].reset_index()\n",
    "y_target = y_target.drop('index', axis=1)"
   ]
  },
  {
   "cell_type": "code",
   "execution_count": 47,
   "metadata": {},
   "outputs": [
    {
     "output_type": "execute_result",
     "data": {
      "text/plain": [
       "       component_1  component_2  component_3  component_4  target\n",
       "12874   -10.887075    -1.580856     0.932879    -0.715386       0\n",
       "12875   -10.882941    -1.683657    -0.666696     0.059066       0\n",
       "12876   -10.890038    -1.575054     0.889374    -0.076420       0\n",
       "12877   -10.883275    -1.688706    -0.661185    -0.079082       0\n",
       "12878   -10.909166     0.499242     0.074258    -0.183386       0"
      ],
      "text/html": "<div>\n<style scoped>\n    .dataframe tbody tr th:only-of-type {\n        vertical-align: middle;\n    }\n\n    .dataframe tbody tr th {\n        vertical-align: top;\n    }\n\n    .dataframe thead th {\n        text-align: right;\n    }\n</style>\n<table border=\"1\" class=\"dataframe\">\n  <thead>\n    <tr style=\"text-align: right;\">\n      <th></th>\n      <th>component_1</th>\n      <th>component_2</th>\n      <th>component_3</th>\n      <th>component_4</th>\n      <th>target</th>\n    </tr>\n  </thead>\n  <tbody>\n    <tr>\n      <th>12874</th>\n      <td>-10.887075</td>\n      <td>-1.580856</td>\n      <td>0.932879</td>\n      <td>-0.715386</td>\n      <td>0</td>\n    </tr>\n    <tr>\n      <th>12875</th>\n      <td>-10.882941</td>\n      <td>-1.683657</td>\n      <td>-0.666696</td>\n      <td>0.059066</td>\n      <td>0</td>\n    </tr>\n    <tr>\n      <th>12876</th>\n      <td>-10.890038</td>\n      <td>-1.575054</td>\n      <td>0.889374</td>\n      <td>-0.076420</td>\n      <td>0</td>\n    </tr>\n    <tr>\n      <th>12877</th>\n      <td>-10.883275</td>\n      <td>-1.688706</td>\n      <td>-0.661185</td>\n      <td>-0.079082</td>\n      <td>0</td>\n    </tr>\n    <tr>\n      <th>12878</th>\n      <td>-10.909166</td>\n      <td>0.499242</td>\n      <td>0.074258</td>\n      <td>-0.183386</td>\n      <td>0</td>\n    </tr>\n  </tbody>\n</table>\n</div>"
     },
     "metadata": {},
     "execution_count": 47
    }
   ],
   "source": [
    "from sklearn.decomposition import PCA\n",
    "from sklearn.preprocessing import RobustScaler\n",
    "\n",
    "scaler = RobustScaler()\n",
    "df_scaled = scaler.fit_transform(X_features)\n",
    "\n",
    "pca = PCA(n_components=4)\n",
    "pca.fit(df_scaled)\n",
    "df_pca = pca.transform(df_scaled)\n",
    "\n",
    "pca_columns = ['component_1','component_2','component_3','component_4']\n",
    "\n",
    "DF_pca = pd.DataFrame(df_pca, columns=pca_columns)\n",
    "DF_pca['target'] = y_target \n",
    "DF_pca.tail()\n"
   ]
  },
  {
   "cell_type": "code",
   "execution_count": 48,
   "metadata": {},
   "outputs": [
    {
     "output_type": "execute_result",
     "data": {
      "text/plain": [
       "              Accuracy  precision  recall   f1       roc\n",
       "LogiReg       0.997283        0.0     0.0  0.0  0.500000\n",
       "DecisionTree  0.995730        0.0     0.0  0.0  0.499221\n",
       "RandomFore    0.997283        0.0     0.0  0.0  0.500000\n",
       "LGBM          0.997283        0.0     0.0  0.0  0.500000\n",
       "SVC           0.997283        0.0     0.0  0.0  0.500000"
      ],
      "text/html": "<div>\n<style scoped>\n    .dataframe tbody tr th:only-of-type {\n        vertical-align: middle;\n    }\n\n    .dataframe tbody tr th {\n        vertical-align: top;\n    }\n\n    .dataframe thead th {\n        text-align: right;\n    }\n</style>\n<table border=\"1\" class=\"dataframe\">\n  <thead>\n    <tr style=\"text-align: right;\">\n      <th></th>\n      <th>Accuracy</th>\n      <th>precision</th>\n      <th>recall</th>\n      <th>f1</th>\n      <th>roc</th>\n    </tr>\n  </thead>\n  <tbody>\n    <tr>\n      <th>LogiReg</th>\n      <td>0.997283</td>\n      <td>0.0</td>\n      <td>0.0</td>\n      <td>0.0</td>\n      <td>0.500000</td>\n    </tr>\n    <tr>\n      <th>DecisionTree</th>\n      <td>0.995730</td>\n      <td>0.0</td>\n      <td>0.0</td>\n      <td>0.0</td>\n      <td>0.499221</td>\n    </tr>\n    <tr>\n      <th>RandomFore</th>\n      <td>0.997283</td>\n      <td>0.0</td>\n      <td>0.0</td>\n      <td>0.0</td>\n      <td>0.500000</td>\n    </tr>\n    <tr>\n      <th>LGBM</th>\n      <td>0.997283</td>\n      <td>0.0</td>\n      <td>0.0</td>\n      <td>0.0</td>\n      <td>0.500000</td>\n    </tr>\n    <tr>\n      <th>SVC</th>\n      <td>0.997283</td>\n      <td>0.0</td>\n      <td>0.0</td>\n      <td>0.0</td>\n      <td>0.500000</td>\n    </tr>\n  </tbody>\n</table>\n</div>"
     },
     "metadata": {},
     "execution_count": 48
    }
   ],
   "source": [
    "y_target = DF_pca['target']\n",
    "X_features = DF_pca.drop('target', axis= 1)\n",
    "\n",
    "\n",
    "X_train, X_valid, y_train, y_valid = train_test_split(X_features, y_target, test_size =0.2, random_state=13, stratify= y_target)\n",
    "\n",
    "# 모델 객체 생성 \n",
    "lr_clf = LogisticRegression(random_state=13)\n",
    "dt_clf = DecisionTreeClassifier(random_state=13, max_depth=4)\n",
    "rf_clf = RandomForestClassifier(random_state=13, n_jobs = -1, n_estimators= 100 )\n",
    "lgbm_clf = LGBMClassifier(n_estimators=1000, num_leaves=64, n_jobs=-1, boost_from_average = False)\n",
    "svm_clf = LinearSVC()\n",
    "\n",
    "# 학습 진행 \n",
    "models=[lr_clf,dt_clf,rf_clf,lgbm_clf,svm_clf] \n",
    "model_names = ['LogiReg', 'DecisionTree', 'RandomFore','LGBM','SVC']\n",
    "results = get_result_df(models, model_names, X_train, y_train, X_valid, y_valid)\n",
    "results \n"
   ]
  },
  {
   "cell_type": "code",
   "execution_count": 49,
   "metadata": {},
   "outputs": [
    {
     "output_type": "stream",
     "name": "stdout",
     "text": [
      "              Accuracy  precision    recall        f1       roc\nLogiReg       0.631599   0.004211  0.571429  0.008359  0.601596\nDecisionTree  0.661102   0.003440  0.428571  0.006826  0.545154\nRandomFore    0.962345   0.000000  0.000000  0.000000  0.482483\nLGBM          0.963509   0.011236  0.142857  0.020833  0.554301\nSVC           0.643245   0.004348  0.571429  0.008630  0.607435\n              Accuracy  precision    recall        f1       roc\nLogiReg       0.635870   0.004260  0.571429  0.008457  0.603737\nDecisionTree  0.702640   0.003922  0.428571  0.007772  0.565979\nRandomFore    0.960792   0.000000  0.000000  0.000000  0.481705\nLGBM          0.967391   0.000000  0.000000  0.000000  0.485014\nSVC           0.591227   0.003795  0.571429  0.007540  0.581355\n              Accuracy  precision    recall        f1       roc\nLogiReg       0.650621   0.004440  0.571429  0.008811  0.611133\nDecisionTree  0.544255   0.004248  0.714286  0.008446  0.629039\nRandomFore    0.564053   0.005319  0.857143  0.010573  0.710199\nLGBM          0.560171   0.004401  0.714286  0.008749  0.637018\nSVC           0.664596   0.004624  0.571429  0.009174  0.618139\n              Accuracy  precision    recall        f1       roc\nLogiReg       0.466227   0.002907  0.571429  0.005785  0.518684\nDecisionTree  0.488354   0.003033  0.571429  0.006033  0.529778\nRandomFore    0.934006   0.006061  0.142857  0.011628  0.539510\nLGBM          0.935947   0.006250  0.142857  0.011976  0.540483\nSVC           0.448370   0.002813  0.571429  0.005598  0.509731\n              Accuracy  precision    recall        f1       roc\nLogiReg       0.644022   0.003275  0.428571  0.006501  0.536590\nDecisionTree  0.888199   0.000000  0.000000  0.000000  0.445309\nRandomFore    0.997283   0.000000  0.000000  0.000000  0.500000\nLGBM          0.996894   0.000000  0.000000  0.000000  0.499805\nSVC           0.650233   0.003333  0.428571  0.006615  0.539704\n"
     ]
    }
   ],
   "source": [
    "#### 샘플링별 확인 \n",
    "from imblearn.over_sampling import SMOTE\n",
    "from imblearn.over_sampling import ADASYN\n",
    "from imblearn.under_sampling import RandomUnderSampler\n",
    "from imblearn.combine import SMOTEENN\n",
    "from imblearn.over_sampling import RandomOverSampler\n",
    "\n",
    "smt = SMOTE(random_state=13)\n",
    "X_train_smt, y_train_smt = smt.fit_sample(X_train, y_train)\n",
    "\n",
    "ads = ADASYN(random_state=13)\n",
    "X_train_ads, y_train_ads = ads.fit_sample(X_train, y_train)\n",
    "\n",
    "rud = RandomUnderSampler(random_state=13)\n",
    "X_train_rud, y_train_rud = rud.fit_sample(X_train, y_train)\n",
    "\n",
    "sme = SMOTEENN(random_state=13)\n",
    "X_train_sme, y_train_sme = sme.fit_sample(X_train, y_train)\n",
    "\n",
    "rov = RandomOverSampler(random_state=13)\n",
    "X_train_rov, y_train_rov = rov.fit_sample(X_train, y_train)\n",
    "\n",
    "model_names = ['LogiReg', 'DecisionTree', 'RandomFore','LGBM','SVC']\n",
    "\n",
    "results_smt = get_result_df(models, model_names, X_train_smt, y_train_smt, X_valid, y_valid)\n",
    "results_ads = get_result_df(models, model_names, X_train_ads, y_train_ads, X_valid, y_valid)\n",
    "results_rud = get_result_df(models, model_names, X_train_rud, y_train_rud, X_valid, y_valid)\n",
    "results_sme = get_result_df(models, model_names, X_train_sme, y_train_sme, X_valid, y_valid)\n",
    "results_rov = get_result_df(models, model_names, X_train_rov, y_train_rov, X_valid, y_valid)\n",
    "\n",
    "\n",
    "print(results_smt)\n",
    "print(results_ads)\n",
    "print(results_rud)\n",
    "print(results_sme)\n",
    "print(results_rov)"
   ]
  },
  {
   "cell_type": "code",
   "execution_count": 54,
   "metadata": {},
   "outputs": [
    {
     "output_type": "execute_result",
     "data": {
      "text/plain": [
       "              Accuracy  precision    recall        f1       roc\n",
       "LogiReg       0.644022   0.003275  0.428571  0.006501  0.536590\n",
       "DecisionTree  0.888199   0.000000  0.000000  0.000000  0.445309\n",
       "RandomFore    0.997283   0.000000  0.000000  0.000000  0.500000\n",
       "LGBM          0.996894   0.000000  0.000000  0.000000  0.499805\n",
       "SVC           0.650233   0.003333  0.428571  0.006615  0.539704"
      ],
      "text/html": "<div>\n<style scoped>\n    .dataframe tbody tr th:only-of-type {\n        vertical-align: middle;\n    }\n\n    .dataframe tbody tr th {\n        vertical-align: top;\n    }\n\n    .dataframe thead th {\n        text-align: right;\n    }\n</style>\n<table border=\"1\" class=\"dataframe\">\n  <thead>\n    <tr style=\"text-align: right;\">\n      <th></th>\n      <th>Accuracy</th>\n      <th>precision</th>\n      <th>recall</th>\n      <th>f1</th>\n      <th>roc</th>\n    </tr>\n  </thead>\n  <tbody>\n    <tr>\n      <th>LogiReg</th>\n      <td>0.644022</td>\n      <td>0.003275</td>\n      <td>0.428571</td>\n      <td>0.006501</td>\n      <td>0.536590</td>\n    </tr>\n    <tr>\n      <th>DecisionTree</th>\n      <td>0.888199</td>\n      <td>0.000000</td>\n      <td>0.000000</td>\n      <td>0.000000</td>\n      <td>0.445309</td>\n    </tr>\n    <tr>\n      <th>RandomFore</th>\n      <td>0.997283</td>\n      <td>0.000000</td>\n      <td>0.000000</td>\n      <td>0.000000</td>\n      <td>0.500000</td>\n    </tr>\n    <tr>\n      <th>LGBM</th>\n      <td>0.996894</td>\n      <td>0.000000</td>\n      <td>0.000000</td>\n      <td>0.000000</td>\n      <td>0.499805</td>\n    </tr>\n    <tr>\n      <th>SVC</th>\n      <td>0.650233</td>\n      <td>0.003333</td>\n      <td>0.428571</td>\n      <td>0.006615</td>\n      <td>0.539704</td>\n    </tr>\n  </tbody>\n</table>\n</div>"
     },
     "metadata": {},
     "execution_count": 54
    }
   ],
   "source": [
    "results_rov"
   ]
  },
  {
   "source": [
    "## Trial#4\n",
    "### 변수삭제\t원핫인코딩\t결측치처리\t처리방안 \tPCA\t샘플링\n",
    "### 삭제안함\t적용안함\t처리 안함\t없음\t5\tSMOTE"
   ],
   "cell_type": "markdown",
   "metadata": {}
  },
  {
   "cell_type": "code",
   "execution_count": 55,
   "metadata": {},
   "outputs": [],
   "source": [
    "df_4 = df.copy()\n",
    "\n",
    "y_target = df_4['fraud_YN']\n",
    "X_features = df_4.drop('fraud_YN', axis=1)\n",
    "\n",
    "y_target = df_4['fraud_YN'].reset_index()\n",
    "y_target = y_target.drop('index', axis=1)"
   ]
  },
  {
   "cell_type": "code",
   "execution_count": 56,
   "metadata": {},
   "outputs": [
    {
     "output_type": "execute_result",
     "data": {
      "text/plain": [
       "       component_1  component_2  component_3  component_4  component_5  target\n",
       "12874   -10.887075    -1.580856     0.932880    -0.715384     0.206668       0\n",
       "12875   -10.882941    -1.683657    -0.666695     0.059070    -0.826409       0\n",
       "12876   -10.890038    -1.575054     0.889375    -0.076416    -0.423431       0\n",
       "12877   -10.883275    -1.688706    -0.661184    -0.079080    -0.856999       0\n",
       "12878   -10.909166     0.499242     0.074255    -0.183391    -0.636613       0"
      ],
      "text/html": "<div>\n<style scoped>\n    .dataframe tbody tr th:only-of-type {\n        vertical-align: middle;\n    }\n\n    .dataframe tbody tr th {\n        vertical-align: top;\n    }\n\n    .dataframe thead th {\n        text-align: right;\n    }\n</style>\n<table border=\"1\" class=\"dataframe\">\n  <thead>\n    <tr style=\"text-align: right;\">\n      <th></th>\n      <th>component_1</th>\n      <th>component_2</th>\n      <th>component_3</th>\n      <th>component_4</th>\n      <th>component_5</th>\n      <th>target</th>\n    </tr>\n  </thead>\n  <tbody>\n    <tr>\n      <th>12874</th>\n      <td>-10.887075</td>\n      <td>-1.580856</td>\n      <td>0.932880</td>\n      <td>-0.715384</td>\n      <td>0.206668</td>\n      <td>0</td>\n    </tr>\n    <tr>\n      <th>12875</th>\n      <td>-10.882941</td>\n      <td>-1.683657</td>\n      <td>-0.666695</td>\n      <td>0.059070</td>\n      <td>-0.826409</td>\n      <td>0</td>\n    </tr>\n    <tr>\n      <th>12876</th>\n      <td>-10.890038</td>\n      <td>-1.575054</td>\n      <td>0.889375</td>\n      <td>-0.076416</td>\n      <td>-0.423431</td>\n      <td>0</td>\n    </tr>\n    <tr>\n      <th>12877</th>\n      <td>-10.883275</td>\n      <td>-1.688706</td>\n      <td>-0.661184</td>\n      <td>-0.079080</td>\n      <td>-0.856999</td>\n      <td>0</td>\n    </tr>\n    <tr>\n      <th>12878</th>\n      <td>-10.909166</td>\n      <td>0.499242</td>\n      <td>0.074255</td>\n      <td>-0.183391</td>\n      <td>-0.636613</td>\n      <td>0</td>\n    </tr>\n  </tbody>\n</table>\n</div>"
     },
     "metadata": {},
     "execution_count": 56
    }
   ],
   "source": [
    "from sklearn.decomposition import PCA\n",
    "from sklearn.preprocessing import RobustScaler\n",
    "\n",
    "scaler = RobustScaler()\n",
    "df_scaled = scaler.fit_transform(X_features)\n",
    "\n",
    "pca = PCA(n_components=5)\n",
    "pca.fit(df_scaled)\n",
    "df_pca = pca.transform(df_scaled)\n",
    "\n",
    "pca_columns = ['component_1','component_2','component_3','component_4','component_5']\n",
    "\n",
    "DF_pca = pd.DataFrame(df_pca, columns=pca_columns)\n",
    "DF_pca['target'] = y_target \n",
    "DF_pca.tail()\n"
   ]
  },
  {
   "cell_type": "code",
   "execution_count": 57,
   "metadata": {},
   "outputs": [
    {
     "output_type": "execute_result",
     "data": {
      "text/plain": [
       "              Accuracy  precision  recall   f1       roc\n",
       "LogiReg       0.997283        0.0     0.0  0.0  0.500000\n",
       "DecisionTree  0.995730        0.0     0.0  0.0  0.499221\n",
       "RandomFore    0.997283        0.0     0.0  0.0  0.500000\n",
       "LGBM          0.997283        0.0     0.0  0.0  0.500000\n",
       "SVC           0.997283        0.0     0.0  0.0  0.500000"
      ],
      "text/html": "<div>\n<style scoped>\n    .dataframe tbody tr th:only-of-type {\n        vertical-align: middle;\n    }\n\n    .dataframe tbody tr th {\n        vertical-align: top;\n    }\n\n    .dataframe thead th {\n        text-align: right;\n    }\n</style>\n<table border=\"1\" class=\"dataframe\">\n  <thead>\n    <tr style=\"text-align: right;\">\n      <th></th>\n      <th>Accuracy</th>\n      <th>precision</th>\n      <th>recall</th>\n      <th>f1</th>\n      <th>roc</th>\n    </tr>\n  </thead>\n  <tbody>\n    <tr>\n      <th>LogiReg</th>\n      <td>0.997283</td>\n      <td>0.0</td>\n      <td>0.0</td>\n      <td>0.0</td>\n      <td>0.500000</td>\n    </tr>\n    <tr>\n      <th>DecisionTree</th>\n      <td>0.995730</td>\n      <td>0.0</td>\n      <td>0.0</td>\n      <td>0.0</td>\n      <td>0.499221</td>\n    </tr>\n    <tr>\n      <th>RandomFore</th>\n      <td>0.997283</td>\n      <td>0.0</td>\n      <td>0.0</td>\n      <td>0.0</td>\n      <td>0.500000</td>\n    </tr>\n    <tr>\n      <th>LGBM</th>\n      <td>0.997283</td>\n      <td>0.0</td>\n      <td>0.0</td>\n      <td>0.0</td>\n      <td>0.500000</td>\n    </tr>\n    <tr>\n      <th>SVC</th>\n      <td>0.997283</td>\n      <td>0.0</td>\n      <td>0.0</td>\n      <td>0.0</td>\n      <td>0.500000</td>\n    </tr>\n  </tbody>\n</table>\n</div>"
     },
     "metadata": {},
     "execution_count": 57
    }
   ],
   "source": [
    "y_target = DF_pca['target']\n",
    "X_features = DF_pca.drop('target', axis= 1)\n",
    "\n",
    "\n",
    "X_train, X_valid, y_train, y_valid = train_test_split(X_features, y_target, test_size =0.2, random_state=13, stratify= y_target)\n",
    "\n",
    "# 모델 객체 생성 \n",
    "lr_clf = LogisticRegression(random_state=13)\n",
    "dt_clf = DecisionTreeClassifier(random_state=13, max_depth=4)\n",
    "rf_clf = RandomForestClassifier(random_state=13, n_jobs = -1, n_estimators= 100 )\n",
    "lgbm_clf = LGBMClassifier(n_estimators=1000, num_leaves=64, n_jobs=-1, boost_from_average = False)\n",
    "svm_clf = LinearSVC()\n",
    "\n",
    "# 학습 진행 \n",
    "models=[lr_clf,dt_clf,rf_clf,lgbm_clf,svm_clf] \n",
    "model_names = ['LogiReg', 'DecisionTree', 'RandomFore','LGBM','SVC']\n",
    "results = get_result_df(models, model_names, X_train, y_train, X_valid, y_valid)\n",
    "results \n"
   ]
  },
  {
   "cell_type": "code",
   "execution_count": 58,
   "metadata": {},
   "outputs": [
    {
     "output_type": "stream",
     "name": "stdout",
     "text": [
      "              Accuracy  precision    recall        f1       roc\nLogiReg       0.684783   0.004920  0.571429  0.009756  0.628260\nDecisionTree  0.547748   0.003431  0.571429  0.006820  0.559556\nRandomFore    0.972438   0.000000  0.000000  0.000000  0.487544\nLGBM          0.970497   0.000000  0.000000  0.000000  0.486571\nSVC           0.671972   0.004728  0.571429  0.009379  0.621837\n              Accuracy  precision    recall        f1       roc\nLogiReg       0.685559   0.004932  0.571429  0.009780  0.628649\nDecisionTree  0.696817   0.003846  0.428571  0.007624  0.563060\nRandomFore    0.973214   0.000000  0.000000  0.000000  0.487933\nLGBM          0.973991   0.000000  0.000000  0.000000  0.488322\nSVC           0.659550   0.004556  0.571429  0.009040  0.615609\n              Accuracy  precision    recall        f1       roc\nLogiReg       0.803183   0.005929  0.428571  0.011696  0.616388\nDecisionTree  0.559783   0.005268  0.857143  0.010471  0.708058\nRandomFore    0.549301   0.005146  0.857143  0.010230  0.702803\nLGBM          0.533773   0.004975  0.857143  0.009893  0.695018\nSVC           0.807842   0.006073  0.428571  0.011976  0.618723\n              Accuracy  precision    recall        f1       roc\nLogiReg       0.665373   0.004635  0.571429  0.009195  0.618529\nDecisionTree  0.551242   0.003457  0.571429  0.006873  0.561308\nRandomFore    0.951863   0.008403  0.142857  0.015873  0.548462\nLGBM          0.957298   0.000000  0.000000  0.000000  0.479953\nSVC           0.672748   0.004739  0.571429  0.009401  0.622227\n              Accuracy  precision    recall        f1       roc\nLogiReg       0.777174   0.006957  0.571429  0.013746  0.674582\nDecisionTree  0.572593   0.003630  0.571429  0.007214  0.572012\nRandomFore    0.997283   0.000000  0.000000  0.000000  0.500000\nLGBM          0.996894   0.000000  0.000000  0.000000  0.499805\nSVC           0.772904   0.006826  0.571429  0.013491  0.672441\n"
     ]
    }
   ],
   "source": [
    "#### 샘플링별 확인 \n",
    "from imblearn.over_sampling import SMOTE\n",
    "from imblearn.over_sampling import ADASYN\n",
    "from imblearn.under_sampling import RandomUnderSampler\n",
    "from imblearn.combine import SMOTEENN\n",
    "from imblearn.over_sampling import RandomOverSampler\n",
    "\n",
    "smt = SMOTE(random_state=13)\n",
    "X_train_smt, y_train_smt = smt.fit_sample(X_train, y_train)\n",
    "\n",
    "ads = ADASYN(random_state=13)\n",
    "X_train_ads, y_train_ads = ads.fit_sample(X_train, y_train)\n",
    "\n",
    "rud = RandomUnderSampler(random_state=13)\n",
    "X_train_rud, y_train_rud = rud.fit_sample(X_train, y_train)\n",
    "\n",
    "sme = SMOTEENN(random_state=13)\n",
    "X_train_sme, y_train_sme = sme.fit_sample(X_train, y_train)\n",
    "\n",
    "rov = RandomOverSampler(random_state=13)\n",
    "X_train_rov, y_train_rov = rov.fit_sample(X_train, y_train)\n",
    "\n",
    "model_names = ['LogiReg', 'DecisionTree', 'RandomFore','LGBM','SVC']\n",
    "\n",
    "results_smt = get_result_df(models, model_names, X_train_smt, y_train_smt, X_valid, y_valid)\n",
    "results_ads = get_result_df(models, model_names, X_train_ads, y_train_ads, X_valid, y_valid)\n",
    "results_rud = get_result_df(models, model_names, X_train_rud, y_train_rud, X_valid, y_valid)\n",
    "results_sme = get_result_df(models, model_names, X_train_sme, y_train_sme, X_valid, y_valid)\n",
    "results_rov = get_result_df(models, model_names, X_train_rov, y_train_rov, X_valid, y_valid)\n",
    "\n",
    "\n",
    "print(results_smt)\n",
    "print(results_ads)\n",
    "print(results_rud)\n",
    "print(results_sme)\n",
    "print(results_rov)"
   ]
  },
  {
   "cell_type": "code",
   "execution_count": 63,
   "metadata": {},
   "outputs": [
    {
     "output_type": "execute_result",
     "data": {
      "text/plain": [
       "              Accuracy  precision    recall        f1       roc\n",
       "LogiReg       0.777174   0.006957  0.571429  0.013746  0.674582\n",
       "DecisionTree  0.572593   0.003630  0.571429  0.007214  0.572012\n",
       "RandomFore    0.997283   0.000000  0.000000  0.000000  0.500000\n",
       "LGBM          0.996894   0.000000  0.000000  0.000000  0.499805\n",
       "SVC           0.772904   0.006826  0.571429  0.013491  0.672441"
      ],
      "text/html": "<div>\n<style scoped>\n    .dataframe tbody tr th:only-of-type {\n        vertical-align: middle;\n    }\n\n    .dataframe tbody tr th {\n        vertical-align: top;\n    }\n\n    .dataframe thead th {\n        text-align: right;\n    }\n</style>\n<table border=\"1\" class=\"dataframe\">\n  <thead>\n    <tr style=\"text-align: right;\">\n      <th></th>\n      <th>Accuracy</th>\n      <th>precision</th>\n      <th>recall</th>\n      <th>f1</th>\n      <th>roc</th>\n    </tr>\n  </thead>\n  <tbody>\n    <tr>\n      <th>LogiReg</th>\n      <td>0.777174</td>\n      <td>0.006957</td>\n      <td>0.571429</td>\n      <td>0.013746</td>\n      <td>0.674582</td>\n    </tr>\n    <tr>\n      <th>DecisionTree</th>\n      <td>0.572593</td>\n      <td>0.003630</td>\n      <td>0.571429</td>\n      <td>0.007214</td>\n      <td>0.572012</td>\n    </tr>\n    <tr>\n      <th>RandomFore</th>\n      <td>0.997283</td>\n      <td>0.000000</td>\n      <td>0.000000</td>\n      <td>0.000000</td>\n      <td>0.500000</td>\n    </tr>\n    <tr>\n      <th>LGBM</th>\n      <td>0.996894</td>\n      <td>0.000000</td>\n      <td>0.000000</td>\n      <td>0.000000</td>\n      <td>0.499805</td>\n    </tr>\n    <tr>\n      <th>SVC</th>\n      <td>0.772904</td>\n      <td>0.006826</td>\n      <td>0.571429</td>\n      <td>0.013491</td>\n      <td>0.672441</td>\n    </tr>\n  </tbody>\n</table>\n</div>"
     },
     "metadata": {},
     "execution_count": 63
    }
   ],
   "source": [
    "results_rov"
   ]
  },
  {
   "source": [
    "## Trial#5\n",
    "### 변수삭제\t원핫인코딩\t결측치처리   \t처리방안 \n",
    "### 삭제안함\t적용안함\trepair cost \t평균\t"
   ],
   "cell_type": "markdown",
   "metadata": {}
  },
  {
   "source": [
    "############## 보간법을 사용하여 null 값 처리 "
   ],
   "cell_type": "markdown",
   "metadata": {}
  },
  {
   "cell_type": "code",
   "execution_count": null,
   "metadata": {},
   "outputs": [],
   "source": [
    "df_5 = df.copy()\n",
    "\n",
    "y_target = df_5['fraud_YN']\n",
    "X_features = df_5.drop('fraud_YN', axis=1)\n",
    "\n",
    "y_target = df_5['fraud_YN'].reset_index()\n",
    "y_target = y_target.drop('index', axis=1)"
   ]
  },
  {
   "cell_type": "code",
   "execution_count": 107,
   "metadata": {},
   "outputs": [
    {
     "output_type": "execute_result",
     "data": {
      "text/plain": [
       "           0       1       2       3       4       5         6       7   \\\n",
       "0     2.00000 1.00000 3.00000 0.00000 2.00000 0.00000 100.00000 2.00000   \n",
       "1     3.00000 1.00000 3.00000 0.00000 4.00000 0.00000   0.00000 2.00000   \n",
       "2     1.00000 0.00000 1.00000 0.00000 1.00000 0.00000 100.00000 1.00000   \n",
       "3     1.00000 1.00000 3.00000 0.00000 4.00000 0.00000 100.00000 3.00000   \n",
       "4     2.00000 0.00000 4.00000 0.00000 4.00000 0.00000   0.00000 1.00000   \n",
       "...       ...     ...     ...     ...     ...     ...       ...     ...   \n",
       "12874 2.00000 0.00000 3.00000 1.00000 4.00000 0.00000 100.00000 1.00000   \n",
       "12875 2.00000 0.00000 2.00000 0.00000 2.00000 0.00000 100.00000 2.00000   \n",
       "12876 2.00000 0.00000 2.00000 1.00000 4.00000 0.00000 100.00000 1.00000   \n",
       "12877 2.00000 0.00000 2.00000 0.00000 2.00000 0.00000 100.00000 2.00000   \n",
       "12878 2.00000 0.00000 2.00000 0.00000 1.00000 0.00000 100.00000 1.00000   \n",
       "\n",
       "           8       9   ...            14      15      16      17      18  \\\n",
       "0     0.00000 0.00000  ...       0.00000 1.00000 0.00000 0.00000 1.00000   \n",
       "1     0.00000 0.00000  ...       0.00000 3.00000 1.00000 0.00000 1.00000   \n",
       "2     0.00000 0.00000  ... 1209410.00000 1.00000 0.00000 0.00000 2.00000   \n",
       "3     0.00000 0.00000  ... 1217280.00000 0.00000 0.00000 0.00000 1.00000   \n",
       "4     0.00000 0.00000  ...       0.00000 1.00000 0.00000 0.00000 1.00000   \n",
       "...       ...     ...  ...           ...     ...     ...     ...     ...   \n",
       "12874 0.00000 0.00000  ...       0.00000 0.00000 0.00000 0.00000 1.00000   \n",
       "12875 0.00000 0.00000  ...       0.00000 1.00000 1.00000 0.00000 1.00000   \n",
       "12876 1.00000 0.00000  ...       0.00000 2.00000 1.00000 0.00000 1.00000   \n",
       "12877 0.00000 0.00000  ...       0.00000 4.00000 1.00000 0.00000 1.00000   \n",
       "12878 0.00000 0.00000  ... 1188750.00000 2.00000 0.00000 0.00000 1.00000   \n",
       "\n",
       "           19      20      21       22      23  \n",
       "0     0.00000 0.00000 0.00000 -1.00000 0.00000  \n",
       "1     0.00000 0.00000 0.00000 -1.00000 0.00000  \n",
       "2     0.00000 0.00000 0.00000 -1.00000 0.00000  \n",
       "3     1.00000 2.00000 1.00000  2.00000 0.00000  \n",
       "4     1.00000 1.00000 1.00000  2.00000 0.00000  \n",
       "...       ...     ...     ...      ...     ...  \n",
       "12874 0.00000 0.00000 0.00000 -1.00000 0.00000  \n",
       "12875 0.00000 0.00000 0.00000 -1.00000 0.00000  \n",
       "12876 0.00000 0.00000 0.00000 -1.00000 0.00000  \n",
       "12877 0.00000 0.00000 0.00000 -1.00000 0.00000  \n",
       "12878 0.00000 0.00000 0.00000 -1.00000 0.00000  \n",
       "\n",
       "[12879 rows x 24 columns]"
      ],
      "text/html": "<div>\n<style scoped>\n    .dataframe tbody tr th:only-of-type {\n        vertical-align: middle;\n    }\n\n    .dataframe tbody tr th {\n        vertical-align: top;\n    }\n\n    .dataframe thead th {\n        text-align: right;\n    }\n</style>\n<table border=\"1\" class=\"dataframe\">\n  <thead>\n    <tr style=\"text-align: right;\">\n      <th></th>\n      <th>0</th>\n      <th>1</th>\n      <th>2</th>\n      <th>3</th>\n      <th>4</th>\n      <th>5</th>\n      <th>6</th>\n      <th>7</th>\n      <th>8</th>\n      <th>9</th>\n      <th>...</th>\n      <th>14</th>\n      <th>15</th>\n      <th>16</th>\n      <th>17</th>\n      <th>18</th>\n      <th>19</th>\n      <th>20</th>\n      <th>21</th>\n      <th>22</th>\n      <th>23</th>\n    </tr>\n  </thead>\n  <tbody>\n    <tr>\n      <th>0</th>\n      <td>2.00000</td>\n      <td>1.00000</td>\n      <td>3.00000</td>\n      <td>0.00000</td>\n      <td>2.00000</td>\n      <td>0.00000</td>\n      <td>100.00000</td>\n      <td>2.00000</td>\n      <td>0.00000</td>\n      <td>0.00000</td>\n      <td>...</td>\n      <td>0.00000</td>\n      <td>1.00000</td>\n      <td>0.00000</td>\n      <td>0.00000</td>\n      <td>1.00000</td>\n      <td>0.00000</td>\n      <td>0.00000</td>\n      <td>0.00000</td>\n      <td>-1.00000</td>\n      <td>0.00000</td>\n    </tr>\n    <tr>\n      <th>1</th>\n      <td>3.00000</td>\n      <td>1.00000</td>\n      <td>3.00000</td>\n      <td>0.00000</td>\n      <td>4.00000</td>\n      <td>0.00000</td>\n      <td>0.00000</td>\n      <td>2.00000</td>\n      <td>0.00000</td>\n      <td>0.00000</td>\n      <td>...</td>\n      <td>0.00000</td>\n      <td>3.00000</td>\n      <td>1.00000</td>\n      <td>0.00000</td>\n      <td>1.00000</td>\n      <td>0.00000</td>\n      <td>0.00000</td>\n      <td>0.00000</td>\n      <td>-1.00000</td>\n      <td>0.00000</td>\n    </tr>\n    <tr>\n      <th>2</th>\n      <td>1.00000</td>\n      <td>0.00000</td>\n      <td>1.00000</td>\n      <td>0.00000</td>\n      <td>1.00000</td>\n      <td>0.00000</td>\n      <td>100.00000</td>\n      <td>1.00000</td>\n      <td>0.00000</td>\n      <td>0.00000</td>\n      <td>...</td>\n      <td>1209410.00000</td>\n      <td>1.00000</td>\n      <td>0.00000</td>\n      <td>0.00000</td>\n      <td>2.00000</td>\n      <td>0.00000</td>\n      <td>0.00000</td>\n      <td>0.00000</td>\n      <td>-1.00000</td>\n      <td>0.00000</td>\n    </tr>\n    <tr>\n      <th>3</th>\n      <td>1.00000</td>\n      <td>1.00000</td>\n      <td>3.00000</td>\n      <td>0.00000</td>\n      <td>4.00000</td>\n      <td>0.00000</td>\n      <td>100.00000</td>\n      <td>3.00000</td>\n      <td>0.00000</td>\n      <td>0.00000</td>\n      <td>...</td>\n      <td>1217280.00000</td>\n      <td>0.00000</td>\n      <td>0.00000</td>\n      <td>0.00000</td>\n      <td>1.00000</td>\n      <td>1.00000</td>\n      <td>2.00000</td>\n      <td>1.00000</td>\n      <td>2.00000</td>\n      <td>0.00000</td>\n    </tr>\n    <tr>\n      <th>4</th>\n      <td>2.00000</td>\n      <td>0.00000</td>\n      <td>4.00000</td>\n      <td>0.00000</td>\n      <td>4.00000</td>\n      <td>0.00000</td>\n      <td>0.00000</td>\n      <td>1.00000</td>\n      <td>0.00000</td>\n      <td>0.00000</td>\n      <td>...</td>\n      <td>0.00000</td>\n      <td>1.00000</td>\n      <td>0.00000</td>\n      <td>0.00000</td>\n      <td>1.00000</td>\n      <td>1.00000</td>\n      <td>1.00000</td>\n      <td>1.00000</td>\n      <td>2.00000</td>\n      <td>0.00000</td>\n    </tr>\n    <tr>\n      <th>...</th>\n      <td>...</td>\n      <td>...</td>\n      <td>...</td>\n      <td>...</td>\n      <td>...</td>\n      <td>...</td>\n      <td>...</td>\n      <td>...</td>\n      <td>...</td>\n      <td>...</td>\n      <td>...</td>\n      <td>...</td>\n      <td>...</td>\n      <td>...</td>\n      <td>...</td>\n      <td>...</td>\n      <td>...</td>\n      <td>...</td>\n      <td>...</td>\n      <td>...</td>\n      <td>...</td>\n    </tr>\n    <tr>\n      <th>12874</th>\n      <td>2.00000</td>\n      <td>0.00000</td>\n      <td>3.00000</td>\n      <td>1.00000</td>\n      <td>4.00000</td>\n      <td>0.00000</td>\n      <td>100.00000</td>\n      <td>1.00000</td>\n      <td>0.00000</td>\n      <td>0.00000</td>\n      <td>...</td>\n      <td>0.00000</td>\n      <td>0.00000</td>\n      <td>0.00000</td>\n      <td>0.00000</td>\n      <td>1.00000</td>\n      <td>0.00000</td>\n      <td>0.00000</td>\n      <td>0.00000</td>\n      <td>-1.00000</td>\n      <td>0.00000</td>\n    </tr>\n    <tr>\n      <th>12875</th>\n      <td>2.00000</td>\n      <td>0.00000</td>\n      <td>2.00000</td>\n      <td>0.00000</td>\n      <td>2.00000</td>\n      <td>0.00000</td>\n      <td>100.00000</td>\n      <td>2.00000</td>\n      <td>0.00000</td>\n      <td>0.00000</td>\n      <td>...</td>\n      <td>0.00000</td>\n      <td>1.00000</td>\n      <td>1.00000</td>\n      <td>0.00000</td>\n      <td>1.00000</td>\n      <td>0.00000</td>\n      <td>0.00000</td>\n      <td>0.00000</td>\n      <td>-1.00000</td>\n      <td>0.00000</td>\n    </tr>\n    <tr>\n      <th>12876</th>\n      <td>2.00000</td>\n      <td>0.00000</td>\n      <td>2.00000</td>\n      <td>1.00000</td>\n      <td>4.00000</td>\n      <td>0.00000</td>\n      <td>100.00000</td>\n      <td>1.00000</td>\n      <td>1.00000</td>\n      <td>0.00000</td>\n      <td>...</td>\n      <td>0.00000</td>\n      <td>2.00000</td>\n      <td>1.00000</td>\n      <td>0.00000</td>\n      <td>1.00000</td>\n      <td>0.00000</td>\n      <td>0.00000</td>\n      <td>0.00000</td>\n      <td>-1.00000</td>\n      <td>0.00000</td>\n    </tr>\n    <tr>\n      <th>12877</th>\n      <td>2.00000</td>\n      <td>0.00000</td>\n      <td>2.00000</td>\n      <td>0.00000</td>\n      <td>2.00000</td>\n      <td>0.00000</td>\n      <td>100.00000</td>\n      <td>2.00000</td>\n      <td>0.00000</td>\n      <td>0.00000</td>\n      <td>...</td>\n      <td>0.00000</td>\n      <td>4.00000</td>\n      <td>1.00000</td>\n      <td>0.00000</td>\n      <td>1.00000</td>\n      <td>0.00000</td>\n      <td>0.00000</td>\n      <td>0.00000</td>\n      <td>-1.00000</td>\n      <td>0.00000</td>\n    </tr>\n    <tr>\n      <th>12878</th>\n      <td>2.00000</td>\n      <td>0.00000</td>\n      <td>2.00000</td>\n      <td>0.00000</td>\n      <td>1.00000</td>\n      <td>0.00000</td>\n      <td>100.00000</td>\n      <td>1.00000</td>\n      <td>0.00000</td>\n      <td>0.00000</td>\n      <td>...</td>\n      <td>1188750.00000</td>\n      <td>2.00000</td>\n      <td>0.00000</td>\n      <td>0.00000</td>\n      <td>1.00000</td>\n      <td>0.00000</td>\n      <td>0.00000</td>\n      <td>0.00000</td>\n      <td>-1.00000</td>\n      <td>0.00000</td>\n    </tr>\n  </tbody>\n</table>\n<p>12879 rows × 24 columns</p>\n</div>"
     },
     "metadata": {},
     "execution_count": 107
    }
   ],
   "source": [
    "from sklearn.impute import KNNImputer\n",
    "\n",
    "X_features['repair_cost'].replace(0, np.nan, inplace=True)\n",
    "imputer = KNNImputer(n_neighbors=2)\n",
    "\n",
    "#repair_cost에만 결측치 처리해줌 \n",
    "X_features_filled = pd.DataFrame(imputer.fit_transform(X_features))\n",
    "X_features_filled\n"
   ]
  },
  {
   "cell_type": "code",
   "execution_count": 108,
   "metadata": {},
   "outputs": [
    {
     "output_type": "execute_result",
     "data": {
      "text/plain": [
       "       car_model  sharing_type  age_group  has_previous_accident  \\\n",
       "0              2             1          3                      0   \n",
       "3              3             1          3                      0   \n",
       "4              1             0          1                      0   \n",
       "6              1             1          3                      0   \n",
       "8              2             0          4                      0   \n",
       "...          ...           ...        ...                    ...   \n",
       "15994          2             0          3                      1   \n",
       "15995          2             0          2                      0   \n",
       "15996          2             0          2                      1   \n",
       "15998          2             0          2                      0   \n",
       "15999          2             0          2                      0   \n",
       "\n",
       "       cumulative_use_count  b2b  accident_ratio  pf_type  socarpass  \\\n",
       "0                         2    0             100        2          0   \n",
       "3                         4    0               0        2          0   \n",
       "4                         1    0             100        1          0   \n",
       "6                         4    0             100        3          0   \n",
       "8                         4    0               0        1          0   \n",
       "...                     ...  ...             ...      ...        ...   \n",
       "15994                     4    0             100        1          0   \n",
       "15995                     2    0             100        2          0   \n",
       "15996                     4    0             100        1          1   \n",
       "15998                     2    0             100        2          0   \n",
       "15999                     1    0             100        1          0   \n",
       "\n",
       "       socarsave  ...  insure_cost  accident_location  car_part1  car_part2  \\\n",
       "0              0  ...            0                  1          0          0   \n",
       "3              0  ...            0                  3          1          0   \n",
       "4              0  ...      1209410                  1          0          0   \n",
       "6              0  ...      1217280                  0          0          0   \n",
       "8              0  ...            0                  1          0          0   \n",
       "...          ...  ...          ...                ...        ...        ...   \n",
       "15994          0  ...            0                  0          0          0   \n",
       "15995          0  ...            0                  1          1          0   \n",
       "15996          0  ...            0                  2          1          0   \n",
       "15998          0  ...            0                  4          1          0   \n",
       "15999          0  ...      1188750                  2          0          0   \n",
       "\n",
       "       repair_cnt  acc_type1  insurance_site_aid_YN  police_site_aid_YN  \\\n",
       "0               1          0                      0                   0   \n",
       "3               1          0                      0                   0   \n",
       "4               2          0                      0                   0   \n",
       "6               1          1                      2                   1   \n",
       "8               1          1                      1                   1   \n",
       "...           ...        ...                    ...                 ...   \n",
       "15994           1          0                      0                   0   \n",
       "15995           1          0                      0                   0   \n",
       "15996           1          0                      0                   0   \n",
       "15998           1          0                      0                   0   \n",
       "15999           1          0                      0                   0   \n",
       "\n",
       "       total_prsn_cnt  test_set  \n",
       "0                  -1         0  \n",
       "3                  -1         0  \n",
       "4                  -1         0  \n",
       "6                   2         0  \n",
       "8                   2         0  \n",
       "...               ...       ...  \n",
       "15994              -1         0  \n",
       "15995              -1         0  \n",
       "15996              -1         0  \n",
       "15998              -1         0  \n",
       "15999              -1         0  \n",
       "\n",
       "[12879 rows x 24 columns]"
      ],
      "text/html": "<div>\n<style scoped>\n    .dataframe tbody tr th:only-of-type {\n        vertical-align: middle;\n    }\n\n    .dataframe tbody tr th {\n        vertical-align: top;\n    }\n\n    .dataframe thead th {\n        text-align: right;\n    }\n</style>\n<table border=\"1\" class=\"dataframe\">\n  <thead>\n    <tr style=\"text-align: right;\">\n      <th></th>\n      <th>car_model</th>\n      <th>sharing_type</th>\n      <th>age_group</th>\n      <th>has_previous_accident</th>\n      <th>cumulative_use_count</th>\n      <th>b2b</th>\n      <th>accident_ratio</th>\n      <th>pf_type</th>\n      <th>socarpass</th>\n      <th>socarsave</th>\n      <th>...</th>\n      <th>insure_cost</th>\n      <th>accident_location</th>\n      <th>car_part1</th>\n      <th>car_part2</th>\n      <th>repair_cnt</th>\n      <th>acc_type1</th>\n      <th>insurance_site_aid_YN</th>\n      <th>police_site_aid_YN</th>\n      <th>total_prsn_cnt</th>\n      <th>test_set</th>\n    </tr>\n  </thead>\n  <tbody>\n    <tr>\n      <th>0</th>\n      <td>2</td>\n      <td>1</td>\n      <td>3</td>\n      <td>0</td>\n      <td>2</td>\n      <td>0</td>\n      <td>100</td>\n      <td>2</td>\n      <td>0</td>\n      <td>0</td>\n      <td>...</td>\n      <td>0</td>\n      <td>1</td>\n      <td>0</td>\n      <td>0</td>\n      <td>1</td>\n      <td>0</td>\n      <td>0</td>\n      <td>0</td>\n      <td>-1</td>\n      <td>0</td>\n    </tr>\n    <tr>\n      <th>3</th>\n      <td>3</td>\n      <td>1</td>\n      <td>3</td>\n      <td>0</td>\n      <td>4</td>\n      <td>0</td>\n      <td>0</td>\n      <td>2</td>\n      <td>0</td>\n      <td>0</td>\n      <td>...</td>\n      <td>0</td>\n      <td>3</td>\n      <td>1</td>\n      <td>0</td>\n      <td>1</td>\n      <td>0</td>\n      <td>0</td>\n      <td>0</td>\n      <td>-1</td>\n      <td>0</td>\n    </tr>\n    <tr>\n      <th>4</th>\n      <td>1</td>\n      <td>0</td>\n      <td>1</td>\n      <td>0</td>\n      <td>1</td>\n      <td>0</td>\n      <td>100</td>\n      <td>1</td>\n      <td>0</td>\n      <td>0</td>\n      <td>...</td>\n      <td>1209410</td>\n      <td>1</td>\n      <td>0</td>\n      <td>0</td>\n      <td>2</td>\n      <td>0</td>\n      <td>0</td>\n      <td>0</td>\n      <td>-1</td>\n      <td>0</td>\n    </tr>\n    <tr>\n      <th>6</th>\n      <td>1</td>\n      <td>1</td>\n      <td>3</td>\n      <td>0</td>\n      <td>4</td>\n      <td>0</td>\n      <td>100</td>\n      <td>3</td>\n      <td>0</td>\n      <td>0</td>\n      <td>...</td>\n      <td>1217280</td>\n      <td>0</td>\n      <td>0</td>\n      <td>0</td>\n      <td>1</td>\n      <td>1</td>\n      <td>2</td>\n      <td>1</td>\n      <td>2</td>\n      <td>0</td>\n    </tr>\n    <tr>\n      <th>8</th>\n      <td>2</td>\n      <td>0</td>\n      <td>4</td>\n      <td>0</td>\n      <td>4</td>\n      <td>0</td>\n      <td>0</td>\n      <td>1</td>\n      <td>0</td>\n      <td>0</td>\n      <td>...</td>\n      <td>0</td>\n      <td>1</td>\n      <td>0</td>\n      <td>0</td>\n      <td>1</td>\n      <td>1</td>\n      <td>1</td>\n      <td>1</td>\n      <td>2</td>\n      <td>0</td>\n    </tr>\n    <tr>\n      <th>...</th>\n      <td>...</td>\n      <td>...</td>\n      <td>...</td>\n      <td>...</td>\n      <td>...</td>\n      <td>...</td>\n      <td>...</td>\n      <td>...</td>\n      <td>...</td>\n      <td>...</td>\n      <td>...</td>\n      <td>...</td>\n      <td>...</td>\n      <td>...</td>\n      <td>...</td>\n      <td>...</td>\n      <td>...</td>\n      <td>...</td>\n      <td>...</td>\n      <td>...</td>\n      <td>...</td>\n    </tr>\n    <tr>\n      <th>15994</th>\n      <td>2</td>\n      <td>0</td>\n      <td>3</td>\n      <td>1</td>\n      <td>4</td>\n      <td>0</td>\n      <td>100</td>\n      <td>1</td>\n      <td>0</td>\n      <td>0</td>\n      <td>...</td>\n      <td>0</td>\n      <td>0</td>\n      <td>0</td>\n      <td>0</td>\n      <td>1</td>\n      <td>0</td>\n      <td>0</td>\n      <td>0</td>\n      <td>-1</td>\n      <td>0</td>\n    </tr>\n    <tr>\n      <th>15995</th>\n      <td>2</td>\n      <td>0</td>\n      <td>2</td>\n      <td>0</td>\n      <td>2</td>\n      <td>0</td>\n      <td>100</td>\n      <td>2</td>\n      <td>0</td>\n      <td>0</td>\n      <td>...</td>\n      <td>0</td>\n      <td>1</td>\n      <td>1</td>\n      <td>0</td>\n      <td>1</td>\n      <td>0</td>\n      <td>0</td>\n      <td>0</td>\n      <td>-1</td>\n      <td>0</td>\n    </tr>\n    <tr>\n      <th>15996</th>\n      <td>2</td>\n      <td>0</td>\n      <td>2</td>\n      <td>1</td>\n      <td>4</td>\n      <td>0</td>\n      <td>100</td>\n      <td>1</td>\n      <td>1</td>\n      <td>0</td>\n      <td>...</td>\n      <td>0</td>\n      <td>2</td>\n      <td>1</td>\n      <td>0</td>\n      <td>1</td>\n      <td>0</td>\n      <td>0</td>\n      <td>0</td>\n      <td>-1</td>\n      <td>0</td>\n    </tr>\n    <tr>\n      <th>15998</th>\n      <td>2</td>\n      <td>0</td>\n      <td>2</td>\n      <td>0</td>\n      <td>2</td>\n      <td>0</td>\n      <td>100</td>\n      <td>2</td>\n      <td>0</td>\n      <td>0</td>\n      <td>...</td>\n      <td>0</td>\n      <td>4</td>\n      <td>1</td>\n      <td>0</td>\n      <td>1</td>\n      <td>0</td>\n      <td>0</td>\n      <td>0</td>\n      <td>-1</td>\n      <td>0</td>\n    </tr>\n    <tr>\n      <th>15999</th>\n      <td>2</td>\n      <td>0</td>\n      <td>2</td>\n      <td>0</td>\n      <td>1</td>\n      <td>0</td>\n      <td>100</td>\n      <td>1</td>\n      <td>0</td>\n      <td>0</td>\n      <td>...</td>\n      <td>1188750</td>\n      <td>2</td>\n      <td>0</td>\n      <td>0</td>\n      <td>1</td>\n      <td>0</td>\n      <td>0</td>\n      <td>0</td>\n      <td>-1</td>\n      <td>0</td>\n    </tr>\n  </tbody>\n</table>\n<p>12879 rows × 24 columns</p>\n</div>"
     },
     "metadata": {},
     "execution_count": 108
    }
   ],
   "source": [
    "X_features"
   ]
  },
  {
   "cell_type": "code",
   "execution_count": 109,
   "metadata": {},
   "outputs": [
    {
     "output_type": "execute_result",
     "data": {
      "text/plain": [
       "       component_1  component_2  target\n",
       "12874    -10.88514     -1.52303       0\n",
       "12875    -10.88575     -1.68244       0\n",
       "12876    -10.88796     -1.53311       0\n",
       "12877    -10.88830     -1.63437       0\n",
       "12878    -10.90643      0.45217       0"
      ],
      "text/html": "<div>\n<style scoped>\n    .dataframe tbody tr th:only-of-type {\n        vertical-align: middle;\n    }\n\n    .dataframe tbody tr th {\n        vertical-align: top;\n    }\n\n    .dataframe thead th {\n        text-align: right;\n    }\n</style>\n<table border=\"1\" class=\"dataframe\">\n  <thead>\n    <tr style=\"text-align: right;\">\n      <th></th>\n      <th>component_1</th>\n      <th>component_2</th>\n      <th>target</th>\n    </tr>\n  </thead>\n  <tbody>\n    <tr>\n      <th>12874</th>\n      <td>-10.88514</td>\n      <td>-1.52303</td>\n      <td>0</td>\n    </tr>\n    <tr>\n      <th>12875</th>\n      <td>-10.88575</td>\n      <td>-1.68244</td>\n      <td>0</td>\n    </tr>\n    <tr>\n      <th>12876</th>\n      <td>-10.88796</td>\n      <td>-1.53311</td>\n      <td>0</td>\n    </tr>\n    <tr>\n      <th>12877</th>\n      <td>-10.88830</td>\n      <td>-1.63437</td>\n      <td>0</td>\n    </tr>\n    <tr>\n      <th>12878</th>\n      <td>-10.90643</td>\n      <td>0.45217</td>\n      <td>0</td>\n    </tr>\n  </tbody>\n</table>\n</div>"
     },
     "metadata": {},
     "execution_count": 109
    }
   ],
   "source": [
    "from sklearn.decomposition import PCA\n",
    "from sklearn.preprocessing import RobustScaler\n",
    "\n",
    "scaler = RobustScaler()\n",
    "df_scaled = scaler.fit_transform(X_features_filled)\n",
    "\n",
    "pca = PCA(n_components=2)\n",
    "pca.fit(df_scaled)\n",
    "df_pca = pca.transform(df_scaled)\n",
    "\n",
    "pca_columns = ['component_1','component_2']\n",
    "\n",
    "DF_pca = pd.DataFrame(df_pca, columns=pca_columns)\n",
    "DF_pca['target'] = y_target \n",
    "DF_pca.tail()\n"
   ]
  },
  {
   "cell_type": "code",
   "execution_count": 110,
   "metadata": {},
   "outputs": [
    {
     "output_type": "execute_result",
     "data": {
      "text/plain": [
       "              Accuracy  precision  recall      f1     roc\n",
       "LogiReg        0.99728    0.00000 0.00000 0.00000 0.50000\n",
       "DecisionTree   0.99651    0.00000 0.00000 0.00000 0.49961\n",
       "RandomFore     0.99728    0.00000 0.00000 0.00000 0.50000\n",
       "LGBM           0.99573    0.00000 0.00000 0.00000 0.49922\n",
       "SVC            0.99728    0.00000 0.00000 0.00000 0.50000"
      ],
      "text/html": "<div>\n<style scoped>\n    .dataframe tbody tr th:only-of-type {\n        vertical-align: middle;\n    }\n\n    .dataframe tbody tr th {\n        vertical-align: top;\n    }\n\n    .dataframe thead th {\n        text-align: right;\n    }\n</style>\n<table border=\"1\" class=\"dataframe\">\n  <thead>\n    <tr style=\"text-align: right;\">\n      <th></th>\n      <th>Accuracy</th>\n      <th>precision</th>\n      <th>recall</th>\n      <th>f1</th>\n      <th>roc</th>\n    </tr>\n  </thead>\n  <tbody>\n    <tr>\n      <th>LogiReg</th>\n      <td>0.99728</td>\n      <td>0.00000</td>\n      <td>0.00000</td>\n      <td>0.00000</td>\n      <td>0.50000</td>\n    </tr>\n    <tr>\n      <th>DecisionTree</th>\n      <td>0.99651</td>\n      <td>0.00000</td>\n      <td>0.00000</td>\n      <td>0.00000</td>\n      <td>0.49961</td>\n    </tr>\n    <tr>\n      <th>RandomFore</th>\n      <td>0.99728</td>\n      <td>0.00000</td>\n      <td>0.00000</td>\n      <td>0.00000</td>\n      <td>0.50000</td>\n    </tr>\n    <tr>\n      <th>LGBM</th>\n      <td>0.99573</td>\n      <td>0.00000</td>\n      <td>0.00000</td>\n      <td>0.00000</td>\n      <td>0.49922</td>\n    </tr>\n    <tr>\n      <th>SVC</th>\n      <td>0.99728</td>\n      <td>0.00000</td>\n      <td>0.00000</td>\n      <td>0.00000</td>\n      <td>0.50000</td>\n    </tr>\n  </tbody>\n</table>\n</div>"
     },
     "metadata": {},
     "execution_count": 110
    }
   ],
   "source": [
    "y_target = DF_pca['target']\n",
    "X_features = DF_pca.drop('target', axis= 1)\n",
    "\n",
    "\n",
    "X_train, X_valid, y_train, y_valid = train_test_split(X_features, y_target, test_size =0.2, random_state=13, stratify= y_target)\n",
    "\n",
    "# 모델 객체 생성 \n",
    "lr_clf = LogisticRegression(random_state=13)\n",
    "dt_clf = DecisionTreeClassifier(random_state=13, max_depth=4)\n",
    "rf_clf = RandomForestClassifier(random_state=13, n_jobs = -1, n_estimators= 100 )\n",
    "lgbm_clf = LGBMClassifier(n_estimators=1000, num_leaves=64, n_jobs=-1, boost_from_average = False)\n",
    "svm_clf = LinearSVC()\n",
    "\n",
    "# 학습 진행 \n",
    "models=[lr_clf,dt_clf,rf_clf,lgbm_clf,svm_clf] \n",
    "model_names = ['LogiReg', 'DecisionTree', 'RandomFore','LGBM','SVC']\n",
    "results = get_result_df(models, model_names, X_train, y_train, X_valid, y_valid)\n",
    "results \n"
   ]
  },
  {
   "cell_type": "code",
   "execution_count": 111,
   "metadata": {},
   "outputs": [
    {
     "output_type": "stream",
     "name": "stdout",
     "text": [
      "              Accuracy  precision  recall      f1     roc\nLogiReg        0.13936    0.00270 0.85714 0.00538 0.49728\nDecisionTree   0.55901    0.00352 0.57143 0.00699 0.56520\nRandomFore     0.83657    0.00478 0.28571 0.00941 0.56189\nLGBM           0.83113    0.00463 0.28571 0.00911 0.55917\nSVC            0.13936    0.00270 0.85714 0.00538 0.49728\n              Accuracy  precision  recall      f1     roc\nLogiReg        0.13936    0.00270 0.85714 0.00538 0.49728\nDecisionTree   0.55978    0.00352 0.57143 0.00701 0.56559\nRandomFore     0.83851    0.00484 0.28571 0.00952 0.56286\nLGBM           0.82570    0.00448 0.28571 0.00883 0.55644\nSVC            0.13936    0.00270 0.85714 0.00538 0.49728\n              Accuracy  precision  recall      f1     roc\nLogiReg        0.74961    0.00156 0.14286 0.00309 0.44706\nDecisionTree   0.52135    0.00324 0.57143 0.00645 0.54632\nRandomFore     0.51592    0.00321 0.57143 0.00637 0.54360\nLGBM           0.39325    0.00319 0.71429 0.00636 0.55333\nSVC            0.66654    0.00465 0.57143 0.00923 0.61911\n              Accuracy  precision  recall      f1     roc\nLogiReg        0.13936    0.00270 0.85714 0.00538 0.49728\nDecisionTree   0.72632    0.00426 0.42857 0.00844 0.57785\nRandomFore     0.76126    0.00327 0.28571 0.00646 0.52413\nLGBM           0.76398    0.00166 0.14286 0.00328 0.45426\nSVC            0.13936    0.00270 0.85714 0.00538 0.49728\n              Accuracy  precision  recall      f1     roc\nLogiReg        0.13936    0.00270 0.85714 0.00538 0.49728\nDecisionTree   0.89713    0.00763 0.28571 0.01487 0.59225\nRandomFore     0.99728    0.00000 0.00000 0.00000 0.50000\nLGBM           0.99689    0.00000 0.00000 0.00000 0.49981\nSVC            0.13936    0.00270 0.85714 0.00538 0.49728\n"
     ]
    }
   ],
   "source": [
    "#### 샘플링별 확인 \n",
    "from imblearn.over_sampling import SMOTE\n",
    "from imblearn.over_sampling import ADASYN\n",
    "from imblearn.under_sampling import RandomUnderSampler\n",
    "from imblearn.combine import SMOTEENN\n",
    "from imblearn.over_sampling import RandomOverSampler\n",
    "\n",
    "smt = SMOTE(random_state=13)\n",
    "X_train_smt, y_train_smt = smt.fit_sample(X_train, y_train)\n",
    "\n",
    "ads = ADASYN(random_state=13)\n",
    "X_train_ads, y_train_ads = ads.fit_sample(X_train, y_train)\n",
    "\n",
    "rud = RandomUnderSampler(random_state=13)\n",
    "X_train_rud, y_train_rud = rud.fit_sample(X_train, y_train)\n",
    "\n",
    "sme = SMOTEENN(random_state=13)\n",
    "X_train_sme, y_train_sme = sme.fit_sample(X_train, y_train)\n",
    "\n",
    "rov = RandomOverSampler(random_state=13)\n",
    "X_train_rov, y_train_rov = rov.fit_sample(X_train, y_train)\n",
    "\n",
    "model_names = ['LogiReg', 'DecisionTree', 'RandomFore','LGBM','SVC']\n",
    "\n",
    "results_smt = get_result_df(models, model_names, X_train_smt, y_train_smt, X_valid, y_valid)\n",
    "results_ads = get_result_df(models, model_names, X_train_ads, y_train_ads, X_valid, y_valid)\n",
    "results_rud = get_result_df(models, model_names, X_train_rud, y_train_rud, X_valid, y_valid)\n",
    "results_sme = get_result_df(models, model_names, X_train_sme, y_train_sme, X_valid, y_valid)\n",
    "results_rov = get_result_df(models, model_names, X_train_rov, y_train_rov, X_valid, y_valid)\n",
    "\n",
    "\n",
    "print(results_smt)\n",
    "print(results_ads)\n",
    "print(results_rud)\n",
    "print(results_sme)\n",
    "print(results_rov)"
   ]
  },
  {
   "cell_type": "code",
   "execution_count": 116,
   "metadata": {},
   "outputs": [
    {
     "output_type": "execute_result",
     "data": {
      "text/plain": [
       "              Accuracy  precision  recall      f1     roc\n",
       "LogiReg        0.13936    0.00270 0.85714 0.00538 0.49728\n",
       "DecisionTree   0.89713    0.00763 0.28571 0.01487 0.59225\n",
       "RandomFore     0.99728    0.00000 0.00000 0.00000 0.50000\n",
       "LGBM           0.99689    0.00000 0.00000 0.00000 0.49981\n",
       "SVC            0.13936    0.00270 0.85714 0.00538 0.49728"
      ],
      "text/html": "<div>\n<style scoped>\n    .dataframe tbody tr th:only-of-type {\n        vertical-align: middle;\n    }\n\n    .dataframe tbody tr th {\n        vertical-align: top;\n    }\n\n    .dataframe thead th {\n        text-align: right;\n    }\n</style>\n<table border=\"1\" class=\"dataframe\">\n  <thead>\n    <tr style=\"text-align: right;\">\n      <th></th>\n      <th>Accuracy</th>\n      <th>precision</th>\n      <th>recall</th>\n      <th>f1</th>\n      <th>roc</th>\n    </tr>\n  </thead>\n  <tbody>\n    <tr>\n      <th>LogiReg</th>\n      <td>0.13936</td>\n      <td>0.00270</td>\n      <td>0.85714</td>\n      <td>0.00538</td>\n      <td>0.49728</td>\n    </tr>\n    <tr>\n      <th>DecisionTree</th>\n      <td>0.89713</td>\n      <td>0.00763</td>\n      <td>0.28571</td>\n      <td>0.01487</td>\n      <td>0.59225</td>\n    </tr>\n    <tr>\n      <th>RandomFore</th>\n      <td>0.99728</td>\n      <td>0.00000</td>\n      <td>0.00000</td>\n      <td>0.00000</td>\n      <td>0.50000</td>\n    </tr>\n    <tr>\n      <th>LGBM</th>\n      <td>0.99689</td>\n      <td>0.00000</td>\n      <td>0.00000</td>\n      <td>0.00000</td>\n      <td>0.49981</td>\n    </tr>\n    <tr>\n      <th>SVC</th>\n      <td>0.13936</td>\n      <td>0.00270</td>\n      <td>0.85714</td>\n      <td>0.00538</td>\n      <td>0.49728</td>\n    </tr>\n  </tbody>\n</table>\n</div>"
     },
     "metadata": {},
     "execution_count": 116
    }
   ],
   "source": [
    "results_rov"
   ]
  },
  {
   "source": [
    "## Trial#6 \n",
    "### 변수삭제\t원핫인코딩\t결측치처리   \t처리방안 PCA \n",
    "### 삭제안함\t적용안함\trepair cost \tKNN \t3 "
   ],
   "cell_type": "markdown",
   "metadata": {}
  },
  {
   "cell_type": "code",
   "execution_count": 118,
   "metadata": {},
   "outputs": [],
   "source": [
    "df_6 = df.copy()\n",
    "\n",
    "y_target = df_6['fraud_YN']\n",
    "X_features = df_6.drop('fraud_YN', axis=1)\n",
    "\n",
    "y_target = df_6['fraud_YN'].reset_index()\n",
    "y_target = y_target.drop('index', axis=1)"
   ]
  },
  {
   "cell_type": "code",
   "execution_count": 119,
   "metadata": {},
   "outputs": [
    {
     "output_type": "execute_result",
     "data": {
      "text/plain": [
       "           0       1       2       3       4       5         6       7   \\\n",
       "0     2.00000 1.00000 3.00000 0.00000 2.00000 0.00000 100.00000 2.00000   \n",
       "1     3.00000 1.00000 3.00000 0.00000 4.00000 0.00000   0.00000 2.00000   \n",
       "2     1.00000 0.00000 1.00000 0.00000 1.00000 0.00000 100.00000 1.00000   \n",
       "3     1.00000 1.00000 3.00000 0.00000 4.00000 0.00000 100.00000 3.00000   \n",
       "4     2.00000 0.00000 4.00000 0.00000 4.00000 0.00000   0.00000 1.00000   \n",
       "...       ...     ...     ...     ...     ...     ...       ...     ...   \n",
       "12874 2.00000 0.00000 3.00000 1.00000 4.00000 0.00000 100.00000 1.00000   \n",
       "12875 2.00000 0.00000 2.00000 0.00000 2.00000 0.00000 100.00000 2.00000   \n",
       "12876 2.00000 0.00000 2.00000 1.00000 4.00000 0.00000 100.00000 1.00000   \n",
       "12877 2.00000 0.00000 2.00000 0.00000 2.00000 0.00000 100.00000 2.00000   \n",
       "12878 2.00000 0.00000 2.00000 0.00000 1.00000 0.00000 100.00000 1.00000   \n",
       "\n",
       "           8       9   ...            14      15      16      17      18  \\\n",
       "0     0.00000 0.00000  ...       0.00000 1.00000 0.00000 0.00000 1.00000   \n",
       "1     0.00000 0.00000  ...       0.00000 3.00000 1.00000 0.00000 1.00000   \n",
       "2     0.00000 0.00000  ... 1209410.00000 1.00000 0.00000 0.00000 2.00000   \n",
       "3     0.00000 0.00000  ... 1217280.00000 0.00000 0.00000 0.00000 1.00000   \n",
       "4     0.00000 0.00000  ...       0.00000 1.00000 0.00000 0.00000 1.00000   \n",
       "...       ...     ...  ...           ...     ...     ...     ...     ...   \n",
       "12874 0.00000 0.00000  ...       0.00000 0.00000 0.00000 0.00000 1.00000   \n",
       "12875 0.00000 0.00000  ...       0.00000 1.00000 1.00000 0.00000 1.00000   \n",
       "12876 1.00000 0.00000  ...       0.00000 2.00000 1.00000 0.00000 1.00000   \n",
       "12877 0.00000 0.00000  ...       0.00000 4.00000 1.00000 0.00000 1.00000   \n",
       "12878 0.00000 0.00000  ... 1188750.00000 2.00000 0.00000 0.00000 1.00000   \n",
       "\n",
       "           19      20      21       22      23  \n",
       "0     0.00000 0.00000 0.00000 -1.00000 0.00000  \n",
       "1     0.00000 0.00000 0.00000 -1.00000 0.00000  \n",
       "2     0.00000 0.00000 0.00000 -1.00000 0.00000  \n",
       "3     1.00000 2.00000 1.00000  2.00000 0.00000  \n",
       "4     1.00000 1.00000 1.00000  2.00000 0.00000  \n",
       "...       ...     ...     ...      ...     ...  \n",
       "12874 0.00000 0.00000 0.00000 -1.00000 0.00000  \n",
       "12875 0.00000 0.00000 0.00000 -1.00000 0.00000  \n",
       "12876 0.00000 0.00000 0.00000 -1.00000 0.00000  \n",
       "12877 0.00000 0.00000 0.00000 -1.00000 0.00000  \n",
       "12878 0.00000 0.00000 0.00000 -1.00000 0.00000  \n",
       "\n",
       "[12879 rows x 24 columns]"
      ],
      "text/html": "<div>\n<style scoped>\n    .dataframe tbody tr th:only-of-type {\n        vertical-align: middle;\n    }\n\n    .dataframe tbody tr th {\n        vertical-align: top;\n    }\n\n    .dataframe thead th {\n        text-align: right;\n    }\n</style>\n<table border=\"1\" class=\"dataframe\">\n  <thead>\n    <tr style=\"text-align: right;\">\n      <th></th>\n      <th>0</th>\n      <th>1</th>\n      <th>2</th>\n      <th>3</th>\n      <th>4</th>\n      <th>5</th>\n      <th>6</th>\n      <th>7</th>\n      <th>8</th>\n      <th>9</th>\n      <th>...</th>\n      <th>14</th>\n      <th>15</th>\n      <th>16</th>\n      <th>17</th>\n      <th>18</th>\n      <th>19</th>\n      <th>20</th>\n      <th>21</th>\n      <th>22</th>\n      <th>23</th>\n    </tr>\n  </thead>\n  <tbody>\n    <tr>\n      <th>0</th>\n      <td>2.00000</td>\n      <td>1.00000</td>\n      <td>3.00000</td>\n      <td>0.00000</td>\n      <td>2.00000</td>\n      <td>0.00000</td>\n      <td>100.00000</td>\n      <td>2.00000</td>\n      <td>0.00000</td>\n      <td>0.00000</td>\n      <td>...</td>\n      <td>0.00000</td>\n      <td>1.00000</td>\n      <td>0.00000</td>\n      <td>0.00000</td>\n      <td>1.00000</td>\n      <td>0.00000</td>\n      <td>0.00000</td>\n      <td>0.00000</td>\n      <td>-1.00000</td>\n      <td>0.00000</td>\n    </tr>\n    <tr>\n      <th>1</th>\n      <td>3.00000</td>\n      <td>1.00000</td>\n      <td>3.00000</td>\n      <td>0.00000</td>\n      <td>4.00000</td>\n      <td>0.00000</td>\n      <td>0.00000</td>\n      <td>2.00000</td>\n      <td>0.00000</td>\n      <td>0.00000</td>\n      <td>...</td>\n      <td>0.00000</td>\n      <td>3.00000</td>\n      <td>1.00000</td>\n      <td>0.00000</td>\n      <td>1.00000</td>\n      <td>0.00000</td>\n      <td>0.00000</td>\n      <td>0.00000</td>\n      <td>-1.00000</td>\n      <td>0.00000</td>\n    </tr>\n    <tr>\n      <th>2</th>\n      <td>1.00000</td>\n      <td>0.00000</td>\n      <td>1.00000</td>\n      <td>0.00000</td>\n      <td>1.00000</td>\n      <td>0.00000</td>\n      <td>100.00000</td>\n      <td>1.00000</td>\n      <td>0.00000</td>\n      <td>0.00000</td>\n      <td>...</td>\n      <td>1209410.00000</td>\n      <td>1.00000</td>\n      <td>0.00000</td>\n      <td>0.00000</td>\n      <td>2.00000</td>\n      <td>0.00000</td>\n      <td>0.00000</td>\n      <td>0.00000</td>\n      <td>-1.00000</td>\n      <td>0.00000</td>\n    </tr>\n    <tr>\n      <th>3</th>\n      <td>1.00000</td>\n      <td>1.00000</td>\n      <td>3.00000</td>\n      <td>0.00000</td>\n      <td>4.00000</td>\n      <td>0.00000</td>\n      <td>100.00000</td>\n      <td>3.00000</td>\n      <td>0.00000</td>\n      <td>0.00000</td>\n      <td>...</td>\n      <td>1217280.00000</td>\n      <td>0.00000</td>\n      <td>0.00000</td>\n      <td>0.00000</td>\n      <td>1.00000</td>\n      <td>1.00000</td>\n      <td>2.00000</td>\n      <td>1.00000</td>\n      <td>2.00000</td>\n      <td>0.00000</td>\n    </tr>\n    <tr>\n      <th>4</th>\n      <td>2.00000</td>\n      <td>0.00000</td>\n      <td>4.00000</td>\n      <td>0.00000</td>\n      <td>4.00000</td>\n      <td>0.00000</td>\n      <td>0.00000</td>\n      <td>1.00000</td>\n      <td>0.00000</td>\n      <td>0.00000</td>\n      <td>...</td>\n      <td>0.00000</td>\n      <td>1.00000</td>\n      <td>0.00000</td>\n      <td>0.00000</td>\n      <td>1.00000</td>\n      <td>1.00000</td>\n      <td>1.00000</td>\n      <td>1.00000</td>\n      <td>2.00000</td>\n      <td>0.00000</td>\n    </tr>\n    <tr>\n      <th>...</th>\n      <td>...</td>\n      <td>...</td>\n      <td>...</td>\n      <td>...</td>\n      <td>...</td>\n      <td>...</td>\n      <td>...</td>\n      <td>...</td>\n      <td>...</td>\n      <td>...</td>\n      <td>...</td>\n      <td>...</td>\n      <td>...</td>\n      <td>...</td>\n      <td>...</td>\n      <td>...</td>\n      <td>...</td>\n      <td>...</td>\n      <td>...</td>\n      <td>...</td>\n      <td>...</td>\n    </tr>\n    <tr>\n      <th>12874</th>\n      <td>2.00000</td>\n      <td>0.00000</td>\n      <td>3.00000</td>\n      <td>1.00000</td>\n      <td>4.00000</td>\n      <td>0.00000</td>\n      <td>100.00000</td>\n      <td>1.00000</td>\n      <td>0.00000</td>\n      <td>0.00000</td>\n      <td>...</td>\n      <td>0.00000</td>\n      <td>0.00000</td>\n      <td>0.00000</td>\n      <td>0.00000</td>\n      <td>1.00000</td>\n      <td>0.00000</td>\n      <td>0.00000</td>\n      <td>0.00000</td>\n      <td>-1.00000</td>\n      <td>0.00000</td>\n    </tr>\n    <tr>\n      <th>12875</th>\n      <td>2.00000</td>\n      <td>0.00000</td>\n      <td>2.00000</td>\n      <td>0.00000</td>\n      <td>2.00000</td>\n      <td>0.00000</td>\n      <td>100.00000</td>\n      <td>2.00000</td>\n      <td>0.00000</td>\n      <td>0.00000</td>\n      <td>...</td>\n      <td>0.00000</td>\n      <td>1.00000</td>\n      <td>1.00000</td>\n      <td>0.00000</td>\n      <td>1.00000</td>\n      <td>0.00000</td>\n      <td>0.00000</td>\n      <td>0.00000</td>\n      <td>-1.00000</td>\n      <td>0.00000</td>\n    </tr>\n    <tr>\n      <th>12876</th>\n      <td>2.00000</td>\n      <td>0.00000</td>\n      <td>2.00000</td>\n      <td>1.00000</td>\n      <td>4.00000</td>\n      <td>0.00000</td>\n      <td>100.00000</td>\n      <td>1.00000</td>\n      <td>1.00000</td>\n      <td>0.00000</td>\n      <td>...</td>\n      <td>0.00000</td>\n      <td>2.00000</td>\n      <td>1.00000</td>\n      <td>0.00000</td>\n      <td>1.00000</td>\n      <td>0.00000</td>\n      <td>0.00000</td>\n      <td>0.00000</td>\n      <td>-1.00000</td>\n      <td>0.00000</td>\n    </tr>\n    <tr>\n      <th>12877</th>\n      <td>2.00000</td>\n      <td>0.00000</td>\n      <td>2.00000</td>\n      <td>0.00000</td>\n      <td>2.00000</td>\n      <td>0.00000</td>\n      <td>100.00000</td>\n      <td>2.00000</td>\n      <td>0.00000</td>\n      <td>0.00000</td>\n      <td>...</td>\n      <td>0.00000</td>\n      <td>4.00000</td>\n      <td>1.00000</td>\n      <td>0.00000</td>\n      <td>1.00000</td>\n      <td>0.00000</td>\n      <td>0.00000</td>\n      <td>0.00000</td>\n      <td>-1.00000</td>\n      <td>0.00000</td>\n    </tr>\n    <tr>\n      <th>12878</th>\n      <td>2.00000</td>\n      <td>0.00000</td>\n      <td>2.00000</td>\n      <td>0.00000</td>\n      <td>1.00000</td>\n      <td>0.00000</td>\n      <td>100.00000</td>\n      <td>1.00000</td>\n      <td>0.00000</td>\n      <td>0.00000</td>\n      <td>...</td>\n      <td>1188750.00000</td>\n      <td>2.00000</td>\n      <td>0.00000</td>\n      <td>0.00000</td>\n      <td>1.00000</td>\n      <td>0.00000</td>\n      <td>0.00000</td>\n      <td>0.00000</td>\n      <td>-1.00000</td>\n      <td>0.00000</td>\n    </tr>\n  </tbody>\n</table>\n<p>12879 rows × 24 columns</p>\n</div>"
     },
     "metadata": {},
     "execution_count": 119
    }
   ],
   "source": [
    "from sklearn.impute import KNNImputer\n",
    "\n",
    "X_features['repair_cost'].replace(0, np.nan, inplace=True)\n",
    "imputer = KNNImputer(n_neighbors=2)\n",
    "\n",
    "#repair_cost에만 결측치 처리해줌 \n",
    "X_features_filled = pd.DataFrame(imputer.fit_transform(X_features))\n",
    "X_features_filled\n"
   ]
  },
  {
   "cell_type": "code",
   "execution_count": 120,
   "metadata": {},
   "outputs": [
    {
     "output_type": "execute_result",
     "data": {
      "text/plain": [
       "       component_1  component_2  component_3  target\n",
       "12874    -10.88514     -1.52303      0.97035       0\n",
       "12875    -10.88575     -1.68244     -0.27594       0\n",
       "12876    -10.88796     -1.53311      0.81870       0\n",
       "12877    -10.88830     -1.63437      0.10646       0\n",
       "12878    -10.90643      0.45217     -0.34569       0"
      ],
      "text/html": "<div>\n<style scoped>\n    .dataframe tbody tr th:only-of-type {\n        vertical-align: middle;\n    }\n\n    .dataframe tbody tr th {\n        vertical-align: top;\n    }\n\n    .dataframe thead th {\n        text-align: right;\n    }\n</style>\n<table border=\"1\" class=\"dataframe\">\n  <thead>\n    <tr style=\"text-align: right;\">\n      <th></th>\n      <th>component_1</th>\n      <th>component_2</th>\n      <th>component_3</th>\n      <th>target</th>\n    </tr>\n  </thead>\n  <tbody>\n    <tr>\n      <th>12874</th>\n      <td>-10.88514</td>\n      <td>-1.52303</td>\n      <td>0.97035</td>\n      <td>0</td>\n    </tr>\n    <tr>\n      <th>12875</th>\n      <td>-10.88575</td>\n      <td>-1.68244</td>\n      <td>-0.27594</td>\n      <td>0</td>\n    </tr>\n    <tr>\n      <th>12876</th>\n      <td>-10.88796</td>\n      <td>-1.53311</td>\n      <td>0.81870</td>\n      <td>0</td>\n    </tr>\n    <tr>\n      <th>12877</th>\n      <td>-10.88830</td>\n      <td>-1.63437</td>\n      <td>0.10646</td>\n      <td>0</td>\n    </tr>\n    <tr>\n      <th>12878</th>\n      <td>-10.90643</td>\n      <td>0.45217</td>\n      <td>-0.34569</td>\n      <td>0</td>\n    </tr>\n  </tbody>\n</table>\n</div>"
     },
     "metadata": {},
     "execution_count": 120
    }
   ],
   "source": [
    "from sklearn.decomposition import PCA\n",
    "from sklearn.preprocessing import RobustScaler\n",
    "\n",
    "scaler = RobustScaler()\n",
    "df_scaled = scaler.fit_transform(X_features_filled)\n",
    "\n",
    "pca = PCA(n_components=3)\n",
    "pca.fit(df_scaled)\n",
    "df_pca = pca.transform(df_scaled)\n",
    "\n",
    "pca_columns = ['component_1','component_2','component_3']\n",
    "\n",
    "DF_pca = pd.DataFrame(df_pca, columns=pca_columns)\n",
    "DF_pca['target'] = y_target \n",
    "DF_pca.tail()\n"
   ]
  },
  {
   "cell_type": "code",
   "execution_count": 121,
   "metadata": {},
   "outputs": [
    {
     "output_type": "execute_result",
     "data": {
      "text/plain": [
       "              Accuracy  precision  recall      f1     roc\n",
       "LogiReg        0.99728    0.00000 0.00000 0.00000 0.50000\n",
       "DecisionTree   0.99728    0.00000 0.00000 0.00000 0.50000\n",
       "RandomFore     0.99728    0.00000 0.00000 0.00000 0.50000\n",
       "LGBM           0.99689    0.00000 0.00000 0.00000 0.49981\n",
       "SVC            0.99728    0.00000 0.00000 0.00000 0.50000"
      ],
      "text/html": "<div>\n<style scoped>\n    .dataframe tbody tr th:only-of-type {\n        vertical-align: middle;\n    }\n\n    .dataframe tbody tr th {\n        vertical-align: top;\n    }\n\n    .dataframe thead th {\n        text-align: right;\n    }\n</style>\n<table border=\"1\" class=\"dataframe\">\n  <thead>\n    <tr style=\"text-align: right;\">\n      <th></th>\n      <th>Accuracy</th>\n      <th>precision</th>\n      <th>recall</th>\n      <th>f1</th>\n      <th>roc</th>\n    </tr>\n  </thead>\n  <tbody>\n    <tr>\n      <th>LogiReg</th>\n      <td>0.99728</td>\n      <td>0.00000</td>\n      <td>0.00000</td>\n      <td>0.00000</td>\n      <td>0.50000</td>\n    </tr>\n    <tr>\n      <th>DecisionTree</th>\n      <td>0.99728</td>\n      <td>0.00000</td>\n      <td>0.00000</td>\n      <td>0.00000</td>\n      <td>0.50000</td>\n    </tr>\n    <tr>\n      <th>RandomFore</th>\n      <td>0.99728</td>\n      <td>0.00000</td>\n      <td>0.00000</td>\n      <td>0.00000</td>\n      <td>0.50000</td>\n    </tr>\n    <tr>\n      <th>LGBM</th>\n      <td>0.99689</td>\n      <td>0.00000</td>\n      <td>0.00000</td>\n      <td>0.00000</td>\n      <td>0.49981</td>\n    </tr>\n    <tr>\n      <th>SVC</th>\n      <td>0.99728</td>\n      <td>0.00000</td>\n      <td>0.00000</td>\n      <td>0.00000</td>\n      <td>0.50000</td>\n    </tr>\n  </tbody>\n</table>\n</div>"
     },
     "metadata": {},
     "execution_count": 121
    }
   ],
   "source": [
    "y_target = DF_pca['target']\n",
    "X_features = DF_pca.drop('target', axis= 1)\n",
    "\n",
    "\n",
    "X_train, X_valid, y_train, y_valid = train_test_split(X_features, y_target, test_size =0.2, random_state=13, stratify= y_target)\n",
    "\n",
    "# 모델 객체 생성 \n",
    "lr_clf = LogisticRegression(random_state=13)\n",
    "dt_clf = DecisionTreeClassifier(random_state=13, max_depth=4)\n",
    "rf_clf = RandomForestClassifier(random_state=13, n_jobs = -1, n_estimators= 100 )\n",
    "lgbm_clf = LGBMClassifier(n_estimators=1000, num_leaves=64, n_jobs=-1, boost_from_average = False)\n",
    "svm_clf = LinearSVC()\n",
    "\n",
    "# 학습 진행 \n",
    "models=[lr_clf,dt_clf,rf_clf,lgbm_clf,svm_clf] \n",
    "model_names = ['LogiReg', 'DecisionTree', 'RandomFore','LGBM','SVC']\n",
    "results = get_result_df(models, model_names, X_train, y_train, X_valid, y_valid)\n",
    "results \n"
   ]
  },
  {
   "cell_type": "code",
   "execution_count": 122,
   "metadata": {},
   "outputs": [
    {
     "output_type": "stream",
     "name": "stdout",
     "text": [
      "              Accuracy  precision  recall      f1     roc\nLogiReg        0.13936    0.00270 0.85714 0.00538 0.49728\nDecisionTree   0.85443    0.00270 0.14286 0.00531 0.49961\nRandomFore     0.93323    0.00599 0.14286 0.01149 0.53912\nLGBM           0.91925    0.00493 0.14286 0.00952 0.53211\nSVC            0.13936    0.00270 0.85714 0.00538 0.49728\n              Accuracy  precision  recall      f1     roc\nLogiReg        0.13936    0.00270 0.85714 0.00538 0.49728\nDecisionTree   0.78494    0.00363 0.28571 0.00717 0.53601\nRandomFore     0.93168    0.00585 0.14286 0.01124 0.53834\nLGBM           0.91615    0.00474 0.14286 0.00917 0.53056\nSVC            0.13936    0.00270 0.85714 0.00538 0.49728\n              Accuracy  precision  recall      f1     roc\nLogiReg        0.50194    0.00312 0.57143 0.00620 0.53659\nDecisionTree   0.53533    0.00334 0.57143 0.00664 0.55333\nRandomFore     0.42197    0.00402 0.85714 0.00799 0.63896\nLGBM           0.45691    0.00215 0.42857 0.00427 0.44278\nSVC            0.21157    0.00295 0.85714 0.00587 0.53348\n              Accuracy  precision  recall      f1     roc\nLogiReg        0.13936    0.00270 0.85714 0.00538 0.49728\nDecisionTree   0.57648    0.00366 0.57143 0.00728 0.57396\nRandomFore     0.88975    0.00712 0.28571 0.01389 0.58856\nLGBM           0.87306    0.00617 0.28571 0.01208 0.58019\nSVC            0.13936    0.00270 0.85714 0.00538 0.49728\n              Accuracy  precision  recall      f1     roc\nLogiReg        0.33773    0.00293 0.71429 0.00583 0.52550\nDecisionTree   0.87034    0.00304 0.14286 0.00595 0.50759\nRandomFore     0.99728    0.00000 0.00000 0.00000 0.50000\nLGBM           0.99651    0.00000 0.00000 0.00000 0.49961\nSVC            0.13936    0.00270 0.85714 0.00538 0.49728\n"
     ]
    }
   ],
   "source": [
    "#### 샘플링별 확인 \n",
    "from imblearn.over_sampling import SMOTE\n",
    "from imblearn.over_sampling import ADASYN\n",
    "from imblearn.under_sampling import RandomUnderSampler\n",
    "from imblearn.combine import SMOTEENN\n",
    "from imblearn.over_sampling import RandomOverSampler\n",
    "\n",
    "smt = SMOTE(random_state=13)\n",
    "X_train_smt, y_train_smt = smt.fit_sample(X_train, y_train)\n",
    "\n",
    "ads = ADASYN(random_state=13)\n",
    "X_train_ads, y_train_ads = ads.fit_sample(X_train, y_train)\n",
    "\n",
    "rud = RandomUnderSampler(random_state=13)\n",
    "X_train_rud, y_train_rud = rud.fit_sample(X_train, y_train)\n",
    "\n",
    "sme = SMOTEENN(random_state=13)\n",
    "X_train_sme, y_train_sme = sme.fit_sample(X_train, y_train)\n",
    "\n",
    "rov = RandomOverSampler(random_state=13)\n",
    "X_train_rov, y_train_rov = rov.fit_sample(X_train, y_train)\n",
    "\n",
    "model_names = ['LogiReg', 'DecisionTree', 'RandomFore','LGBM','SVC']\n",
    "\n",
    "results_smt = get_result_df(models, model_names, X_train_smt, y_train_smt, X_valid, y_valid)\n",
    "results_ads = get_result_df(models, model_names, X_train_ads, y_train_ads, X_valid, y_valid)\n",
    "results_rud = get_result_df(models, model_names, X_train_rud, y_train_rud, X_valid, y_valid)\n",
    "results_sme = get_result_df(models, model_names, X_train_sme, y_train_sme, X_valid, y_valid)\n",
    "results_rov = get_result_df(models, model_names, X_train_rov, y_train_rov, X_valid, y_valid)\n",
    "\n",
    "\n",
    "print(results_smt)\n",
    "print(results_ads)\n",
    "print(results_rud)\n",
    "print(results_sme)\n",
    "print(results_rov)"
   ]
  },
  {
   "cell_type": "code",
   "execution_count": 127,
   "metadata": {},
   "outputs": [
    {
     "output_type": "execute_result",
     "data": {
      "text/plain": [
       "              Accuracy  precision  recall      f1     roc\n",
       "LogiReg        0.33773    0.00293 0.71429 0.00583 0.52550\n",
       "DecisionTree   0.87034    0.00304 0.14286 0.00595 0.50759\n",
       "RandomFore     0.99728    0.00000 0.00000 0.00000 0.50000\n",
       "LGBM           0.99651    0.00000 0.00000 0.00000 0.49961\n",
       "SVC            0.13936    0.00270 0.85714 0.00538 0.49728"
      ],
      "text/html": "<div>\n<style scoped>\n    .dataframe tbody tr th:only-of-type {\n        vertical-align: middle;\n    }\n\n    .dataframe tbody tr th {\n        vertical-align: top;\n    }\n\n    .dataframe thead th {\n        text-align: right;\n    }\n</style>\n<table border=\"1\" class=\"dataframe\">\n  <thead>\n    <tr style=\"text-align: right;\">\n      <th></th>\n      <th>Accuracy</th>\n      <th>precision</th>\n      <th>recall</th>\n      <th>f1</th>\n      <th>roc</th>\n    </tr>\n  </thead>\n  <tbody>\n    <tr>\n      <th>LogiReg</th>\n      <td>0.33773</td>\n      <td>0.00293</td>\n      <td>0.71429</td>\n      <td>0.00583</td>\n      <td>0.52550</td>\n    </tr>\n    <tr>\n      <th>DecisionTree</th>\n      <td>0.87034</td>\n      <td>0.00304</td>\n      <td>0.14286</td>\n      <td>0.00595</td>\n      <td>0.50759</td>\n    </tr>\n    <tr>\n      <th>RandomFore</th>\n      <td>0.99728</td>\n      <td>0.00000</td>\n      <td>0.00000</td>\n      <td>0.00000</td>\n      <td>0.50000</td>\n    </tr>\n    <tr>\n      <th>LGBM</th>\n      <td>0.99651</td>\n      <td>0.00000</td>\n      <td>0.00000</td>\n      <td>0.00000</td>\n      <td>0.49961</td>\n    </tr>\n    <tr>\n      <th>SVC</th>\n      <td>0.13936</td>\n      <td>0.00270</td>\n      <td>0.85714</td>\n      <td>0.00538</td>\n      <td>0.49728</td>\n    </tr>\n  </tbody>\n</table>\n</div>"
     },
     "metadata": {},
     "execution_count": 127
    }
   ],
   "source": [
    "results_rov"
   ]
  },
  {
   "source": [
    "## Trial#6\n",
    "## 변수삭제 원핫인코딩 결측치처리 처리방안 PCA\n",
    "## 삭제안함 적용안함 repair cost KNN 4"
   ],
   "cell_type": "markdown",
   "metadata": {}
  },
  {
   "cell_type": "code",
   "execution_count": 128,
   "metadata": {},
   "outputs": [],
   "source": [
    "df_7 = df.copy()\n",
    "\n",
    "y_target = df_7['fraud_YN']\n",
    "X_features = df_7.drop('fraud_YN', axis=1)\n",
    "\n",
    "y_target = df_7['fraud_YN'].reset_index()\n",
    "y_target = y_target.drop('index', axis=1)"
   ]
  },
  {
   "cell_type": "code",
   "execution_count": 129,
   "metadata": {},
   "outputs": [
    {
     "output_type": "execute_result",
     "data": {
      "text/plain": [
       "           0       1       2       3       4       5         6       7   \\\n",
       "0     2.00000 1.00000 3.00000 0.00000 2.00000 0.00000 100.00000 2.00000   \n",
       "1     3.00000 1.00000 3.00000 0.00000 4.00000 0.00000   0.00000 2.00000   \n",
       "2     1.00000 0.00000 1.00000 0.00000 1.00000 0.00000 100.00000 1.00000   \n",
       "3     1.00000 1.00000 3.00000 0.00000 4.00000 0.00000 100.00000 3.00000   \n",
       "4     2.00000 0.00000 4.00000 0.00000 4.00000 0.00000   0.00000 1.00000   \n",
       "...       ...     ...     ...     ...     ...     ...       ...     ...   \n",
       "12874 2.00000 0.00000 3.00000 1.00000 4.00000 0.00000 100.00000 1.00000   \n",
       "12875 2.00000 0.00000 2.00000 0.00000 2.00000 0.00000 100.00000 2.00000   \n",
       "12876 2.00000 0.00000 2.00000 1.00000 4.00000 0.00000 100.00000 1.00000   \n",
       "12877 2.00000 0.00000 2.00000 0.00000 2.00000 0.00000 100.00000 2.00000   \n",
       "12878 2.00000 0.00000 2.00000 0.00000 1.00000 0.00000 100.00000 1.00000   \n",
       "\n",
       "           8       9   ...            14      15      16      17      18  \\\n",
       "0     0.00000 0.00000  ...       0.00000 1.00000 0.00000 0.00000 1.00000   \n",
       "1     0.00000 0.00000  ...       0.00000 3.00000 1.00000 0.00000 1.00000   \n",
       "2     0.00000 0.00000  ... 1209410.00000 1.00000 0.00000 0.00000 2.00000   \n",
       "3     0.00000 0.00000  ... 1217280.00000 0.00000 0.00000 0.00000 1.00000   \n",
       "4     0.00000 0.00000  ...       0.00000 1.00000 0.00000 0.00000 1.00000   \n",
       "...       ...     ...  ...           ...     ...     ...     ...     ...   \n",
       "12874 0.00000 0.00000  ...       0.00000 0.00000 0.00000 0.00000 1.00000   \n",
       "12875 0.00000 0.00000  ...       0.00000 1.00000 1.00000 0.00000 1.00000   \n",
       "12876 1.00000 0.00000  ...       0.00000 2.00000 1.00000 0.00000 1.00000   \n",
       "12877 0.00000 0.00000  ...       0.00000 4.00000 1.00000 0.00000 1.00000   \n",
       "12878 0.00000 0.00000  ... 1188750.00000 2.00000 0.00000 0.00000 1.00000   \n",
       "\n",
       "           19      20      21       22      23  \n",
       "0     0.00000 0.00000 0.00000 -1.00000 0.00000  \n",
       "1     0.00000 0.00000 0.00000 -1.00000 0.00000  \n",
       "2     0.00000 0.00000 0.00000 -1.00000 0.00000  \n",
       "3     1.00000 2.00000 1.00000  2.00000 0.00000  \n",
       "4     1.00000 1.00000 1.00000  2.00000 0.00000  \n",
       "...       ...     ...     ...      ...     ...  \n",
       "12874 0.00000 0.00000 0.00000 -1.00000 0.00000  \n",
       "12875 0.00000 0.00000 0.00000 -1.00000 0.00000  \n",
       "12876 0.00000 0.00000 0.00000 -1.00000 0.00000  \n",
       "12877 0.00000 0.00000 0.00000 -1.00000 0.00000  \n",
       "12878 0.00000 0.00000 0.00000 -1.00000 0.00000  \n",
       "\n",
       "[12879 rows x 24 columns]"
      ],
      "text/html": "<div>\n<style scoped>\n    .dataframe tbody tr th:only-of-type {\n        vertical-align: middle;\n    }\n\n    .dataframe tbody tr th {\n        vertical-align: top;\n    }\n\n    .dataframe thead th {\n        text-align: right;\n    }\n</style>\n<table border=\"1\" class=\"dataframe\">\n  <thead>\n    <tr style=\"text-align: right;\">\n      <th></th>\n      <th>0</th>\n      <th>1</th>\n      <th>2</th>\n      <th>3</th>\n      <th>4</th>\n      <th>5</th>\n      <th>6</th>\n      <th>7</th>\n      <th>8</th>\n      <th>9</th>\n      <th>...</th>\n      <th>14</th>\n      <th>15</th>\n      <th>16</th>\n      <th>17</th>\n      <th>18</th>\n      <th>19</th>\n      <th>20</th>\n      <th>21</th>\n      <th>22</th>\n      <th>23</th>\n    </tr>\n  </thead>\n  <tbody>\n    <tr>\n      <th>0</th>\n      <td>2.00000</td>\n      <td>1.00000</td>\n      <td>3.00000</td>\n      <td>0.00000</td>\n      <td>2.00000</td>\n      <td>0.00000</td>\n      <td>100.00000</td>\n      <td>2.00000</td>\n      <td>0.00000</td>\n      <td>0.00000</td>\n      <td>...</td>\n      <td>0.00000</td>\n      <td>1.00000</td>\n      <td>0.00000</td>\n      <td>0.00000</td>\n      <td>1.00000</td>\n      <td>0.00000</td>\n      <td>0.00000</td>\n      <td>0.00000</td>\n      <td>-1.00000</td>\n      <td>0.00000</td>\n    </tr>\n    <tr>\n      <th>1</th>\n      <td>3.00000</td>\n      <td>1.00000</td>\n      <td>3.00000</td>\n      <td>0.00000</td>\n      <td>4.00000</td>\n      <td>0.00000</td>\n      <td>0.00000</td>\n      <td>2.00000</td>\n      <td>0.00000</td>\n      <td>0.00000</td>\n      <td>...</td>\n      <td>0.00000</td>\n      <td>3.00000</td>\n      <td>1.00000</td>\n      <td>0.00000</td>\n      <td>1.00000</td>\n      <td>0.00000</td>\n      <td>0.00000</td>\n      <td>0.00000</td>\n      <td>-1.00000</td>\n      <td>0.00000</td>\n    </tr>\n    <tr>\n      <th>2</th>\n      <td>1.00000</td>\n      <td>0.00000</td>\n      <td>1.00000</td>\n      <td>0.00000</td>\n      <td>1.00000</td>\n      <td>0.00000</td>\n      <td>100.00000</td>\n      <td>1.00000</td>\n      <td>0.00000</td>\n      <td>0.00000</td>\n      <td>...</td>\n      <td>1209410.00000</td>\n      <td>1.00000</td>\n      <td>0.00000</td>\n      <td>0.00000</td>\n      <td>2.00000</td>\n      <td>0.00000</td>\n      <td>0.00000</td>\n      <td>0.00000</td>\n      <td>-1.00000</td>\n      <td>0.00000</td>\n    </tr>\n    <tr>\n      <th>3</th>\n      <td>1.00000</td>\n      <td>1.00000</td>\n      <td>3.00000</td>\n      <td>0.00000</td>\n      <td>4.00000</td>\n      <td>0.00000</td>\n      <td>100.00000</td>\n      <td>3.00000</td>\n      <td>0.00000</td>\n      <td>0.00000</td>\n      <td>...</td>\n      <td>1217280.00000</td>\n      <td>0.00000</td>\n      <td>0.00000</td>\n      <td>0.00000</td>\n      <td>1.00000</td>\n      <td>1.00000</td>\n      <td>2.00000</td>\n      <td>1.00000</td>\n      <td>2.00000</td>\n      <td>0.00000</td>\n    </tr>\n    <tr>\n      <th>4</th>\n      <td>2.00000</td>\n      <td>0.00000</td>\n      <td>4.00000</td>\n      <td>0.00000</td>\n      <td>4.00000</td>\n      <td>0.00000</td>\n      <td>0.00000</td>\n      <td>1.00000</td>\n      <td>0.00000</td>\n      <td>0.00000</td>\n      <td>...</td>\n      <td>0.00000</td>\n      <td>1.00000</td>\n      <td>0.00000</td>\n      <td>0.00000</td>\n      <td>1.00000</td>\n      <td>1.00000</td>\n      <td>1.00000</td>\n      <td>1.00000</td>\n      <td>2.00000</td>\n      <td>0.00000</td>\n    </tr>\n    <tr>\n      <th>...</th>\n      <td>...</td>\n      <td>...</td>\n      <td>...</td>\n      <td>...</td>\n      <td>...</td>\n      <td>...</td>\n      <td>...</td>\n      <td>...</td>\n      <td>...</td>\n      <td>...</td>\n      <td>...</td>\n      <td>...</td>\n      <td>...</td>\n      <td>...</td>\n      <td>...</td>\n      <td>...</td>\n      <td>...</td>\n      <td>...</td>\n      <td>...</td>\n      <td>...</td>\n      <td>...</td>\n    </tr>\n    <tr>\n      <th>12874</th>\n      <td>2.00000</td>\n      <td>0.00000</td>\n      <td>3.00000</td>\n      <td>1.00000</td>\n      <td>4.00000</td>\n      <td>0.00000</td>\n      <td>100.00000</td>\n      <td>1.00000</td>\n      <td>0.00000</td>\n      <td>0.00000</td>\n      <td>...</td>\n      <td>0.00000</td>\n      <td>0.00000</td>\n      <td>0.00000</td>\n      <td>0.00000</td>\n      <td>1.00000</td>\n      <td>0.00000</td>\n      <td>0.00000</td>\n      <td>0.00000</td>\n      <td>-1.00000</td>\n      <td>0.00000</td>\n    </tr>\n    <tr>\n      <th>12875</th>\n      <td>2.00000</td>\n      <td>0.00000</td>\n      <td>2.00000</td>\n      <td>0.00000</td>\n      <td>2.00000</td>\n      <td>0.00000</td>\n      <td>100.00000</td>\n      <td>2.00000</td>\n      <td>0.00000</td>\n      <td>0.00000</td>\n      <td>...</td>\n      <td>0.00000</td>\n      <td>1.00000</td>\n      <td>1.00000</td>\n      <td>0.00000</td>\n      <td>1.00000</td>\n      <td>0.00000</td>\n      <td>0.00000</td>\n      <td>0.00000</td>\n      <td>-1.00000</td>\n      <td>0.00000</td>\n    </tr>\n    <tr>\n      <th>12876</th>\n      <td>2.00000</td>\n      <td>0.00000</td>\n      <td>2.00000</td>\n      <td>1.00000</td>\n      <td>4.00000</td>\n      <td>0.00000</td>\n      <td>100.00000</td>\n      <td>1.00000</td>\n      <td>1.00000</td>\n      <td>0.00000</td>\n      <td>...</td>\n      <td>0.00000</td>\n      <td>2.00000</td>\n      <td>1.00000</td>\n      <td>0.00000</td>\n      <td>1.00000</td>\n      <td>0.00000</td>\n      <td>0.00000</td>\n      <td>0.00000</td>\n      <td>-1.00000</td>\n      <td>0.00000</td>\n    </tr>\n    <tr>\n      <th>12877</th>\n      <td>2.00000</td>\n      <td>0.00000</td>\n      <td>2.00000</td>\n      <td>0.00000</td>\n      <td>2.00000</td>\n      <td>0.00000</td>\n      <td>100.00000</td>\n      <td>2.00000</td>\n      <td>0.00000</td>\n      <td>0.00000</td>\n      <td>...</td>\n      <td>0.00000</td>\n      <td>4.00000</td>\n      <td>1.00000</td>\n      <td>0.00000</td>\n      <td>1.00000</td>\n      <td>0.00000</td>\n      <td>0.00000</td>\n      <td>0.00000</td>\n      <td>-1.00000</td>\n      <td>0.00000</td>\n    </tr>\n    <tr>\n      <th>12878</th>\n      <td>2.00000</td>\n      <td>0.00000</td>\n      <td>2.00000</td>\n      <td>0.00000</td>\n      <td>1.00000</td>\n      <td>0.00000</td>\n      <td>100.00000</td>\n      <td>1.00000</td>\n      <td>0.00000</td>\n      <td>0.00000</td>\n      <td>...</td>\n      <td>1188750.00000</td>\n      <td>2.00000</td>\n      <td>0.00000</td>\n      <td>0.00000</td>\n      <td>1.00000</td>\n      <td>0.00000</td>\n      <td>0.00000</td>\n      <td>0.00000</td>\n      <td>-1.00000</td>\n      <td>0.00000</td>\n    </tr>\n  </tbody>\n</table>\n<p>12879 rows × 24 columns</p>\n</div>"
     },
     "metadata": {},
     "execution_count": 129
    }
   ],
   "source": [
    "from sklearn.impute import KNNImputer\n",
    "\n",
    "X_features['repair_cost'].replace(0, np.nan, inplace=True)\n",
    "imputer = KNNImputer(n_neighbors=2)\n",
    "\n",
    "#repair_cost에만 결측치 처리해줌 \n",
    "X_features_filled = pd.DataFrame(imputer.fit_transform(X_features))\n",
    "X_features_filled\n"
   ]
  },
  {
   "cell_type": "code",
   "execution_count": 131,
   "metadata": {},
   "outputs": [
    {
     "output_type": "execute_result",
     "data": {
      "text/plain": [
       "       component_1  component_2  component_3  component_4  target\n",
       "12874    -10.88514     -1.52303      0.97034     -0.72588       0\n",
       "12875    -10.88575     -1.68244     -0.27594      0.05003       0\n",
       "12876    -10.88796     -1.53311      0.81870     -0.10719       0\n",
       "12877    -10.88830     -1.63437      0.10646     -0.08724       0\n",
       "12878    -10.90643      0.45217     -0.34569     -0.20355       0"
      ],
      "text/html": "<div>\n<style scoped>\n    .dataframe tbody tr th:only-of-type {\n        vertical-align: middle;\n    }\n\n    .dataframe tbody tr th {\n        vertical-align: top;\n    }\n\n    .dataframe thead th {\n        text-align: right;\n    }\n</style>\n<table border=\"1\" class=\"dataframe\">\n  <thead>\n    <tr style=\"text-align: right;\">\n      <th></th>\n      <th>component_1</th>\n      <th>component_2</th>\n      <th>component_3</th>\n      <th>component_4</th>\n      <th>target</th>\n    </tr>\n  </thead>\n  <tbody>\n    <tr>\n      <th>12874</th>\n      <td>-10.88514</td>\n      <td>-1.52303</td>\n      <td>0.97034</td>\n      <td>-0.72588</td>\n      <td>0</td>\n    </tr>\n    <tr>\n      <th>12875</th>\n      <td>-10.88575</td>\n      <td>-1.68244</td>\n      <td>-0.27594</td>\n      <td>0.05003</td>\n      <td>0</td>\n    </tr>\n    <tr>\n      <th>12876</th>\n      <td>-10.88796</td>\n      <td>-1.53311</td>\n      <td>0.81870</td>\n      <td>-0.10719</td>\n      <td>0</td>\n    </tr>\n    <tr>\n      <th>12877</th>\n      <td>-10.88830</td>\n      <td>-1.63437</td>\n      <td>0.10646</td>\n      <td>-0.08724</td>\n      <td>0</td>\n    </tr>\n    <tr>\n      <th>12878</th>\n      <td>-10.90643</td>\n      <td>0.45217</td>\n      <td>-0.34569</td>\n      <td>-0.20355</td>\n      <td>0</td>\n    </tr>\n  </tbody>\n</table>\n</div>"
     },
     "metadata": {},
     "execution_count": 131
    }
   ],
   "source": [
    "from sklearn.decomposition import PCA\n",
    "from sklearn.preprocessing import RobustScaler\n",
    "\n",
    "scaler = RobustScaler()\n",
    "df_scaled = scaler.fit_transform(X_features_filled)\n",
    "\n",
    "pca = PCA(n_components=4)\n",
    "pca.fit(df_scaled)\n",
    "df_pca = pca.transform(df_scaled)\n",
    "\n",
    "pca_columns = ['component_1','component_2','component_3','component_4']\n",
    "\n",
    "DF_pca = pd.DataFrame(df_pca, columns=pca_columns)\n",
    "DF_pca['target'] = y_target \n",
    "DF_pca.tail()\n"
   ]
  },
  {
   "cell_type": "code",
   "execution_count": 132,
   "metadata": {},
   "outputs": [
    {
     "output_type": "execute_result",
     "data": {
      "text/plain": [
       "              Accuracy  precision  recall      f1     roc\n",
       "LogiReg        0.99728    0.00000 0.00000 0.00000 0.50000\n",
       "DecisionTree   0.99651    0.00000 0.00000 0.00000 0.49961\n",
       "RandomFore     0.99728    0.00000 0.00000 0.00000 0.50000\n",
       "LGBM           0.99728    0.00000 0.00000 0.00000 0.50000\n",
       "SVC            0.99728    0.00000 0.00000 0.00000 0.50000"
      ],
      "text/html": "<div>\n<style scoped>\n    .dataframe tbody tr th:only-of-type {\n        vertical-align: middle;\n    }\n\n    .dataframe tbody tr th {\n        vertical-align: top;\n    }\n\n    .dataframe thead th {\n        text-align: right;\n    }\n</style>\n<table border=\"1\" class=\"dataframe\">\n  <thead>\n    <tr style=\"text-align: right;\">\n      <th></th>\n      <th>Accuracy</th>\n      <th>precision</th>\n      <th>recall</th>\n      <th>f1</th>\n      <th>roc</th>\n    </tr>\n  </thead>\n  <tbody>\n    <tr>\n      <th>LogiReg</th>\n      <td>0.99728</td>\n      <td>0.00000</td>\n      <td>0.00000</td>\n      <td>0.00000</td>\n      <td>0.50000</td>\n    </tr>\n    <tr>\n      <th>DecisionTree</th>\n      <td>0.99651</td>\n      <td>0.00000</td>\n      <td>0.00000</td>\n      <td>0.00000</td>\n      <td>0.49961</td>\n    </tr>\n    <tr>\n      <th>RandomFore</th>\n      <td>0.99728</td>\n      <td>0.00000</td>\n      <td>0.00000</td>\n      <td>0.00000</td>\n      <td>0.50000</td>\n    </tr>\n    <tr>\n      <th>LGBM</th>\n      <td>0.99728</td>\n      <td>0.00000</td>\n      <td>0.00000</td>\n      <td>0.00000</td>\n      <td>0.50000</td>\n    </tr>\n    <tr>\n      <th>SVC</th>\n      <td>0.99728</td>\n      <td>0.00000</td>\n      <td>0.00000</td>\n      <td>0.00000</td>\n      <td>0.50000</td>\n    </tr>\n  </tbody>\n</table>\n</div>"
     },
     "metadata": {},
     "execution_count": 132
    }
   ],
   "source": [
    "y_target = DF_pca['target']\n",
    "X_features = DF_pca.drop('target', axis= 1)\n",
    "\n",
    "\n",
    "X_train, X_valid, y_train, y_valid = train_test_split(X_features, y_target, test_size =0.2, random_state=13, stratify= y_target)\n",
    "\n",
    "# 모델 객체 생성 \n",
    "lr_clf = LogisticRegression(random_state=13)\n",
    "dt_clf = DecisionTreeClassifier(random_state=13, max_depth=4)\n",
    "rf_clf = RandomForestClassifier(random_state=13, n_jobs = -1, n_estimators= 100 )\n",
    "lgbm_clf = LGBMClassifier(n_estimators=1000, num_leaves=64, n_jobs=-1, boost_from_average = False)\n",
    "svm_clf = LinearSVC()\n",
    "\n",
    "# 학습 진행 \n",
    "models=[lr_clf,dt_clf,rf_clf,lgbm_clf,svm_clf] \n",
    "model_names = ['LogiReg', 'DecisionTree', 'RandomFore','LGBM','SVC']\n",
    "results = get_result_df(models, model_names, X_train, y_train, X_valid, y_valid)\n",
    "results \n"
   ]
  },
  {
   "cell_type": "code",
   "execution_count": 133,
   "metadata": {},
   "outputs": [
    {
     "output_type": "stream",
     "name": "stdout",
     "text": [
      "              Accuracy  precision  recall      f1     roc\nLogiReg        0.64092    0.00432 0.57143 0.00857 0.60627\nDecisionTree   0.47516    0.00369 0.71429 0.00734 0.59439\nRandomFore     0.96196    0.00000 0.00000 0.00000 0.48229\nLGBM           0.96584    0.00000 0.00000 0.00000 0.48424\nSVC            0.62500    0.00414 0.57143 0.00821 0.59829\n              Accuracy  precision  recall      f1     roc\nLogiReg        0.64286    0.00434 0.57143 0.00862 0.60724\nDecisionTree   0.59977    0.00291 0.42857 0.00579 0.51440\nRandomFore     0.96118    0.00000 0.00000 0.00000 0.48190\nLGBM           0.96623    0.00000 0.00000 0.00000 0.48443\nSVC            0.63781    0.00428 0.57143 0.00850 0.60471\n              Accuracy  precision  recall      f1     roc\nLogiReg        0.65528    0.00450 0.57143 0.00893 0.61347\nDecisionTree   0.68866    0.00498 0.57143 0.00988 0.63021\nRandomFore     0.51281    0.00318 0.57143 0.00633 0.54204\nLGBM           0.51398    0.00398 0.71429 0.00792 0.61386\nSVC            0.66188    0.00345 0.42857 0.00684 0.54554\n              Accuracy  precision  recall      f1     roc\nLogiReg        0.49340    0.00306 0.57143 0.00609 0.53231\nDecisionTree   0.50738    0.00237 0.42857 0.00471 0.46808\nRandomFore     0.94061    0.00000 0.00000 0.00000 0.47158\nLGBM           0.93866    0.00000 0.00000 0.00000 0.47061\nSVC            0.60287    0.00391 0.57143 0.00776 0.58719\n              Accuracy  precision  recall      f1     roc\nLogiReg        0.63859    0.00323 0.42857 0.00640 0.53387\nDecisionTree   0.88005    0.00974 0.42857 0.01905 0.65492\nRandomFore     0.99728    0.00000 0.00000 0.00000 0.50000\nLGBM           0.99689    0.00000 0.00000 0.00000 0.49981\nSVC            0.65256    0.00336 0.42857 0.00666 0.54087\n"
     ]
    }
   ],
   "source": [
    "#### 샘플링별 확인 \n",
    "from imblearn.over_sampling import SMOTE\n",
    "from imblearn.over_sampling import ADASYN\n",
    "from imblearn.under_sampling import RandomUnderSampler\n",
    "from imblearn.combine import SMOTEENN\n",
    "from imblearn.over_sampling import RandomOverSampler\n",
    "\n",
    "smt = SMOTE(random_state=13)\n",
    "X_train_smt, y_train_smt = smt.fit_sample(X_train, y_train)\n",
    "\n",
    "ads = ADASYN(random_state=13)\n",
    "X_train_ads, y_train_ads = ads.fit_sample(X_train, y_train)\n",
    "\n",
    "rud = RandomUnderSampler(random_state=13)\n",
    "X_train_rud, y_train_rud = rud.fit_sample(X_train, y_train)\n",
    "\n",
    "sme = SMOTEENN(random_state=13)\n",
    "X_train_sme, y_train_sme = sme.fit_sample(X_train, y_train)\n",
    "\n",
    "rov = RandomOverSampler(random_state=13)\n",
    "X_train_rov, y_train_rov = rov.fit_sample(X_train, y_train)\n",
    "\n",
    "model_names = ['LogiReg', 'DecisionTree', 'RandomFore','LGBM','SVC']\n",
    "\n",
    "results_smt = get_result_df(models, model_names, X_train_smt, y_train_smt, X_valid, y_valid)\n",
    "results_ads = get_result_df(models, model_names, X_train_ads, y_train_ads, X_valid, y_valid)\n",
    "results_rud = get_result_df(models, model_names, X_train_rud, y_train_rud, X_valid, y_valid)\n",
    "results_sme = get_result_df(models, model_names, X_train_sme, y_train_sme, X_valid, y_valid)\n",
    "results_rov = get_result_df(models, model_names, X_train_rov, y_train_rov, X_valid, y_valid)\n",
    "\n",
    "\n",
    "print(results_smt)\n",
    "print(results_ads)\n",
    "print(results_rud)\n",
    "print(results_sme)\n",
    "print(results_rov)"
   ]
  },
  {
   "cell_type": "code",
   "execution_count": 138,
   "metadata": {},
   "outputs": [
    {
     "output_type": "execute_result",
     "data": {
      "text/plain": [
       "              Accuracy  precision  recall      f1     roc\n",
       "LogiReg        0.63859    0.00323 0.42857 0.00640 0.53387\n",
       "DecisionTree   0.88005    0.00974 0.42857 0.01905 0.65492\n",
       "RandomFore     0.99728    0.00000 0.00000 0.00000 0.50000\n",
       "LGBM           0.99689    0.00000 0.00000 0.00000 0.49981\n",
       "SVC            0.65256    0.00336 0.42857 0.00666 0.54087"
      ],
      "text/html": "<div>\n<style scoped>\n    .dataframe tbody tr th:only-of-type {\n        vertical-align: middle;\n    }\n\n    .dataframe tbody tr th {\n        vertical-align: top;\n    }\n\n    .dataframe thead th {\n        text-align: right;\n    }\n</style>\n<table border=\"1\" class=\"dataframe\">\n  <thead>\n    <tr style=\"text-align: right;\">\n      <th></th>\n      <th>Accuracy</th>\n      <th>precision</th>\n      <th>recall</th>\n      <th>f1</th>\n      <th>roc</th>\n    </tr>\n  </thead>\n  <tbody>\n    <tr>\n      <th>LogiReg</th>\n      <td>0.63859</td>\n      <td>0.00323</td>\n      <td>0.42857</td>\n      <td>0.00640</td>\n      <td>0.53387</td>\n    </tr>\n    <tr>\n      <th>DecisionTree</th>\n      <td>0.88005</td>\n      <td>0.00974</td>\n      <td>0.42857</td>\n      <td>0.01905</td>\n      <td>0.65492</td>\n    </tr>\n    <tr>\n      <th>RandomFore</th>\n      <td>0.99728</td>\n      <td>0.00000</td>\n      <td>0.00000</td>\n      <td>0.00000</td>\n      <td>0.50000</td>\n    </tr>\n    <tr>\n      <th>LGBM</th>\n      <td>0.99689</td>\n      <td>0.00000</td>\n      <td>0.00000</td>\n      <td>0.00000</td>\n      <td>0.49981</td>\n    </tr>\n    <tr>\n      <th>SVC</th>\n      <td>0.65256</td>\n      <td>0.00336</td>\n      <td>0.42857</td>\n      <td>0.00666</td>\n      <td>0.54087</td>\n    </tr>\n  </tbody>\n</table>\n</div>"
     },
     "metadata": {},
     "execution_count": 138
    }
   ],
   "source": [
    "results_rov"
   ]
  },
  {
   "cell_type": "code",
   "execution_count": null,
   "metadata": {},
   "outputs": [],
   "source": [
    "## 다시 "
   ]
  },
  {
   "cell_type": "code",
   "execution_count": 145,
   "metadata": {},
   "outputs": [],
   "source": [
    "df_8 = df.copy()\n",
    "\n",
    "df_8 = df_8.drop(columns=['sharing_type', 'has_previous_accident','b2b','accident_ratio','socarpass', 'car_part2'])\n",
    "df_8\n",
    "\n",
    "y_target = df_8['fraud_YN']\n",
    "X_features = df_8.drop('fraud_YN', axis=1)\n",
    "\n",
    "y_target = df_8['fraud_YN'].reset_index()\n",
    "y_target = y_target.drop('index', axis=1)"
   ]
  },
  {
   "cell_type": "code",
   "execution_count": 146,
   "metadata": {},
   "outputs": [
    {
     "output_type": "execute_result",
     "data": {
      "text/plain": [
       "           0       1       2       3       4       5       6       7   \\\n",
       "0     2.00000 3.00000 2.00000 2.00000 0.00000 4.00000 2.00000 4.00000   \n",
       "1     3.00000 3.00000 4.00000 2.00000 0.00000 3.00000 3.00000 5.00000   \n",
       "2     1.00000 1.00000 1.00000 1.00000 0.00000 1.00000 1.00000 1.00000   \n",
       "3     1.00000 3.00000 4.00000 3.00000 0.00000 6.00000 3.00000 1.00000   \n",
       "4     2.00000 4.00000 4.00000 1.00000 0.00000 4.00000 2.00000 6.00000   \n",
       "...       ...     ...     ...     ...     ...     ...     ...     ...   \n",
       "12874 2.00000 3.00000 4.00000 1.00000 0.00000 4.00000 1.00000 4.00000   \n",
       "12875 2.00000 2.00000 2.00000 2.00000 0.00000 1.00000 1.00000 1.00000   \n",
       "12876 2.00000 2.00000 4.00000 1.00000 0.00000 5.00000 2.00000 6.00000   \n",
       "12877 2.00000 2.00000 2.00000 2.00000 0.00000 6.00000 1.00000 2.00000   \n",
       "12878 2.00000 2.00000 1.00000 1.00000 0.00000 6.00000 5.00000 6.00000   \n",
       "\n",
       "                 8             9       10      11      12      13      14  \\\n",
       "0      130254.67800       0.00000 1.00000 0.00000 1.00000 0.00000 0.00000   \n",
       "1     1341009.16300       0.00000 3.00000 1.00000 1.00000 0.00000 0.00000   \n",
       "2      524030.56960 1209410.00000 1.00000 0.00000 2.00000 0.00000 0.00000   \n",
       "3      202768.67835 1217280.00000 0.00000 0.00000 1.00000 1.00000 2.00000   \n",
       "4      502473.29500       0.00000 1.00000 0.00000 1.00000 1.00000 1.00000   \n",
       "...             ...           ...     ...     ...     ...     ...     ...   \n",
       "12874  667293.08700       0.00000 0.00000 0.00000 1.00000 0.00000 0.00000   \n",
       "12875  316638.97035       0.00000 1.00000 1.00000 1.00000 0.00000 0.00000   \n",
       "12876  618439.44180       0.00000 2.00000 1.00000 1.00000 0.00000 0.00000   \n",
       "12877  421042.54785       0.00000 4.00000 1.00000 1.00000 0.00000 0.00000   \n",
       "12878  391560.21560 1188750.00000 2.00000 0.00000 1.00000 0.00000 0.00000   \n",
       "\n",
       "           15       16      17  \n",
       "0     0.00000 -1.00000 0.00000  \n",
       "1     0.00000 -1.00000 0.00000  \n",
       "2     0.00000 -1.00000 0.00000  \n",
       "3     1.00000  2.00000 0.00000  \n",
       "4     1.00000  2.00000 0.00000  \n",
       "...       ...      ...     ...  \n",
       "12874 0.00000 -1.00000 0.00000  \n",
       "12875 0.00000 -1.00000 0.00000  \n",
       "12876 0.00000 -1.00000 0.00000  \n",
       "12877 0.00000 -1.00000 0.00000  \n",
       "12878 0.00000 -1.00000 0.00000  \n",
       "\n",
       "[12879 rows x 18 columns]"
      ],
      "text/html": "<div>\n<style scoped>\n    .dataframe tbody tr th:only-of-type {\n        vertical-align: middle;\n    }\n\n    .dataframe tbody tr th {\n        vertical-align: top;\n    }\n\n    .dataframe thead th {\n        text-align: right;\n    }\n</style>\n<table border=\"1\" class=\"dataframe\">\n  <thead>\n    <tr style=\"text-align: right;\">\n      <th></th>\n      <th>0</th>\n      <th>1</th>\n      <th>2</th>\n      <th>3</th>\n      <th>4</th>\n      <th>5</th>\n      <th>6</th>\n      <th>7</th>\n      <th>8</th>\n      <th>9</th>\n      <th>10</th>\n      <th>11</th>\n      <th>12</th>\n      <th>13</th>\n      <th>14</th>\n      <th>15</th>\n      <th>16</th>\n      <th>17</th>\n    </tr>\n  </thead>\n  <tbody>\n    <tr>\n      <th>0</th>\n      <td>2.00000</td>\n      <td>3.00000</td>\n      <td>2.00000</td>\n      <td>2.00000</td>\n      <td>0.00000</td>\n      <td>4.00000</td>\n      <td>2.00000</td>\n      <td>4.00000</td>\n      <td>130254.67800</td>\n      <td>0.00000</td>\n      <td>1.00000</td>\n      <td>0.00000</td>\n      <td>1.00000</td>\n      <td>0.00000</td>\n      <td>0.00000</td>\n      <td>0.00000</td>\n      <td>-1.00000</td>\n      <td>0.00000</td>\n    </tr>\n    <tr>\n      <th>1</th>\n      <td>3.00000</td>\n      <td>3.00000</td>\n      <td>4.00000</td>\n      <td>2.00000</td>\n      <td>0.00000</td>\n      <td>3.00000</td>\n      <td>3.00000</td>\n      <td>5.00000</td>\n      <td>1341009.16300</td>\n      <td>0.00000</td>\n      <td>3.00000</td>\n      <td>1.00000</td>\n      <td>1.00000</td>\n      <td>0.00000</td>\n      <td>0.00000</td>\n      <td>0.00000</td>\n      <td>-1.00000</td>\n      <td>0.00000</td>\n    </tr>\n    <tr>\n      <th>2</th>\n      <td>1.00000</td>\n      <td>1.00000</td>\n      <td>1.00000</td>\n      <td>1.00000</td>\n      <td>0.00000</td>\n      <td>1.00000</td>\n      <td>1.00000</td>\n      <td>1.00000</td>\n      <td>524030.56960</td>\n      <td>1209410.00000</td>\n      <td>1.00000</td>\n      <td>0.00000</td>\n      <td>2.00000</td>\n      <td>0.00000</td>\n      <td>0.00000</td>\n      <td>0.00000</td>\n      <td>-1.00000</td>\n      <td>0.00000</td>\n    </tr>\n    <tr>\n      <th>3</th>\n      <td>1.00000</td>\n      <td>3.00000</td>\n      <td>4.00000</td>\n      <td>3.00000</td>\n      <td>0.00000</td>\n      <td>6.00000</td>\n      <td>3.00000</td>\n      <td>1.00000</td>\n      <td>202768.67835</td>\n      <td>1217280.00000</td>\n      <td>0.00000</td>\n      <td>0.00000</td>\n      <td>1.00000</td>\n      <td>1.00000</td>\n      <td>2.00000</td>\n      <td>1.00000</td>\n      <td>2.00000</td>\n      <td>0.00000</td>\n    </tr>\n    <tr>\n      <th>4</th>\n      <td>2.00000</td>\n      <td>4.00000</td>\n      <td>4.00000</td>\n      <td>1.00000</td>\n      <td>0.00000</td>\n      <td>4.00000</td>\n      <td>2.00000</td>\n      <td>6.00000</td>\n      <td>502473.29500</td>\n      <td>0.00000</td>\n      <td>1.00000</td>\n      <td>0.00000</td>\n      <td>1.00000</td>\n      <td>1.00000</td>\n      <td>1.00000</td>\n      <td>1.00000</td>\n      <td>2.00000</td>\n      <td>0.00000</td>\n    </tr>\n    <tr>\n      <th>...</th>\n      <td>...</td>\n      <td>...</td>\n      <td>...</td>\n      <td>...</td>\n      <td>...</td>\n      <td>...</td>\n      <td>...</td>\n      <td>...</td>\n      <td>...</td>\n      <td>...</td>\n      <td>...</td>\n      <td>...</td>\n      <td>...</td>\n      <td>...</td>\n      <td>...</td>\n      <td>...</td>\n      <td>...</td>\n      <td>...</td>\n    </tr>\n    <tr>\n      <th>12874</th>\n      <td>2.00000</td>\n      <td>3.00000</td>\n      <td>4.00000</td>\n      <td>1.00000</td>\n      <td>0.00000</td>\n      <td>4.00000</td>\n      <td>1.00000</td>\n      <td>4.00000</td>\n      <td>667293.08700</td>\n      <td>0.00000</td>\n      <td>0.00000</td>\n      <td>0.00000</td>\n      <td>1.00000</td>\n      <td>0.00000</td>\n      <td>0.00000</td>\n      <td>0.00000</td>\n      <td>-1.00000</td>\n      <td>0.00000</td>\n    </tr>\n    <tr>\n      <th>12875</th>\n      <td>2.00000</td>\n      <td>2.00000</td>\n      <td>2.00000</td>\n      <td>2.00000</td>\n      <td>0.00000</td>\n      <td>1.00000</td>\n      <td>1.00000</td>\n      <td>1.00000</td>\n      <td>316638.97035</td>\n      <td>0.00000</td>\n      <td>1.00000</td>\n      <td>1.00000</td>\n      <td>1.00000</td>\n      <td>0.00000</td>\n      <td>0.00000</td>\n      <td>0.00000</td>\n      <td>-1.00000</td>\n      <td>0.00000</td>\n    </tr>\n    <tr>\n      <th>12876</th>\n      <td>2.00000</td>\n      <td>2.00000</td>\n      <td>4.00000</td>\n      <td>1.00000</td>\n      <td>0.00000</td>\n      <td>5.00000</td>\n      <td>2.00000</td>\n      <td>6.00000</td>\n      <td>618439.44180</td>\n      <td>0.00000</td>\n      <td>2.00000</td>\n      <td>1.00000</td>\n      <td>1.00000</td>\n      <td>0.00000</td>\n      <td>0.00000</td>\n      <td>0.00000</td>\n      <td>-1.00000</td>\n      <td>0.00000</td>\n    </tr>\n    <tr>\n      <th>12877</th>\n      <td>2.00000</td>\n      <td>2.00000</td>\n      <td>2.00000</td>\n      <td>2.00000</td>\n      <td>0.00000</td>\n      <td>6.00000</td>\n      <td>1.00000</td>\n      <td>2.00000</td>\n      <td>421042.54785</td>\n      <td>0.00000</td>\n      <td>4.00000</td>\n      <td>1.00000</td>\n      <td>1.00000</td>\n      <td>0.00000</td>\n      <td>0.00000</td>\n      <td>0.00000</td>\n      <td>-1.00000</td>\n      <td>0.00000</td>\n    </tr>\n    <tr>\n      <th>12878</th>\n      <td>2.00000</td>\n      <td>2.00000</td>\n      <td>1.00000</td>\n      <td>1.00000</td>\n      <td>0.00000</td>\n      <td>6.00000</td>\n      <td>5.00000</td>\n      <td>6.00000</td>\n      <td>391560.21560</td>\n      <td>1188750.00000</td>\n      <td>2.00000</td>\n      <td>0.00000</td>\n      <td>1.00000</td>\n      <td>0.00000</td>\n      <td>0.00000</td>\n      <td>0.00000</td>\n      <td>-1.00000</td>\n      <td>0.00000</td>\n    </tr>\n  </tbody>\n</table>\n<p>12879 rows × 18 columns</p>\n</div>"
     },
     "metadata": {},
     "execution_count": 146
    }
   ],
   "source": [
    "from sklearn.impute import KNNImputer\n",
    "\n",
    "X_features['repair_cost'].replace(0, np.nan, inplace=True)\n",
    "imputer = KNNImputer(n_neighbors=2)\n",
    "\n",
    "#repair_cost에만 결측치 처리해줌 \n",
    "X_features_filled = pd.DataFrame(imputer.fit_transform(X_features))\n",
    "X_features_filled\n"
   ]
  },
  {
   "cell_type": "code",
   "execution_count": 147,
   "metadata": {},
   "outputs": [
    {
     "output_type": "execute_result",
     "data": {
      "text/plain": [
       "       component_1  component_2  component_3  target\n",
       "12874     -0.98565     -0.46745     -0.05122       0\n",
       "12875     -1.08891      1.15669     -1.19569       0\n",
       "12876     -1.02844     -0.17818      1.22482       0\n",
       "12877     -1.24712      0.33719      0.43588       0\n",
       "12878     -1.17391     -1.50330      1.68883       0"
      ],
      "text/html": "<div>\n<style scoped>\n    .dataframe tbody tr th:only-of-type {\n        vertical-align: middle;\n    }\n\n    .dataframe tbody tr th {\n        vertical-align: top;\n    }\n\n    .dataframe thead th {\n        text-align: right;\n    }\n</style>\n<table border=\"1\" class=\"dataframe\">\n  <thead>\n    <tr style=\"text-align: right;\">\n      <th></th>\n      <th>component_1</th>\n      <th>component_2</th>\n      <th>component_3</th>\n      <th>target</th>\n    </tr>\n  </thead>\n  <tbody>\n    <tr>\n      <th>12874</th>\n      <td>-0.98565</td>\n      <td>-0.46745</td>\n      <td>-0.05122</td>\n      <td>0</td>\n    </tr>\n    <tr>\n      <th>12875</th>\n      <td>-1.08891</td>\n      <td>1.15669</td>\n      <td>-1.19569</td>\n      <td>0</td>\n    </tr>\n    <tr>\n      <th>12876</th>\n      <td>-1.02844</td>\n      <td>-0.17818</td>\n      <td>1.22482</td>\n      <td>0</td>\n    </tr>\n    <tr>\n      <th>12877</th>\n      <td>-1.24712</td>\n      <td>0.33719</td>\n      <td>0.43588</td>\n      <td>0</td>\n    </tr>\n    <tr>\n      <th>12878</th>\n      <td>-1.17391</td>\n      <td>-1.50330</td>\n      <td>1.68883</td>\n      <td>0</td>\n    </tr>\n  </tbody>\n</table>\n</div>"
     },
     "metadata": {},
     "execution_count": 147
    }
   ],
   "source": [
    "from sklearn.decomposition import PCA\n",
    "from sklearn.preprocessing import StandardScaler\n",
    "\n",
    "scaler = StandardScaler()\n",
    "df_scaled = scaler.fit_transform(X_features_filled)\n",
    "\n",
    "pca = PCA(n_components=3)\n",
    "pca.fit(df_scaled)\n",
    "df_pca = pca.transform(df_scaled)\n",
    "\n",
    "pca_columns = ['component_1','component_2','component_3']\n",
    "\n",
    "DF_pca = pd.DataFrame(df_pca, columns=pca_columns)\n",
    "DF_pca['target'] = y_target \n",
    "DF_pca.tail()\n"
   ]
  },
  {
   "cell_type": "code",
   "execution_count": 148,
   "metadata": {},
   "outputs": [
    {
     "output_type": "execute_result",
     "data": {
      "text/plain": [
       "              Accuracy  precision  recall      f1     roc\n",
       "LogiReg        0.99728    0.00000 0.00000 0.00000 0.50000\n",
       "DecisionTree   0.99728    0.00000 0.00000 0.00000 0.50000\n",
       "RandomFore     0.99728    0.00000 0.00000 0.00000 0.50000\n",
       "LGBM           0.99689    0.00000 0.00000 0.00000 0.49981\n",
       "SVC            0.99728    0.00000 0.00000 0.00000 0.50000"
      ],
      "text/html": "<div>\n<style scoped>\n    .dataframe tbody tr th:only-of-type {\n        vertical-align: middle;\n    }\n\n    .dataframe tbody tr th {\n        vertical-align: top;\n    }\n\n    .dataframe thead th {\n        text-align: right;\n    }\n</style>\n<table border=\"1\" class=\"dataframe\">\n  <thead>\n    <tr style=\"text-align: right;\">\n      <th></th>\n      <th>Accuracy</th>\n      <th>precision</th>\n      <th>recall</th>\n      <th>f1</th>\n      <th>roc</th>\n    </tr>\n  </thead>\n  <tbody>\n    <tr>\n      <th>LogiReg</th>\n      <td>0.99728</td>\n      <td>0.00000</td>\n      <td>0.00000</td>\n      <td>0.00000</td>\n      <td>0.50000</td>\n    </tr>\n    <tr>\n      <th>DecisionTree</th>\n      <td>0.99728</td>\n      <td>0.00000</td>\n      <td>0.00000</td>\n      <td>0.00000</td>\n      <td>0.50000</td>\n    </tr>\n    <tr>\n      <th>RandomFore</th>\n      <td>0.99728</td>\n      <td>0.00000</td>\n      <td>0.00000</td>\n      <td>0.00000</td>\n      <td>0.50000</td>\n    </tr>\n    <tr>\n      <th>LGBM</th>\n      <td>0.99689</td>\n      <td>0.00000</td>\n      <td>0.00000</td>\n      <td>0.00000</td>\n      <td>0.49981</td>\n    </tr>\n    <tr>\n      <th>SVC</th>\n      <td>0.99728</td>\n      <td>0.00000</td>\n      <td>0.00000</td>\n      <td>0.00000</td>\n      <td>0.50000</td>\n    </tr>\n  </tbody>\n</table>\n</div>"
     },
     "metadata": {},
     "execution_count": 148
    }
   ],
   "source": [
    "y_target = DF_pca['target']\n",
    "X_features = DF_pca.drop('target', axis= 1)\n",
    "\n",
    "\n",
    "X_train, X_valid, y_train, y_valid = train_test_split(X_features, y_target, test_size =0.2, random_state=13, stratify= y_target)\n",
    "\n",
    "# 모델 객체 생성 \n",
    "lr_clf = LogisticRegression(random_state=13)\n",
    "dt_clf = DecisionTreeClassifier(random_state=13, max_depth=4)\n",
    "rf_clf = RandomForestClassifier(random_state=13, n_jobs = -1, n_estimators= 100 )\n",
    "lgbm_clf = LGBMClassifier(n_estimators=1000, num_leaves=64, n_jobs=-1, boost_from_average = False)\n",
    "svm_clf = LinearSVC()\n",
    "\n",
    "# 학습 진행 \n",
    "models=[lr_clf,dt_clf,rf_clf,lgbm_clf,svm_clf] \n",
    "model_names = ['LogiReg', 'DecisionTree', 'RandomFore','LGBM','SVC']\n",
    "results = get_result_df(models, model_names, X_train, y_train, X_valid, y_valid)\n",
    "\n",
    "results \n"
   ]
  },
  {
   "cell_type": "code",
   "execution_count": 149,
   "metadata": {},
   "outputs": [
    {
     "output_type": "execute_result",
     "data": {
      "text/plain": [
       "              Accuracy  precision  recall      f1     roc\n",
       "LogiReg        0.71157    0.00538 0.57143 0.01065 0.64169\n",
       "DecisionTree   0.41071    0.00263 0.57143 0.00524 0.49085\n",
       "RandomFore     0.90839    0.00433 0.14286 0.00840 0.52666\n",
       "LGBM           0.90994    0.00000 0.00000 0.00000 0.45621\n",
       "SVC            0.71778    0.00549 0.57143 0.01088 0.64480"
      ],
      "text/html": "<div>\n<style scoped>\n    .dataframe tbody tr th:only-of-type {\n        vertical-align: middle;\n    }\n\n    .dataframe tbody tr th {\n        vertical-align: top;\n    }\n\n    .dataframe thead th {\n        text-align: right;\n    }\n</style>\n<table border=\"1\" class=\"dataframe\">\n  <thead>\n    <tr style=\"text-align: right;\">\n      <th></th>\n      <th>Accuracy</th>\n      <th>precision</th>\n      <th>recall</th>\n      <th>f1</th>\n      <th>roc</th>\n    </tr>\n  </thead>\n  <tbody>\n    <tr>\n      <th>LogiReg</th>\n      <td>0.71157</td>\n      <td>0.00538</td>\n      <td>0.57143</td>\n      <td>0.01065</td>\n      <td>0.64169</td>\n    </tr>\n    <tr>\n      <th>DecisionTree</th>\n      <td>0.41071</td>\n      <td>0.00263</td>\n      <td>0.57143</td>\n      <td>0.00524</td>\n      <td>0.49085</td>\n    </tr>\n    <tr>\n      <th>RandomFore</th>\n      <td>0.90839</td>\n      <td>0.00433</td>\n      <td>0.14286</td>\n      <td>0.00840</td>\n      <td>0.52666</td>\n    </tr>\n    <tr>\n      <th>LGBM</th>\n      <td>0.90994</td>\n      <td>0.00000</td>\n      <td>0.00000</td>\n      <td>0.00000</td>\n      <td>0.45621</td>\n    </tr>\n    <tr>\n      <th>SVC</th>\n      <td>0.71778</td>\n      <td>0.00549</td>\n      <td>0.57143</td>\n      <td>0.01088</td>\n      <td>0.64480</td>\n    </tr>\n  </tbody>\n</table>\n</div>"
     },
     "metadata": {},
     "execution_count": 149
    }
   ],
   "source": [
    "# 복합 샘플링 적용 \n",
    "\n",
    "from imblearn.combine import SMOTEENN\n",
    "sme = SMOTEENN(random_state=13)\n",
    "X_train_sme, y_train_sme = sme.fit_sample(X_train, y_train)\n",
    "\n",
    "\n",
    "model_names = ['LogiReg', 'DecisionTree', 'RandomFore','LGBM','SVC']\n",
    "results = get_result_df(models, model_names, X_train_sme, y_train_sme, X_valid, y_valid)\n",
    "\n",
    "results"
   ]
  },
  {
   "source": [
    "## Trial#9\n",
    "## 변수삭제 원핫인코딩 결측치처리 처리방안 PCA\n",
    "## 동일분포 적용안함   처리안함           3\n"
   ],
   "cell_type": "markdown",
   "metadata": {}
  },
  {
   "cell_type": "code",
   "execution_count": 151,
   "metadata": {},
   "outputs": [],
   "source": [
    "df_9 = df.copy()\n",
    "\n",
    "y_target = df_9['fraud_YN']\n",
    "X_features = df_9.drop(columns= ['fraud_YN','sharing_type','has_previous_accident','socarpass','car_part2'], axis=1)\n",
    "\n",
    "y_target = df_9['fraud_YN'].reset_index()\n",
    "y_target = y_target.drop('index', axis=1)"
   ]
  },
  {
   "cell_type": "code",
   "execution_count": 172,
   "metadata": {},
   "outputs": [
    {
     "output_type": "execute_result",
     "data": {
      "text/plain": [
       "   component_1  component_2  component_3  target\n",
       "0    -10.87773     -1.68125     -0.44408       0\n",
       "1     89.08887     -0.44721      3.48782       0\n",
       "2    -10.91937      0.59531      0.76393       0\n",
       "3    -10.86117      0.62668     -1.25494       1\n",
       "4     89.14690     -0.59167     -0.51124       0"
      ],
      "text/html": "<div>\n<style scoped>\n    .dataframe tbody tr th:only-of-type {\n        vertical-align: middle;\n    }\n\n    .dataframe tbody tr th {\n        vertical-align: top;\n    }\n\n    .dataframe thead th {\n        text-align: right;\n    }\n</style>\n<table border=\"1\" class=\"dataframe\">\n  <thead>\n    <tr style=\"text-align: right;\">\n      <th></th>\n      <th>component_1</th>\n      <th>component_2</th>\n      <th>component_3</th>\n      <th>target</th>\n    </tr>\n  </thead>\n  <tbody>\n    <tr>\n      <th>0</th>\n      <td>-10.87773</td>\n      <td>-1.68125</td>\n      <td>-0.44408</td>\n      <td>0</td>\n    </tr>\n    <tr>\n      <th>1</th>\n      <td>89.08887</td>\n      <td>-0.44721</td>\n      <td>3.48782</td>\n      <td>0</td>\n    </tr>\n    <tr>\n      <th>2</th>\n      <td>-10.91937</td>\n      <td>0.59531</td>\n      <td>0.76393</td>\n      <td>0</td>\n    </tr>\n    <tr>\n      <th>3</th>\n      <td>-10.86117</td>\n      <td>0.62668</td>\n      <td>-1.25494</td>\n      <td>1</td>\n    </tr>\n    <tr>\n      <th>4</th>\n      <td>89.14690</td>\n      <td>-0.59167</td>\n      <td>-0.51124</td>\n      <td>0</td>\n    </tr>\n  </tbody>\n</table>\n</div>"
     },
     "metadata": {},
     "execution_count": 172
    }
   ],
   "source": [
    "from sklearn.decomposition import PCA\n",
    "from sklearn.preprocessing import RobustScaler\n",
    "\n",
    "scaler = RobustScaler()\n",
    "df_scaled = scaler.fit_transform(X_features)\n",
    "\n",
    "pca = PCA(n_components=2)\n",
    "pca.fit(df_scaled)\n",
    "df_pca = pca.transform(df_scaled)\n",
    "\n",
    "pca_columns = ['component_1','component_2',]\n",
    "\n",
    "DF_pca = pd.DataFrame(df_pca, columns=pca_columns)\n",
    "DF_pca['target'] = y_target \n",
    "DF_pca.head()\n"
   ]
  },
  {
   "cell_type": "code",
   "execution_count": 173,
   "metadata": {},
   "outputs": [
    {
     "output_type": "execute_result",
     "data": {
      "text/plain": [
       "              Accuracy  precision  recall      f1     roc\n",
       "LogiReg        0.99728    0.00000 0.00000 0.00000 0.50000\n",
       "DecisionTree   0.99612    0.00000 0.00000 0.00000 0.49942\n",
       "RandomFore     0.99728    0.00000 0.00000 0.00000 0.50000\n",
       "LGBM           0.99689    0.33333 0.14286 0.20000 0.57104\n",
       "SVC            0.99728    0.00000 0.00000 0.00000 0.50000"
      ],
      "text/html": "<div>\n<style scoped>\n    .dataframe tbody tr th:only-of-type {\n        vertical-align: middle;\n    }\n\n    .dataframe tbody tr th {\n        vertical-align: top;\n    }\n\n    .dataframe thead th {\n        text-align: right;\n    }\n</style>\n<table border=\"1\" class=\"dataframe\">\n  <thead>\n    <tr style=\"text-align: right;\">\n      <th></th>\n      <th>Accuracy</th>\n      <th>precision</th>\n      <th>recall</th>\n      <th>f1</th>\n      <th>roc</th>\n    </tr>\n  </thead>\n  <tbody>\n    <tr>\n      <th>LogiReg</th>\n      <td>0.99728</td>\n      <td>0.00000</td>\n      <td>0.00000</td>\n      <td>0.00000</td>\n      <td>0.50000</td>\n    </tr>\n    <tr>\n      <th>DecisionTree</th>\n      <td>0.99612</td>\n      <td>0.00000</td>\n      <td>0.00000</td>\n      <td>0.00000</td>\n      <td>0.49942</td>\n    </tr>\n    <tr>\n      <th>RandomFore</th>\n      <td>0.99728</td>\n      <td>0.00000</td>\n      <td>0.00000</td>\n      <td>0.00000</td>\n      <td>0.50000</td>\n    </tr>\n    <tr>\n      <th>LGBM</th>\n      <td>0.99689</td>\n      <td>0.33333</td>\n      <td>0.14286</td>\n      <td>0.20000</td>\n      <td>0.57104</td>\n    </tr>\n    <tr>\n      <th>SVC</th>\n      <td>0.99728</td>\n      <td>0.00000</td>\n      <td>0.00000</td>\n      <td>0.00000</td>\n      <td>0.50000</td>\n    </tr>\n  </tbody>\n</table>\n</div>"
     },
     "metadata": {},
     "execution_count": 173
    }
   ],
   "source": [
    "y_target = DF_pca['target']\n",
    "X_features = DF_pca.drop('target', axis= 1)\n",
    "\n",
    "\n",
    "X_train, X_valid, y_train, y_valid = train_test_split(X_features, y_target, test_size =0.2, random_state=13, stratify= y_target)\n",
    "\n",
    "# 모델 객체 생성 \n",
    "lr_clf = LogisticRegression(random_state=13)\n",
    "dt_clf = DecisionTreeClassifier(random_state=13, max_depth=4)\n",
    "rf_clf = RandomForestClassifier(random_state=13, n_jobs = -1, n_estimators= 100 )\n",
    "lgbm_clf = LGBMClassifier(n_estimators=1000, num_leaves=64, n_jobs=-1, boost_from_average = False)\n",
    "svm_clf = LinearSVC()\n",
    "\n",
    "# 학습 진행 \n",
    "models=[lr_clf,dt_clf,rf_clf,lgbm_clf,svm_clf] \n",
    "model_names = ['LogiReg', 'DecisionTree', 'RandomFore','LGBM','SVC']\n",
    "results = get_result_df(models, model_names, X_train, y_train, X_valid, y_valid)\n",
    "results "
   ]
  },
  {
   "cell_type": "code",
   "execution_count": 174,
   "metadata": {},
   "outputs": [
    {
     "output_type": "stream",
     "name": "stdout",
     "text": [
      "              Accuracy  precision  recall      f1     roc\nLogiReg        0.14713    0.00272 0.85714 0.00543 0.50117\nDecisionTree   0.75233    0.00315 0.28571 0.00623 0.51966\nRandomFore     0.93168    0.00585 0.14286 0.01124 0.53834\nLGBM           0.92352    0.01031 0.28571 0.01990 0.60549\nSVC            0.14441    0.00272 0.85714 0.00542 0.49981\n              Accuracy  precision  recall      f1     roc\nLogiReg        0.14635    0.00272 0.85714 0.00543 0.50078\nDecisionTree   0.74806    0.00310 0.28571 0.00613 0.51752\nRandomFore     0.93595    0.00625 0.14286 0.01198 0.54048\nLGBM           0.93750    0.01266 0.28571 0.02424 0.61250\nSVC            0.14480    0.00272 0.85714 0.00542 0.50000\n              Accuracy  precision  recall      f1     roc\nLogiReg        0.40373    0.00325 0.71429 0.00647 0.55858\nDecisionTree   0.50970    0.00473 0.85714 0.00941 0.68295\nRandomFore     0.50000    0.00464 0.85714 0.00923 0.67808\nLGBM           0.44953    0.00352 0.71429 0.00700 0.58155\nSVC            0.25582    0.00312 0.85714 0.00622 0.55566\n              Accuracy  precision  recall      f1     roc\nLogiReg        0.14363    0.00271 0.85714 0.00541 0.49942\nDecisionTree   0.73874    0.00299 0.28571 0.00591 0.51285\nRandomFore     0.89247    0.00368 0.14286 0.00717 0.51868\nLGBM           0.89402    0.00373 0.14286 0.00727 0.51946\nSVC            0.14130    0.00271 0.85714 0.00540 0.49825\n              Accuracy  precision  recall      f1     roc\nLogiReg        0.14092    0.00271 0.85714 0.00539 0.49805\nDecisionTree   0.70419    0.00264 0.28571 0.00522 0.49552\nRandomFore     0.99728    0.00000 0.00000 0.00000 0.50000\nLGBM           0.99689    0.00000 0.00000 0.00000 0.49981\nSVC            0.13975    0.00270 0.85714 0.00539 0.49747\n"
     ]
    }
   ],
   "source": [
    "#### 샘플링별 확인 \n",
    "from imblearn.over_sampling import SMOTE\n",
    "from imblearn.over_sampling import ADASYN\n",
    "from imblearn.under_sampling import RandomUnderSampler\n",
    "from imblearn.combine import SMOTEENN\n",
    "from imblearn.over_sampling import RandomOverSampler\n",
    "\n",
    "smt = SMOTE(random_state=13)\n",
    "X_train_smt, y_train_smt = smt.fit_sample(X_train, y_train)\n",
    "\n",
    "ads = ADASYN(random_state=13)\n",
    "X_train_ads, y_train_ads = ads.fit_sample(X_train, y_train)\n",
    "\n",
    "rud = RandomUnderSampler(random_state=13)\n",
    "X_train_rud, y_train_rud = rud.fit_sample(X_train, y_train)\n",
    "\n",
    "sme = SMOTEENN(random_state=13)\n",
    "X_train_sme, y_train_sme = sme.fit_sample(X_train, y_train)\n",
    "\n",
    "rov = RandomOverSampler(random_state=13)\n",
    "X_train_rov, y_train_rov = rov.fit_sample(X_train, y_train)\n",
    "\n",
    "model_names = ['LogiReg', 'DecisionTree', 'RandomFore','LGBM','SVC']\n",
    "\n",
    "results_smt = get_result_df(models, model_names, X_train_smt, y_train_smt, X_valid, y_valid)\n",
    "results_ads = get_result_df(models, model_names, X_train_ads, y_train_ads, X_valid, y_valid)\n",
    "results_rud = get_result_df(models, model_names, X_train_rud, y_train_rud, X_valid, y_valid)\n",
    "results_sme = get_result_df(models, model_names, X_train_sme, y_train_sme, X_valid, y_valid)\n",
    "results_rov = get_result_df(models, model_names, X_train_rov, y_train_rov, X_valid, y_valid)\n",
    "\n",
    "\n",
    "print(results_smt)\n",
    "print(results_ads)\n",
    "print(results_rud)\n",
    "print(results_sme)\n",
    "print(results_rov)"
   ]
  },
  {
   "source": [
    "## Trial#9\n",
    "## 변수삭제 원핫인코딩 결측치처리 처리방안 PCA\n",
    "## 동일분포 적용안함   처리안함           3\n"
   ],
   "cell_type": "markdown",
   "metadata": {}
  },
  {
   "cell_type": "code",
   "execution_count": 160,
   "metadata": {},
   "outputs": [],
   "source": [
    "df_10 = df.copy()\n",
    "\n",
    "y_target = df_10['fraud_YN']\n",
    "X_features = df_10.drop(columns= ['fraud_YN','sharing_type','has_previous_accident','socarpass','car_part2'], axis=1)\n",
    "\n",
    "y_target = df_10['fraud_YN'].reset_index()\n",
    "y_target = y_target.drop('index', axis=1)"
   ]
  },
  {
   "cell_type": "code",
   "execution_count": 162,
   "metadata": {},
   "outputs": [
    {
     "output_type": "execute_result",
     "data": {
      "text/plain": [
       "   component_1  component_2  component_3  target\n",
       "0    -10.87773     -1.68125     -0.44408       0\n",
       "1     89.08887     -0.44721      3.48782       0\n",
       "2    -10.91937      0.59531      0.76393       0\n",
       "3    -10.86117      0.62668     -1.25494       1\n",
       "4     89.14690     -0.59167     -0.51124       0"
      ],
      "text/html": "<div>\n<style scoped>\n    .dataframe tbody tr th:only-of-type {\n        vertical-align: middle;\n    }\n\n    .dataframe tbody tr th {\n        vertical-align: top;\n    }\n\n    .dataframe thead th {\n        text-align: right;\n    }\n</style>\n<table border=\"1\" class=\"dataframe\">\n  <thead>\n    <tr style=\"text-align: right;\">\n      <th></th>\n      <th>component_1</th>\n      <th>component_2</th>\n      <th>component_3</th>\n      <th>target</th>\n    </tr>\n  </thead>\n  <tbody>\n    <tr>\n      <th>0</th>\n      <td>-10.87773</td>\n      <td>-1.68125</td>\n      <td>-0.44408</td>\n      <td>0</td>\n    </tr>\n    <tr>\n      <th>1</th>\n      <td>89.08887</td>\n      <td>-0.44721</td>\n      <td>3.48782</td>\n      <td>0</td>\n    </tr>\n    <tr>\n      <th>2</th>\n      <td>-10.91937</td>\n      <td>0.59531</td>\n      <td>0.76393</td>\n      <td>0</td>\n    </tr>\n    <tr>\n      <th>3</th>\n      <td>-10.86117</td>\n      <td>0.62668</td>\n      <td>-1.25494</td>\n      <td>1</td>\n    </tr>\n    <tr>\n      <th>4</th>\n      <td>89.14690</td>\n      <td>-0.59167</td>\n      <td>-0.51124</td>\n      <td>0</td>\n    </tr>\n  </tbody>\n</table>\n</div>"
     },
     "metadata": {},
     "execution_count": 162
    }
   ],
   "source": [
    "from sklearn.decomposition import PCA\n",
    "from sklearn.preprocessing import RobustScaler\n",
    "\n",
    "scaler = RobustScaler()\n",
    "df_scaled = scaler.fit_transform(X_features)\n",
    "\n",
    "pca = PCA(n_components=3)\n",
    "pca.fit(df_scaled)\n",
    "df_pca = pca.transform(df_scaled)\n",
    "\n",
    "pca_columns = ['component_1','component_2','component_3']\n",
    "\n",
    "DF_pca = pd.DataFrame(df_pca, columns=pca_columns)\n",
    "DF_pca['target'] = y_target \n",
    "DF_pca.head()\n"
   ]
  },
  {
   "cell_type": "code",
   "execution_count": 163,
   "metadata": {},
   "outputs": [
    {
     "output_type": "execute_result",
     "data": {
      "text/plain": [
       "              Accuracy  precision  recall      f1     roc\n",
       "LogiReg        0.99728    0.00000 0.00000 0.00000 0.50000\n",
       "DecisionTree   0.99612    0.00000 0.00000 0.00000 0.49942\n",
       "RandomFore     0.99728    0.00000 0.00000 0.00000 0.50000\n",
       "LGBM           0.99689    0.33333 0.14286 0.20000 0.57104\n",
       "SVC            0.99728    0.00000 0.00000 0.00000 0.50000"
      ],
      "text/html": "<div>\n<style scoped>\n    .dataframe tbody tr th:only-of-type {\n        vertical-align: middle;\n    }\n\n    .dataframe tbody tr th {\n        vertical-align: top;\n    }\n\n    .dataframe thead th {\n        text-align: right;\n    }\n</style>\n<table border=\"1\" class=\"dataframe\">\n  <thead>\n    <tr style=\"text-align: right;\">\n      <th></th>\n      <th>Accuracy</th>\n      <th>precision</th>\n      <th>recall</th>\n      <th>f1</th>\n      <th>roc</th>\n    </tr>\n  </thead>\n  <tbody>\n    <tr>\n      <th>LogiReg</th>\n      <td>0.99728</td>\n      <td>0.00000</td>\n      <td>0.00000</td>\n      <td>0.00000</td>\n      <td>0.50000</td>\n    </tr>\n    <tr>\n      <th>DecisionTree</th>\n      <td>0.99612</td>\n      <td>0.00000</td>\n      <td>0.00000</td>\n      <td>0.00000</td>\n      <td>0.49942</td>\n    </tr>\n    <tr>\n      <th>RandomFore</th>\n      <td>0.99728</td>\n      <td>0.00000</td>\n      <td>0.00000</td>\n      <td>0.00000</td>\n      <td>0.50000</td>\n    </tr>\n    <tr>\n      <th>LGBM</th>\n      <td>0.99689</td>\n      <td>0.33333</td>\n      <td>0.14286</td>\n      <td>0.20000</td>\n      <td>0.57104</td>\n    </tr>\n    <tr>\n      <th>SVC</th>\n      <td>0.99728</td>\n      <td>0.00000</td>\n      <td>0.00000</td>\n      <td>0.00000</td>\n      <td>0.50000</td>\n    </tr>\n  </tbody>\n</table>\n</div>"
     },
     "metadata": {},
     "execution_count": 163
    }
   ],
   "source": [
    "y_target = DF_pca['target']\n",
    "X_features = DF_pca.drop('target', axis= 1)\n",
    "\n",
    "\n",
    "X_train, X_valid, y_train, y_valid = train_test_split(X_features, y_target, test_size =0.2, random_state=13, stratify= y_target)\n",
    "\n",
    "# 모델 객체 생성 \n",
    "lr_clf = LogisticRegression(random_state=13)\n",
    "dt_clf = DecisionTreeClassifier(random_state=13, max_depth=4)\n",
    "rf_clf = RandomForestClassifier(random_state=13, n_jobs = -1, n_estimators= 100 )\n",
    "lgbm_clf = LGBMClassifier(n_estimators=1000, num_leaves=64, n_jobs=-1, boost_from_average = False)\n",
    "svm_clf = LinearSVC()\n",
    "\n",
    "# 학습 진행 \n",
    "models=[lr_clf,dt_clf,rf_clf,lgbm_clf,svm_clf] \n",
    "model_names = ['LogiReg', 'DecisionTree', 'RandomFore','LGBM','SVC']\n",
    "results = get_result_df(models, model_names, X_train, y_train, X_valid, y_valid)\n",
    "results "
   ]
  },
  {
   "cell_type": "code",
   "execution_count": 164,
   "metadata": {},
   "outputs": [
    {
     "output_type": "stream",
     "name": "stdout",
     "text": [
      "              Accuracy  precision  recall      f1     roc\nLogiReg        0.14713    0.00272 0.85714 0.00543 0.50117\nDecisionTree   0.75233    0.00315 0.28571 0.00623 0.51966\nRandomFore     0.93129    0.00581 0.14286 0.01117 0.53815\nLGBM           0.92974    0.01124 0.28571 0.02162 0.60860\nSVC            0.14441    0.00272 0.85714 0.00542 0.49981\n              Accuracy  precision  recall      f1     roc\nLogiReg        0.14635    0.00272 0.85714 0.00543 0.50078\nDecisionTree   0.74806    0.00310 0.28571 0.00613 0.51752\nRandomFore     0.93672    0.00633 0.14286 0.01212 0.54087\nLGBM           0.93828    0.01282 0.28571 0.02454 0.61288\nSVC            0.14441    0.00272 0.85714 0.00542 0.49981\n              Accuracy  precision  recall      f1     roc\nLogiReg        0.40373    0.00325 0.71429 0.00647 0.55858\nDecisionTree   0.50970    0.00473 0.85714 0.00941 0.68295\nRandomFore     0.50000    0.00464 0.85714 0.00923 0.67808\nLGBM           0.44953    0.00352 0.71429 0.00700 0.58155\nSVC            0.24495    0.00308 0.85714 0.00613 0.55021\n              Accuracy  precision  recall      f1     roc\nLogiReg        0.14363    0.00271 0.85714 0.00541 0.49942\nDecisionTree   0.73874    0.00299 0.28571 0.00591 0.51285\nRandomFore     0.89286    0.00369 0.14286 0.00719 0.51888\nLGBM           0.89169    0.00365 0.14286 0.00712 0.51830\nSVC            0.14325    0.00271 0.85714 0.00541 0.49922\n              Accuracy  precision  recall      f1     roc\nLogiReg        0.14092    0.00271 0.85714 0.00539 0.49805\nDecisionTree   0.70419    0.00264 0.28571 0.00522 0.49552\nRandomFore     0.99728    0.00000 0.00000 0.00000 0.50000\nLGBM           0.99689    0.00000 0.00000 0.00000 0.49981\nSVC            0.13975    0.00270 0.85714 0.00539 0.49747\n"
     ]
    }
   ],
   "source": [
    "#### 샘플링별 확인 \n",
    "from imblearn.over_sampling import SMOTE\n",
    "from imblearn.over_sampling import ADASYN\n",
    "from imblearn.under_sampling import RandomUnderSampler\n",
    "from imblearn.combine import SMOTEENN\n",
    "from imblearn.over_sampling import RandomOverSampler\n",
    "\n",
    "smt = SMOTE(random_state=13)\n",
    "X_train_smt, y_train_smt = smt.fit_sample(X_train, y_train)\n",
    "\n",
    "ads = ADASYN(random_state=13)\n",
    "X_train_ads, y_train_ads = ads.fit_sample(X_train, y_train)\n",
    "\n",
    "rud = RandomUnderSampler(random_state=13)\n",
    "X_train_rud, y_train_rud = rud.fit_sample(X_train, y_train)\n",
    "\n",
    "sme = SMOTEENN(random_state=13)\n",
    "X_train_sme, y_train_sme = sme.fit_sample(X_train, y_train)\n",
    "\n",
    "rov = RandomOverSampler(random_state=13)\n",
    "X_train_rov, y_train_rov = rov.fit_sample(X_train, y_train)\n",
    "\n",
    "model_names = ['LogiReg', 'DecisionTree', 'RandomFore','LGBM','SVC']\n",
    "\n",
    "results_smt = get_result_df(models, model_names, X_train_smt, y_train_smt, X_valid, y_valid)\n",
    "results_ads = get_result_df(models, model_names, X_train_ads, y_train_ads, X_valid, y_valid)\n",
    "results_rud = get_result_df(models, model_names, X_train_rud, y_train_rud, X_valid, y_valid)\n",
    "results_sme = get_result_df(models, model_names, X_train_sme, y_train_sme, X_valid, y_valid)\n",
    "results_rov = get_result_df(models, model_names, X_train_rov, y_train_rov, X_valid, y_valid)\n",
    "\n",
    "\n",
    "print(results_smt)\n",
    "print(results_ads)\n",
    "print(results_rud)\n",
    "print(results_sme)\n",
    "print(results_rov)"
   ]
  },
  {
   "cell_type": "code",
   "execution_count": 169,
   "metadata": {},
   "outputs": [
    {
     "output_type": "execute_result",
     "data": {
      "text/plain": [
       "              Accuracy  precision  recall      f1     roc\n",
       "LogiReg        0.14092    0.00271 0.85714 0.00539 0.49805\n",
       "DecisionTree   0.70419    0.00264 0.28571 0.00522 0.49552\n",
       "RandomFore     0.99728    0.00000 0.00000 0.00000 0.50000\n",
       "LGBM           0.99689    0.00000 0.00000 0.00000 0.49981\n",
       "SVC            0.13975    0.00270 0.85714 0.00539 0.49747"
      ],
      "text/html": "<div>\n<style scoped>\n    .dataframe tbody tr th:only-of-type {\n        vertical-align: middle;\n    }\n\n    .dataframe tbody tr th {\n        vertical-align: top;\n    }\n\n    .dataframe thead th {\n        text-align: right;\n    }\n</style>\n<table border=\"1\" class=\"dataframe\">\n  <thead>\n    <tr style=\"text-align: right;\">\n      <th></th>\n      <th>Accuracy</th>\n      <th>precision</th>\n      <th>recall</th>\n      <th>f1</th>\n      <th>roc</th>\n    </tr>\n  </thead>\n  <tbody>\n    <tr>\n      <th>LogiReg</th>\n      <td>0.14092</td>\n      <td>0.00271</td>\n      <td>0.85714</td>\n      <td>0.00539</td>\n      <td>0.49805</td>\n    </tr>\n    <tr>\n      <th>DecisionTree</th>\n      <td>0.70419</td>\n      <td>0.00264</td>\n      <td>0.28571</td>\n      <td>0.00522</td>\n      <td>0.49552</td>\n    </tr>\n    <tr>\n      <th>RandomFore</th>\n      <td>0.99728</td>\n      <td>0.00000</td>\n      <td>0.00000</td>\n      <td>0.00000</td>\n      <td>0.50000</td>\n    </tr>\n    <tr>\n      <th>LGBM</th>\n      <td>0.99689</td>\n      <td>0.00000</td>\n      <td>0.00000</td>\n      <td>0.00000</td>\n      <td>0.49981</td>\n    </tr>\n    <tr>\n      <th>SVC</th>\n      <td>0.13975</td>\n      <td>0.00270</td>\n      <td>0.85714</td>\n      <td>0.00539</td>\n      <td>0.49747</td>\n    </tr>\n  </tbody>\n</table>\n</div>"
     },
     "metadata": {},
     "execution_count": 169
    }
   ],
   "source": [
    "results_rov"
   ]
  },
  {
   "source": [
    "## Trial#10\n",
    "## 변수삭제 원핫인코딩 결측치처리 처리방안 PCA\n",
    "## 동일분포 적용안함   처리안함           4\n"
   ],
   "cell_type": "markdown",
   "metadata": {}
  },
  {
   "cell_type": "code",
   "execution_count": 176,
   "metadata": {},
   "outputs": [],
   "source": [
    "df_10 = df.copy()\n",
    "\n",
    "y_target = df_10['fraud_YN']\n",
    "X_features = df_10.drop(columns= ['fraud_YN','sharing_type','has_previous_accident','socarpass','car_part2'], axis=1)\n",
    "\n",
    "y_target = df_10['fraud_YN'].reset_index()\n",
    "y_target = y_target.drop('index', axis=1)"
   ]
  },
  {
   "cell_type": "code",
   "execution_count": 177,
   "metadata": {},
   "outputs": [
    {
     "output_type": "execute_result",
     "data": {
      "text/plain": [
       "   component_1  component_2  component_3  component_4  target\n",
       "0    -10.87773     -1.68125     -0.44408     -0.78743       0\n",
       "1     89.08887     -0.44721      3.48782     -1.10475       0\n",
       "2    -10.91937      0.59531      0.76394      0.81186       0\n",
       "3    -10.86117      0.62668     -1.25494      1.74966       1\n",
       "4     89.14690     -0.59167     -0.51124      0.51621       0"
      ],
      "text/html": "<div>\n<style scoped>\n    .dataframe tbody tr th:only-of-type {\n        vertical-align: middle;\n    }\n\n    .dataframe tbody tr th {\n        vertical-align: top;\n    }\n\n    .dataframe thead th {\n        text-align: right;\n    }\n</style>\n<table border=\"1\" class=\"dataframe\">\n  <thead>\n    <tr style=\"text-align: right;\">\n      <th></th>\n      <th>component_1</th>\n      <th>component_2</th>\n      <th>component_3</th>\n      <th>component_4</th>\n      <th>target</th>\n    </tr>\n  </thead>\n  <tbody>\n    <tr>\n      <th>0</th>\n      <td>-10.87773</td>\n      <td>-1.68125</td>\n      <td>-0.44408</td>\n      <td>-0.78743</td>\n      <td>0</td>\n    </tr>\n    <tr>\n      <th>1</th>\n      <td>89.08887</td>\n      <td>-0.44721</td>\n      <td>3.48782</td>\n      <td>-1.10475</td>\n      <td>0</td>\n    </tr>\n    <tr>\n      <th>2</th>\n      <td>-10.91937</td>\n      <td>0.59531</td>\n      <td>0.76394</td>\n      <td>0.81186</td>\n      <td>0</td>\n    </tr>\n    <tr>\n      <th>3</th>\n      <td>-10.86117</td>\n      <td>0.62668</td>\n      <td>-1.25494</td>\n      <td>1.74966</td>\n      <td>1</td>\n    </tr>\n    <tr>\n      <th>4</th>\n      <td>89.14690</td>\n      <td>-0.59167</td>\n      <td>-0.51124</td>\n      <td>0.51621</td>\n      <td>0</td>\n    </tr>\n  </tbody>\n</table>\n</div>"
     },
     "metadata": {},
     "execution_count": 177
    }
   ],
   "source": [
    "from sklearn.decomposition import PCA\n",
    "from sklearn.preprocessing import RobustScaler\n",
    "\n",
    "scaler = RobustScaler()\n",
    "df_scaled = scaler.fit_transform(X_features)\n",
    "\n",
    "pca = PCA(n_components=4)\n",
    "pca.fit(df_scaled)\n",
    "df_pca = pca.transform(df_scaled)\n",
    "\n",
    "pca_columns = ['component_1','component_2','component_3','component_4']\n",
    "\n",
    "DF_pca = pd.DataFrame(df_pca, columns=pca_columns)\n",
    "DF_pca['target'] = y_target \n",
    "DF_pca.head()\n"
   ]
  },
  {
   "cell_type": "code",
   "execution_count": 178,
   "metadata": {},
   "outputs": [
    {
     "output_type": "execute_result",
     "data": {
      "text/plain": [
       "              Accuracy  precision  recall      f1     roc\n",
       "LogiReg        0.99728    0.00000 0.00000 0.00000 0.50000\n",
       "DecisionTree   0.99573    0.00000 0.00000 0.00000 0.49922\n",
       "RandomFore     0.99728    0.00000 0.00000 0.00000 0.50000\n",
       "LGBM           0.99728    0.00000 0.00000 0.00000 0.50000\n",
       "SVC            0.99728    0.00000 0.00000 0.00000 0.50000"
      ],
      "text/html": "<div>\n<style scoped>\n    .dataframe tbody tr th:only-of-type {\n        vertical-align: middle;\n    }\n\n    .dataframe tbody tr th {\n        vertical-align: top;\n    }\n\n    .dataframe thead th {\n        text-align: right;\n    }\n</style>\n<table border=\"1\" class=\"dataframe\">\n  <thead>\n    <tr style=\"text-align: right;\">\n      <th></th>\n      <th>Accuracy</th>\n      <th>precision</th>\n      <th>recall</th>\n      <th>f1</th>\n      <th>roc</th>\n    </tr>\n  </thead>\n  <tbody>\n    <tr>\n      <th>LogiReg</th>\n      <td>0.99728</td>\n      <td>0.00000</td>\n      <td>0.00000</td>\n      <td>0.00000</td>\n      <td>0.50000</td>\n    </tr>\n    <tr>\n      <th>DecisionTree</th>\n      <td>0.99573</td>\n      <td>0.00000</td>\n      <td>0.00000</td>\n      <td>0.00000</td>\n      <td>0.49922</td>\n    </tr>\n    <tr>\n      <th>RandomFore</th>\n      <td>0.99728</td>\n      <td>0.00000</td>\n      <td>0.00000</td>\n      <td>0.00000</td>\n      <td>0.50000</td>\n    </tr>\n    <tr>\n      <th>LGBM</th>\n      <td>0.99728</td>\n      <td>0.00000</td>\n      <td>0.00000</td>\n      <td>0.00000</td>\n      <td>0.50000</td>\n    </tr>\n    <tr>\n      <th>SVC</th>\n      <td>0.99728</td>\n      <td>0.00000</td>\n      <td>0.00000</td>\n      <td>0.00000</td>\n      <td>0.50000</td>\n    </tr>\n  </tbody>\n</table>\n</div>"
     },
     "metadata": {},
     "execution_count": 178
    }
   ],
   "source": [
    "y_target = DF_pca['target']\n",
    "X_features = DF_pca.drop('target', axis= 1)\n",
    "\n",
    "\n",
    "X_train, X_valid, y_train, y_valid = train_test_split(X_features, y_target, test_size =0.2, random_state=13, stratify= y_target)\n",
    "\n",
    "# 모델 객체 생성 \n",
    "lr_clf = LogisticRegression(random_state=13)\n",
    "dt_clf = DecisionTreeClassifier(random_state=13, max_depth=4)\n",
    "rf_clf = RandomForestClassifier(random_state=13, n_jobs = -1, n_estimators= 100 )\n",
    "lgbm_clf = LGBMClassifier(n_estimators=1000, num_leaves=64, n_jobs=-1, boost_from_average = False)\n",
    "svm_clf = LinearSVC()\n",
    "\n",
    "# 학습 진행 \n",
    "models=[lr_clf,dt_clf,rf_clf,lgbm_clf,svm_clf] \n",
    "model_names = ['LogiReg', 'DecisionTree', 'RandomFore','LGBM','SVC']\n",
    "results = get_result_df(models, model_names, X_train, y_train, X_valid, y_valid)\n",
    "results "
   ]
  },
  {
   "cell_type": "code",
   "execution_count": 179,
   "metadata": {},
   "outputs": [
    {
     "output_type": "stream",
     "name": "stdout",
     "text": [
      "              Accuracy  precision  recall      f1     roc\nLogiReg        0.64441    0.00436 0.57143 0.00866 0.60802\nDecisionTree   0.66498    0.00233 0.28571 0.00461 0.47587\nRandomFore     0.96234    0.00000 0.00000 0.00000 0.48248\nLGBM           0.96157    0.00000 0.00000 0.00000 0.48209\nSVC            0.59550    0.00384 0.57143 0.00762 0.58350\n              Accuracy  precision  recall      f1     roc\nLogiReg        0.64713    0.00440 0.57143 0.00872 0.60938\nDecisionTree   0.70846    0.00267 0.28571 0.00530 0.49766\nRandomFore     0.96118    0.00000 0.00000 0.00000 0.48190\nLGBM           0.96545    0.00000 0.00000 0.00000 0.48404\nSVC            0.68284    0.00489 0.57143 0.00970 0.62729\n              Accuracy  precision  recall      f1     roc\nLogiReg        0.65450    0.00449 0.57143 0.00891 0.61308\nDecisionTree   0.56871    0.00538 0.85714 0.01069 0.71253\nRandomFore     0.55008    0.00515 0.85714 0.01025 0.70319\nLGBM           0.57958    0.00369 0.57143 0.00733 0.57552\nSVC            0.66731    0.00466 0.57143 0.00925 0.61950\n              Accuracy  precision  recall      f1     roc\nLogiReg        0.48835    0.00303 0.57143 0.00603 0.52978\nDecisionTree   0.49845    0.00309 0.57143 0.00615 0.53484\nRandomFore     0.93284    0.00595 0.14286 0.01143 0.53893\nLGBM           0.93672    0.00633 0.14286 0.01212 0.54087\nSVC            0.54115    0.00338 0.57143 0.00672 0.55625\n              Accuracy  precision  recall      f1     roc\nLogiReg        0.64674    0.00439 0.57143 0.00871 0.60919\nDecisionTree   0.88820    0.00000 0.00000 0.00000 0.44531\nRandomFore     0.99728    0.00000 0.00000 0.00000 0.50000\nLGBM           0.99689    0.00000 0.00000 0.00000 0.49981\nSVC            0.63509    0.00425 0.57143 0.00844 0.60335\n"
     ]
    }
   ],
   "source": [
    "#### 샘플링별 확인 \n",
    "from imblearn.over_sampling import SMOTE\n",
    "from imblearn.over_sampling import ADASYN\n",
    "from imblearn.under_sampling import RandomUnderSampler\n",
    "from imblearn.combine import SMOTEENN\n",
    "from imblearn.over_sampling import RandomOverSampler\n",
    "\n",
    "smt = SMOTE(random_state=13)\n",
    "X_train_smt, y_train_smt = smt.fit_sample(X_train, y_train)\n",
    "\n",
    "ads = ADASYN(random_state=13)\n",
    "X_train_ads, y_train_ads = ads.fit_sample(X_train, y_train)\n",
    "\n",
    "rud = RandomUnderSampler(random_state=13)\n",
    "X_train_rud, y_train_rud = rud.fit_sample(X_train, y_train)\n",
    "\n",
    "sme = SMOTEENN(random_state=13)\n",
    "X_train_sme, y_train_sme = sme.fit_sample(X_train, y_train)\n",
    "\n",
    "rov = RandomOverSampler(random_state=13)\n",
    "X_train_rov, y_train_rov = rov.fit_sample(X_train, y_train)\n",
    "\n",
    "model_names = ['LogiReg', 'DecisionTree', 'RandomFore','LGBM','SVC']\n",
    "\n",
    "results_smt = get_result_df(models, model_names, X_train_smt, y_train_smt, X_valid, y_valid)\n",
    "results_ads = get_result_df(models, model_names, X_train_ads, y_train_ads, X_valid, y_valid)\n",
    "results_rud = get_result_df(models, model_names, X_train_rud, y_train_rud, X_valid, y_valid)\n",
    "results_sme = get_result_df(models, model_names, X_train_sme, y_train_sme, X_valid, y_valid)\n",
    "results_rov = get_result_df(models, model_names, X_train_rov, y_train_rov, X_valid, y_valid)\n",
    "\n",
    "\n",
    "print(results_smt)\n",
    "print(results_ads)\n",
    "print(results_rud)\n",
    "print(results_sme)\n",
    "print(results_rov)"
   ]
  },
  {
   "cell_type": "code",
   "execution_count": 184,
   "metadata": {},
   "outputs": [
    {
     "output_type": "execute_result",
     "data": {
      "text/plain": [
       "              Accuracy  precision  recall      f1     roc\n",
       "LogiReg        0.64674    0.00439 0.57143 0.00871 0.60919\n",
       "DecisionTree   0.88820    0.00000 0.00000 0.00000 0.44531\n",
       "RandomFore     0.99728    0.00000 0.00000 0.00000 0.50000\n",
       "LGBM           0.99689    0.00000 0.00000 0.00000 0.49981\n",
       "SVC            0.63509    0.00425 0.57143 0.00844 0.60335"
      ],
      "text/html": "<div>\n<style scoped>\n    .dataframe tbody tr th:only-of-type {\n        vertical-align: middle;\n    }\n\n    .dataframe tbody tr th {\n        vertical-align: top;\n    }\n\n    .dataframe thead th {\n        text-align: right;\n    }\n</style>\n<table border=\"1\" class=\"dataframe\">\n  <thead>\n    <tr style=\"text-align: right;\">\n      <th></th>\n      <th>Accuracy</th>\n      <th>precision</th>\n      <th>recall</th>\n      <th>f1</th>\n      <th>roc</th>\n    </tr>\n  </thead>\n  <tbody>\n    <tr>\n      <th>LogiReg</th>\n      <td>0.64674</td>\n      <td>0.00439</td>\n      <td>0.57143</td>\n      <td>0.00871</td>\n      <td>0.60919</td>\n    </tr>\n    <tr>\n      <th>DecisionTree</th>\n      <td>0.88820</td>\n      <td>0.00000</td>\n      <td>0.00000</td>\n      <td>0.00000</td>\n      <td>0.44531</td>\n    </tr>\n    <tr>\n      <th>RandomFore</th>\n      <td>0.99728</td>\n      <td>0.00000</td>\n      <td>0.00000</td>\n      <td>0.00000</td>\n      <td>0.50000</td>\n    </tr>\n    <tr>\n      <th>LGBM</th>\n      <td>0.99689</td>\n      <td>0.00000</td>\n      <td>0.00000</td>\n      <td>0.00000</td>\n      <td>0.49981</td>\n    </tr>\n    <tr>\n      <th>SVC</th>\n      <td>0.63509</td>\n      <td>0.00425</td>\n      <td>0.57143</td>\n      <td>0.00844</td>\n      <td>0.60335</td>\n    </tr>\n  </tbody>\n</table>\n</div>"
     },
     "metadata": {},
     "execution_count": 184
    }
   ],
   "source": [
    "results_rov"
   ]
  },
  {
   "cell_type": "code",
   "execution_count": 181,
   "metadata": {},
   "outputs": [
    {
     "output_type": "execute_result",
     "data": {
      "text/plain": [
       "              Accuracy  precision  recall      f1     roc\n",
       "LogiReg        0.64713    0.00440 0.57143 0.00872 0.60938\n",
       "DecisionTree   0.70846    0.00267 0.28571 0.00530 0.49766\n",
       "RandomFore     0.96118    0.00000 0.00000 0.00000 0.48190\n",
       "LGBM           0.96545    0.00000 0.00000 0.00000 0.48404\n",
       "SVC            0.68284    0.00489 0.57143 0.00970 0.62729"
      ],
      "text/html": "<div>\n<style scoped>\n    .dataframe tbody tr th:only-of-type {\n        vertical-align: middle;\n    }\n\n    .dataframe tbody tr th {\n        vertical-align: top;\n    }\n\n    .dataframe thead th {\n        text-align: right;\n    }\n</style>\n<table border=\"1\" class=\"dataframe\">\n  <thead>\n    <tr style=\"text-align: right;\">\n      <th></th>\n      <th>Accuracy</th>\n      <th>precision</th>\n      <th>recall</th>\n      <th>f1</th>\n      <th>roc</th>\n    </tr>\n  </thead>\n  <tbody>\n    <tr>\n      <th>LogiReg</th>\n      <td>0.64713</td>\n      <td>0.00440</td>\n      <td>0.57143</td>\n      <td>0.00872</td>\n      <td>0.60938</td>\n    </tr>\n    <tr>\n      <th>DecisionTree</th>\n      <td>0.70846</td>\n      <td>0.00267</td>\n      <td>0.28571</td>\n      <td>0.00530</td>\n      <td>0.49766</td>\n    </tr>\n    <tr>\n      <th>RandomFore</th>\n      <td>0.96118</td>\n      <td>0.00000</td>\n      <td>0.00000</td>\n      <td>0.00000</td>\n      <td>0.48190</td>\n    </tr>\n    <tr>\n      <th>LGBM</th>\n      <td>0.96545</td>\n      <td>0.00000</td>\n      <td>0.00000</td>\n      <td>0.00000</td>\n      <td>0.48404</td>\n    </tr>\n    <tr>\n      <th>SVC</th>\n      <td>0.68284</td>\n      <td>0.00489</td>\n      <td>0.57143</td>\n      <td>0.00970</td>\n      <td>0.62729</td>\n    </tr>\n  </tbody>\n</table>\n</div>"
     },
     "metadata": {},
     "execution_count": 181
    }
   ],
   "source": [
    "results_ads"
   ]
  },
  {
   "source": [
    "## Trial#11\n",
    "## 변수삭제 원핫인코딩 결측치처리 처리방안 PCA\n",
    "## 동일분포 적용안함   처리안함           5\n"
   ],
   "cell_type": "markdown",
   "metadata": {}
  },
  {
   "cell_type": "code",
   "execution_count": 185,
   "metadata": {},
   "outputs": [],
   "source": [
    "df_11 = df.copy()\n",
    "\n",
    "y_target = df_11['fraud_YN']\n",
    "X_features = df_11.drop(columns= ['fraud_YN','sharing_type','has_previous_accident','socarpass','car_part2'], axis=1)\n",
    "\n",
    "y_target = df_11['fraud_YN'].reset_index()\n",
    "y_target = y_target.drop('index', axis=1)"
   ]
  },
  {
   "cell_type": "code",
   "execution_count": 186,
   "metadata": {},
   "outputs": [
    {
     "output_type": "execute_result",
     "data": {
      "text/plain": [
       "   component_1  component_2  component_3  component_4  component_5  target\n",
       "0    -10.87773     -1.68125     -0.44408     -0.78743      0.02786       0\n",
       "1     89.08887     -0.44721      3.48782     -1.10475     -0.44019       0\n",
       "2    -10.91937      0.59531      0.76394      0.81186     -1.57318       0\n",
       "3    -10.86117      0.62668     -1.25494      1.74966      2.71913       1\n",
       "4     89.14690     -0.59167     -0.51124      0.51621      2.26755       0"
      ],
      "text/html": "<div>\n<style scoped>\n    .dataframe tbody tr th:only-of-type {\n        vertical-align: middle;\n    }\n\n    .dataframe tbody tr th {\n        vertical-align: top;\n    }\n\n    .dataframe thead th {\n        text-align: right;\n    }\n</style>\n<table border=\"1\" class=\"dataframe\">\n  <thead>\n    <tr style=\"text-align: right;\">\n      <th></th>\n      <th>component_1</th>\n      <th>component_2</th>\n      <th>component_3</th>\n      <th>component_4</th>\n      <th>component_5</th>\n      <th>target</th>\n    </tr>\n  </thead>\n  <tbody>\n    <tr>\n      <th>0</th>\n      <td>-10.87773</td>\n      <td>-1.68125</td>\n      <td>-0.44408</td>\n      <td>-0.78743</td>\n      <td>0.02786</td>\n      <td>0</td>\n    </tr>\n    <tr>\n      <th>1</th>\n      <td>89.08887</td>\n      <td>-0.44721</td>\n      <td>3.48782</td>\n      <td>-1.10475</td>\n      <td>-0.44019</td>\n      <td>0</td>\n    </tr>\n    <tr>\n      <th>2</th>\n      <td>-10.91937</td>\n      <td>0.59531</td>\n      <td>0.76394</td>\n      <td>0.81186</td>\n      <td>-1.57318</td>\n      <td>0</td>\n    </tr>\n    <tr>\n      <th>3</th>\n      <td>-10.86117</td>\n      <td>0.62668</td>\n      <td>-1.25494</td>\n      <td>1.74966</td>\n      <td>2.71913</td>\n      <td>1</td>\n    </tr>\n    <tr>\n      <th>4</th>\n      <td>89.14690</td>\n      <td>-0.59167</td>\n      <td>-0.51124</td>\n      <td>0.51621</td>\n      <td>2.26755</td>\n      <td>0</td>\n    </tr>\n  </tbody>\n</table>\n</div>"
     },
     "metadata": {},
     "execution_count": 186
    }
   ],
   "source": [
    "from sklearn.decomposition import PCA\n",
    "from sklearn.preprocessing import RobustScaler\n",
    "\n",
    "scaler = RobustScaler()\n",
    "df_scaled = scaler.fit_transform(X_features)\n",
    "\n",
    "pca = PCA(n_components=5)\n",
    "pca.fit(df_scaled)\n",
    "df_pca = pca.transform(df_scaled)\n",
    "\n",
    "pca_columns = ['component_1','component_2','component_3','component_4','component_5']\n",
    "\n",
    "DF_pca = pd.DataFrame(df_pca, columns=pca_columns)\n",
    "DF_pca['target'] = y_target \n",
    "DF_pca.head()\n"
   ]
  },
  {
   "cell_type": "code",
   "execution_count": 187,
   "metadata": {},
   "outputs": [
    {
     "output_type": "execute_result",
     "data": {
      "text/plain": [
       "              Accuracy  precision  recall      f1     roc\n",
       "LogiReg        0.99728    0.00000 0.00000 0.00000 0.50000\n",
       "DecisionTree   0.99573    0.00000 0.00000 0.00000 0.49922\n",
       "RandomFore     0.99728    0.00000 0.00000 0.00000 0.50000\n",
       "LGBM           0.99728    0.00000 0.00000 0.00000 0.50000\n",
       "SVC            0.99728    0.00000 0.00000 0.00000 0.50000"
      ],
      "text/html": "<div>\n<style scoped>\n    .dataframe tbody tr th:only-of-type {\n        vertical-align: middle;\n    }\n\n    .dataframe tbody tr th {\n        vertical-align: top;\n    }\n\n    .dataframe thead th {\n        text-align: right;\n    }\n</style>\n<table border=\"1\" class=\"dataframe\">\n  <thead>\n    <tr style=\"text-align: right;\">\n      <th></th>\n      <th>Accuracy</th>\n      <th>precision</th>\n      <th>recall</th>\n      <th>f1</th>\n      <th>roc</th>\n    </tr>\n  </thead>\n  <tbody>\n    <tr>\n      <th>LogiReg</th>\n      <td>0.99728</td>\n      <td>0.00000</td>\n      <td>0.00000</td>\n      <td>0.00000</td>\n      <td>0.50000</td>\n    </tr>\n    <tr>\n      <th>DecisionTree</th>\n      <td>0.99573</td>\n      <td>0.00000</td>\n      <td>0.00000</td>\n      <td>0.00000</td>\n      <td>0.49922</td>\n    </tr>\n    <tr>\n      <th>RandomFore</th>\n      <td>0.99728</td>\n      <td>0.00000</td>\n      <td>0.00000</td>\n      <td>0.00000</td>\n      <td>0.50000</td>\n    </tr>\n    <tr>\n      <th>LGBM</th>\n      <td>0.99728</td>\n      <td>0.00000</td>\n      <td>0.00000</td>\n      <td>0.00000</td>\n      <td>0.50000</td>\n    </tr>\n    <tr>\n      <th>SVC</th>\n      <td>0.99728</td>\n      <td>0.00000</td>\n      <td>0.00000</td>\n      <td>0.00000</td>\n      <td>0.50000</td>\n    </tr>\n  </tbody>\n</table>\n</div>"
     },
     "metadata": {},
     "execution_count": 187
    }
   ],
   "source": [
    "y_target = DF_pca['target']\n",
    "X_features = DF_pca.drop('target', axis= 1)\n",
    "\n",
    "\n",
    "X_train, X_valid, y_train, y_valid = train_test_split(X_features, y_target, test_size =0.2, random_state=13, stratify= y_target)\n",
    "\n",
    "# 모델 객체 생성 \n",
    "lr_clf = LogisticRegression(random_state=13)\n",
    "dt_clf = DecisionTreeClassifier(random_state=13, max_depth=4)\n",
    "rf_clf = RandomForestClassifier(random_state=13, n_jobs = -1, n_estimators= 100 )\n",
    "lgbm_clf = LGBMClassifier(n_estimators=1000, num_leaves=64, n_jobs=-1, boost_from_average = False)\n",
    "svm_clf = LinearSVC()\n",
    "\n",
    "# 학습 진행 \n",
    "models=[lr_clf,dt_clf,rf_clf,lgbm_clf,svm_clf] \n",
    "model_names = ['LogiReg', 'DecisionTree', 'RandomFore','LGBM','SVC']\n",
    "results = get_result_df(models, model_names, X_train, y_train, X_valid, y_valid)\n",
    "results "
   ]
  },
  {
   "cell_type": "code",
   "execution_count": 188,
   "metadata": {},
   "outputs": [
    {
     "output_type": "stream",
     "name": "stdout",
     "text": [
      "              Accuracy  precision  recall      f1     roc\nLogiReg        0.68556    0.00493 0.57143 0.00978 0.62865\nDecisionTree   0.60443    0.00295 0.42857 0.00585 0.51674\nRandomFore     0.97438    0.00000 0.00000 0.00000 0.48852\nLGBM           0.97477    0.00000 0.00000 0.00000 0.48871\nSVC            0.69410    0.00507 0.57143 0.01005 0.63293\n              Accuracy  precision  recall      f1     roc\nLogiReg        0.68789    0.00497 0.57143 0.00985 0.62982\nDecisionTree   0.66848    0.00352 0.42857 0.00698 0.54885\nRandomFore     0.97554    0.00000 0.00000 0.00000 0.48910\nLGBM           0.97710    0.00000 0.00000 0.00000 0.48988\nSVC            0.67585    0.00478 0.57143 0.00949 0.62378\n              Accuracy  precision  recall      f1     roc\nLogiReg        0.80318    0.00593 0.42857 0.01170 0.61639\nDecisionTree   0.56871    0.00538 0.85714 0.01069 0.71253\nRandomFore     0.55901    0.00526 0.85714 0.01045 0.70767\nLGBM           0.57182    0.00452 0.71429 0.00898 0.64286\nSVC            0.81988    0.00648 0.42857 0.01277 0.62476\n              Accuracy  precision  recall      f1     roc\nLogiReg        0.66537    0.00463 0.57143 0.00920 0.61853\nDecisionTree   0.60132    0.00292 0.42857 0.00581 0.51518\nRandomFore     0.95264    0.00000 0.00000 0.00000 0.47762\nLGBM           0.95536    0.00000 0.00000 0.00000 0.47898\nSVC            0.70264    0.00522 0.57143 0.01034 0.63721\n              Accuracy  precision  recall      f1     roc\nLogiReg        0.77989    0.00704 0.57143 0.01391 0.67594\nDecisionTree   0.57182    0.00272 0.42857 0.00541 0.50039\nRandomFore     0.99728    0.00000 0.00000 0.00000 0.50000\nLGBM           0.99728    0.00000 0.00000 0.00000 0.50000\nSVC            0.79387    0.00566 0.42857 0.01117 0.61172\n"
     ]
    }
   ],
   "source": [
    "#### 샘플링별 확인 \n",
    "from imblearn.over_sampling import SMOTE\n",
    "from imblearn.over_sampling import ADASYN\n",
    "from imblearn.under_sampling import RandomUnderSampler\n",
    "from imblearn.combine import SMOTEENN\n",
    "from imblearn.over_sampling import RandomOverSampler\n",
    "\n",
    "smt = SMOTE(random_state=13)\n",
    "X_train_smt, y_train_smt = smt.fit_sample(X_train, y_train)\n",
    "\n",
    "ads = ADASYN(random_state=13)\n",
    "X_train_ads, y_train_ads = ads.fit_sample(X_train, y_train)\n",
    "\n",
    "rud = RandomUnderSampler(random_state=13)\n",
    "X_train_rud, y_train_rud = rud.fit_sample(X_train, y_train)\n",
    "\n",
    "sme = SMOTEENN(random_state=13)\n",
    "X_train_sme, y_train_sme = sme.fit_sample(X_train, y_train)\n",
    "\n",
    "rov = RandomOverSampler(random_state=13)\n",
    "X_train_rov, y_train_rov = rov.fit_sample(X_train, y_train)\n",
    "\n",
    "model_names = ['LogiReg', 'DecisionTree', 'RandomFore','LGBM','SVC']\n",
    "\n",
    "results_smt = get_result_df(models, model_names, X_train_smt, y_train_smt, X_valid, y_valid)\n",
    "results_ads = get_result_df(models, model_names, X_train_ads, y_train_ads, X_valid, y_valid)\n",
    "results_rud = get_result_df(models, model_names, X_train_rud, y_train_rud, X_valid, y_valid)\n",
    "results_sme = get_result_df(models, model_names, X_train_sme, y_train_sme, X_valid, y_valid)\n",
    "results_rov = get_result_df(models, model_names, X_train_rov, y_train_rov, X_valid, y_valid)\n",
    "\n",
    "\n",
    "print(results_smt)\n",
    "print(results_ads)\n",
    "print(results_rud)\n",
    "print(results_sme)\n",
    "print(results_rov)"
   ]
  },
  {
   "cell_type": "code",
   "execution_count": 193,
   "metadata": {},
   "outputs": [
    {
     "output_type": "execute_result",
     "data": {
      "text/plain": [
       "              Accuracy  precision  recall      f1     roc\n",
       "LogiReg        0.77989    0.00704 0.57143 0.01391 0.67594\n",
       "DecisionTree   0.57182    0.00272 0.42857 0.00541 0.50039\n",
       "RandomFore     0.99728    0.00000 0.00000 0.00000 0.50000\n",
       "LGBM           0.99728    0.00000 0.00000 0.00000 0.50000\n",
       "SVC            0.79387    0.00566 0.42857 0.01117 0.61172"
      ],
      "text/html": "<div>\n<style scoped>\n    .dataframe tbody tr th:only-of-type {\n        vertical-align: middle;\n    }\n\n    .dataframe tbody tr th {\n        vertical-align: top;\n    }\n\n    .dataframe thead th {\n        text-align: right;\n    }\n</style>\n<table border=\"1\" class=\"dataframe\">\n  <thead>\n    <tr style=\"text-align: right;\">\n      <th></th>\n      <th>Accuracy</th>\n      <th>precision</th>\n      <th>recall</th>\n      <th>f1</th>\n      <th>roc</th>\n    </tr>\n  </thead>\n  <tbody>\n    <tr>\n      <th>LogiReg</th>\n      <td>0.77989</td>\n      <td>0.00704</td>\n      <td>0.57143</td>\n      <td>0.01391</td>\n      <td>0.67594</td>\n    </tr>\n    <tr>\n      <th>DecisionTree</th>\n      <td>0.57182</td>\n      <td>0.00272</td>\n      <td>0.42857</td>\n      <td>0.00541</td>\n      <td>0.50039</td>\n    </tr>\n    <tr>\n      <th>RandomFore</th>\n      <td>0.99728</td>\n      <td>0.00000</td>\n      <td>0.00000</td>\n      <td>0.00000</td>\n      <td>0.50000</td>\n    </tr>\n    <tr>\n      <th>LGBM</th>\n      <td>0.99728</td>\n      <td>0.00000</td>\n      <td>0.00000</td>\n      <td>0.00000</td>\n      <td>0.50000</td>\n    </tr>\n    <tr>\n      <th>SVC</th>\n      <td>0.79387</td>\n      <td>0.00566</td>\n      <td>0.42857</td>\n      <td>0.01117</td>\n      <td>0.61172</td>\n    </tr>\n  </tbody>\n</table>\n</div>"
     },
     "metadata": {},
     "execution_count": 193
    }
   ],
   "source": [
    "results_rov"
   ]
  },
  {
   "cell_type": "code",
   "execution_count": null,
   "metadata": {},
   "outputs": [],
   "source": []
  }
 ]
}