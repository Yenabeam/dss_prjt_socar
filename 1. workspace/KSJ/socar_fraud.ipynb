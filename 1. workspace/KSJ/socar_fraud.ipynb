{
 "cells": [
  {
   "cell_type": "markdown",
   "metadata": {},
   "source": [
    "# Read Dataset"
   ]
  },
  {
   "cell_type": "code",
   "execution_count": 357,
   "metadata": {
    "scrolled": false
   },
   "outputs": [
    {
     "data": {
      "text/html": [
       "<div>\n",
       "<style scoped>\n",
       "    .dataframe tbody tr th:only-of-type {\n",
       "        vertical-align: middle;\n",
       "    }\n",
       "\n",
       "    .dataframe tbody tr th {\n",
       "        vertical-align: top;\n",
       "    }\n",
       "\n",
       "    .dataframe thead th {\n",
       "        text-align: right;\n",
       "    }\n",
       "</style>\n",
       "<table border=\"1\" class=\"dataframe\">\n",
       "  <thead>\n",
       "    <tr style=\"text-align: right;\">\n",
       "      <th></th>\n",
       "      <th>fraud_YN</th>\n",
       "      <th>car_model</th>\n",
       "      <th>sharing_type</th>\n",
       "      <th>age_group</th>\n",
       "      <th>has_previous_accident</th>\n",
       "      <th>cumulative_use_count</th>\n",
       "      <th>b2b</th>\n",
       "      <th>accident_ratio</th>\n",
       "      <th>pf_type</th>\n",
       "      <th>socarpass</th>\n",
       "      <th>...</th>\n",
       "      <th>repair_cost</th>\n",
       "      <th>insure_cost</th>\n",
       "      <th>accident_location</th>\n",
       "      <th>car_part1</th>\n",
       "      <th>car_part2</th>\n",
       "      <th>repair_cnt</th>\n",
       "      <th>acc_type1</th>\n",
       "      <th>insurance_site_aid_YN</th>\n",
       "      <th>police_site_aid_YN</th>\n",
       "      <th>total_prsn_cnt</th>\n",
       "    </tr>\n",
       "  </thead>\n",
       "  <tbody>\n",
       "    <tr>\n",
       "      <th>0</th>\n",
       "      <td>0</td>\n",
       "      <td>2</td>\n",
       "      <td>1</td>\n",
       "      <td>3</td>\n",
       "      <td>0</td>\n",
       "      <td>2</td>\n",
       "      <td>0</td>\n",
       "      <td>100</td>\n",
       "      <td>2</td>\n",
       "      <td>0</td>\n",
       "      <td>...</td>\n",
       "      <td>1.302547e+05</td>\n",
       "      <td>0</td>\n",
       "      <td>1</td>\n",
       "      <td>0</td>\n",
       "      <td>0</td>\n",
       "      <td>1</td>\n",
       "      <td>0</td>\n",
       "      <td>0</td>\n",
       "      <td>0</td>\n",
       "      <td>-1</td>\n",
       "    </tr>\n",
       "    <tr>\n",
       "      <th>1</th>\n",
       "      <td>0</td>\n",
       "      <td>1</td>\n",
       "      <td>0</td>\n",
       "      <td>4</td>\n",
       "      <td>0</td>\n",
       "      <td>4</td>\n",
       "      <td>0</td>\n",
       "      <td>0</td>\n",
       "      <td>3</td>\n",
       "      <td>1</td>\n",
       "      <td>...</td>\n",
       "      <td>0.000000e+00</td>\n",
       "      <td>0</td>\n",
       "      <td>1</td>\n",
       "      <td>1</td>\n",
       "      <td>1</td>\n",
       "      <td>2</td>\n",
       "      <td>1</td>\n",
       "      <td>1</td>\n",
       "      <td>1</td>\n",
       "      <td>0</td>\n",
       "    </tr>\n",
       "    <tr>\n",
       "      <th>2</th>\n",
       "      <td>0</td>\n",
       "      <td>1</td>\n",
       "      <td>0</td>\n",
       "      <td>4</td>\n",
       "      <td>1</td>\n",
       "      <td>4</td>\n",
       "      <td>0</td>\n",
       "      <td>100</td>\n",
       "      <td>3</td>\n",
       "      <td>1</td>\n",
       "      <td>...</td>\n",
       "      <td>2.581306e+05</td>\n",
       "      <td>12925040</td>\n",
       "      <td>3</td>\n",
       "      <td>1</td>\n",
       "      <td>0</td>\n",
       "      <td>2</td>\n",
       "      <td>1</td>\n",
       "      <td>1</td>\n",
       "      <td>1</td>\n",
       "      <td>0</td>\n",
       "    </tr>\n",
       "    <tr>\n",
       "      <th>3</th>\n",
       "      <td>0</td>\n",
       "      <td>3</td>\n",
       "      <td>1</td>\n",
       "      <td>3</td>\n",
       "      <td>0</td>\n",
       "      <td>4</td>\n",
       "      <td>0</td>\n",
       "      <td>0</td>\n",
       "      <td>2</td>\n",
       "      <td>0</td>\n",
       "      <td>...</td>\n",
       "      <td>1.341009e+06</td>\n",
       "      <td>0</td>\n",
       "      <td>3</td>\n",
       "      <td>1</td>\n",
       "      <td>0</td>\n",
       "      <td>1</td>\n",
       "      <td>0</td>\n",
       "      <td>0</td>\n",
       "      <td>0</td>\n",
       "      <td>-1</td>\n",
       "    </tr>\n",
       "    <tr>\n",
       "      <th>4</th>\n",
       "      <td>0</td>\n",
       "      <td>1</td>\n",
       "      <td>0</td>\n",
       "      <td>1</td>\n",
       "      <td>0</td>\n",
       "      <td>1</td>\n",
       "      <td>0</td>\n",
       "      <td>100</td>\n",
       "      <td>1</td>\n",
       "      <td>0</td>\n",
       "      <td>...</td>\n",
       "      <td>5.240306e+05</td>\n",
       "      <td>1209410</td>\n",
       "      <td>1</td>\n",
       "      <td>0</td>\n",
       "      <td>0</td>\n",
       "      <td>2</td>\n",
       "      <td>0</td>\n",
       "      <td>0</td>\n",
       "      <td>0</td>\n",
       "      <td>-1</td>\n",
       "    </tr>\n",
       "  </tbody>\n",
       "</table>\n",
       "<p>5 rows × 24 columns</p>\n",
       "</div>"
      ],
      "text/plain": [
       "   fraud_YN  car_model  sharing_type  age_group  has_previous_accident  \\\n",
       "0         0          2             1          3                      0   \n",
       "1         0          1             0          4                      0   \n",
       "2         0          1             0          4                      1   \n",
       "3         0          3             1          3                      0   \n",
       "4         0          1             0          1                      0   \n",
       "\n",
       "   cumulative_use_count  b2b  accident_ratio  pf_type  socarpass  ...  \\\n",
       "0                     2    0             100        2          0  ...   \n",
       "1                     4    0               0        3          1  ...   \n",
       "2                     4    0             100        3          1  ...   \n",
       "3                     4    0               0        2          0  ...   \n",
       "4                     1    0             100        1          0  ...   \n",
       "\n",
       "    repair_cost  insure_cost  accident_location  car_part1  car_part2  \\\n",
       "0  1.302547e+05            0                  1          0          0   \n",
       "1  0.000000e+00            0                  1          1          1   \n",
       "2  2.581306e+05     12925040                  3          1          0   \n",
       "3  1.341009e+06            0                  3          1          0   \n",
       "4  5.240306e+05      1209410                  1          0          0   \n",
       "\n",
       "   repair_cnt  acc_type1  insurance_site_aid_YN  police_site_aid_YN  \\\n",
       "0           1          0                      0                   0   \n",
       "1           2          1                      1                   1   \n",
       "2           2          1                      1                   1   \n",
       "3           1          0                      0                   0   \n",
       "4           2          0                      0                   0   \n",
       "\n",
       "   total_prsn_cnt  \n",
       "0              -1  \n",
       "1               0  \n",
       "2               0  \n",
       "3              -1  \n",
       "4              -1  \n",
       "\n",
       "[5 rows x 24 columns]"
      ]
     },
     "execution_count": 357,
     "metadata": {},
     "output_type": "execute_result"
    }
   ],
   "source": [
    "socar = pd.read_csv('insurance_fraud_detect_data.csv')\n",
    "socar.drop(columns='test_set', inplace=True)\n",
    "socar.head()"
   ]
  },
  {
   "cell_type": "code",
   "execution_count": 358,
   "metadata": {
    "scrolled": true
   },
   "outputs": [
    {
     "data": {
      "text/plain": [
       "(fraud_YN                      0.001801\n",
       " car_model                     1.706324\n",
       " sharing_type                  0.137282\n",
       " age_group                     2.433660\n",
       " has_previous_accident         0.083750\n",
       " cumulative_use_count          2.548929\n",
       " b2b                           0.012207\n",
       " accident_ratio               94.649290\n",
       " pf_type                       1.792876\n",
       " socarpass                     0.158695\n",
       " socarsave                     0.083350\n",
       " start_hour                    3.684110\n",
       " duration                      2.212728\n",
       " accident_hour                 3.279067\n",
       " repair_cost              456292.366005\n",
       " insure_cost              966219.791575\n",
       " accident_location             1.318591\n",
       " car_part1                     0.354012\n",
       " car_part2                     0.149590\n",
       " repair_cnt                    1.443166\n",
       " acc_type1                     0.257555\n",
       " insurance_site_aid_YN         0.300680\n",
       " police_site_aid_YN            0.252552\n",
       " total_prsn_cnt               -0.533720\n",
       " dtype: float64,\n",
       " fraud_YN                      0.0000\n",
       " car_model                     2.0000\n",
       " sharing_type                  0.0000\n",
       " age_group                     2.0000\n",
       " has_previous_accident         0.0000\n",
       " cumulative_use_count          2.0000\n",
       " b2b                           0.0000\n",
       " accident_ratio              100.0000\n",
       " pf_type                       2.0000\n",
       " socarpass                     0.0000\n",
       " socarsave                     0.0000\n",
       " start_hour                    4.0000\n",
       " duration                      2.0000\n",
       " accident_hour                 2.0000\n",
       " repair_cost              303747.9937\n",
       " insure_cost                   0.0000\n",
       " accident_location             1.0000\n",
       " car_part1                     0.0000\n",
       " car_part2                     0.0000\n",
       " repair_cnt                    1.0000\n",
       " acc_type1                     0.0000\n",
       " insurance_site_aid_YN         0.0000\n",
       " police_site_aid_YN            0.0000\n",
       " total_prsn_cnt               -1.0000\n",
       " dtype: float64)"
      ]
     },
     "execution_count": 358,
     "metadata": {},
     "output_type": "execute_result"
    }
   ],
   "source": [
    "socar[socar['repair_cost']!=0].mean(), socar[socar['repair_cost']!=0].median()"
   ]
  },
  {
   "cell_type": "code",
   "execution_count": null,
   "metadata": {},
   "outputs": [],
   "source": []
  },
  {
   "cell_type": "markdown",
   "metadata": {},
   "source": [
    "# EDA"
   ]
  },
  {
   "cell_type": "code",
   "execution_count": 359,
   "metadata": {},
   "outputs": [],
   "source": [
    "import matplotlib.pyplot as plt\n",
    "\n",
    "from matplotlib import pyplot\n",
    "\n",
    "from matplotlib import font_manager\n",
    "\n",
    "f_path = \"C:\\Windows\\Fonts\\Malgun.ttf\"\n",
    "\n",
    "font_manager.FontProperties(fname=f_path).get_name()\n",
    "\n",
    "from matplotlib import rc\n",
    "\n",
    "rc('font', family='Malgun Gothic')\n",
    "\n",
    "sns.set_style('whitegrid', {'font.family':'Malgun Gothic'})"
   ]
  },
  {
   "cell_type": "code",
   "execution_count": 360,
   "metadata": {
    "scrolled": false
   },
   "outputs": [
    {
     "data": {
      "image/png": "[encoded data removed]",
      "text/plain": [
       "<Figure size 432x288 with 1 Axes>"
      ]
     },
     "metadata": {
      "image/png": {
       "height": 268,
       "width": 405
      }
     },
     "output_type": "display_data"
    }
   ],
   "source": [
    "sns.countplot(data=socar, x='fraud_YN');"
   ]
  },
  {
   "cell_type": "code",
   "execution_count": 361,
   "metadata": {},
   "outputs": [
    {
     "data": {
      "text/plain": [
       "<seaborn.axisgrid.FacetGrid at 0x200dea52a00>"
      ]
     },
     "execution_count": 361,
     "metadata": {},
     "output_type": "execute_result"
    },
    {
     "data": {
      "image/png": "[encoded data removed]",
      "text/plain": [
       "<Figure size 720x360 with 2 Axes>"
      ]
     },
     "metadata": {
      "image/png": {
       "height": 348,
       "width": 725
      }
     },
     "output_type": "display_data"
    }
   ],
   "source": [
    "sns.catplot(data=socar, x='start_hour', col='fraud_YN', kind=\"count\")"
   ]
  },
  {
   "cell_type": "code",
   "execution_count": null,
   "metadata": {},
   "outputs": [],
   "source": []
  },
  {
   "cell_type": "code",
   "execution_count": 362,
   "metadata": {},
   "outputs": [
    {
     "data": {
      "image/png": "[encoded data removed]",
      "text/plain": [
       "<Figure size 432x288 with 1 Axes>"
      ]
     },
     "metadata": {
      "image/png": {
       "height": 268,
       "width": 405
      }
     },
     "output_type": "display_data"
    }
   ],
   "source": [
    "sns.countplot(data=socar, x='accident_ratio');\n",
    "sns.countplot(data=socar, x='socarpass');"
   ]
  },
  {
   "cell_type": "code",
   "execution_count": 363,
   "metadata": {},
   "outputs": [
    {
     "data": {
      "image/png": "[encoded data removed]",
      "text/plain": [
       "<Figure size 432x288 with 1 Axes>"
      ]
     },
     "metadata": {
      "image/png": {
       "height": 268,
       "width": 399
      }
     },
     "output_type": "display_data"
    }
   ],
   "source": [
    "sns.countplot(data=socar, x='start_hour');"
   ]
  },
  {
   "cell_type": "code",
   "execution_count": 364,
   "metadata": {},
   "outputs": [
    {
     "data": {
      "text/plain": [
       "Index(['fraud_YN', 'car_model', 'sharing_type', 'age_group',\n",
       "       'has_previous_accident', 'cumulative_use_count', 'b2b',\n",
       "       'accident_ratio', 'pf_type', 'socarpass', 'socarsave', 'start_hour',\n",
       "       'duration', 'accident_hour', 'repair_cost', 'insure_cost',\n",
       "       'accident_location', 'car_part1', 'car_part2', 'repair_cnt',\n",
       "       'acc_type1', 'insurance_site_aid_YN', 'police_site_aid_YN',\n",
       "       'total_prsn_cnt'],\n",
       "      dtype='object')"
      ]
     },
     "execution_count": 364,
     "metadata": {},
     "output_type": "execute_result"
    }
   ],
   "source": [
    "socar.columns"
   ]
  },
  {
   "cell_type": "code",
   "execution_count": 365,
   "metadata": {},
   "outputs": [
    {
     "data": {
      "image/png": "[encoded data removed]",
      "text/plain": [
       "<Figure size 360x360 with 1 Axes>"
      ]
     },
     "metadata": {
      "image/png": {
       "height": 347,
       "width": 349
      }
     },
     "output_type": "display_data"
    }
   ],
   "source": [
    "sns.lmplot(data=socar, x='repair_cost', y='insure_cost');"
   ]
  },
  {
   "cell_type": "code",
   "execution_count": 366,
   "metadata": {},
   "outputs": [
    {
     "data": {
      "image/png": "[encoded data removed]",
      "text/plain": [
       "<Figure size 360x360 with 1 Axes>"
      ]
     },
     "metadata": {
      "image/png": {
       "height": 347,
       "width": 349
      }
     },
     "output_type": "display_data"
    }
   ],
   "source": [
    "sns.lmplot(data=socar, x='repair_cost', y='repair_cnt');"
   ]
  },
  {
   "cell_type": "code",
   "execution_count": 367,
   "metadata": {},
   "outputs": [
    {
     "data": {
      "text/plain": [
       "fraud_YN                 1.000000\n",
       "car_model               -0.002440\n",
       "sharing_type             0.000843\n",
       "age_group               -0.007287\n",
       "has_previous_accident    0.002222\n",
       "cumulative_use_count    -0.002924\n",
       "b2b                     -0.004120\n",
       "accident_ratio           0.012013\n",
       "pf_type                 -0.009864\n",
       "socarpass               -0.002270\n",
       "socarsave                0.012379\n",
       "start_hour              -0.002098\n",
       "duration                 0.012443\n",
       "accident_hour           -0.002251\n",
       "repair_cost              0.003409\n",
       "insure_cost              0.002019\n",
       "accident_location       -0.009159\n",
       "car_part1                0.011833\n",
       "car_part2               -0.003604\n",
       "repair_cnt              -0.007751\n",
       "acc_type1                0.024653\n",
       "insurance_site_aid_YN    0.020999\n",
       "police_site_aid_YN       0.019109\n",
       "total_prsn_cnt           0.023513\n",
       "Name: fraud_YN, dtype: float64"
      ]
     },
     "execution_count": 367,
     "metadata": {},
     "output_type": "execute_result"
    }
   ],
   "source": [
    "socar.corr().iloc[0]"
   ]
  },
  {
   "cell_type": "markdown",
   "metadata": {},
   "source": [
    "# Preprocessing"
   ]
  },
  {
   "cell_type": "code",
   "execution_count": 368,
   "metadata": {},
   "outputs": [],
   "source": [
    "repair_cost_mean = socar[(socar['repair_cost'] < 3000000) & (socar['repair_cost'] > 100000)]['repair_cost'].mean(), \n",
    "repair_cost_median = socar[(socar['repair_cost'] < 3000000) & (socar['repair_cost'] > 100000)]['repair_cost'].median()"
   ]
  },
  {
   "cell_type": "code",
   "execution_count": 369,
   "metadata": {},
   "outputs": [],
   "source": [
    "socar['repair_cost'][(socar['repair_cost'] >= 3000000)] = repair_cost_mean\n",
    "socar['repair_cost'][(socar['repair_cost'] <= 100000)] = repair_cost_mean"
   ]
  },
  {
   "cell_type": "code",
   "execution_count": 370,
   "metadata": {},
   "outputs": [],
   "source": [
    "insure_cost_mean = socar[(socar['insure_cost'] < 3000000) & (socar['insure_cost'] > 100000)]['insure_cost'].mean(), \n",
    "insure_cost_median = socar[(socar['insure_cost'] < 3000000) & (socar['insure_cost'] > 100000)]['insure_cost'].median()"
   ]
  },
  {
   "cell_type": "code",
   "execution_count": 371,
   "metadata": {},
   "outputs": [],
   "source": [
    "socar['insure_cost'][(socar['insure_cost'] >= 3000000)] = insure_cost_mean\n",
    "socar['insure_cost'][(socar['insure_cost'] <= 100000)] = insure_cost_mean"
   ]
  },
  {
   "cell_type": "code",
   "execution_count": 372,
   "metadata": {},
   "outputs": [
    {
     "data": {
      "text/html": [
       "<div>\n",
       "<style scoped>\n",
       "    .dataframe tbody tr th:only-of-type {\n",
       "        vertical-align: middle;\n",
       "    }\n",
       "\n",
       "    .dataframe tbody tr th {\n",
       "        vertical-align: top;\n",
       "    }\n",
       "\n",
       "    .dataframe thead th {\n",
       "        text-align: right;\n",
       "    }\n",
       "</style>\n",
       "<table border=\"1\" class=\"dataframe\">\n",
       "  <thead>\n",
       "    <tr style=\"text-align: right;\">\n",
       "      <th></th>\n",
       "      <th>fraud_YN</th>\n",
       "      <th>car_model</th>\n",
       "      <th>sharing_type</th>\n",
       "      <th>age_group</th>\n",
       "      <th>has_previous_accident</th>\n",
       "      <th>cumulative_use_count</th>\n",
       "      <th>b2b</th>\n",
       "      <th>accident_ratio</th>\n",
       "      <th>pf_type</th>\n",
       "      <th>socarpass</th>\n",
       "      <th>...</th>\n",
       "      <th>repair_cost</th>\n",
       "      <th>insure_cost</th>\n",
       "      <th>accident_location</th>\n",
       "      <th>car_part1</th>\n",
       "      <th>car_part2</th>\n",
       "      <th>repair_cnt</th>\n",
       "      <th>acc_type1</th>\n",
       "      <th>insurance_site_aid_YN</th>\n",
       "      <th>police_site_aid_YN</th>\n",
       "      <th>total_prsn_cnt</th>\n",
       "    </tr>\n",
       "  </thead>\n",
       "  <tbody>\n",
       "    <tr>\n",
       "      <th>0</th>\n",
       "      <td>0</td>\n",
       "      <td>2</td>\n",
       "      <td>1</td>\n",
       "      <td>3</td>\n",
       "      <td>0</td>\n",
       "      <td>2</td>\n",
       "      <td>0</td>\n",
       "      <td>100</td>\n",
       "      <td>2</td>\n",
       "      <td>0</td>\n",
       "      <td>...</td>\n",
       "      <td>1.302547e+05</td>\n",
       "      <td>1.004197e+06</td>\n",
       "      <td>1</td>\n",
       "      <td>0</td>\n",
       "      <td>0</td>\n",
       "      <td>1</td>\n",
       "      <td>0</td>\n",
       "      <td>0</td>\n",
       "      <td>0</td>\n",
       "      <td>-1</td>\n",
       "    </tr>\n",
       "    <tr>\n",
       "      <th>1</th>\n",
       "      <td>0</td>\n",
       "      <td>1</td>\n",
       "      <td>0</td>\n",
       "      <td>4</td>\n",
       "      <td>0</td>\n",
       "      <td>4</td>\n",
       "      <td>0</td>\n",
       "      <td>0</td>\n",
       "      <td>3</td>\n",
       "      <td>1</td>\n",
       "      <td>...</td>\n",
       "      <td>4.355713e+05</td>\n",
       "      <td>1.004197e+06</td>\n",
       "      <td>1</td>\n",
       "      <td>1</td>\n",
       "      <td>1</td>\n",
       "      <td>2</td>\n",
       "      <td>1</td>\n",
       "      <td>1</td>\n",
       "      <td>1</td>\n",
       "      <td>0</td>\n",
       "    </tr>\n",
       "    <tr>\n",
       "      <th>2</th>\n",
       "      <td>0</td>\n",
       "      <td>1</td>\n",
       "      <td>0</td>\n",
       "      <td>4</td>\n",
       "      <td>1</td>\n",
       "      <td>4</td>\n",
       "      <td>0</td>\n",
       "      <td>100</td>\n",
       "      <td>3</td>\n",
       "      <td>1</td>\n",
       "      <td>...</td>\n",
       "      <td>2.581306e+05</td>\n",
       "      <td>1.004197e+06</td>\n",
       "      <td>3</td>\n",
       "      <td>1</td>\n",
       "      <td>0</td>\n",
       "      <td>2</td>\n",
       "      <td>1</td>\n",
       "      <td>1</td>\n",
       "      <td>1</td>\n",
       "      <td>0</td>\n",
       "    </tr>\n",
       "    <tr>\n",
       "      <th>3</th>\n",
       "      <td>0</td>\n",
       "      <td>3</td>\n",
       "      <td>1</td>\n",
       "      <td>3</td>\n",
       "      <td>0</td>\n",
       "      <td>4</td>\n",
       "      <td>0</td>\n",
       "      <td>0</td>\n",
       "      <td>2</td>\n",
       "      <td>0</td>\n",
       "      <td>...</td>\n",
       "      <td>1.341009e+06</td>\n",
       "      <td>1.004197e+06</td>\n",
       "      <td>3</td>\n",
       "      <td>1</td>\n",
       "      <td>0</td>\n",
       "      <td>1</td>\n",
       "      <td>0</td>\n",
       "      <td>0</td>\n",
       "      <td>0</td>\n",
       "      <td>-1</td>\n",
       "    </tr>\n",
       "    <tr>\n",
       "      <th>4</th>\n",
       "      <td>0</td>\n",
       "      <td>1</td>\n",
       "      <td>0</td>\n",
       "      <td>1</td>\n",
       "      <td>0</td>\n",
       "      <td>1</td>\n",
       "      <td>0</td>\n",
       "      <td>100</td>\n",
       "      <td>1</td>\n",
       "      <td>0</td>\n",
       "      <td>...</td>\n",
       "      <td>5.240306e+05</td>\n",
       "      <td>1.209410e+06</td>\n",
       "      <td>1</td>\n",
       "      <td>0</td>\n",
       "      <td>0</td>\n",
       "      <td>2</td>\n",
       "      <td>0</td>\n",
       "      <td>0</td>\n",
       "      <td>0</td>\n",
       "      <td>-1</td>\n",
       "    </tr>\n",
       "    <tr>\n",
       "      <th>...</th>\n",
       "      <td>...</td>\n",
       "      <td>...</td>\n",
       "      <td>...</td>\n",
       "      <td>...</td>\n",
       "      <td>...</td>\n",
       "      <td>...</td>\n",
       "      <td>...</td>\n",
       "      <td>...</td>\n",
       "      <td>...</td>\n",
       "      <td>...</td>\n",
       "      <td>...</td>\n",
       "      <td>...</td>\n",
       "      <td>...</td>\n",
       "      <td>...</td>\n",
       "      <td>...</td>\n",
       "      <td>...</td>\n",
       "      <td>...</td>\n",
       "      <td>...</td>\n",
       "      <td>...</td>\n",
       "      <td>...</td>\n",
       "      <td>...</td>\n",
       "    </tr>\n",
       "    <tr>\n",
       "      <th>15995</th>\n",
       "      <td>0</td>\n",
       "      <td>2</td>\n",
       "      <td>0</td>\n",
       "      <td>2</td>\n",
       "      <td>0</td>\n",
       "      <td>2</td>\n",
       "      <td>0</td>\n",
       "      <td>100</td>\n",
       "      <td>2</td>\n",
       "      <td>0</td>\n",
       "      <td>...</td>\n",
       "      <td>4.355713e+05</td>\n",
       "      <td>1.004197e+06</td>\n",
       "      <td>1</td>\n",
       "      <td>1</td>\n",
       "      <td>0</td>\n",
       "      <td>1</td>\n",
       "      <td>0</td>\n",
       "      <td>0</td>\n",
       "      <td>0</td>\n",
       "      <td>-1</td>\n",
       "    </tr>\n",
       "    <tr>\n",
       "      <th>15996</th>\n",
       "      <td>0</td>\n",
       "      <td>2</td>\n",
       "      <td>0</td>\n",
       "      <td>2</td>\n",
       "      <td>1</td>\n",
       "      <td>4</td>\n",
       "      <td>0</td>\n",
       "      <td>100</td>\n",
       "      <td>1</td>\n",
       "      <td>1</td>\n",
       "      <td>...</td>\n",
       "      <td>6.184394e+05</td>\n",
       "      <td>1.004197e+06</td>\n",
       "      <td>2</td>\n",
       "      <td>1</td>\n",
       "      <td>0</td>\n",
       "      <td>1</td>\n",
       "      <td>0</td>\n",
       "      <td>0</td>\n",
       "      <td>0</td>\n",
       "      <td>-1</td>\n",
       "    </tr>\n",
       "    <tr>\n",
       "      <th>15997</th>\n",
       "      <td>0</td>\n",
       "      <td>2</td>\n",
       "      <td>1</td>\n",
       "      <td>2</td>\n",
       "      <td>0</td>\n",
       "      <td>4</td>\n",
       "      <td>0</td>\n",
       "      <td>100</td>\n",
       "      <td>1</td>\n",
       "      <td>0</td>\n",
       "      <td>...</td>\n",
       "      <td>4.355713e+05</td>\n",
       "      <td>1.004197e+06</td>\n",
       "      <td>0</td>\n",
       "      <td>0</td>\n",
       "      <td>0</td>\n",
       "      <td>1</td>\n",
       "      <td>0</td>\n",
       "      <td>0</td>\n",
       "      <td>0</td>\n",
       "      <td>-1</td>\n",
       "    </tr>\n",
       "    <tr>\n",
       "      <th>15998</th>\n",
       "      <td>0</td>\n",
       "      <td>2</td>\n",
       "      <td>0</td>\n",
       "      <td>2</td>\n",
       "      <td>0</td>\n",
       "      <td>2</td>\n",
       "      <td>0</td>\n",
       "      <td>100</td>\n",
       "      <td>2</td>\n",
       "      <td>0</td>\n",
       "      <td>...</td>\n",
       "      <td>4.355713e+05</td>\n",
       "      <td>1.004197e+06</td>\n",
       "      <td>4</td>\n",
       "      <td>1</td>\n",
       "      <td>0</td>\n",
       "      <td>1</td>\n",
       "      <td>0</td>\n",
       "      <td>0</td>\n",
       "      <td>0</td>\n",
       "      <td>-1</td>\n",
       "    </tr>\n",
       "    <tr>\n",
       "      <th>15999</th>\n",
       "      <td>0</td>\n",
       "      <td>2</td>\n",
       "      <td>0</td>\n",
       "      <td>2</td>\n",
       "      <td>0</td>\n",
       "      <td>1</td>\n",
       "      <td>0</td>\n",
       "      <td>100</td>\n",
       "      <td>1</td>\n",
       "      <td>0</td>\n",
       "      <td>...</td>\n",
       "      <td>3.915602e+05</td>\n",
       "      <td>1.188750e+06</td>\n",
       "      <td>2</td>\n",
       "      <td>0</td>\n",
       "      <td>0</td>\n",
       "      <td>1</td>\n",
       "      <td>0</td>\n",
       "      <td>0</td>\n",
       "      <td>0</td>\n",
       "      <td>-1</td>\n",
       "    </tr>\n",
       "  </tbody>\n",
       "</table>\n",
       "<p>16000 rows × 24 columns</p>\n",
       "</div>"
      ],
      "text/plain": [
       "       fraud_YN  car_model  sharing_type  age_group  has_previous_accident  \\\n",
       "0             0          2             1          3                      0   \n",
       "1             0          1             0          4                      0   \n",
       "2             0          1             0          4                      1   \n",
       "3             0          3             1          3                      0   \n",
       "4             0          1             0          1                      0   \n",
       "...         ...        ...           ...        ...                    ...   \n",
       "15995         0          2             0          2                      0   \n",
       "15996         0          2             0          2                      1   \n",
       "15997         0          2             1          2                      0   \n",
       "15998         0          2             0          2                      0   \n",
       "15999         0          2             0          2                      0   \n",
       "\n",
       "       cumulative_use_count  b2b  accident_ratio  pf_type  socarpass  ...  \\\n",
       "0                         2    0             100        2          0  ...   \n",
       "1                         4    0               0        3          1  ...   \n",
       "2                         4    0             100        3          1  ...   \n",
       "3                         4    0               0        2          0  ...   \n",
       "4                         1    0             100        1          0  ...   \n",
       "...                     ...  ...             ...      ...        ...  ...   \n",
       "15995                     2    0             100        2          0  ...   \n",
       "15996                     4    0             100        1          1  ...   \n",
       "15997                     4    0             100        1          0  ...   \n",
       "15998                     2    0             100        2          0  ...   \n",
       "15999                     1    0             100        1          0  ...   \n",
       "\n",
       "        repair_cost   insure_cost  accident_location  car_part1  car_part2  \\\n",
       "0      1.302547e+05  1.004197e+06                  1          0          0   \n",
       "1      4.355713e+05  1.004197e+06                  1          1          1   \n",
       "2      2.581306e+05  1.004197e+06                  3          1          0   \n",
       "3      1.341009e+06  1.004197e+06                  3          1          0   \n",
       "4      5.240306e+05  1.209410e+06                  1          0          0   \n",
       "...             ...           ...                ...        ...        ...   \n",
       "15995  4.355713e+05  1.004197e+06                  1          1          0   \n",
       "15996  6.184394e+05  1.004197e+06                  2          1          0   \n",
       "15997  4.355713e+05  1.004197e+06                  0          0          0   \n",
       "15998  4.355713e+05  1.004197e+06                  4          1          0   \n",
       "15999  3.915602e+05  1.188750e+06                  2          0          0   \n",
       "\n",
       "       repair_cnt  acc_type1  insurance_site_aid_YN  police_site_aid_YN  \\\n",
       "0               1          0                      0                   0   \n",
       "1               2          1                      1                   1   \n",
       "2               2          1                      1                   1   \n",
       "3               1          0                      0                   0   \n",
       "4               2          0                      0                   0   \n",
       "...           ...        ...                    ...                 ...   \n",
       "15995           1          0                      0                   0   \n",
       "15996           1          0                      0                   0   \n",
       "15997           1          0                      0                   0   \n",
       "15998           1          0                      0                   0   \n",
       "15999           1          0                      0                   0   \n",
       "\n",
       "       total_prsn_cnt  \n",
       "0                  -1  \n",
       "1                   0  \n",
       "2                   0  \n",
       "3                  -1  \n",
       "4                  -1  \n",
       "...               ...  \n",
       "15995              -1  \n",
       "15996              -1  \n",
       "15997              -1  \n",
       "15998              -1  \n",
       "15999              -1  \n",
       "\n",
       "[16000 rows x 24 columns]"
      ]
     },
     "execution_count": 372,
     "metadata": {},
     "output_type": "execute_result"
    }
   ],
   "source": [
    "socar"
   ]
  },
  {
   "cell_type": "code",
   "execution_count": null,
   "metadata": {},
   "outputs": [],
   "source": []
  },
  {
   "cell_type": "markdown",
   "metadata": {},
   "source": [
    "# Scaling"
   ]
  },
  {
   "cell_type": "code",
   "execution_count": 373,
   "metadata": {},
   "outputs": [],
   "source": [
    "from sklearn.preprocessing import StandardScaler\n",
    "from sklearn.preprocessing import MinMaxScaler\n",
    "\n",
    "scaler_ss = StandardScaler()\n",
    "scaler_mm = MinMaxScaler()\n",
    "\n",
    "socar['accident_ratio'] = scaler_mm.fit_transform(socar['accident_ratio'].values.reshape(-1,1))\n",
    "socar['repair_cost'] = scaler_mm.fit_transform(socar['repair_cost'].values.reshape(-1,1))\n",
    "socar['insure_cost'] = scaler_mm.fit_transform(socar['insure_cost'].values.reshape(-1,1))"
   ]
  },
  {
   "cell_type": "markdown",
   "metadata": {},
   "source": [
    "# Split dataset"
   ]
  },
  {
   "cell_type": "code",
   "execution_count": 374,
   "metadata": {},
   "outputs": [],
   "source": [
    "from sklearn.model_selection import train_test_split\n",
    "\n",
    "X = socar.drop(['fraud_YN','total_prsn_cnt'], axis=1)\n",
    "y = socar['fraud_YN']\n",
    "X_train, X_test, y_train, y_test = train_test_split(X, y, test_size=0.2, random_state=10, stratify=y)"
   ]
  },
  {
   "cell_type": "code",
   "execution_count": 375,
   "metadata": {},
   "outputs": [
    {
     "data": {
      "text/plain": [
       "(array([0, 1], dtype=int64), array([12767,    33], dtype=int64))"
      ]
     },
     "execution_count": 375,
     "metadata": {},
     "output_type": "execute_result"
    }
   ],
   "source": [
    "import numpy as np\n",
    "\n",
    "np.unique(y_train, return_counts=True)"
   ]
  },
  {
   "cell_type": "code",
   "execution_count": 376,
   "metadata": {},
   "outputs": [
    {
     "data": {
      "text/plain": [
       "0.2578125"
      ]
     },
     "execution_count": 376,
     "metadata": {},
     "output_type": "execute_result"
    }
   ],
   "source": [
    "tmp = np.unique(y_train, return_counts=True)[1]\n",
    "tmp[1]/len(y_train) * 100"
   ]
  },
  {
   "cell_type": "code",
   "execution_count": 377,
   "metadata": {},
   "outputs": [
    {
     "data": {
      "text/plain": [
       "0.25"
      ]
     },
     "execution_count": 377,
     "metadata": {},
     "output_type": "execute_result"
    }
   ],
   "source": [
    "tmp = np.unique(y_test, return_counts=True)[1]\n",
    "tmp[1]/len(y_test) * 100"
   ]
  },
  {
   "cell_type": "code",
   "execution_count": 378,
   "metadata": {},
   "outputs": [
    {
     "data": {
      "text/plain": [
       "array([3192,    8], dtype=int64)"
      ]
     },
     "execution_count": 378,
     "metadata": {},
     "output_type": "execute_result"
    }
   ],
   "source": [
    "tmp"
   ]
  },
  {
   "cell_type": "markdown",
   "metadata": {},
   "source": [
    "# Evaluation"
   ]
  },
  {
   "cell_type": "code",
   "execution_count": 379,
   "metadata": {},
   "outputs": [],
   "source": [
    "from sklearn.metrics import (accuracy_score, precision_score, recall_score, f1_score, roc_auc_score)\n",
    "\n",
    "def get_clf_eval(y_test, pred):\n",
    "    acc = accuracy_score(y_test, pred)\n",
    "    pre = precision_score(y_test, pred)\n",
    "    re = recall_score(y_test, pred)\n",
    "    f1 = f1_score(y_test, pred)\n",
    "    auc = roc_auc_score(y_test, pred)\n",
    "    \n",
    "    return acc, pre, re, f1, auc"
   ]
  },
  {
   "cell_type": "code",
   "execution_count": 380,
   "metadata": {},
   "outputs": [],
   "source": [
    "from sklearn.metrics import confusion_matrix\n",
    "\n",
    "def print_clf_eval(y_test, pred):\n",
    "    confusion = confusion_matrix(y_test, pred)\n",
    "    acc, pre, re, f1, auc = get_clf_eval(y_test, pred)\n",
    "    \n",
    "    print('=> confusion matrix')\n",
    "    print(confusion)\n",
    "    print('===========')\n",
    "    \n",
    "    print('Accuracy : {0:.4f}, Precision:{1:.4f}'.format(acc, pre))\n",
    "    print('Recall : {0:.4f}, F1:{1:.4f}, AUC:{2:.4f}'.format(re, f1, auc))"
   ]
  },
  {
   "cell_type": "code",
   "execution_count": 381,
   "metadata": {},
   "outputs": [
    {
     "name": "stdout",
     "output_type": "stream",
     "text": [
      "=> confusion matrix\n",
      "[[3192    0]\n",
      " [   8    0]]\n",
      "===========\n",
      "Accuracy : 0.9975, Precision:0.0000\n",
      "Recall : 0.0000, F1:0.0000, AUC:0.5000\n"
     ]
    }
   ],
   "source": [
    "from sklearn.tree import DecisionTreeClassifier\n",
    "\n",
    "dt_clf = DecisionTreeClassifier(random_state=10, max_depth=2)\n",
    "dt_clf.fit(X_train, y_train)\n",
    "dt_pred = dt_clf.predict(X_test)\n",
    "\n",
    "print_clf_eval(y_test, dt_pred)"
   ]
  },
  {
   "cell_type": "code",
   "execution_count": 382,
   "metadata": {},
   "outputs": [
    {
     "name": "stdout",
     "output_type": "stream",
     "text": [
      "=> confusion matrix\n",
      "[[3192    0]\n",
      " [   8    0]]\n",
      "===========\n",
      "Accuracy : 0.9975, Precision:0.0000\n",
      "Recall : 0.0000, F1:0.0000, AUC:0.5000\n"
     ]
    }
   ],
   "source": [
    "from sklearn.ensemble import RandomForestClassifier\n",
    "\n",
    "rf_clf = RandomForestClassifier(random_state=10, n_jobs=-1, n_estimators=100)\n",
    "rf_clf.fit(X_train, y_train)\n",
    "rf_pred = rf_clf.predict(X_test)\n",
    "\n",
    "print_clf_eval(y_test, rf_pred)"
   ]
  },
  {
   "cell_type": "code",
   "execution_count": 383,
   "metadata": {
    "scrolled": false
   },
   "outputs": [
    {
     "name": "stdout",
     "output_type": "stream",
     "text": [
      "=> confusion matrix\n",
      "[[3192    0]\n",
      " [   8    0]]\n",
      "===========\n",
      "Accuracy : 0.9975, Precision:0.0000\n",
      "Recall : 0.0000, F1:0.0000, AUC:0.5000\n"
     ]
    }
   ],
   "source": [
    "from lightgbm import LGBMClassifier\n",
    "\n",
    "lgbm_clf = LGBMClassifier(n_estimators=1000, num_leaves=64, n_jobs=-1, boost_from_average=False)\n",
    "lgbm_clf.fit(X_train, y_train)\n",
    "lgbm_pred = lgbm_clf.predict(X_test)\n",
    "\n",
    "print_clf_eval(y_test, lgbm_pred)"
   ]
  },
  {
   "cell_type": "code",
   "execution_count": 384,
   "metadata": {},
   "outputs": [
    {
     "name": "stdout",
     "output_type": "stream",
     "text": [
      "              precision    recall  f1-score   support\n",
      "\n",
      "           0       1.00      1.00      1.00      3192\n",
      "           1       0.00      0.00      0.00         8\n",
      "\n",
      "    accuracy                           1.00      3200\n",
      "   macro avg       0.50      0.50      0.50      3200\n",
      "weighted avg       1.00      1.00      1.00      3200\n",
      "\n"
     ]
    }
   ],
   "source": [
    "from sklearn.metrics import classification_report\n",
    "\n",
    "print(classification_report(y_test, lgbm_pred))"
   ]
  },
  {
   "cell_type": "markdown",
   "metadata": {},
   "source": [
    "# Over Sampling"
   ]
  },
  {
   "cell_type": "code",
   "execution_count": 385,
   "metadata": {},
   "outputs": [],
   "source": [
    "from imblearn.over_sampling import SMOTE\n",
    "\n",
    "smote = SMOTE(random_state=13)\n",
    "X_train_over, y_train_over = smote.fit_sample(X_train, y_train)"
   ]
  },
  {
   "cell_type": "code",
   "execution_count": 386,
   "metadata": {},
   "outputs": [
    {
     "data": {
      "text/plain": [
       "((12800, 22), (12800,))"
      ]
     },
     "execution_count": 386,
     "metadata": {},
     "output_type": "execute_result"
    }
   ],
   "source": [
    "X_train.shape, y_train.shape"
   ]
  },
  {
   "cell_type": "code",
   "execution_count": 387,
   "metadata": {},
   "outputs": [
    {
     "data": {
      "text/plain": [
       "((25534, 22), (25534,))"
      ]
     },
     "execution_count": 387,
     "metadata": {},
     "output_type": "execute_result"
    }
   ],
   "source": [
    "X_train_over.shape, y_train_over.shape"
   ]
  },
  {
   "cell_type": "code",
   "execution_count": 388,
   "metadata": {},
   "outputs": [
    {
     "data": {
      "text/plain": [
       "(array([0, 1], dtype=int64), array([12767,    33], dtype=int64))"
      ]
     },
     "execution_count": 388,
     "metadata": {},
     "output_type": "execute_result"
    }
   ],
   "source": [
    "np.unique(y_train, return_counts=True)"
   ]
  },
  {
   "cell_type": "code",
   "execution_count": 389,
   "metadata": {},
   "outputs": [
    {
     "data": {
      "text/plain": [
       "(array([0, 1], dtype=int64), array([12767, 12767], dtype=int64))"
      ]
     },
     "execution_count": 389,
     "metadata": {},
     "output_type": "execute_result"
    }
   ],
   "source": [
    "np.unique(y_train_over, return_counts=True)"
   ]
  },
  {
   "cell_type": "code",
   "execution_count": 390,
   "metadata": {},
   "outputs": [],
   "source": [
    "def get_result(model, X_train, y_train, X_test, y_test):\n",
    "    model.fit(X_train, y_train)\n",
    "    pred = model.predict(X_test)\n",
    "    \n",
    "    return get_clf_eval(y_test, pred)"
   ]
  },
  {
   "cell_type": "code",
   "execution_count": 391,
   "metadata": {},
   "outputs": [],
   "source": [
    "def get_result_pd(models, model_names, X_train, y_train, X_test, y_test):\n",
    "    col_names = ['accuracy','precision','recall','f1','roc_auc']\n",
    "    tmp = []\n",
    "    \n",
    "    for model in models:\n",
    "        tmp.append(get_result(model, X_train, y_train, X_test, y_test))\n",
    "        \n",
    "    return pd.DataFrame(tmp, columns=col_names, index=model_names)"
   ]
  },
  {
   "cell_type": "code",
   "execution_count": 392,
   "metadata": {},
   "outputs": [
    {
     "name": "stdout",
     "output_type": "stream",
     "text": [
      "Fit time :  1.804178237915039\n"
     ]
    },
    {
     "data": {
      "text/html": [
       "<div>\n",
       "<style scoped>\n",
       "    .dataframe tbody tr th:only-of-type {\n",
       "        vertical-align: middle;\n",
       "    }\n",
       "\n",
       "    .dataframe tbody tr th {\n",
       "        vertical-align: top;\n",
       "    }\n",
       "\n",
       "    .dataframe thead th {\n",
       "        text-align: right;\n",
       "    }\n",
       "</style>\n",
       "<table border=\"1\" class=\"dataframe\">\n",
       "  <thead>\n",
       "    <tr style=\"text-align: right;\">\n",
       "      <th></th>\n",
       "      <th>accuracy</th>\n",
       "      <th>precision</th>\n",
       "      <th>recall</th>\n",
       "      <th>f1</th>\n",
       "      <th>roc_auc</th>\n",
       "    </tr>\n",
       "  </thead>\n",
       "  <tbody>\n",
       "    <tr>\n",
       "      <th>DecisionTree</th>\n",
       "      <td>0.556250</td>\n",
       "      <td>0.003516</td>\n",
       "      <td>0.625</td>\n",
       "      <td>0.006993</td>\n",
       "      <td>0.590539</td>\n",
       "    </tr>\n",
       "    <tr>\n",
       "      <th>RandomForest</th>\n",
       "      <td>0.996563</td>\n",
       "      <td>0.000000</td>\n",
       "      <td>0.000</td>\n",
       "      <td>0.000000</td>\n",
       "      <td>0.499530</td>\n",
       "    </tr>\n",
       "    <tr>\n",
       "      <th>LightGBM</th>\n",
       "      <td>0.997188</td>\n",
       "      <td>0.333333</td>\n",
       "      <td>0.125</td>\n",
       "      <td>0.181818</td>\n",
       "      <td>0.562187</td>\n",
       "    </tr>\n",
       "  </tbody>\n",
       "</table>\n",
       "</div>"
      ],
      "text/plain": [
       "              accuracy  precision  recall        f1   roc_auc\n",
       "DecisionTree  0.556250   0.003516   0.625  0.006993  0.590539\n",
       "RandomForest  0.996563   0.000000   0.000  0.000000  0.499530\n",
       "LightGBM      0.997188   0.333333   0.125  0.181818  0.562187"
      ]
     },
     "execution_count": 392,
     "metadata": {},
     "output_type": "execute_result"
    }
   ],
   "source": [
    "models = [dt_clf, rf_clf, lgbm_clf]\n",
    "models_names = ['DecisionTree', 'RandomForest','LightGBM']\n",
    "\n",
    "start_time = time.time()\n",
    "results = get_result_pd(models, models_names, X_train_over, y_train_over, X_test, y_test)\n",
    "\n",
    "print('Fit time : ', time.time() - start_time)\n",
    "results"
   ]
  },
  {
   "cell_type": "markdown",
   "metadata": {},
   "source": [
    "# Hyper Parameter Tuning"
   ]
  },
  {
   "cell_type": "code",
   "execution_count": 393,
   "metadata": {},
   "outputs": [
    {
     "data": {
      "text/plain": [
       "GridSearchCV(cv=5,\n",
       "             estimator=DecisionTreeClassifier(max_depth=2, random_state=10),\n",
       "             param_grid={'max_depth': [2, 4, 6, 8]}, scoring='recall')"
      ]
     },
     "execution_count": 393,
     "metadata": {},
     "output_type": "execute_result"
    }
   ],
   "source": [
    "from sklearn.model_selection import GridSearchCV\n",
    "\n",
    "params = {'max_depth' : [2,4,6,8]}\n",
    "socar_tree = DecisionTreeClassifier(max_depth=2, random_state=10)\n",
    "\n",
    "gridsearch = GridSearchCV(estimator=socar_tree, param_grid=params, cv=5, scoring='recall')\n",
    "gridsearch.fit(X, y)"
   ]
  },
  {
   "cell_type": "code",
   "execution_count": 394,
   "metadata": {},
   "outputs": [
    {
     "name": "stdout",
     "output_type": "stream",
     "text": [
      "{   'mean_fit_time': array([0.01201053, 0.01780939, 0.02360892, 0.02680373]),\n",
      "    'mean_score_time': array([0.00280104, 0.00279813, 0.0027998 , 0.00260358]),\n",
      "    'mean_test_score': array([0., 0., 0., 0.]),\n",
      "    'param_max_depth': masked_array(data=[2, 4, 6, 8],\n",
      "             mask=[False, False, False, False],\n",
      "       fill_value='?',\n",
      "            dtype=object),\n",
      "    'params': [   {'max_depth': 2},\n",
      "                  {'max_depth': 4},\n",
      "                  {'max_depth': 6},\n",
      "                  {'max_depth': 8}],\n",
      "    'rank_test_score': array([1, 1, 1, 1]),\n",
      "    'split0_test_score': array([0., 0., 0., 0.]),\n",
      "    'split1_test_score': array([0., 0., 0., 0.]),\n",
      "    'split2_test_score': array([0., 0., 0., 0.]),\n",
      "    'split3_test_score': array([0., 0., 0., 0.]),\n",
      "    'split4_test_score': array([0., 0., 0., 0.]),\n",
      "    'std_fit_time': array([9.21098329e-06, 3.93452379e-04, 1.34971998e-03, 9.80498092e-04]),\n",
      "    'std_score_time': array([0.0004005 , 0.00040856, 0.00039859, 0.00048944]),\n",
      "    'std_test_score': array([0., 0., 0., 0.])}\n"
     ]
    }
   ],
   "source": [
    "import pprint\n",
    "\n",
    "pp = pprint.PrettyPrinter(indent=4)\n",
    "pp.pprint(gridsearch.cv_results_)"
   ]
  },
  {
   "cell_type": "code",
   "execution_count": 395,
   "metadata": {},
   "outputs": [
    {
     "data": {
      "text/plain": [
       "DecisionTreeClassifier(max_depth=2, random_state=10)"
      ]
     },
     "execution_count": 395,
     "metadata": {},
     "output_type": "execute_result"
    }
   ],
   "source": [
    "gridsearch.best_estimator_"
   ]
  },
  {
   "cell_type": "code",
   "execution_count": null,
   "metadata": {},
   "outputs": [],
   "source": []
  },
  {
   "cell_type": "code",
   "execution_count": 396,
   "metadata": {},
   "outputs": [],
   "source": [
    "from sklearn.pipeline import Pipeline"
   ]
  },
  {
   "cell_type": "code",
   "execution_count": 397,
   "metadata": {},
   "outputs": [],
   "source": [
    "estimators = [('scaler', MinMaxScaler()),\n",
    "             ('clf', LGBMClassifier(n_estimators=1000, num_leaves=64, n_jobs=-1, boost_from_average=False))]\n",
    "pipe = Pipeline(estimators)"
   ]
  },
  {
   "cell_type": "code",
   "execution_count": 398,
   "metadata": {},
   "outputs": [
    {
     "name": "stdout",
     "output_type": "stream",
     "text": [
      "=> confusion matrix\n",
      "[[3192    0]\n",
      " [   8    0]]\n",
      "===========\n",
      "Accuracy : 0.9975, Precision:0.0000\n",
      "Recall : 0.0000, F1:0.0000, AUC:0.5000\n"
     ]
    }
   ],
   "source": [
    "pipe.fit(X_train, y_train)\n",
    "pred = pipe.predict(X_test)\n",
    "print_clf_eval(y_test, pred)"
   ]
  },
  {
   "cell_type": "code",
   "execution_count": null,
   "metadata": {},
   "outputs": [],
   "source": []
  }
 ],
 "metadata": {
  "kernelspec": {
   "display_name": "Python 3",
   "language": "python",
   "name": "python3"
  },
  "language_info": {
   "codemirror_mode": {
    "name": "ipython",
    "version": 3
   },
   "file_extension": ".py",
   "mimetype": "text/x-python",
   "name": "python",
   "nbconvert_exporter": "python",
   "pygments_lexer": "ipython3",
   "version": "3.8.3"
  }
 },
 "nbformat": 4,
 "nbformat_minor": 4
}
