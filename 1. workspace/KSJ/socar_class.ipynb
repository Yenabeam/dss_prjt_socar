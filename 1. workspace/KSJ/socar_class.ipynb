{
 "cells": [
  {
   "cell_type": "code",
   "execution_count": 1,
   "metadata": {},
   "outputs": [],
   "source": [
    "from sklearn.model_selection import train_test_split, GridSearchCV, StratifiedKFold\n",
    "from sklearn.preprocessing import StandardScaler, MinMaxScaler, MaxAbsScaler, RobustScaler\n",
    "from sklearn.decomposition import PCA\n",
    "from imblearn.over_sampling import SMOTE, ADASYN, SVMSMOTE, RandomOverSampler\n",
    "from imblearn.under_sampling import RandomUnderSampler\n",
    "from imblearn.combine import SMOTETomek, SMOTEENN\n",
    "from sklearn.linear_model import LogisticRegression\n",
    "from sklearn.tree import DecisionTreeClassifier\n",
    "from sklearn.ensemble import RandomForestClassifier\n",
    "from lightgbm import LGBMClassifier\n",
    "from sklearn.svm import LinearSVC\n",
    "from sklearn.metrics import accuracy_score, recall_score, precision_score, f1_score, roc_auc_score\n",
    "\n",
    "class SocarML:\n",
    "\n",
    "    def __init__(self, data, drop_cols=[], random_state=13):\n",
    "        self.data = data\n",
    "        self.num_attribs = ['accident_ratio', 'repair_cost', 'insure_cost', 'repair_cnt']\n",
    "        self.random_state=random_state\n",
    "        self.drop_cols = drop_cols\n",
    "\n",
    "    def drop_columns(self, drop_cols):\n",
    "        self.drop_cols = drop_cols\n",
    "        self.data = self.data.drop(self.drop_cols, axis=1)\n",
    "\n",
    "    def one_hot_encoding(self):\n",
    "        cat_attribs = self.data.columns.drop(['fraud_YN', 'test_set'] + [attrib for attrib in self.num_attribs if attrib not in self.drop_cols])\n",
    "        self.data = pd.get_dummies(self.data, columns=cat_attribs)\n",
    "\n",
    "    def split_dataset(self):\n",
    "        self.train_data = self.data[self.data.test_set == 0].drop(['test_set'], axis=1)\n",
    "        self.test_data = self.data[self.data.test_set == 1].drop(['test_set'], axis=1)\n",
    "        \n",
    "        self.X = self.train_data.drop('fraud_YN', axis=1)\n",
    "        self.y = self.train_data.fraud_YN\n",
    "        self.X_train, self.X_val, self.y_train, self.y_val = train_test_split(\n",
    "            self.X, self.y, test_size=0.2, random_state=self.random_state, stratify=self.y)\n",
    "\n",
    "        self.X_test = self.test_data.drop('fraud_YN', axis=1)\n",
    "        self.y_test = self.test_data.fraud_YN\n",
    "\n",
    "    def scaling(self, scaler):\n",
    "        self.num_attribs = [attrib for attrib in self.num_attribs if attrib not in self.drop_cols]\n",
    "        scaler_obj = scaler()\n",
    "        scaler_obj.fit(self.X_train[self.num_attribs])\n",
    "\n",
    "        for dataset in [self.X_train, self.X_val, self.X_test]:\n",
    "            dataset[self.num_attribs] = scaler_obj.transform(dataset[self.num_attribs])\n",
    "\n",
    "    def sampling(self, sampler):\n",
    "        spl = sampler(random_state=self.random_state)\n",
    "        self.X_train, self.y_train = spl.fit_sample(self.X_train, self.y_train)  \n",
    "\n",
    "    def pca(self, n_components):       \n",
    "        self.X_train, pca_n = self.get_pca_data(self.X_train, n_components)\n",
    "        self.X_val, pca_n = self.get_pca_data(self.X_val, n_components)\n",
    "        self.X_test, pca_n = self.get_pca_data(self.X_test, n_components)\n",
    "\n",
    "    def get_pca_data(self, data, n_components):\n",
    "        pca = PCA(n_components=n_components, random_state=self.random_state)\n",
    "        pca.fit(data)\n",
    "\n",
    "        return pca.transform(data), pca\n",
    "    \n",
    "    def get_result_pd(self):\n",
    "        # classifier\n",
    "        lg_clf = LogisticRegression(random_state=self.random_state)\n",
    "        dt_clf = DecisionTreeClassifier(random_state=self.random_state, max_depth=2)\n",
    "        rf_clf = RandomForestClassifier(random_state=self.random_state, n_jobs=-1, n_estimators=100)\n",
    "        lgbm_clf = LGBMClassifier(random_state=self.random_state, n_estimators=200, num_leaves=16, n_jobs=-1, boost_from_average=False)\n",
    "        svm_clf = LinearSVC(random_state=self.random_state)\n",
    "        \n",
    "        # hyper-parameters\n",
    "        lg_params=[{'C':[0.1, 0.5, 1]}]\n",
    "        dt_params= [{'max_depth': [2, 4, 8, 16]}]\n",
    "        rf_params = [{'n_estimators': [50, 100, 200, 400]}]\n",
    "        lgbm_params = [{'n_estimators': [50, 100, 200, 400], 'num_leaves': [4, 8, 16, 32]}]\n",
    "        svm_params = [{'C':[0.1, 0.5, 1]}]\n",
    "        \n",
    "        models = [(lg_clf,lg_params), (dt_clf,dt_params), (rf_clf,rf_params), (lgbm_clf,lgbm_params), (svm_clf,svm_params)]\n",
    "        model_names = ['LogisticRegression','DecisionTree','RandomForest','LightGBM', 'SVM']\n",
    "        col_names = ['accuracy','precision','recall', 'test_accuracy','test_precision','test_recall']\n",
    "        tmp = []\n",
    "        \n",
    "        for model, param in models:\n",
    "            # Modeling    \n",
    "            kfold = StratifiedKFold(n_splits=5, shuffle=True, random_state=self.random_state)\n",
    "            grid = GridSearchCV(model, param, cv=kfold, scoring = 'recall')\n",
    "            grid.fit(self.X_train, self.y_train)\n",
    "            \n",
    "            # predict validation dataset\n",
    "            pred_val = grid.predict(self.X_val)\n",
    "            \n",
    "            # predict test dataset\n",
    "            pred_test = grid.predict(self.X_test)\n",
    "            \n",
    "            tmp.append(self.get_clf_eval(self.y_val, pred_val) + self.get_clf_eval(self.y_test, pred_test))\n",
    "            \n",
    "        df = pd.DataFrame(tmp, columns=col_names, index=model_names)\n",
    "        df = df.style.applymap(self.color)\n",
    "            \n",
    "        return df\n",
    "\n",
    "    def get_clf_eval(self, y_test, pred):\n",
    "        acc = accuracy_score(y_test, pred)\n",
    "        pre = precision_score(y_test, pred)\n",
    "        re = recall_score(y_test, pred)\n",
    "\n",
    "        return acc, pre, re\n",
    "\n",
    "    def color(self, val):\n",
    "        color = 'orange' if val > 0.6 else 'black'\n",
    "        return 'color: %s' % color"
   ]
  },
  {
   "cell_type": "code",
   "execution_count": 2,
   "metadata": {},
   "outputs": [
    {
     "output_type": "execute_result",
     "data": {
      "text/plain": [
       "       fraud_YN  car_model  sharing_type  age_group  has_previous_accident  \\\n",
       "15995         0          2             0          2                      0   \n",
       "15996         0          2             0          2                      1   \n",
       "15997         0          2             1          2                      0   \n",
       "15998         0          2             0          2                      0   \n",
       "15999         0          2             0          2                      0   \n",
       "\n",
       "       cumulative_use_count  b2b  accident_ratio  pf_type  socarpass  ...  \\\n",
       "15995                     2    0             100        2          0  ...   \n",
       "15996                     4    0             100        1          1  ...   \n",
       "15997                     4    0             100        1          0  ...   \n",
       "15998                     2    0             100        2          0  ...   \n",
       "15999                     1    0             100        1          0  ...   \n",
       "\n",
       "       insure_cost  accident_location  car_part1  car_part2  repair_cnt  \\\n",
       "15995            0                  1          1          0           1   \n",
       "15996            0                  2          1          0           1   \n",
       "15997            0                  0          0          0           1   \n",
       "15998            0                  4          1          0           1   \n",
       "15999      1188750                  2          0          0           1   \n",
       "\n",
       "       acc_type1  insurance_site_aid_YN  police_site_aid_YN  total_prsn_cnt  \\\n",
       "15995          0                      0                   0              -1   \n",
       "15996          0                      0                   0              -1   \n",
       "15997          0                      0                   0              -1   \n",
       "15998          0                      0                   0              -1   \n",
       "15999          0                      0                   0              -1   \n",
       "\n",
       "       test_set  \n",
       "15995         0  \n",
       "15996         0  \n",
       "15997         1  \n",
       "15998         0  \n",
       "15999         0  \n",
       "\n",
       "[5 rows x 25 columns]"
      ],
      "text/html": "<div>\n<style scoped>\n    .dataframe tbody tr th:only-of-type {\n        vertical-align: middle;\n    }\n\n    .dataframe tbody tr th {\n        vertical-align: top;\n    }\n\n    .dataframe thead th {\n        text-align: right;\n    }\n</style>\n<table border=\"1\" class=\"dataframe\">\n  <thead>\n    <tr style=\"text-align: right;\">\n      <th></th>\n      <th>fraud_YN</th>\n      <th>car_model</th>\n      <th>sharing_type</th>\n      <th>age_group</th>\n      <th>has_previous_accident</th>\n      <th>cumulative_use_count</th>\n      <th>b2b</th>\n      <th>accident_ratio</th>\n      <th>pf_type</th>\n      <th>socarpass</th>\n      <th>...</th>\n      <th>insure_cost</th>\n      <th>accident_location</th>\n      <th>car_part1</th>\n      <th>car_part2</th>\n      <th>repair_cnt</th>\n      <th>acc_type1</th>\n      <th>insurance_site_aid_YN</th>\n      <th>police_site_aid_YN</th>\n      <th>total_prsn_cnt</th>\n      <th>test_set</th>\n    </tr>\n  </thead>\n  <tbody>\n    <tr>\n      <th>15995</th>\n      <td>0</td>\n      <td>2</td>\n      <td>0</td>\n      <td>2</td>\n      <td>0</td>\n      <td>2</td>\n      <td>0</td>\n      <td>100</td>\n      <td>2</td>\n      <td>0</td>\n      <td>...</td>\n      <td>0</td>\n      <td>1</td>\n      <td>1</td>\n      <td>0</td>\n      <td>1</td>\n      <td>0</td>\n      <td>0</td>\n      <td>0</td>\n      <td>-1</td>\n      <td>0</td>\n    </tr>\n    <tr>\n      <th>15996</th>\n      <td>0</td>\n      <td>2</td>\n      <td>0</td>\n      <td>2</td>\n      <td>1</td>\n      <td>4</td>\n      <td>0</td>\n      <td>100</td>\n      <td>1</td>\n      <td>1</td>\n      <td>...</td>\n      <td>0</td>\n      <td>2</td>\n      <td>1</td>\n      <td>0</td>\n      <td>1</td>\n      <td>0</td>\n      <td>0</td>\n      <td>0</td>\n      <td>-1</td>\n      <td>0</td>\n    </tr>\n    <tr>\n      <th>15997</th>\n      <td>0</td>\n      <td>2</td>\n      <td>1</td>\n      <td>2</td>\n      <td>0</td>\n      <td>4</td>\n      <td>0</td>\n      <td>100</td>\n      <td>1</td>\n      <td>0</td>\n      <td>...</td>\n      <td>0</td>\n      <td>0</td>\n      <td>0</td>\n      <td>0</td>\n      <td>1</td>\n      <td>0</td>\n      <td>0</td>\n      <td>0</td>\n      <td>-1</td>\n      <td>1</td>\n    </tr>\n    <tr>\n      <th>15998</th>\n      <td>0</td>\n      <td>2</td>\n      <td>0</td>\n      <td>2</td>\n      <td>0</td>\n      <td>2</td>\n      <td>0</td>\n      <td>100</td>\n      <td>2</td>\n      <td>0</td>\n      <td>...</td>\n      <td>0</td>\n      <td>4</td>\n      <td>1</td>\n      <td>0</td>\n      <td>1</td>\n      <td>0</td>\n      <td>0</td>\n      <td>0</td>\n      <td>-1</td>\n      <td>0</td>\n    </tr>\n    <tr>\n      <th>15999</th>\n      <td>0</td>\n      <td>2</td>\n      <td>0</td>\n      <td>2</td>\n      <td>0</td>\n      <td>1</td>\n      <td>0</td>\n      <td>100</td>\n      <td>1</td>\n      <td>0</td>\n      <td>...</td>\n      <td>1188750</td>\n      <td>2</td>\n      <td>0</td>\n      <td>0</td>\n      <td>1</td>\n      <td>0</td>\n      <td>0</td>\n      <td>0</td>\n      <td>-1</td>\n      <td>0</td>\n    </tr>\n  </tbody>\n</table>\n<p>5 rows × 25 columns</p>\n</div>"
     },
     "metadata": {},
     "execution_count": 2
    }
   ],
   "source": [
    "socar_df = pd.read_csv('../../0. raw_data/insurance_fraud_detect_data.csv')\n",
    "\n",
    "socar = socar_df.copy()\n",
    "socar.tail()"
   ]
  },
  {
   "cell_type": "code",
   "execution_count": 3,
   "metadata": {},
   "outputs": [],
   "source": [
    "socarml = SocarML(socar)"
   ]
  },
  {
   "cell_type": "code",
   "execution_count": 4,
   "metadata": {},
   "outputs": [],
   "source": [
    "socarml.drop_columns(['insure_cost', 'repair_cost'])"
   ]
  },
  {
   "cell_type": "code",
   "execution_count": 5,
   "metadata": {},
   "outputs": [],
   "source": [
    "socarml.one_hot_encoding()"
   ]
  },
  {
   "cell_type": "code",
   "execution_count": 6,
   "metadata": {},
   "outputs": [],
   "source": [
    "socarml.split_dataset()"
   ]
  },
  {
   "cell_type": "code",
   "execution_count": 7,
   "metadata": {},
   "outputs": [],
   "source": [
    "socarml.scaling(StandardScaler)"
   ]
  },
  {
   "cell_type": "code",
   "execution_count": 8,
   "metadata": {},
   "outputs": [],
   "source": [
    "socarml.sampling(RandomUnderSampler)"
   ]
  },
  {
   "cell_type": "code",
   "execution_count": 9,
   "metadata": {},
   "outputs": [],
   "source": [
    "socarml.pca(2)"
   ]
  },
  {
   "cell_type": "code",
   "execution_count": 10,
   "metadata": {},
   "outputs": [
    {
     "output_type": "execute_result",
     "data": {
      "text/plain": [
       "<pandas.io.formats.style.Styler at 0x208ff703df0>"
      ],
      "text/html": "<style  type=\"text/css\" >\n    #T_e40ed81a_5715_11eb_abef_6c6a775dc4a0row0_col0 {\n            color:  orange;\n        }    #T_e40ed81a_5715_11eb_abef_6c6a775dc4a0row0_col1 {\n            color:  black;\n        }    #T_e40ed81a_5715_11eb_abef_6c6a775dc4a0row0_col2 {\n            color:  black;\n        }    #T_e40ed81a_5715_11eb_abef_6c6a775dc4a0row0_col3 {\n            color:  black;\n        }    #T_e40ed81a_5715_11eb_abef_6c6a775dc4a0row0_col4 {\n            color:  black;\n        }    #T_e40ed81a_5715_11eb_abef_6c6a775dc4a0row0_col5 {\n            color:  black;\n        }    #T_e40ed81a_5715_11eb_abef_6c6a775dc4a0row1_col0 {\n            color:  black;\n        }    #T_e40ed81a_5715_11eb_abef_6c6a775dc4a0row1_col1 {\n            color:  black;\n        }    #T_e40ed81a_5715_11eb_abef_6c6a775dc4a0row1_col2 {\n            color:  orange;\n        }    #T_e40ed81a_5715_11eb_abef_6c6a775dc4a0row1_col3 {\n            color:  black;\n        }    #T_e40ed81a_5715_11eb_abef_6c6a775dc4a0row1_col4 {\n            color:  black;\n        }    #T_e40ed81a_5715_11eb_abef_6c6a775dc4a0row1_col5 {\n            color:  orange;\n        }    #T_e40ed81a_5715_11eb_abef_6c6a775dc4a0row2_col0 {\n            color:  black;\n        }    #T_e40ed81a_5715_11eb_abef_6c6a775dc4a0row2_col1 {\n            color:  black;\n        }    #T_e40ed81a_5715_11eb_abef_6c6a775dc4a0row2_col2 {\n            color:  orange;\n        }    #T_e40ed81a_5715_11eb_abef_6c6a775dc4a0row2_col3 {\n            color:  black;\n        }    #T_e40ed81a_5715_11eb_abef_6c6a775dc4a0row2_col4 {\n            color:  black;\n        }    #T_e40ed81a_5715_11eb_abef_6c6a775dc4a0row2_col5 {\n            color:  orange;\n        }    #T_e40ed81a_5715_11eb_abef_6c6a775dc4a0row3_col0 {\n            color:  orange;\n        }    #T_e40ed81a_5715_11eb_abef_6c6a775dc4a0row3_col1 {\n            color:  black;\n        }    #T_e40ed81a_5715_11eb_abef_6c6a775dc4a0row3_col2 {\n            color:  orange;\n        }    #T_e40ed81a_5715_11eb_abef_6c6a775dc4a0row3_col3 {\n            color:  black;\n        }    #T_e40ed81a_5715_11eb_abef_6c6a775dc4a0row3_col4 {\n            color:  black;\n        }    #T_e40ed81a_5715_11eb_abef_6c6a775dc4a0row3_col5 {\n            color:  black;\n        }    #T_e40ed81a_5715_11eb_abef_6c6a775dc4a0row4_col0 {\n            color:  orange;\n        }    #T_e40ed81a_5715_11eb_abef_6c6a775dc4a0row4_col1 {\n            color:  black;\n        }    #T_e40ed81a_5715_11eb_abef_6c6a775dc4a0row4_col2 {\n            color:  black;\n        }    #T_e40ed81a_5715_11eb_abef_6c6a775dc4a0row4_col3 {\n            color:  black;\n        }    #T_e40ed81a_5715_11eb_abef_6c6a775dc4a0row4_col4 {\n            color:  black;\n        }    #T_e40ed81a_5715_11eb_abef_6c6a775dc4a0row4_col5 {\n            color:  black;\n        }</style><table id=\"T_e40ed81a_5715_11eb_abef_6c6a775dc4a0\" ><thead>    <tr>        <th class=\"blank level0\" ></th>        <th class=\"col_heading level0 col0\" >accuracy</th>        <th class=\"col_heading level0 col1\" >precision</th>        <th class=\"col_heading level0 col2\" >recall</th>        <th class=\"col_heading level0 col3\" >test_accuracy</th>        <th class=\"col_heading level0 col4\" >test_precision</th>        <th class=\"col_heading level0 col5\" >test_recall</th>    </tr></thead><tbody>\n                <tr>\n                        <th id=\"T_e40ed81a_5715_11eb_abef_6c6a775dc4a0level0_row0\" class=\"row_heading level0 row0\" >LogisticRegression</th>\n                        <td id=\"T_e40ed81a_5715_11eb_abef_6c6a775dc4a0row0_col0\" class=\"data row0 col0\" >0.758152</td>\n                        <td id=\"T_e40ed81a_5715_11eb_abef_6c6a775dc4a0row0_col1\" class=\"data row0 col1\" >0.006410</td>\n                        <td id=\"T_e40ed81a_5715_11eb_abef_6c6a775dc4a0row0_col2\" class=\"data row0 col2\" >0.571429</td>\n                        <td id=\"T_e40ed81a_5715_11eb_abef_6c6a775dc4a0row0_col3\" class=\"data row0 col3\" >0.536046</td>\n                        <td id=\"T_e40ed81a_5715_11eb_abef_6c6a775dc4a0row0_col4\" class=\"data row0 col4\" >0.002073</td>\n                        <td id=\"T_e40ed81a_5715_11eb_abef_6c6a775dc4a0row0_col5\" class=\"data row0 col5\" >0.428571</td>\n            </tr>\n            <tr>\n                        <th id=\"T_e40ed81a_5715_11eb_abef_6c6a775dc4a0level0_row1\" class=\"row_heading level0 row1\" >DecisionTree</th>\n                        <td id=\"T_e40ed81a_5715_11eb_abef_6c6a775dc4a0row1_col0\" class=\"data row1 col0\" >0.390916</td>\n                        <td id=\"T_e40ed81a_5715_11eb_abef_6c6a775dc4a0row1_col1\" class=\"data row1 col1\" >0.003812</td>\n                        <td id=\"T_e40ed81a_5715_11eb_abef_6c6a775dc4a0row1_col2\" class=\"data row1 col2\" >0.857143</td>\n                        <td id=\"T_e40ed81a_5715_11eb_abef_6c6a775dc4a0row1_col3\" class=\"data row1 col3\" >0.094201</td>\n                        <td id=\"T_e40ed81a_5715_11eb_abef_6c6a775dc4a0row1_col4\" class=\"data row1 col4\" >0.002470</td>\n                        <td id=\"T_e40ed81a_5715_11eb_abef_6c6a775dc4a0row1_col5\" class=\"data row1 col5\" >1.000000</td>\n            </tr>\n            <tr>\n                        <th id=\"T_e40ed81a_5715_11eb_abef_6c6a775dc4a0level0_row2\" class=\"row_heading level0 row2\" >RandomForest</th>\n                        <td id=\"T_e40ed81a_5715_11eb_abef_6c6a775dc4a0row2_col0\" class=\"data row2 col0\" >0.354037</td>\n                        <td id=\"T_e40ed81a_5715_11eb_abef_6c6a775dc4a0row2_col1\" class=\"data row2 col1\" >0.003595</td>\n                        <td id=\"T_e40ed81a_5715_11eb_abef_6c6a775dc4a0row2_col2\" class=\"data row2 col2\" >0.857143</td>\n                        <td id=\"T_e40ed81a_5715_11eb_abef_6c6a775dc4a0row2_col3\" class=\"data row2 col3\" >0.122076</td>\n                        <td id=\"T_e40ed81a_5715_11eb_abef_6c6a775dc4a0row2_col4\" class=\"data row2 col4\" >0.002186</td>\n                        <td id=\"T_e40ed81a_5715_11eb_abef_6c6a775dc4a0row2_col5\" class=\"data row2 col5\" >0.857143</td>\n            </tr>\n            <tr>\n                        <th id=\"T_e40ed81a_5715_11eb_abef_6c6a775dc4a0level0_row3\" class=\"row_heading level0 row3\" >LightGBM</th>\n                        <td id=\"T_e40ed81a_5715_11eb_abef_6c6a775dc4a0row3_col0\" class=\"data row3 col0\" >0.653339</td>\n                        <td id=\"T_e40ed81a_5715_11eb_abef_6c6a775dc4a0row3_col1\" class=\"data row3 col1\" >0.005580</td>\n                        <td id=\"T_e40ed81a_5715_11eb_abef_6c6a775dc4a0row3_col2\" class=\"data row3 col2\" >0.714286</td>\n                        <td id=\"T_e40ed81a_5715_11eb_abef_6c6a775dc4a0row3_col3\" class=\"data row3 col3\" >0.517142</td>\n                        <td id=\"T_e40ed81a_5715_11eb_abef_6c6a775dc4a0row3_col4\" class=\"data row3 col4\" >0.001992</td>\n                        <td id=\"T_e40ed81a_5715_11eb_abef_6c6a775dc4a0row3_col5\" class=\"data row3 col5\" >0.428571</td>\n            </tr>\n            <tr>\n                        <th id=\"T_e40ed81a_5715_11eb_abef_6c6a775dc4a0level0_row4\" class=\"row_heading level0 row4\" >SVM</th>\n                        <td id=\"T_e40ed81a_5715_11eb_abef_6c6a775dc4a0row4_col0\" class=\"data row4 col0\" >0.758152</td>\n                        <td id=\"T_e40ed81a_5715_11eb_abef_6c6a775dc4a0row4_col1\" class=\"data row4 col1\" >0.006410</td>\n                        <td id=\"T_e40ed81a_5715_11eb_abef_6c6a775dc4a0row4_col2\" class=\"data row4 col2\" >0.571429</td>\n                        <td id=\"T_e40ed81a_5715_11eb_abef_6c6a775dc4a0row4_col3\" class=\"data row4 col3\" >0.548863</td>\n                        <td id=\"T_e40ed81a_5715_11eb_abef_6c6a775dc4a0row4_col4\" class=\"data row4 col4\" >0.002132</td>\n                        <td id=\"T_e40ed81a_5715_11eb_abef_6c6a775dc4a0row4_col5\" class=\"data row4 col5\" >0.428571</td>\n            </tr>\n    </tbody></table>"
     },
     "metadata": {},
     "execution_count": 10
    }
   ],
   "source": [
    "socarml.get_result_pd()"
   ]
  },
  {
   "cell_type": "code",
   "execution_count": null,
   "metadata": {},
   "outputs": [],
   "source": []
  }
 ],
 "metadata": {
  "kernelspec": {
   "display_name": "Python 3",
   "language": "python",
   "name": "python3"
  },
  "language_info": {
   "codemirror_mode": {
    "name": "ipython",
    "version": 3
   },
   "file_extension": ".py",
   "mimetype": "text/x-python",
   "name": "python",
   "nbconvert_exporter": "python",
   "pygments_lexer": "ipython3",
   "version": "3.8.3-final"
  }
 },
 "nbformat": 4,
 "nbformat_minor": 4
}